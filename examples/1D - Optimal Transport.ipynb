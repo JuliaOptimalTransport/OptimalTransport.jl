{
 "cells": [
  {
   "cell_type": "markdown",
   "id": "3b971d2a-36ac-45a2-9664-5b68dc3286cb",
   "metadata": {},
   "source": [
    "# **1D Optimal Transport**\n",
    "\n",
    "The Optimal Transport Cost for 1D distributions can be obtained by:\n",
    "$$\n",
    "\\int_0^1 h(F_\\nu^{-1}(y) - F_\\mu^{-1}(y)) dy\n",
    "$$\n",
    "Note that for the p-Wasserstein, we obtain:\n",
    "\n",
    "$$\n",
    "\\left(\\int_0^1 |F_\\nu^{-1}(y) - F_\\mu^{-1}(y)|^p dy\\right)^{1/p}\n",
    "$$\n",
    "\n",
    "Where $F_\\mu^{-1}$ is the quantile function for the distribution $\\alpha$ (the inverse of the Cumulative Distribution Function).\n",
    "\n",
    "Another interesting particular case occurs for $h(z) = |z|$. For such cost function, the formula coincides with:\n",
    "\n",
    "$$\n",
    "\\int_\\mathbb R |F_\\mu(x) - F_\\nu(x)| dx\n",
    "$$"
   ]
  },
  {
   "cell_type": "code",
   "execution_count": 45,
   "id": "4cf1a281-6238-4b17-bf66-a4aaace58509",
   "metadata": {},
   "outputs": [],
   "source": [
    "using Pkg, Revise\n",
    "Pkg.activate(\"../.\")"
   ]
  },
  {
   "cell_type": "code",
   "execution_count": 46,
   "id": "caf88c29-b266-4dcf-98ec-025c429d31be",
   "metadata": {},
   "outputs": [
    {
     "data": {
      "text/plain": [
       "Tulip.Optimizer{Float64}"
      ]
     },
     "execution_count": 46,
     "metadata": {},
     "output_type": "execute_result"
    }
   ],
   "source": [
    "using OptimalTransport, VegaLite, Distributions, LinearAlgebra\n",
    "using Tulip\n",
    "using Distances\n",
    "# using QuadGK, Distances, Tulip\n",
    "using BenchmarkTools\n",
    "\n",
    "optimizer = Tulip.Optimizer()"
   ]
  },
  {
   "cell_type": "markdown",
   "id": "3be2bd24-9ea3-4aff-a29d-19f37ecc2704",
   "metadata": {},
   "source": [
    "#### Auxiliary - Plot Continuous Distribuition"
   ]
  },
  {
   "cell_type": "code",
   "execution_count": 47,
   "id": "38cbec76-be71-4978-8870-74900e146c12",
   "metadata": {},
   "outputs": [
    {
     "data": {
      "text/plain": [
       "plotContinuousDistributions"
      ]
     },
     "execution_count": 47,
     "metadata": {},
     "output_type": "execute_result"
    }
   ],
   "source": [
    "\"\"\"\n",
    "`plotDistribution(μ::distribution,ν::distribution,x=collect(-10:0.1:10))`\n",
    "'x' is the plotting domain.\n",
    "\n",
    "This function returns both the pdfs and cdfs of the pair\n",
    "of probability measures.\n",
    "\"\"\"\n",
    "function plotContinuousDistributions( μ::Distributions.UnivariateDistribution,\n",
    "                            ν::Distributions.UnivariateDistribution,\n",
    "                            x=collect(-10:0.1:10))\n",
    "    \n",
    "    x  = collect(-10:0.1:10)\n",
    "    y  = pdf(μ,x)\n",
    "    z  = pdf(ν,x);\n",
    "    cy = cdf(μ,x)\n",
    "    cz = cdf(ν,x);\n",
    "    cmin = min.(cy,cz)\n",
    "    cmax = max.(cy,cz)\n",
    "\n",
    "    pdf1 = @vlplot(:line,x={x,type=\"quantitative\"},y={y,type=\"quantitative\"})\n",
    "    pdf2 = @vlplot(:line,x={x,type=\"quantitative\"},y={z,type=\"quantitative\"},color={value=\"red\"})\n",
    "    pdfs = @vlplot()+ pdf1 + pdf2\n",
    "\n",
    "    cdf1 = @vlplot(:line,x={x,type=\"quantitative\"},y={cy,type=\"quantitative\"})\n",
    "    cdf2 = @vlplot(:line,x={x,type=\"quantitative\"},y={cz,type=\"quantitative\"},color={value=\"red\"})\n",
    "    cdfa = @vlplot(:area,\n",
    "            x={x,type=\"quantitative\"},\n",
    "            y={cmax,type=\"quantitative\"},\n",
    "            y2={cmin,type=\"quantitative\"},\n",
    "            color={value=\"green\"},\n",
    "            opacity={value=0.4})\n",
    "    cdfs = @vlplot()+ cdf1 + cdf2 + cdfa\n",
    "\n",
    "    return [pdfs cdfs]\n",
    "end"
   ]
  },
  {
   "cell_type": "markdown",
   "id": "9f1c1a3c-c076-4e91-9122-a5423554c2f7",
   "metadata": {},
   "source": [
    "### Choose two Continuous Distributions to visualize and calculate the OT cost\n",
    "\n",
    "Note that for $c(x,y) = |y-x|$, the area in green in the plot represents the optimal transport cost."
   ]
  },
  {
   "cell_type": "code",
   "execution_count": 49,
   "id": "63d173a1-a8dd-4a1a-b657-fc4afa418570",
   "metadata": {},
   "outputs": [
    {
     "name": "stdout",
     "output_type": "stream",
     "text": [
      "Optimal Trasnport Cost = 25.99999994218983\n"
     ]
    }
   ],
   "source": [
    "μ = Normal(0,1)\n",
    "ν = Normal(5,2)\n",
    "y = range(0,stop=1,length=500)\n",
    "q = quantile(μ,y);\n",
    "c(x,y) = abs(y-x)^2 # h(y-x) convex function\n",
    "\n",
    "cost = otcost(c,μ,ν);\n",
    "println(\"Optimal Trasnport Cost = \",cost)\n",
    "# plotContinuousDistributions(μ,ν) "
   ]
  },
  {
   "cell_type": "code",
   "execution_count": 63,
   "id": "8ef6c343-0876-4bb9-9659-fe707081df48",
   "metadata": {},
   "outputs": [
    {
     "data": {
      "text/plain": [
       "100×100 SparseArrays.SparseMatrixCSC{Float64, Int64} with 199 stored entries:\n",
       "⠓⡆⠀⠀⠀⠀⠀⠀⠀⠀⠀⠀⠀⠀⠀⠀⠀⠀⠀⠀⠀⠀⠀⠀⠀⠀⠀⠀⠀⠀⠀⠀⠀⠀⠀⠀⠀⠀⠀⠀\n",
       "⠀⠙⢦⡀⠀⠀⠀⠀⠀⠀⠀⠀⠀⠀⠀⠀⠀⠀⠀⠀⠀⠀⠀⠀⠀⠀⠀⠀⠀⠀⠀⠀⠀⠀⠀⠀⠀⠀⠀⠀\n",
       "⠀⠀⠀⢧⠀⠀⠀⠀⠀⠀⠀⠀⠀⠀⠀⠀⠀⠀⠀⠀⠀⠀⠀⠀⠀⠀⠀⠀⠀⠀⠀⠀⠀⠀⠀⠀⠀⠀⠀⠀\n",
       "⠀⠀⠀⠈⠙⠲⢤⠀⠀⠀⠀⠀⠀⠀⠀⠀⠀⠀⠀⠀⠀⠀⠀⠀⠀⠀⠀⠀⠀⠀⠀⠀⠀⠀⠀⠀⠀⠀⠀⠀\n",
       "⠀⠀⠀⠀⠀⠀⠈⢧⣀⠀⠀⠀⠀⠀⠀⠀⠀⠀⠀⠀⠀⠀⠀⠀⠀⠀⠀⠀⠀⠀⠀⠀⠀⠀⠀⠀⠀⠀⠀⠀\n",
       "⠀⠀⠀⠀⠀⠀⠀⠀⠈⠳⠤⡄⠀⠀⠀⠀⠀⠀⠀⠀⠀⠀⠀⠀⠀⠀⠀⠀⠀⠀⠀⠀⠀⠀⠀⠀⠀⠀⠀⠀\n",
       "⠀⠀⠀⠀⠀⠀⠀⠀⠀⠀⠀⠹⠤⢤⡀⠀⠀⠀⠀⠀⠀⠀⠀⠀⠀⠀⠀⠀⠀⠀⠀⠀⠀⠀⠀⠀⠀⠀⠀⠀\n",
       "⠀⠀⠀⠀⠀⠀⠀⠀⠀⠀⠀⠀⠀⠀⢧⠀⠀⠀⠀⠀⠀⠀⠀⠀⠀⠀⠀⠀⠀⠀⠀⠀⠀⠀⠀⠀⠀⠀⠀⠀\n",
       "⠀⠀⠀⠀⠀⠀⠀⠀⠀⠀⠀⠀⠀⠀⠸⣄⡀⠀⠀⠀⠀⠀⠀⠀⠀⠀⠀⠀⠀⠀⠀⠀⠀⠀⠀⠀⠀⠀⠀⠀\n",
       "⠀⠀⠀⠀⠀⠀⠀⠀⠀⠀⠀⠀⠀⠀⠀⠀⠉⢳⡀⠀⠀⠀⠀⠀⠀⠀⠀⠀⠀⠀⠀⠀⠀⠀⠀⠀⠀⠀⠀⠀\n",
       "⠀⠀⠀⠀⠀⠀⠀⠀⠀⠀⠀⠀⠀⠀⠀⠀⠀⠀⠉⠓⢦⠀⠀⠀⠀⠀⠀⠀⠀⠀⠀⠀⠀⠀⠀⠀⠀⠀⠀⠀\n",
       "⠀⠀⠀⠀⠀⠀⠀⠀⠀⠀⠀⠀⠀⠀⠀⠀⠀⠀⠀⠀⠈⠉⢳⠀⠀⠀⠀⠀⠀⠀⠀⠀⠀⠀⠀⠀⠀⠀⠀⠀\n",
       "⠀⠀⠀⠀⠀⠀⠀⠀⠀⠀⠀⠀⠀⠀⠀⠀⠀⠀⠀⠀⠀⠀⠈⠙⠲⡄⠀⠀⠀⠀⠀⠀⠀⠀⠀⠀⠀⠀⠀⠀\n",
       "⠀⠀⠀⠀⠀⠀⠀⠀⠀⠀⠀⠀⠀⠀⠀⠀⠀⠀⠀⠀⠀⠀⠀⠀⠀⠙⢦⠀⠀⠀⠀⠀⠀⠀⠀⠀⠀⠀⠀⠀\n",
       "⠀⠀⠀⠀⠀⠀⠀⠀⠀⠀⠀⠀⠀⠀⠀⠀⠀⠀⠀⠀⠀⠀⠀⠀⠀⠀⠈⠙⠒⣆⠀⠀⠀⠀⠀⠀⠀⠀⠀⠀\n",
       "⠀⠀⠀⠀⠀⠀⠀⠀⠀⠀⠀⠀⠀⠀⠀⠀⠀⠀⠀⠀⠀⠀⠀⠀⠀⠀⠀⠀⠀⠈⠳⢤⠀⠀⠀⠀⠀⠀⠀⠀\n",
       "⠀⠀⠀⠀⠀⠀⠀⠀⠀⠀⠀⠀⠀⠀⠀⠀⠀⠀⠀⠀⠀⠀⠀⠀⠀⠀⠀⠀⠀⠀⠀⠈⠳⣄⠀⠀⠀⠀⠀⠀\n",
       "⠀⠀⠀⠀⠀⠀⠀⠀⠀⠀⠀⠀⠀⠀⠀⠀⠀⠀⠀⠀⠀⠀⠀⠀⠀⠀⠀⠀⠀⠀⠀⠀⠀⠈⠙⠲⣄⠀⠀⠀\n",
       "⠀⠀⠀⠀⠀⠀⠀⠀⠀⠀⠀⠀⠀⠀⠀⠀⠀⠀⠀⠀⠀⠀⠀⠀⠀⠀⠀⠀⠀⠀⠀⠀⠀⠀⠀⠀⠘⢲⡀⠀\n",
       "⠀⠀⠀⠀⠀⠀⠀⠀⠀⠀⠀⠀⠀⠀⠀⠀⠀⠀⠀⠀⠀⠀⠀⠀⠀⠀⠀⠀⠀⠀⠀⠀⠀⠀⠀⠀⠀⠀⠹⣄"
      ]
     },
     "execution_count": 63,
     "metadata": {},
     "output_type": "execute_result"
    }
   ],
   "source": [
    "using Distances, Tulip\n",
    "n, m = 100, 100\n",
    "\n",
    "μ_support = rand(n)\n",
    "ν_support = rand(m)\n",
    "μ_probs = rand(n)\n",
    "ν_probs = rand(m)\n",
    "μ_probs ./= sum(μ_probs)\n",
    "ν_probs ./= sum(ν_probs)\n",
    "\n",
    "μ = DiscreteNonParametric(μ_support, μ_probs)\n",
    "ν = DiscreteNonParametric(ν_support, ν_probs)\n",
    "\n",
    "# new version of StatsBase also has functoin pairwise,\n",
    "# which conflicts with Distances.pairwise\n",
    "C = pairwise(sqeuclidean, μ.support, ν.support)\n",
    "\n",
    "lp = Tulip.Optimizer()\n",
    "cost_simplex = emd2(μ.p, ν.p, C, lp)\n",
    "cost_1d = otcost(sqeuclidean, μ, ν)\n",
    "\n",
    "P = emd(μ.p, ν.p, C, lp)\n",
    "γ = otplan(sqeuclidean, μ, ν)"
   ]
  },
  {
   "cell_type": "code",
   "execution_count": 51,
   "id": "bb43d908-ef99-49f1-9e8f-ebcf82bdd9a1",
   "metadata": {},
   "outputs": [
    {
     "data": {
      "text/plain": [
       "f (generic function with 1 method)"
      ]
     },
     "execution_count": 51,
     "metadata": {},
     "output_type": "execute_result"
    }
   ],
   "source": [
    "f(x) = sqeuclidean.(μ.support[x[1]],ν.support[x[2]])*γ[x]"
   ]
  },
  {
   "cell_type": "code",
   "execution_count": 158,
   "id": "baeca1c3-0950-41ca-aee1-326685d9760c",
   "metadata": {},
   "outputs": [
    {
     "name": "stdout",
     "output_type": "stream",
     "text": [
      "  7.378 μs (103 allocations: 2.88 KiB)\n"
     ]
    },
    {
     "data": {
      "text/plain": [
       "0.025997595505434883"
      ]
     },
     "execution_count": 158,
     "metadata": {},
     "output_type": "execute_result"
    }
   ],
   "source": [
    "@btime sum(f.(findall(!iszero,γ)))"
   ]
  },
  {
   "cell_type": "code",
   "execution_count": 159,
   "id": "0247133b-8132-4537-892e-14773669a46d",
   "metadata": {},
   "outputs": [
    {
     "name": "stdout",
     "output_type": "stream",
     "text": [
      "  655.714 ns (4 allocations: 368 bytes)\n"
     ]
    },
    {
     "data": {
      "text/plain": [
       "0.025997595505434883"
      ]
     },
     "execution_count": 159,
     "metadata": {},
     "output_type": "execute_result"
    }
   ],
   "source": [
    "@btime dot(StatsBase.pairwise(sqeuclidean, μ.support, ν.support), γ)"
   ]
  },
  {
   "cell_type": "code",
   "execution_count": 165,
   "id": "56098c8f-43f3-4e43-ae52-bacac1114998",
   "metadata": {},
   "outputs": [
    {
     "name": "stdout",
     "output_type": "stream",
     "text": [
      "  1.596 μs (73 allocations: 1.81 KiB)\n"
     ]
    },
    {
     "data": {
      "text/plain": [
       "0.025997595505434883"
      ]
     },
     "execution_count": 165,
     "metadata": {},
     "output_type": "execute_result"
    }
   ],
   "source": [
    "@btime total(γ)"
   ]
  },
  {
   "cell_type": "code",
   "execution_count": 85,
   "id": "0320d376-9b85-4e08-8a80-4fdc745f867b",
   "metadata": {},
   "outputs": [
    {
     "data": {
      "text/plain": [
       "10×3 SparseMatrixCSC{Float64, Int64} with 0 stored entries:\n",
       "  ⋅    ⋅    ⋅ \n",
       "  ⋅    ⋅    ⋅ \n",
       "  ⋅    ⋅    ⋅ \n",
       "  ⋅    ⋅    ⋅ \n",
       "  ⋅    ⋅    ⋅ \n",
       "  ⋅    ⋅    ⋅ \n",
       "  ⋅    ⋅    ⋅ \n",
       "  ⋅    ⋅    ⋅ \n",
       "  ⋅    ⋅    ⋅ \n",
       "  ⋅    ⋅    ⋅ "
      ]
     },
     "execution_count": 85,
     "metadata": {},
     "output_type": "execute_result"
    }
   ],
   "source": [
    "γ = spzeros(Base.promote_eltype(μ.p, ν.p),10,3)"
   ]
  },
  {
   "cell_type": "code",
   "execution_count": 35,
   "id": "40cf8fe3-536c-4173-b43c-3935e354691e",
   "metadata": {},
   "outputs": [
    {
     "data": {
      "application/vnd.vegalite.v4+json": {
       "data": {
        "values": [
         {
          "x": -10,
          "y": -1.5557319066661286
         },
         {
          "x": -9.9,
          "y": -1.5324077377511216
         },
         {
          "x": -9.8,
          "y": -1.5088215106821026
         },
         {
          "x": -9.7,
          "y": -1.4849675003609053
         },
         {
          "x": -9.6,
          "y": -1.4608397985868424
         },
         {
          "x": -9.5,
          "y": -1.4364323064271658
         },
         {
          "x": -9.4,
          "y": -1.4117387261994971
         },
         {
          "x": -9.3,
          "y": -1.386752553043154
         },
         {
          "x": -9.2,
          "y": -1.361467066054756
         },
         {
          "x": -9.1,
          "y": -1.3358753189618322
         },
         {
          "x": -9,
          "y": -1.3099701303063465
         },
         {
          "x": -8.9,
          "y": -1.2837440731081524
         },
         {
          "x": -8.8,
          "y": -1.257189463976316
         },
         {
          "x": -8.7,
          "y": -1.2302983516340196
         },
         {
          "x": -8.6,
          "y": -1.2030625048203794
         },
         {
          "x": -8.5,
          "y": -1.1754733995299254
         },
         {
          "x": -8.4,
          "y": -1.1475222055477463
         },
         {
          "x": -8.3,
          "y": -1.1191997722353122
         },
         {
          "x": -8.2,
          "y": -1.0904966135187877
         },
         {
          "x": -8.1,
          "y": -1.0614028920282093
         },
         {
          "x": -8,
          "y": -1.031908402332173
         },
         {
          "x": -7.9,
          "y": -1.0020025532087096
         },
         {
          "x": -7.8,
          "y": -0.9716743488886896
         },
         {
          "x": -7.7,
          "y": -0.9409123692035011
         },
         {
          "x": -7.6,
          "y": -0.9097047485637306
         },
         {
          "x": -7.5,
          "y": -0.8780391536902328
         },
         {
          "x": -7.4,
          "y": -0.8459027600131801
         },
         {
          "x": -7.3,
          "y": -0.813282226648484
         },
         {
          "x": -7.2,
          "y": -0.7801636698542813
         },
         {
          "x": -7.1,
          "y": -0.7465326348629993
         },
         {
          "x": -7,
          "y": -0.7123740659767979
         },
         {
          "x": -6.9,
          "y": -0.6776722748058703
         },
         {
          "x": -6.8,
          "y": -0.6424109065202201
         },
         {
          "x": -6.7,
          "y": -0.6065729039759558
         },
         {
          "x": -6.6,
          "y": -0.570140469566955
         },
         {
          "x": -6.5,
          "y": -0.53309502464182
         },
         {
          "x": -6.4,
          "y": -0.49541716631436694
         },
         {
          "x": -6.3,
          "y": -0.457086621483477
         },
         {
          "x": -6.2,
          "y": -0.4180821978649014
         },
         {
          "x": -6.1,
          "y": -0.37838173182358004
         },
         {
          "x": -6,
          "y": -0.33796203278019954
         },
         {
          "x": -5.9,
          "y": -0.29679882395006185
         },
         {
          "x": -5.8,
          "y": -0.2548666791559149
         },
         {
          "x": -5.7,
          "y": -0.21213895543923567
         },
         {
          "x": -5.6,
          "y": -0.16858772117664023
         },
         {
          "x": -5.5,
          "y": -0.12418367938973907
         },
         {
          "x": -5.4,
          "y": -0.0788960859179677
         },
         {
          "x": -5.3,
          "y": -0.03269266210499877
         },
         {
          "x": -5.2,
          "y": 0.014460498369544661
         },
         {
          "x": -5.1,
          "y": 0.06259902889981239
         },
         {
          "x": -5,
          "y": 0.11176039600912491
         },
         {
          "x": -4.9,
          "y": 0.16198401247142713
         },
         {
          "x": -4.8,
          "y": 0.21331135793304012
         },
         {
          "x": -4.7,
          "y": 0.2657861074798047
         },
         {
          "x": -4.6,
          "y": 0.3194542686013635
         },
         {
          "x": -4.5,
          "y": 0.37436432700544153
         },
         {
          "x": -4.4,
          "y": 0.4305674017289689
         },
         {
          "x": -4.3,
          "y": 0.48811740997768394
         },
         {
          "x": -4.2,
          "y": 0.5470712420991513
         },
         {
          "x": -4.1,
          "y": 0.6074889470530755
         },
         {
          "x": -4,
          "y": 0.6694339286839801
         },
         {
          "x": -3.9,
          "y": 0.7329731530209367
         },
         {
          "x": -3.8,
          "y": 0.7981773667223535
         },
         {
          "x": -3.7,
          "y": 0.8651213266457147
         },
         {
          "x": -3.6,
          "y": 0.9338840403465178
         },
         {
          "x": -3.5,
          "y": 1.0045490170907627
         },
         {
          "x": -3.4,
          "y": 1.0772045286937715
         },
         {
          "x": -3.3,
          "y": 1.1519438791667342
         },
         {
          "x": -3.2,
          "y": 1.228865681752699
         },
         {
          "x": -3.1,
          "y": 1.3080741414571073
         },
         {
          "x": -3,
          "y": 1.389679340615967
         },
         {
          "x": -2.9,
          "y": 1.4737975243900636
         },
         {
          "x": -2.8,
          "y": 1.5605513823204498
         },
         {
          "x": -2.7,
          "y": 1.6500703212263854
         },
         {
          "x": -2.6,
          "y": 1.7424907237736607
         },
         {
          "x": -2.5,
          "y": 1.837956185997143
         },
         {
          "x": -2.4,
          "y": 1.9366177259432988
         },
         {
          "x": -2.3,
          "y": 2.0386339544342476
         },
         {
          "x": -2.2,
          "y": 2.1441711977865863
         },
         {
          "x": -2.1,
          "y": 2.2534035612041574
         },
         {
          "x": -2,
          "y": 2.3665129205816644
         },
         {
          "x": -1.9,
          "y": 2.4836888297034987
         },
         {
          "x": -1.8,
          "y": 2.6051283294177883
         },
         {
          "x": -1.7,
          "y": 2.7310356454461377
         },
         {
          "x": -1.6,
          "y": 2.8616217622039306
         },
         {
          "x": -1.5,
          "y": 2.9971038615063783
         },
         {
          "x": -1.4,
          "y": 3.1377046174619565
         },
         {
          "x": -1.3,
          "y": 3.2836513423165496
         },
         {
          "x": -1.2,
          "y": 3.435174982562481
         },
         {
          "x": -1.1,
          "y": 3.59250897023946
         },
         {
          "x": -1,
          "y": 3.755887940895191
         },
         {
          "x": -0.9,
          "y": 3.9255463368808963
         },
         {
          "x": -0.8,
          "y": 4.10171692213439
         },
         {
          "x": -0.7,
          "y": 4.284629241825355
         },
         {
          "x": -0.6,
          "y": 4.474508066581198
         },
         {
          "x": -0.5,
          "y": 4.6715718658094385
         },
         {
          "x": -0.4,
          "y": 4.876031357247303
         },
         {
          "x": -0.3,
          "y": 5.0880881797835045
         },
         {
          "x": -0.2,
          "y": 5.307933733502886
         },
         {
          "x": -0.1,
          "y": 5.535748224774737
         },
         {
          "x": 0,
          "y": 5.771699945336657
         },
         {
          "x": 0.1,
          "y": 6.015944803329781
         },
         {
          "x": 0.2,
          "y": 6.268626111991204
         },
         {
          "x": 0.3,
          "y": 6.529874629237357
         },
         {
          "x": 0.4,
          "y": 6.799808829737788
         },
         {
          "x": 0.5,
          "y": 7.078535381233505
         },
         {
          "x": 0.6,
          "y": 7.366149789521737
         },
         {
          "x": 0.7,
          "y": 7.662737172125859
         },
         {
          "x": 0.8,
          "y": 7.9683731192770875
         },
         {
          "x": 0.9,
          "y": 8.283124602221895
         },
         {
          "x": 1,
          "y": 8.607050892556616
         },
         {
          "x": 1.1,
          "y": 8.940204461648015
         },
         {
          "x": 1.2,
          "y": 9.282631835527717
         },
         {
          "x": 1.3,
          "y": 9.634374387298529
         },
         {
          "x": 1.4,
          "y": 9.995469055488833
         },
         {
          "x": 1.5,
          "y": 10.36594898252871
         },
         {
          "x": 1.6,
          "y": 10.745844072317626
         },
         {
          "x": 1.7,
          "y": 11.135181469584788
         },
         {
          "x": 1.8,
          "y": 11.53398596642057
         },
         {
          "x": 1.9,
          "y": 11.942280343037677
         },
         {
          "x": 2,
          "y": 12.360085650697396
         },
         {
          "x": 2.1,
          "y": 12.787421444904952
         },
         {
          "x": 2.2,
          "y": 13.224305976689724
         },
         {
          "x": 2.3,
          "y": 13.670756349226028
         },
         {
          "x": 2.4,
          "y": 14.126788646106984
         },
         {
          "x": 2.5,
          "y": 14.592418036871566
         },
         {
          "x": 2.6,
          "y": 15.067658864321935
         },
         {
          "x": 2.7,
          "y": 15.552524717550407
         },
         {
          "x": 2.8,
          "y": 16.047028493462854
         },
         {
          "x": 2.9,
          "y": 16.551182449714663
         },
         {
          "x": 3,
          "y": 17.064998250508236
         },
         {
          "x": 3.1,
          "y": 17.58848700722029
         },
         {
          "x": 3.2,
          "y": 18.12165931187689
         },
         {
          "x": 3.3,
          "y": 18.66452527361625
         },
         {
          "x": 3.4,
          "y": 19.217094542350242
         },
         {
          "x": 3.5,
          "y": 19.77937634249088
         },
         {
          "x": 3.6,
          "y": 20.351379490418747
         },
         {
          "x": 3.7,
          "y": 20.933112416880213
         },
         {
          "x": 3.8,
          "y": 21.52458319591587
         },
         {
          "x": 3.9,
          "y": 22.125799608004026
         },
         {
          "x": 4,
          "y": 22.736768893341665
         },
         {
          "x": 4.1,
          "y": 23.357498420240113
         },
         {
          "x": 4.2,
          "y": 23.98799468088169
         },
         {
          "x": 4.3,
          "y": 24.628264490868684
         },
         {
          "x": 4.4,
          "y": 25.27831358780643
         },
         {
          "x": 4.5,
          "y": 25.938149977988616
         },
         {
          "x": 4.6,
          "y": 26.60777636909238
         },
         {
          "x": 4.7,
          "y": 27.287198364568432
         },
         {
          "x": 4.8,
          "y": 27.97643264459581
         },
         {
          "x": 4.9,
          "y": 28.675454932524094
         },
         {
          "x": 5,
          "y": 29.384266431997105
         },
         {
          "x": 5.1,
          "y": 30.10289157856459
         },
         {
          "x": 5.2,
          "y": 30.831358920616665
         },
         {
          "x": 5.3,
          "y": 31.569762692764808
         },
         {
          "x": 5.4,
          "y": 32.318435633740854
         },
         {
          "x": 5.5,
          "y": 33.07731835391746
         },
         {
          "x": 5.6,
          "y": 33.84645144145534
         },
         {
          "x": 5.7,
          "y": 34.62592670550379
         },
         {
          "x": 5.8,
          "y": 35.4045960595019
         },
         {
          "x": 5.9,
          "y": 36.171851212215564
         },
         {
          "x": 6,
          "y": 36.945041100449046
         },
         {
          "x": 6.1,
          "y": 38.04365338911715
         },
         {
          "x": 6.2,
          "y": 38.7368005696771
         },
         {
          "x": 6.3,
          "y": null
         },
         {
          "x": 6.4,
          "y": null
         },
         {
          "x": 6.5,
          "y": null
         },
         {
          "x": 6.6,
          "y": null
         },
         {
          "x": 6.7,
          "y": null
         },
         {
          "x": 6.8,
          "y": null
         },
         {
          "x": 6.9,
          "y": null
         },
         {
          "x": 7,
          "y": null
         },
         {
          "x": 7.1,
          "y": null
         },
         {
          "x": 7.2,
          "y": null
         },
         {
          "x": 7.3,
          "y": null
         },
         {
          "x": 7.4,
          "y": null
         },
         {
          "x": 7.5,
          "y": null
         },
         {
          "x": 7.6,
          "y": null
         },
         {
          "x": 7.7,
          "y": null
         },
         {
          "x": 7.8,
          "y": null
         },
         {
          "x": 7.9,
          "y": null
         },
         {
          "x": 8,
          "y": null
         },
         {
          "x": 8.1,
          "y": null
         },
         {
          "x": 8.2,
          "y": null
         },
         {
          "x": 8.3,
          "y": null
         },
         {
          "x": 8.4,
          "y": null
         },
         {
          "x": 8.5,
          "y": null
         },
         {
          "x": 8.6,
          "y": null
         },
         {
          "x": 8.7,
          "y": null
         },
         {
          "x": 8.8,
          "y": null
         },
         {
          "x": 8.9,
          "y": null
         },
         {
          "x": 9,
          "y": null
         },
         {
          "x": 9.1,
          "y": null
         },
         {
          "x": 9.2,
          "y": null
         },
         {
          "x": 9.3,
          "y": null
         },
         {
          "x": 9.4,
          "y": null
         },
         {
          "x": 9.5,
          "y": null
         },
         {
          "x": 9.6,
          "y": null
         },
         {
          "x": 9.7,
          "y": null
         },
         {
          "x": 9.8,
          "y": null
         },
         {
          "x": 9.9,
          "y": null
         },
         {
          "x": 10,
          "y": null
         }
        ]
       },
       "encoding": {
        "x": {
         "field": "x",
         "title": null,
         "type": "quantitative"
        },
        "y": {
         "field": "y",
         "title": null,
         "type": "quantitative"
        }
       },
       "mark": "line"
      },
      "image/png": "[encoded data removed]",
      "image/svg+xml": [
       "<?xml version=\"1.0\" encoding=\"utf-8\"?>\n",
       "<!DOCTYPE svg PUBLIC \"-//W3C//DTD SVG 1.1//EN\" \"http://www.w3.org/Graphics/SVG/1.1/DTD/svg11.dtd\">\n",
       "<svg class=\"marks\" width=\"230\" height=\"232\" viewBox=\"0 0 230 232\" version=\"1.1\" xmlns=\"http://www.w3.org/2000/svg\" xmlns:xlink=\"http://www.w3.org/1999/xlink\"><rect width=\"230\" height=\"232\" fill=\"white\"></rect><g fill=\"none\" stroke-miterlimit=\"10\" transform=\"translate(24,10)\"><g class=\"mark-group role-frame root\" role=\"graphics-object\" aria-roledescription=\"group mark container\"><g transform=\"translate(0,0)\"><path class=\"background\" aria-hidden=\"true\" d=\"M0.5,0.5h200v200h-200Z\" stroke=\"#ddd\"></path><g><g class=\"mark-group role-axis\" aria-hidden=\"true\"><g transform=\"translate(0.5,200.5)\"><path class=\"background\" aria-hidden=\"true\" d=\"M0,0h0v0h0Z\" pointer-events=\"none\"></path><g><g class=\"mark-rule role-axis-grid\" pointer-events=\"none\"><line transform=\"translate(0,-200)\" x2=\"0\" y2=\"200\" stroke=\"#ddd\" stroke-width=\"1\" opacity=\"1\"></line><line transform=\"translate(50,-200)\" x2=\"0\" y2=\"200\" stroke=\"#ddd\" stroke-width=\"1\" opacity=\"1\"></line><line transform=\"translate(100,-200)\" x2=\"0\" y2=\"200\" stroke=\"#ddd\" stroke-width=\"1\" opacity=\"1\"></line><line transform=\"translate(150,-200)\" x2=\"0\" y2=\"200\" stroke=\"#ddd\" stroke-width=\"1\" opacity=\"1\"></line><line transform=\"translate(200,-200)\" x2=\"0\" y2=\"200\" stroke=\"#ddd\" stroke-width=\"1\" opacity=\"1\"></line></g></g><path class=\"foreground\" aria-hidden=\"true\" d=\"\" pointer-events=\"none\" display=\"none\"></path></g></g><g class=\"mark-group role-axis\" aria-hidden=\"true\"><g transform=\"translate(0.5,0.5)\"><path class=\"background\" aria-hidden=\"true\" d=\"M0,0h0v0h0Z\" pointer-events=\"none\"></path><g><g class=\"mark-rule role-axis-grid\" pointer-events=\"none\"><line transform=\"translate(0,178)\" x2=\"200\" y2=\"0\" stroke=\"#ddd\" stroke-width=\"1\" opacity=\"1\"></line><line transform=\"translate(0,133)\" x2=\"200\" y2=\"0\" stroke=\"#ddd\" stroke-width=\"1\" opacity=\"1\"></line><line transform=\"translate(0,89)\" x2=\"200\" y2=\"0\" stroke=\"#ddd\" stroke-width=\"1\" opacity=\"1\"></line><line transform=\"translate(0,44)\" x2=\"200\" y2=\"0\" stroke=\"#ddd\" stroke-width=\"1\" opacity=\"1\"></line><line transform=\"translate(0,0)\" x2=\"200\" y2=\"0\" stroke=\"#ddd\" stroke-width=\"1\" opacity=\"1\"></line></g></g><path class=\"foreground\" aria-hidden=\"true\" d=\"\" pointer-events=\"none\" display=\"none\"></path></g></g><g class=\"mark-group role-axis\" role=\"graphics-symbol\" aria-roledescription=\"axis\" aria-label=\"X-axis for a linear scale with values from -10 to 10\"><g transform=\"translate(0.5,200.5)\"><path class=\"background\" aria-hidden=\"true\" d=\"M0,0h0v0h0Z\" pointer-events=\"none\"></path><g><g class=\"mark-rule role-axis-tick\" pointer-events=\"none\"><line transform=\"translate(0,0)\" x2=\"0\" y2=\"5\" stroke=\"#888\" stroke-width=\"1\" opacity=\"1\"></line><line transform=\"translate(50,0)\" x2=\"0\" y2=\"5\" stroke=\"#888\" stroke-width=\"1\" opacity=\"1\"></line><line transform=\"translate(100,0)\" x2=\"0\" y2=\"5\" stroke=\"#888\" stroke-width=\"1\" opacity=\"1\"></line><line transform=\"translate(150,0)\" x2=\"0\" y2=\"5\" stroke=\"#888\" stroke-width=\"1\" opacity=\"1\"></line><line transform=\"translate(200,0)\" x2=\"0\" y2=\"5\" stroke=\"#888\" stroke-width=\"1\" opacity=\"1\"></line></g><g class=\"mark-text role-axis-label\" pointer-events=\"none\"><text text-anchor=\"start\" transform=\"translate(0,15)\" font-family=\"sans-serif\" font-size=\"10px\" fill=\"#000\" opacity=\"1\">-10</text><text text-anchor=\"middle\" transform=\"translate(50,15)\" font-family=\"sans-serif\" font-size=\"10px\" fill=\"#000\" opacity=\"1\">-5</text><text text-anchor=\"middle\" transform=\"translate(100,15)\" font-family=\"sans-serif\" font-size=\"10px\" fill=\"#000\" opacity=\"1\">0</text><text text-anchor=\"middle\" transform=\"translate(150,15)\" font-family=\"sans-serif\" font-size=\"10px\" fill=\"#000\" opacity=\"1\">5</text><text text-anchor=\"end\" transform=\"translate(200,15)\" font-family=\"sans-serif\" font-size=\"10px\" fill=\"#000\" opacity=\"1\">10</text></g><g class=\"mark-rule role-axis-domain\" pointer-events=\"none\"><line transform=\"translate(0,0)\" x2=\"200\" y2=\"0\" stroke=\"#888\" stroke-width=\"1\" opacity=\"1\"></line></g></g><path class=\"foreground\" aria-hidden=\"true\" d=\"\" pointer-events=\"none\" display=\"none\"></path></g></g><g class=\"mark-group role-axis\" role=\"graphics-symbol\" aria-roledescription=\"axis\" aria-label=\"Y-axis for a linear scale with values from -5 to 40\"><g transform=\"translate(0.5,0.5)\"><path class=\"background\" aria-hidden=\"true\" d=\"M0,0h0v0h0Z\" pointer-events=\"none\"></path><g><g class=\"mark-rule role-axis-tick\" pointer-events=\"none\"><line transform=\"translate(0,178)\" x2=\"-5\" y2=\"0\" stroke=\"#888\" stroke-width=\"1\" opacity=\"1\"></line><line transform=\"translate(0,133)\" x2=\"-5\" y2=\"0\" stroke=\"#888\" stroke-width=\"1\" opacity=\"1\"></line><line transform=\"translate(0,89)\" x2=\"-5\" y2=\"0\" stroke=\"#888\" stroke-width=\"1\" opacity=\"1\"></line><line transform=\"translate(0,44)\" x2=\"-5\" y2=\"0\" stroke=\"#888\" stroke-width=\"1\" opacity=\"1\"></line><line transform=\"translate(0,0)\" x2=\"-5\" y2=\"0\" stroke=\"#888\" stroke-width=\"1\" opacity=\"1\"></line></g><g class=\"mark-text role-axis-label\" pointer-events=\"none\"><text text-anchor=\"end\" transform=\"translate(-7,180.77777777777777)\" font-family=\"sans-serif\" font-size=\"10px\" fill=\"#000\" opacity=\"1\">0</text><text text-anchor=\"end\" transform=\"translate(-7,136.33333333333334)\" font-family=\"sans-serif\" font-size=\"10px\" fill=\"#000\" opacity=\"1\">10</text><text text-anchor=\"end\" transform=\"translate(-7,91.88888888888889)\" font-family=\"sans-serif\" font-size=\"10px\" fill=\"#000\" opacity=\"1\">20</text><text text-anchor=\"end\" transform=\"translate(-7,47.44444444444444)\" font-family=\"sans-serif\" font-size=\"10px\" fill=\"#000\" opacity=\"1\">30</text><text text-anchor=\"end\" transform=\"translate(-7,3)\" font-family=\"sans-serif\" font-size=\"10px\" fill=\"#000\" opacity=\"1\">40</text></g><g class=\"mark-rule role-axis-domain\" pointer-events=\"none\"><line transform=\"translate(0,200)\" x2=\"0\" y2=\"-200\" stroke=\"#888\" stroke-width=\"1\" opacity=\"1\"></line></g></g><path class=\"foreground\" aria-hidden=\"true\" d=\"\" pointer-events=\"none\" display=\"none\"></path></g></g><g class=\"mark-line role-mark marks\" role=\"graphics-object\" aria-roledescription=\"line mark container\"><path aria-label=\"x: -10; y: -1.55573190667\" role=\"graphics-symbol\" aria-roledescription=\"line mark\" d=\"M0,184.692141807405L0.9999999999999963,184.58847883444943L1.9999999999999927,184.48365115858712L3.000000000000007,184.37763333493734L4.0000000000000036,184.2703991048304L5,184.1619213618985L5.9999999999999964,184.0521721164422L6.999999999999992,183.94112245796956L8.000000000000007,183.8287425157989L9.000000000000004,183.71500141760814L10,183.599867245806L10.999999999999996,183.48330699159177L11.999999999999993,183.3652865065614L13.000000000000005,183.24577045170676L14.000000000000004,183.12472224364612L15,183.00210399791078L15.999999999999998,182.8778764691011L16.999999999999993,182.7519989877125L18.000000000000007,182.62442939341682L19.000000000000004,182.4951239645698L20,182.36403734369856L20.999999999999996,182.23112245870539L22.000000000000004,182.0963304395053L23,181.95961052979334L24.000000000000004,181.82090999361657L25,181.68017401640105L25.999999999999996,181.5373456000586L27,181.39236545177104L27.999999999999996,181.24517186601904L29.000000000000004,181.0957005993911L30,180.94388473767467L30.999999999999993,180.78965455469276L32,180.6329373623121L32.99999999999999,180.47365735100425L34,180.31173542029757L35,180.1470889984081L36,179.97963185028607L37,179.80927387325988L38,179.63592087939958L39,179.45947436366038L40,179.2798312568009L41,179.09688366200027L42.00000000000001,178.9105185740263L43,178.72061757972995L44.00000000000001,178.52705653856285L45,178.32970524173217L46,178.1284270485243L47,177.92307849824445L48,177.71350889613535L49.00000000000001,177.4995598715564L50,177.2810649066261L51,177.05784883346033L52,176.82972729807537L53,176.59650618897865L54,176.3579810284384L55.00000000000001,176.11393632442028L55.99999999999999,175.8641448812046L57.00000000000001,175.60836706676585L57.99999999999999,175.34635003511488L59.00000000000001,175.07782690198633L60,174.80251587251564L61,174.52011931990694L62,174.23032281456733L63,173.93279410379682L64,173.62718204290437L65,173.3131154795966L65.99999999999999,172.99020209469435L67,172.6580272037034L68,172.31615252554354L69,171.9641149268573L70,171.60142515281794L71,171.22756655826637L72,170.84199385635355L73,170.44413190566053L74,170.03337456100596L75,169.60908361779047L76,169.17058788469646L77,168.71718242473668L78,168.2481280098374L79,167.76265083909263L80,167.2599425751926L81,166.73916075687333L82,166.19942964703205L83,165.63984157579495L84.00000000000001,165.05945883464918L85,164.45731617108277L86,163.8324239223913L86.99999999999999,163.18377181192645L88.00000000000001,162.5103334108334L89,161.81107124338016L90,161.08494248491024L90.99999999999999,160.33090516941823L92,159.54792479051383L93,158.73498114744285L94,157.89107525963914L95,157.01523615195805L96,156.10652730112312L97,155.16405253429554L98.00000000000001,154.18696118443162L99,153.1744523343345L100,152.125778020726L101,151.04024531853432L102,149.9172172800391L103,148.75611275894508L104,147.5564052011654L105,146.3176205278511L106,145.0393342687923L106.99999999999999,143.72116812388506L108,142.36278613654628L109.00000000000001,140.9638906567916L110.00000000000001,139.52421825530394L110.99999999999999,138.04353572600883L111.99999999999999,136.52163628654347L113.00000000000001,134.95833605645097L114.00000000000001,133.35347086449408L114.99999999999999,131.70689341098353L115.99999999999999,130.01847078969945L117,128.28808235740095L118.00000000000001,126.51561792701969L119,124.70097625316589L120,122.84406377467825L121,120.9447935782002L122,119.00308454804566L123,117.01886067010653L124,114.99205046174674L125,112.92258650279305L126,110.81040504745808L127,108.65544569977597L128,106.4576511401651L129,104.21696689015705L130,101.93334110885229L131,99.60672441235425L131.99999999999997,97.2370697249916L133,94.82433211726111L134,92.3684687006656L135,89.86943847781829L136,87.32720226480556L137,84.7417225916435L138,82.11296357370725L139,79.44089063109321L140,76.72547158514816L141,73.96667368782173L142,71.16446808497025L143.00000000000003,68.31882448502806L144,65.42971738752699L145,62.49711120893948L146,59.520993915144984L147,56.50134060191807L148,53.43807713512974L149,50.331311411004044L150,47.18103808001286L151,43.987148539712905L152,40.74951590837037L153,37.46772136548972L154,34.14028607226287L155,30.767473982589056L156,27.34910470464291L156.99999999999997,23.88477019776094L158,20.4240175133249L159,17.01399461237527L160,13.577595109115359L161,8.694873826145976L162,5.614219690324007\" stroke=\"#4c78a8\" stroke-width=\"2\"></path></g></g><path class=\"foreground\" aria-hidden=\"true\" d=\"\" display=\"none\"></path></g></g></g></svg>\n"
      ],
      "text/plain": [
       "@vlplot(\n",
       "    mark=\"line\",\n",
       "    encoding={\n",
       "        x={\n",
       "            field=\"x\",\n",
       "            title=nothing\n",
       "        },\n",
       "        y={\n",
       "            field=\"y\",\n",
       "            title=nothing\n",
       "        }\n",
       "    },\n",
       "    data={\n",
       "        values=...\n",
       "    }\n",
       ")"
      ]
     },
     "execution_count": 35,
     "metadata": {},
     "output_type": "execute_result"
    }
   ],
   "source": [
    "x = collect(-10:0.1:10)\n",
    "y = T.(x)\n",
    "p = @vlplot(:line, x,y)"
   ]
  },
  {
   "cell_type": "markdown",
   "id": "d8bbbaf1-5960-4b22-a86d-1e55e01a957c",
   "metadata": {},
   "source": [
    "### Example with 1D Finite Discrete Distributions"
   ]
  },
  {
   "cell_type": "code",
   "execution_count": 76,
   "id": "49b914de-5d4c-43ca-883e-9583ced46c4e",
   "metadata": {},
   "outputs": [
    {
     "name": "stdout",
     "output_type": "stream",
     "text": [
      "Optimal Trasnport Cost = 14.473957823245271\n"
     ]
    },
    {
     "data": {
      "application/vnd.vegalite.v4+json": {
       "data": {
        "values": [
         {
          "color": "μ",
          "size": 0.041693737745843215,
          "x": 3.9265507594500875,
          "y": 0
         },
         {
          "color": "μ",
          "size": 0.16500263777958438,
          "x": -3.0681478885731917,
          "y": 0
         },
         {
          "color": "μ",
          "size": 0.15774876054553982,
          "x": 4.031213736410589,
          "y": 0
         },
         {
          "color": "μ",
          "size": 0.08518029384700923,
          "x": -2.2870047262406157,
          "y": 0
         },
         {
          "color": "μ",
          "size": 0.09654980201655791,
          "x": 3.5298258445983937,
          "y": 0
         },
         {
          "color": "μ",
          "size": 0.1749527493315624,
          "x": -0.07660715967220177,
          "y": 0
         },
         {
          "color": "μ",
          "size": 0.11653222517168883,
          "x": -3.6892083291343014,
          "y": 0
         },
         {
          "color": "μ",
          "size": 0.08605465142324037,
          "x": -4.758499550951221,
          "y": 0
         },
         {
          "color": "μ",
          "size": 0.07219051732448784,
          "x": 1.2412688570145551,
          "y": 0
         },
         {
          "color": "μ",
          "size": 0.0040946248144858866,
          "x": -3.8598510499931438,
          "y": 0
         },
         {
          "color": "ν",
          "size": 0.21978884162316514,
          "x": 0.806670504422462,
          "y": 0
         },
         {
          "color": "ν",
          "size": 0.2162300207224969,
          "x": 1.2729465776006688,
          "y": 0
         },
         {
          "color": "ν",
          "size": 0.19753782266178543,
          "x": 5.538587968331832,
          "y": 0
         },
         {
          "color": "ν",
          "size": 0.1958637512031653,
          "x": 4.929826195290592,
          "y": 0
         },
         {
          "color": "ν",
          "size": 0.17057956378938727,
          "x": 3.9388204802253113,
          "y": 0
         }
        ]
       },
       "encoding": {
        "color": {
         "field": "color",
         "title": null,
         "type": "nominal"
        },
        "size": {
         "field": "size",
         "title": null,
         "type": "quantitative"
        },
        "x": {
         "field": "x",
         "title": null,
         "type": "quantitative"
        },
        "y": {
         "field": "y",
         "title": null,
         "type": "quantitative"
        }
       },
       "mark": "circle"
      },
      "image/png": "[encoded data removed]",
      "image/svg+xml": [
       "<?xml version=\"1.0\" encoding=\"utf-8\"?>\n",
       "<!DOCTYPE svg PUBLIC \"-//W3C//DTD SVG 1.1//EN\" \"http://www.w3.org/Graphics/SVG/1.1/DTD/svg11.dtd\">\n",
       "<svg class=\"marks\" width=\"286\" height=\"227\" viewBox=\"0 0 286 227\" version=\"1.1\" xmlns=\"http://www.w3.org/2000/svg\" xmlns:xlink=\"http://www.w3.org/1999/xlink\"><rect width=\"286\" height=\"227\" fill=\"white\"></rect><g fill=\"none\" stroke-miterlimit=\"10\" transform=\"translate(18,5)\"><g class=\"mark-group role-frame root\" role=\"graphics-object\" aria-roledescription=\"group mark container\"><g transform=\"translate(0,0)\"><path class=\"background\" aria-hidden=\"true\" d=\"M0.5,0.5h200v200h-200Z\" stroke=\"#ddd\"></path><g><g class=\"mark-group role-axis\" aria-hidden=\"true\"><g transform=\"translate(0.5,200.5)\"><path class=\"background\" aria-hidden=\"true\" d=\"M0,0h0v0h0Z\" pointer-events=\"none\"></path><g><g class=\"mark-rule role-axis-grid\" pointer-events=\"none\"><line transform=\"translate(18,-200)\" x2=\"0\" y2=\"200\" stroke=\"#ddd\" stroke-width=\"1\" opacity=\"1\"></line><line transform=\"translate(55,-200)\" x2=\"0\" y2=\"200\" stroke=\"#ddd\" stroke-width=\"1\" opacity=\"1\"></line><line transform=\"translate(91,-200)\" x2=\"0\" y2=\"200\" stroke=\"#ddd\" stroke-width=\"1\" opacity=\"1\"></line><line transform=\"translate(127,-200)\" x2=\"0\" y2=\"200\" stroke=\"#ddd\" stroke-width=\"1\" opacity=\"1\"></line><line transform=\"translate(164,-200)\" x2=\"0\" y2=\"200\" stroke=\"#ddd\" stroke-width=\"1\" opacity=\"1\"></line><line transform=\"translate(200,-200)\" x2=\"0\" y2=\"200\" stroke=\"#ddd\" stroke-width=\"1\" opacity=\"1\"></line></g></g><path class=\"foreground\" aria-hidden=\"true\" d=\"\" pointer-events=\"none\" display=\"none\"></path></g></g><g class=\"mark-group role-axis\" aria-hidden=\"true\"><g transform=\"translate(0.5,0.5)\"><path class=\"background\" aria-hidden=\"true\" d=\"M0,0h0v0h0Z\" pointer-events=\"none\"></path><g><g class=\"mark-rule role-axis-grid\" pointer-events=\"none\"><line transform=\"translate(0,100)\" x2=\"200\" y2=\"0\" stroke=\"#ddd\" stroke-width=\"1\" opacity=\"1\"></line></g></g><path class=\"foreground\" aria-hidden=\"true\" d=\"\" pointer-events=\"none\" display=\"none\"></path></g></g><g class=\"mark-group role-axis\" role=\"graphics-symbol\" aria-roledescription=\"axis\" aria-label=\"X-axis for a linear scale with values from -5 to 6\"><g transform=\"translate(0.5,200.5)\"><path class=\"background\" aria-hidden=\"true\" d=\"M0,0h0v0h0Z\" pointer-events=\"none\"></path><g><g class=\"mark-rule role-axis-tick\" pointer-events=\"none\"><line transform=\"translate(18,0)\" x2=\"0\" y2=\"5\" stroke=\"#888\" stroke-width=\"1\" opacity=\"1\"></line><line transform=\"translate(55,0)\" x2=\"0\" y2=\"5\" stroke=\"#888\" stroke-width=\"1\" opacity=\"1\"></line><line transform=\"translate(91,0)\" x2=\"0\" y2=\"5\" stroke=\"#888\" stroke-width=\"1\" opacity=\"1\"></line><line transform=\"translate(127,0)\" x2=\"0\" y2=\"5\" stroke=\"#888\" stroke-width=\"1\" opacity=\"1\"></line><line transform=\"translate(164,0)\" x2=\"0\" y2=\"5\" stroke=\"#888\" stroke-width=\"1\" opacity=\"1\"></line><line transform=\"translate(200,0)\" x2=\"0\" y2=\"5\" stroke=\"#888\" stroke-width=\"1\" opacity=\"1\"></line></g><g class=\"mark-text role-axis-label\" pointer-events=\"none\"><text text-anchor=\"middle\" transform=\"translate(18.181818181818183,15)\" font-family=\"sans-serif\" font-size=\"10px\" fill=\"#000\" opacity=\"1\">-4</text><text text-anchor=\"middle\" transform=\"translate(54.54545454545454,15)\" font-family=\"sans-serif\" font-size=\"10px\" fill=\"#000\" opacity=\"1\">-2</text><text text-anchor=\"middle\" transform=\"translate(90.9090909090909,15)\" font-family=\"sans-serif\" font-size=\"10px\" fill=\"#000\" opacity=\"1\">0</text><text text-anchor=\"middle\" transform=\"translate(127.27272727272727,15)\" font-family=\"sans-serif\" font-size=\"10px\" fill=\"#000\" opacity=\"1\">2</text><text text-anchor=\"middle\" transform=\"translate(163.63636363636365,15)\" font-family=\"sans-serif\" font-size=\"10px\" fill=\"#000\" opacity=\"1\">4</text><text text-anchor=\"end\" transform=\"translate(200,15)\" font-family=\"sans-serif\" font-size=\"10px\" fill=\"#000\" opacity=\"1\">6</text></g><g class=\"mark-rule role-axis-domain\" pointer-events=\"none\"><line transform=\"translate(0,0)\" x2=\"200\" y2=\"0\" stroke=\"#888\" stroke-width=\"1\" opacity=\"1\"></line></g></g><path class=\"foreground\" aria-hidden=\"true\" d=\"\" pointer-events=\"none\" display=\"none\"></path></g></g><g class=\"mark-group role-axis\" role=\"graphics-symbol\" aria-roledescription=\"axis\" aria-label=\"Y-axis for a linear scale with values from 0 to 0\"><g transform=\"translate(0.5,0.5)\"><path class=\"background\" aria-hidden=\"true\" d=\"M0,0h0v0h0Z\" pointer-events=\"none\"></path><g><g class=\"mark-rule role-axis-tick\" pointer-events=\"none\"><line transform=\"translate(0,100)\" x2=\"-5\" y2=\"0\" stroke=\"#888\" stroke-width=\"1\" opacity=\"1\"></line></g><g class=\"mark-text role-axis-label\" pointer-events=\"none\"><text text-anchor=\"end\" transform=\"translate(-7,103)\" font-family=\"sans-serif\" font-size=\"10px\" fill=\"#000\" opacity=\"1\">0</text></g><g class=\"mark-rule role-axis-domain\" pointer-events=\"none\"><line transform=\"translate(0,200)\" x2=\"0\" y2=\"-200\" stroke=\"#888\" stroke-width=\"1\" opacity=\"1\"></line></g></g><path class=\"foreground\" aria-hidden=\"true\" d=\"\" pointer-events=\"none\" display=\"none\"></path></g></g><g class=\"mark-symbol role-mark marks\" role=\"graphics-object\" aria-roledescription=\"symbol mark container\"><path aria-label=\"size: 0.0416937377458; color: μ; x: 3.92655075945; y: 0\" role=\"graphics-symbol\" aria-roledescription=\"circle\" transform=\"translate(162.3009228990925,100)\" d=\"M4.1376733333080535,0A4.1376733333080535,4.1376733333080535,0,1,1,-4.1376733333080535,0A4.1376733333080535,4.1376733333080535,0,1,1,4.1376733333080535,0\" fill=\"#4c78a8\" stroke-width=\"2\" opacity=\"0.7\"></path><path aria-label=\"size: 0.16500263778; color: μ; x: -3.06814788857; y: 0\" role=\"graphics-symbol\" aria-roledescription=\"circle\" transform=\"translate(35.124583844123784,100)\" d=\"M8.231258271894257,0A8.231258271894257,8.231258271894257,0,1,1,-8.231258271894257,0A8.231258271894257,8.231258271894257,0,1,1,8.231258271894257,0\" fill=\"#4c78a8\" stroke-width=\"2\" opacity=\"0.7\"></path><path aria-label=\"size: 0.157748760546; color: μ; x: 4.03121373641; y: 0\" role=\"graphics-symbol\" aria-roledescription=\"circle\" transform=\"translate(164.20388611655616,100)\" d=\"M8.048292711778613,0A8.048292711778613,8.048292711778613,0,1,1,-8.048292711778613,0A8.048292711778613,8.048292711778613,0,1,1,8.048292711778613,0\" fill=\"#4c78a8\" stroke-width=\"2\" opacity=\"0.7\"></path><path aria-label=\"size: 0.085180293847; color: μ; x: -2.28700472624; y: 0\" role=\"graphics-symbol\" aria-roledescription=\"circle\" transform=\"translate(49.327186795625174,100)\" d=\"M5.914122994514176,0A5.914122994514176,5.914122994514176,0,1,1,-5.914122994514176,0A5.914122994514176,5.914122994514176,0,1,1,5.914122994514176,0\" fill=\"#4c78a8\" stroke-width=\"2\" opacity=\"0.7\"></path><path aria-label=\"size: 0.0965498020166; color: μ; x: 3.5298258446; y: 0\" role=\"graphics-symbol\" aria-roledescription=\"circle\" transform=\"translate(155.08774262906172,100)\" d=\"M6.296460439036104,0A6.296460439036104,6.296460439036104,0,1,1,-6.296460439036104,0A6.296460439036104,6.296460439036104,0,1,1,6.296460439036104,0\" fill=\"#4c78a8\" stroke-width=\"2\" opacity=\"0.7\"></path><path aria-label=\"size: 0.174952749332; color: μ; x: -0.0766071596722; y: 0\" role=\"graphics-symbol\" aria-roledescription=\"circle\" transform=\"translate(89.51623346050542,100)\" d=\"M8.475809187943595,0A8.475809187943595,8.475809187943595,0,1,1,-8.475809187943595,0A8.475809187943595,8.475809187943595,0,1,1,8.475809187943595,0\" fill=\"#4c78a8\" stroke-width=\"2\" opacity=\"0.7\"></path><path aria-label=\"size: 0.116532225172; color: μ; x: -3.68920832913; y: 0\" role=\"graphics-symbol\" aria-roledescription=\"circle\" transform=\"translate(23.832575833921794,100)\" d=\"M6.91741457940397,0A6.91741457940397,6.91741457940397,0,1,1,-6.91741457940397,0A6.91741457940397,6.91741457940397,0,1,1,6.91741457940397,0\" fill=\"#4c78a8\" stroke-width=\"2\" opacity=\"0.7\"></path><path aria-label=\"size: 0.0860546514232; color: μ; x: -4.75849955095; y: 0\" role=\"graphics-symbol\" aria-roledescription=\"circle\" transform=\"translate(4.390917255432343,100)\" d=\"M5.944399104949772,0A5.944399104949772,5.944399104949772,0,1,1,-5.944399104949772,0A5.944399104949772,5.944399104949772,0,1,1,5.944399104949772,0\" fill=\"#4c78a8\" stroke-width=\"2\" opacity=\"0.7\"></path><path aria-label=\"size: 0.0721905173245; color: μ; x: 1.24126885701; y: 0\" role=\"graphics-symbol\" aria-roledescription=\"circle\" transform=\"translate(113.47761558208282,100)\" d=\"M5.4445358555448085,0A5.4445358555448085,5.4445358555448085,0,1,1,-5.4445358555448085,0A5.4445358555448085,5.4445358555448085,0,1,1,5.4445358555448085,0\" fill=\"#4c78a8\" stroke-width=\"2\" opacity=\"0.7\"></path><path aria-label=\"size: 0.00409462481449; color: μ; x: -3.85985104999; y: 0\" role=\"graphics-symbol\" aria-roledescription=\"circle\" transform=\"translate(20.729980909215566,100)\" d=\"M1.2966651608269735,0A1.2966651608269735,1.2966651608269735,0,1,1,-1.2966651608269735,0A1.2966651608269735,1.2966651608269735,0,1,1,1.2966651608269735,0\" fill=\"#4c78a8\" stroke-width=\"2\" opacity=\"0.7\"></path><path aria-label=\"size: 0.219788841623; color: ν; x: 0.806670504422; y: 0\" role=\"graphics-symbol\" aria-roledescription=\"circle\" transform=\"translate(105.57582735313567,100)\" d=\"M9.5,0A9.5,9.5,0,1,1,-9.5,0A9.5,9.5,0,1,1,9.5,0\" fill=\"#f58518\" stroke-width=\"2\" opacity=\"0.7\"></path><path aria-label=\"size: 0.216230020722; color: ν; x: 1.2729465776; y: 0\" role=\"graphics-symbol\" aria-roledescription=\"circle\" transform=\"translate(114.05357413819397,100)\" d=\"M9.422774114314786,0A9.422774114314786,9.422774114314786,0,1,1,-9.422774114314786,0A9.422774114314786,9.422774114314786,0,1,1,9.422774114314786,0\" fill=\"#f58518\" stroke-width=\"2\" opacity=\"0.7\"></path><path aria-label=\"size: 0.197537822662; color: ν; x: 5.53858796833; y: 0\" role=\"graphics-symbol\" aria-roledescription=\"circle\" transform=\"translate(191.61069033330605,100)\" d=\"M9.006289781597783,0A9.006289781597783,9.006289781597783,0,1,1,-9.006289781597783,0A9.006289781597783,9.006289781597783,0,1,1,9.006289781597783,0\" fill=\"#f58518\" stroke-width=\"2\" opacity=\"0.7\"></path><path aria-label=\"size: 0.195863751203; color: ν; x: 4.92982619529; y: 0\" role=\"graphics-symbol\" aria-roledescription=\"circle\" transform=\"translate(180.54229445982892,100)\" d=\"M8.968045833857996,0A8.968045833857996,8.968045833857996,0,1,1,-8.968045833857996,0A8.968045833857996,8.968045833857996,0,1,1,8.968045833857996,0\" fill=\"#f58518\" stroke-width=\"2\" opacity=\"0.7\"></path><path aria-label=\"size: 0.170579563789; color: ν; x: 3.93882048023; y: 0\" role=\"graphics-symbol\" aria-roledescription=\"circle\" transform=\"translate(162.5240087313693,100)\" d=\"M8.369206524963085,0A8.369206524963085,8.369206524963085,0,1,1,-8.369206524963085,0A8.369206524963085,8.369206524963085,0,1,1,8.369206524963085,0\" fill=\"#f58518\" stroke-width=\"2\" opacity=\"0.7\"></path></g><g class=\"mark-group role-legend\" role=\"graphics-symbol\" aria-roledescription=\"legend\" aria-label=\"Symbol legend for fill color with 2 values: μ, ν\"><g transform=\"translate(218,0)\"><path class=\"background\" aria-hidden=\"true\" d=\"M0,0h22v24h-22Z\" pointer-events=\"none\"></path><g><g class=\"mark-group role-legend-entry\"><g transform=\"translate(0,0)\"><path class=\"background\" aria-hidden=\"true\" d=\"M0,0h0v0h0Z\" pointer-events=\"none\"></path><g><g class=\"mark-group role-scope\" role=\"graphics-object\" aria-roledescription=\"group mark container\"><g transform=\"translate(0,0)\"><path class=\"background\" aria-hidden=\"true\" d=\"M0,0h22v11h-22Z\" pointer-events=\"none\" opacity=\"1\"></path><g><g class=\"mark-symbol role-legend-symbol\" pointer-events=\"none\"><path transform=\"translate(6,6)\" d=\"M5,0A5,5,0,1,1,-5,0A5,5,0,1,1,5,0\" fill=\"#4c78a8\" stroke-width=\"1.5\" opacity=\"0.7\"></path></g><g class=\"mark-text role-legend-label\" pointer-events=\"none\"><text text-anchor=\"start\" transform=\"translate(16,9)\" font-family=\"sans-serif\" font-size=\"10px\" fill=\"#000\" opacity=\"1\">μ</text></g></g><path class=\"foreground\" aria-hidden=\"true\" d=\"\" pointer-events=\"none\" display=\"none\"></path></g><g transform=\"translate(0,13)\"><path class=\"background\" aria-hidden=\"true\" d=\"M0,0h22v11h-22Z\" pointer-events=\"none\" opacity=\"1\"></path><g><g class=\"mark-symbol role-legend-symbol\" pointer-events=\"none\"><path transform=\"translate(6,6)\" d=\"M5,0A5,5,0,1,1,-5,0A5,5,0,1,1,5,0\" fill=\"#f58518\" stroke-width=\"1.5\" opacity=\"0.7\"></path></g><g class=\"mark-text role-legend-label\" pointer-events=\"none\"><text text-anchor=\"start\" transform=\"translate(16,9)\" font-family=\"sans-serif\" font-size=\"10px\" fill=\"#000\" opacity=\"1\">ν</text></g></g><path class=\"foreground\" aria-hidden=\"true\" d=\"\" pointer-events=\"none\" display=\"none\"></path></g></g></g><path class=\"foreground\" aria-hidden=\"true\" d=\"\" pointer-events=\"none\" display=\"none\"></path></g></g></g><path class=\"foreground\" aria-hidden=\"true\" d=\"\" pointer-events=\"none\" display=\"none\"></path></g></g><g class=\"mark-group role-legend\" role=\"graphics-symbol\" aria-roledescription=\"legend\" aria-label=\"Symbol legend for size with values from 0.00 to 0.22\"><g transform=\"translate(218,32)\"><path class=\"background\" aria-hidden=\"true\" d=\"M0,0h45v77h-45Z\" pointer-events=\"none\"></path><g><g class=\"mark-group role-legend-entry\"><g transform=\"translate(0,0)\"><path class=\"background\" aria-hidden=\"true\" d=\"M0,0h0v0h0Z\" pointer-events=\"none\"></path><g><g class=\"mark-group role-scope\" role=\"graphics-object\" aria-roledescription=\"group mark container\"><g transform=\"translate(0,0)\"><path class=\"background\" aria-hidden=\"true\" d=\"M0,0h45v11.531122331030005h-45Z\" pointer-events=\"none\" opacity=\"1\"></path><g><g class=\"mark-symbol role-legend-symbol\" pointer-events=\"none\"><path transform=\"translate(10,5.5)\" d=\"M4.531122331030006,0A4.531122331030006,4.531122331030006,0,1,1,-4.531122331030006,0A4.531122331030006,4.531122331030006,0,1,1,4.531122331030006,0\" fill=\"black\" fill-opacity=\"0.7\" stroke-width=\"1.5\" opacity=\"0.7\"></path></g><g class=\"mark-text role-legend-label\" pointer-events=\"none\"><text text-anchor=\"start\" transform=\"translate(24,8.5)\" font-family=\"sans-serif\" font-size=\"10px\" fill=\"#000\" opacity=\"1\">0.05</text></g></g><path class=\"foreground\" aria-hidden=\"true\" d=\"\" pointer-events=\"none\" display=\"none\"></path></g><g transform=\"translate(0,15)\"><path class=\"background\" aria-hidden=\"true\" d=\"M0,0h45v15.407974653314227h-45Z\" pointer-events=\"none\" opacity=\"1\"></path><g><g class=\"mark-symbol role-legend-symbol\" pointer-events=\"none\"><path transform=\"translate(10,7.5)\" d=\"M6.407974653314227,0A6.407974653314227,6.407974653314227,0,1,1,-6.407974653314227,0A6.407974653314227,6.407974653314227,0,1,1,6.407974653314227,0\" fill=\"black\" fill-opacity=\"0.7\" stroke-width=\"1.5\" opacity=\"0.7\"></path></g><g class=\"mark-text role-legend-label\" pointer-events=\"none\"><text text-anchor=\"start\" transform=\"translate(24,10.5)\" font-family=\"sans-serif\" font-size=\"10px\" fill=\"#000\" opacity=\"1\">0.10</text></g></g><path class=\"foreground\" aria-hidden=\"true\" d=\"\" pointer-events=\"none\" display=\"none\"></path></g><g transform=\"translate(0,34)\"><path class=\"background\" aria-hidden=\"true\" d=\"M0,0h45v18.348134092653893h-45Z\" pointer-events=\"none\" opacity=\"1\"></path><g><g class=\"mark-symbol role-legend-symbol\" pointer-events=\"none\"><path transform=\"translate(10,9)\" d=\"M7.848134092653895,0A7.848134092653895,7.848134092653895,0,1,1,-7.848134092653895,0A7.848134092653895,7.848134092653895,0,1,1,7.848134092653895,0\" fill=\"black\" fill-opacity=\"0.7\" stroke-width=\"1.5\" opacity=\"0.7\"></path></g><g class=\"mark-text role-legend-label\" pointer-events=\"none\"><text text-anchor=\"start\" transform=\"translate(24,12)\" font-family=\"sans-serif\" font-size=\"10px\" fill=\"#000\" opacity=\"1\">0.15</text></g></g><path class=\"foreground\" aria-hidden=\"true\" d=\"\" pointer-events=\"none\" display=\"none\"></path></g><g transform=\"translate(0,56)\"><path class=\"background\" aria-hidden=\"true\" d=\"M0,0h45v20.56224466206001h-45Z\" pointer-events=\"none\" opacity=\"1\"></path><g><g class=\"mark-symbol role-legend-symbol\" pointer-events=\"none\"><path transform=\"translate(10,10)\" d=\"M9.062244662060012,0A9.062244662060012,9.062244662060012,0,1,1,-9.062244662060012,0A9.062244662060012,9.062244662060012,0,1,1,9.062244662060012,0\" fill=\"black\" fill-opacity=\"0.7\" stroke-width=\"1.5\" opacity=\"0.7\"></path></g><g class=\"mark-text role-legend-label\" pointer-events=\"none\"><text text-anchor=\"start\" transform=\"translate(24,13)\" font-family=\"sans-serif\" font-size=\"10px\" fill=\"#000\" opacity=\"1\">0.20</text></g></g><path class=\"foreground\" aria-hidden=\"true\" d=\"\" pointer-events=\"none\" display=\"none\"></path></g></g></g><path class=\"foreground\" aria-hidden=\"true\" d=\"\" pointer-events=\"none\" display=\"none\"></path></g></g></g><path class=\"foreground\" aria-hidden=\"true\" d=\"\" pointer-events=\"none\" display=\"none\"></path></g></g></g><path class=\"foreground\" aria-hidden=\"true\" d=\"\" display=\"none\"></path></g></g></g></svg>\n"
      ],
      "text/plain": [
       "@vlplot(\n",
       "    mark=\"circle\",\n",
       "    encoding={\n",
       "        size={\n",
       "            field=\"size\",\n",
       "            title=nothing\n",
       "        },\n",
       "        color={\n",
       "            field=\"color\",\n",
       "            title=nothing\n",
       "        },\n",
       "        x={\n",
       "            field=\"x\",\n",
       "            title=nothing\n",
       "        },\n",
       "        y={\n",
       "            field=\"y\",\n",
       "            title=nothing\n",
       "        }\n",
       "    },\n",
       "    data={\n",
       "        values=...\n",
       "    }\n",
       ")"
      ]
     },
     "execution_count": 76,
     "metadata": {},
     "output_type": "execute_result"
    }
   ],
   "source": [
    "n   = 10\n",
    "u   = rand(n)*10 .- 5\n",
    "u_w = rand(n)\n",
    "u_w = u_w./sum(u_w)\n",
    "μ = DiscreteNonParametric(u, u_w);\n",
    "\n",
    "m   = 5\n",
    "v   = rand(m)*10\n",
    "v_w = rand(m)\n",
    "v_w = v_w./sum(v_w)\n",
    "ν = DiscreteNonParametric(v, v_w);\n",
    "\n",
    "c(x,y) = (x-y)^2\n",
    "\n",
    "X = vcat(u,v)\n",
    "Y = zeros(length(u)+length(v))\n",
    "P = vcat(u_w,v_w);\n",
    "C = vcat([\"μ\" for i in 1:n],[\"ν\" for i in 1:m])\n",
    "\n",
    "cost, T = otCostPlan1d(c,μ,ν);\n",
    "\n",
    "println(\"Optimal Trasnport Cost = \",cost)\n",
    "@vlplot(:circle, X,Y, size={P}, color={C})"
   ]
  },
  {
   "cell_type": "code",
   "execution_count": 77,
   "id": "6ac3380b-9a06-4c51-8e04-910b385fd2e1",
   "metadata": {},
   "outputs": [
    {
     "data": {
      "text/plain": [
       "10×5 Matrix{Float64}:\n",
       " 0.0860547   0.0        0.0        0.0         0.0\n",
       " 0.00409462  0.0        0.0        0.0         0.0\n",
       " 0.116532    0.0        0.0        0.0         0.0\n",
       " 0.0131073   0.151895   0.0        0.0         0.0\n",
       " 0.0         0.0643347  0.0208456  0.0         0.0\n",
       " 0.0         0.0        0.149734   0.0252188   0.0\n",
       " 0.0         0.0        0.0        0.0721905   0.0\n",
       " 0.0         0.0        0.0        0.0965498   0.0\n",
       " 0.0         0.0        0.0        0.00190468  0.0397891\n",
       " 0.0         0.0        0.0        0.0         0.157749"
      ]
     },
     "execution_count": 77,
     "metadata": {},
     "output_type": "execute_result"
    }
   ],
   "source": [
    "T"
   ]
  },
  {
   "cell_type": "code",
   "execution_count": 116,
   "id": "60b78339-c282-4ace-9443-9c69c1390e32",
   "metadata": {},
   "outputs": [
    {
     "data": {
      "text/plain": [
       "100×150 Matrix{Float64}:\n",
       " 0.0         0.0  0.0  0.0  0.0         …  0.0  0.0  0.0  0.0          0.0\n",
       " 0.0         0.0  0.0  0.0  0.0            0.0  0.0  0.0  0.0          0.0\n",
       " 0.0         0.0  0.0  0.0  0.0            0.0  0.0  0.0  0.0          0.0\n",
       " 0.0         0.0  0.0  0.0  0.0            0.0  0.0  0.0  0.0          0.0\n",
       " 0.0         0.0  0.0  0.0  0.0            0.0  0.0  0.0  0.0          0.0\n",
       " 0.0         0.0  0.0  0.0  0.0         …  0.0  0.0  0.0  0.0          0.0\n",
       " 0.0         0.0  0.0  0.0  0.0            0.0  0.0  0.0  0.000112421  0.0\n",
       " 0.0         0.0  0.0  0.0  0.0            0.0  0.0  0.0  0.0          0.0\n",
       " 0.0         0.0  0.0  0.0  0.0            0.0  0.0  0.0  0.0          0.0\n",
       " 0.0         0.0  0.0  0.0  0.0            0.0  0.0  0.0  0.0          0.0\n",
       " 0.0         0.0  0.0  0.0  0.0         …  0.0  0.0  0.0  0.0          0.0\n",
       " 0.0         0.0  0.0  0.0  0.0            0.0  0.0  0.0  0.0          0.0\n",
       " 0.0         0.0  0.0  0.0  0.0            0.0  0.0  0.0  0.0          0.0\n",
       " ⋮                                      ⋱  ⋮                           \n",
       " 0.0         0.0  0.0  0.0  0.0            0.0  0.0  0.0  0.0          0.0\n",
       " 0.0         0.0  0.0  0.0  0.0            0.0  0.0  0.0  0.0          0.0\n",
       " 0.0         0.0  0.0  0.0  0.00165754  …  0.0  0.0  0.0  0.0          0.0\n",
       " 0.0         0.0  0.0  0.0  0.0            0.0  0.0  0.0  0.0          0.0\n",
       " 0.00992223  0.0  0.0  0.0  0.0            0.0  0.0  0.0  0.0          0.0\n",
       " 0.0         0.0  0.0  0.0  0.0            0.0  0.0  0.0  0.0          0.0\n",
       " 0.0         0.0  0.0  0.0  0.0            0.0  0.0  0.0  0.0          0.0\n",
       " 0.0         0.0  0.0  0.0  0.0         …  0.0  0.0  0.0  0.0          0.0\n",
       " 0.0         0.0  0.0  0.0  0.0            0.0  0.0  0.0  0.0          0.0\n",
       " 0.0         0.0  0.0  0.0  0.0            0.0  0.0  0.0  0.0          0.0\n",
       " 0.0         0.0  0.0  0.0  0.0            0.0  0.0  0.0  0.0          0.0\n",
       " 0.0         0.0  0.0  0.0  0.0            0.0  0.0  0.0  0.0          0.0"
      ]
     },
     "execution_count": 116,
     "metadata": {},
     "output_type": "execute_result"
    }
   ],
   "source": [
    "# Discrete Case\n",
    "n,m = 100, 150\n",
    "\n",
    "μ = rand(n)\n",
    "ν = rand(m) .+ 0.5;\n",
    "μ_n = rand(n)\n",
    "ν_m = rand(m)\n",
    "μ_n = μ_n/sum(μ_n)\n",
    "ν_m = ν_m/sum(ν_m);\n",
    "\n",
    "c(x,y) = (x-y)^2\n",
    "C = Distances.pairwise(Distances.SqEuclidean(), μ', ν');\n",
    "\n",
    "lp = Tulip.Optimizer()\n",
    "cost = emd2(μ_n, ν_m, C, lp)\n",
    "cost1 = otCost1d(c,μ,μ_n,ν,ν_m)\n",
    "\n",
    "P = emd(μ_n, ν_m, C, lp)\n",
    "γ = otPlan1d(c,μ,μ_n,ν,ν_m)"
   ]
  },
  {
   "cell_type": "code",
   "execution_count": 114,
   "id": "95089562-2ea0-4806-9688-46223eff77cd",
   "metadata": {},
   "outputs": [
    {
     "data": {
      "text/plain": [
       "100-element Vector{Float64}:\n",
       " 0.17148652305317902\n",
       " 0.3515720697800544\n",
       " 0.5352566511133372\n",
       " 0.14412923000189992\n",
       " 0.7331356937634983\n",
       " 0.29327396171738873\n",
       " 0.4790368893100454\n",
       " 0.14268787727986454\n",
       " 0.9489178770774602\n",
       " 0.6599446085343081\n",
       " 0.9543572782248995\n",
       " 0.540807104841966\n",
       " 0.4104585259410949\n",
       " ⋮\n",
       " 0.9150184754460184\n",
       " 0.7905152196388787\n",
       " 0.8692044622410209\n",
       " 0.9859680704931981\n",
       " 0.17112897639656666\n",
       " 0.506925917682356\n",
       " 0.37224560594593403\n",
       " 0.4069854750231183\n",
       " 0.9793913162235581\n",
       " 0.07635000970563688\n",
       " 0.7396190675026371\n",
       " 0.8121755754496536"
      ]
     },
     "execution_count": 114,
     "metadata": {},
     "output_type": "execute_result"
    }
   ],
   "source": [
    "μ"
   ]
  },
  {
   "cell_type": "code",
   "execution_count": null,
   "id": "3fe88d16-68e0-4e4e-963c-0c7bbd0e622d",
   "metadata": {},
   "outputs": [],
   "source": []
  }
 ],
 "metadata": {
  "kernelspec": {
   "display_name": "Julia 1.6.1",
   "language": "julia",
   "name": "julia-1.6"
  },
  "language_info": {
   "file_extension": ".jl",
   "mimetype": "application/julia",
   "name": "julia",
   "version": "1.6.1"
  }
 },
 "nbformat": 4,
 "nbformat_minor": 5
}
