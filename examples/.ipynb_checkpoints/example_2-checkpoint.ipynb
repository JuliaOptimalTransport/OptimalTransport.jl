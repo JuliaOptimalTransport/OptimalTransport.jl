{
 "cells": [
  {
   "cell_type": "markdown",
   "metadata": {},
   "source": [
    "# Example 2 - Regularized versus Non-Regularized Optimal Transport\n",
    "\n",
    "This notebook contains a comparison of the Optimal Transport Plans obtained by changing the\n",
    "entropic regulirizer parameter $\\epsilon$. In the case that $\\epsilon = 0$, we instead use\n",
    "the Earth-Movers Distance, which gives the solution for the Optimal Transport problem without regularization."
   ]
  },
  {
   "cell_type": "code",
   "execution_count": 80,
   "metadata": {},
   "outputs": [
    {
     "name": "stderr",
     "output_type": "stream",
     "text": [
      "\u001b[32m\u001b[1m Activating\u001b[22m\u001b[39m environment at `~/MEGAsync/EMAp/OptimalTransport.jl/Project.toml`\n"
     ]
    },
    {
     "data": {
      "text/plain": [
       "OptimalTransport"
      ]
     },
     "execution_count": 80,
     "metadata": {},
     "output_type": "execute_result"
    }
   ],
   "source": [
    "# using Pkg\n",
    "# Pkg.activate(\"../.\")\n",
    "using OptimalTransport, VegaLite, LinearAlgebra, DataFrames, Distances, LaTeXStrings\n",
    "ot = OptimalTransport"
   ]
  },
  {
   "cell_type": "markdown",
   "metadata": {},
   "source": [
    "### 1. Generating the Marginal Distributions\n",
    "Below we create two random discrete probability distributions. Note that $\\mu,\\nu$ represent the 2D location of the mass, while\n",
    "$\\mu_n, \\nu_m$ represent the amount of mass in each point. Then, the cost matrix $C$ is built using the Euclidean distance."
   ]
  },
  {
   "cell_type": "code",
   "execution_count": 28,
   "metadata": {},
   "outputs": [],
   "source": [
    "n,m = 10,10\n",
    "\n",
    "μ = rand(max(n,m),2)\n",
    "ν = rand(max(n,m),2).+0.5;\n",
    "μ_n = rand(n)\n",
    "ν_m = rand(m)\n",
    "μ_n = μ_n/sum(μ_n)\n",
    "ν_m = ν_m/sum(ν_m);\n",
    "n,m = max(n,m),max(n,m);\n",
    "C = Distances.pairwise(Distances.SqEuclidean(), μ', ν');"
   ]
  },
  {
   "cell_type": "markdown",
   "metadata": {},
   "source": [
    "### 2. Obtaining the Optimal Plans\n",
    "The Optimal Transport Plans as obtained for the varying values of $\\epsilon$."
   ]
  },
  {
   "cell_type": "code",
   "execution_count": 102,
   "metadata": {},
   "outputs": [],
   "source": [
    "ϵs = [0, 0.01,0.1,1,10]\n",
    "γs = []\n",
    "for ϵ in ϵs\n",
    "    if ϵ == 0 \n",
    "        γ = round.(ot.emd(μ_n,ν_m,C),digits=4)\n",
    "        push!(γs,γ)\n",
    "    else\n",
    "        γ = round.(ot.sinkhorn(μ_n, ν_m, C, ϵ),digits=4)\n",
    "        push!(γs,γ)\n",
    "    end\n",
    "end"
   ]
  },
  {
   "cell_type": "markdown",
   "metadata": {},
   "source": [
    "### 3. Plotting Functions\n",
    "\n",
    "This cells contain auxiliary functions for visualizing the transportation plans."
   ]
  },
  {
   "cell_type": "code",
   "execution_count": 164,
   "metadata": {},
   "outputs": [
    {
     "data": {
      "text/plain": [
       "CreateEdges"
      ]
     },
     "execution_count": 164,
     "metadata": {},
     "output_type": "execute_result"
    }
   ],
   "source": [
    "\"\"\"\n",
    "    CreateEdges(μ,ν,γ)\n",
    "Creates the edges for plotting.\n",
    "μ and ν correspond to the positions of the mass\n",
    "of the distributions.\n",
    "\"\"\"\n",
    "function CreateEdges(μ,ν,γ)\n",
    "    edges = Array{Float64}(undef, 0, 2)\n",
    "    pe    = []\n",
    "    for i in 1:size(μ)[1], j in 1:size(ν)[1]\n",
    "        edges  = vcat(edges,[μ[i,1],μ[i,2]]')\n",
    "        edges  = vcat(edges,[ν[j,1],ν[j,2]]')\n",
    "        pe     = vcat(pe,string([i,j]))\n",
    "        pe     = vcat(pe,string([i,j]))\n",
    "    end\n",
    "    df = DataFrame(edges_x=edges[:,1],edges_y = edges[:,2],pe=pe);\n",
    "    edge_w = []\n",
    "    for i in 1:size(γ)[1], j in 1:size(γ)[1]\n",
    "        edge_w = vcat(edge_w,γ[i,j])\n",
    "        edge_w = vcat(edge_w,γ[i,j])\n",
    "    end\n",
    "    df[\"ew\"] = edge_w./maximum(edge_w);\n",
    "    return df\n",
    "end"
   ]
  },
  {
   "cell_type": "code",
   "execution_count": 165,
   "metadata": {},
   "outputs": [],
   "source": [
    "\"\"\"\n",
    "    PlotOT(μ,ν,γ;title=\"\",width=200,height=200)\n",
    "VegaLite.jl specification for creating visulizations\n",
    "of Optimal Transport plan.\n",
    "\"\"\"\n",
    "function PlotOT(μ,ν,γ;title=\"\",width=200,height=200)\n",
    "    df = CreateEdges(μ,ν,γ)\n",
    "    v1 = @vlplot(\n",
    "        mark={:circle,opacity=1},\n",
    "        x={μ[:,1],type=\"quantitative\",axis=nothing},\n",
    "        y={μ[:,2],type=\"quantitative\",axis=nothing},\n",
    "        width=width,\n",
    "        height=height,\n",
    "        size={μ_n,legend=nothing,type=\"q\"})\n",
    "    v2 = @vlplot(\n",
    "        mark={\"type\"=:circle,color=\"red\",opacity=1},\n",
    "        x={ν[:,1],type=\"quantitative\",axis=nothing},\n",
    "        y={ν[:,2],type=\"quantitative\",axis=nothing},\n",
    "        width=width,\n",
    "        height=height,\n",
    "        size={ν_m,legend=nothing,type=\"q\"})\n",
    "\n",
    "    v3 = @vlplot(\n",
    "        mark={\"type\"=:line,color=\"black\",clip=false},\n",
    "        data = df,\n",
    "        encoding={\n",
    "        x={\"edges_x:q\",axis=nothing},\n",
    "        y={\"edges_y:q\",axis=nothing},\n",
    "        opacity={\"ew:q\",legend=nothing},\n",
    "        size={\"ew:o\",scale={range=[0,2]},legend=nothing},\n",
    "        detail={\"pe:o\"}},\n",
    "        width=width,\n",
    "        height=height\n",
    "    )\n",
    "    v = @vlplot(view={stroke=nothing},title=title)+v3+v2+v1\n",
    "    return v\n",
    "end;"
   ]
  },
  {
   "cell_type": "markdown",
   "metadata": {},
   "source": [
    "### 4. Visual Comparison of Transport Plans for Varying $\\epsilon$"
   ]
  },
  {
   "cell_type": "code",
   "execution_count": 163,
   "metadata": {},
   "outputs": [
    {
     "data": {
      "application/vnd.vegalite.v4+json": {
       "hconcat": [
        {
         "hconcat": [
          {
           "hconcat": [
            {
             "hconcat": [
              {
               "layer": [
                {
                 "data": {
                  "values": [
                   {
                    "edges_x": 0.4693443014806442,
                    "edges_y": 0.2684417303924138,
                    "ew": 0,
                    "pe": "[1, 1]"
                   },
                   {
                    "edges_x": 0.9421774954859741,
                    "edges_y": 1.3872341290928847,
                    "ew": 0,
                    "pe": "[1, 1]"
                   },
                   {
                    "edges_x": 0.4693443014806442,
                    "edges_y": 0.2684417303924138,
                    "ew": 0,
                    "pe": "[1, 2]"
                   },
                   {
                    "edges_x": 1.1444637664062214,
                    "edges_y": 0.5025450047019815,
                    "ew": 0,
                    "pe": "[1, 2]"
                   },
                   {
                    "edges_x": 0.4693443014806442,
                    "edges_y": 0.2684417303924138,
                    "ew": 0,
                    "pe": "[1, 3]"
                   },
                   {
                    "edges_x": 1.1760197432878379,
                    "edges_y": 1.132684038884477,
                    "ew": 0,
                    "pe": "[1, 3]"
                   },
                   {
                    "edges_x": 0.4693443014806442,
                    "edges_y": 0.2684417303924138,
                    "ew": 0,
                    "pe": "[1, 4]"
                   },
                   {
                    "edges_x": 0.5321934168377944,
                    "edges_y": 0.9356364084639213,
                    "ew": 0,
                    "pe": "[1, 4]"
                   },
                   {
                    "edges_x": 0.4693443014806442,
                    "edges_y": 0.2684417303924138,
                    "ew": 0,
                    "pe": "[1, 5]"
                   },
                   {
                    "edges_x": 1.434225731077603,
                    "edges_y": 1.1674226949932396,
                    "ew": 0,
                    "pe": "[1, 5]"
                   },
                   {
                    "edges_x": 0.4693443014806442,
                    "edges_y": 0.2684417303924138,
                    "ew": 0,
                    "pe": "[1, 6]"
                   },
                   {
                    "edges_x": 0.6508832865752667,
                    "edges_y": 0.7450130088899891,
                    "ew": 0,
                    "pe": "[1, 6]"
                   },
                   {
                    "edges_x": 0.4693443014806442,
                    "edges_y": 0.2684417303924138,
                    "ew": 0.5043782837127846,
                    "pe": "[1, 7]"
                   },
                   {
                    "edges_x": 0.6184435793956204,
                    "edges_y": 1.3193484960764532,
                    "ew": 0.5043782837127846,
                    "pe": "[1, 7]"
                   },
                   {
                    "edges_x": 0.4693443014806442,
                    "edges_y": 0.2684417303924138,
                    "ew": 0,
                    "pe": "[1, 8]"
                   },
                   {
                    "edges_x": 1.206061190479001,
                    "edges_y": 0.6034633084794592,
                    "ew": 0,
                    "pe": "[1, 8]"
                   },
                   {
                    "edges_x": 0.4693443014806442,
                    "edges_y": 0.2684417303924138,
                    "ew": 0,
                    "pe": "[1, 9]"
                   },
                   {
                    "edges_x": 0.721856173205147,
                    "edges_y": 1.302496100594305,
                    "ew": 0,
                    "pe": "[1, 9]"
                   },
                   {
                    "edges_x": 0.4693443014806442,
                    "edges_y": 0.2684417303924138,
                    "ew": 0,
                    "pe": "[1, 10]"
                   },
                   {
                    "edges_x": 1.116071930639642,
                    "edges_y": 0.969468827124786,
                    "ew": 0,
                    "pe": "[1, 10]"
                   },
                   {
                    "edges_x": 0.23187108390217226,
                    "edges_y": 0.06352946708206986,
                    "ew": 0,
                    "pe": "[2, 1]"
                   },
                   {
                    "edges_x": 0.9421774954859741,
                    "edges_y": 1.3872341290928847,
                    "ew": 0,
                    "pe": "[2, 1]"
                   },
                   {
                    "edges_x": 0.23187108390217226,
                    "edges_y": 0.06352946708206986,
                    "ew": 0,
                    "pe": "[2, 2]"
                   },
                   {
                    "edges_x": 1.1444637664062214,
                    "edges_y": 0.5025450047019815,
                    "ew": 0,
                    "pe": "[2, 2]"
                   },
                   {
                    "edges_x": 0.23187108390217226,
                    "edges_y": 0.06352946708206986,
                    "ew": 0,
                    "pe": "[2, 3]"
                   },
                   {
                    "edges_x": 1.1760197432878379,
                    "edges_y": 1.132684038884477,
                    "ew": 0,
                    "pe": "[2, 3]"
                   },
                   {
                    "edges_x": 0.23187108390217226,
                    "edges_y": 0.06352946708206986,
                    "ew": 0.38966725043782835,
                    "pe": "[2, 4]"
                   },
                   {
                    "edges_x": 0.5321934168377944,
                    "edges_y": 0.9356364084639213,
                    "ew": 0.38966725043782835,
                    "pe": "[2, 4]"
                   },
                   {
                    "edges_x": 0.23187108390217226,
                    "edges_y": 0.06352946708206986,
                    "ew": 0,
                    "pe": "[2, 5]"
                   },
                   {
                    "edges_x": 1.434225731077603,
                    "edges_y": 1.1674226949932396,
                    "ew": 0,
                    "pe": "[2, 5]"
                   },
                   {
                    "edges_x": 0.23187108390217226,
                    "edges_y": 0.06352946708206986,
                    "ew": 0.36164623467600704,
                    "pe": "[2, 6]"
                   },
                   {
                    "edges_x": 0.6508832865752667,
                    "edges_y": 0.7450130088899891,
                    "ew": 0.36164623467600704,
                    "pe": "[2, 6]"
                   },
                   {
                    "edges_x": 0.23187108390217226,
                    "edges_y": 0.06352946708206986,
                    "ew": 0,
                    "pe": "[2, 7]"
                   },
                   {
                    "edges_x": 0.6184435793956204,
                    "edges_y": 1.3193484960764532,
                    "ew": 0,
                    "pe": "[2, 7]"
                   },
                   {
                    "edges_x": 0.23187108390217226,
                    "edges_y": 0.06352946708206986,
                    "ew": 0,
                    "pe": "[2, 8]"
                   },
                   {
                    "edges_x": 1.206061190479001,
                    "edges_y": 0.6034633084794592,
                    "ew": 0,
                    "pe": "[2, 8]"
                   },
                   {
                    "edges_x": 0.23187108390217226,
                    "edges_y": 0.06352946708206986,
                    "ew": 0,
                    "pe": "[2, 9]"
                   },
                   {
                    "edges_x": 0.721856173205147,
                    "edges_y": 1.302496100594305,
                    "ew": 0,
                    "pe": "[2, 9]"
                   },
                   {
                    "edges_x": 0.23187108390217226,
                    "edges_y": 0.06352946708206986,
                    "ew": 0,
                    "pe": "[2, 10]"
                   },
                   {
                    "edges_x": 1.116071930639642,
                    "edges_y": 0.969468827124786,
                    "ew": 0,
                    "pe": "[2, 10]"
                   },
                   {
                    "edges_x": 0.5065170957051912,
                    "edges_y": 0.44817218029000694,
                    "ew": 1,
                    "pe": "[3, 1]"
                   },
                   {
                    "edges_x": 0.9421774954859741,
                    "edges_y": 1.3872341290928847,
                    "ew": 1,
                    "pe": "[3, 1]"
                   },
                   {
                    "edges_x": 0.5065170957051912,
                    "edges_y": 0.44817218029000694,
                    "ew": 0,
                    "pe": "[3, 2]"
                   },
                   {
                    "edges_x": 1.1444637664062214,
                    "edges_y": 0.5025450047019815,
                    "ew": 0,
                    "pe": "[3, 2]"
                   },
                   {
                    "edges_x": 0.5065170957051912,
                    "edges_y": 0.44817218029000694,
                    "ew": 0,
                    "pe": "[3, 3]"
                   },
                   {
                    "edges_x": 1.1760197432878379,
                    "edges_y": 1.132684038884477,
                    "ew": 0,
                    "pe": "[3, 3]"
                   },
                   {
                    "edges_x": 0.5065170957051912,
                    "edges_y": 0.44817218029000694,
                    "ew": 0,
                    "pe": "[3, 4]"
                   },
                   {
                    "edges_x": 0.5321934168377944,
                    "edges_y": 0.9356364084639213,
                    "ew": 0,
                    "pe": "[3, 4]"
                   },
                   {
                    "edges_x": 0.5065170957051912,
                    "edges_y": 0.44817218029000694,
                    "ew": 0,
                    "pe": "[3, 5]"
                   },
                   {
                    "edges_x": 1.434225731077603,
                    "edges_y": 1.1674226949932396,
                    "ew": 0,
                    "pe": "[3, 5]"
                   },
                   {
                    "edges_x": 0.5065170957051912,
                    "edges_y": 0.44817218029000694,
                    "ew": 0,
                    "pe": "[3, 6]"
                   },
                   {
                    "edges_x": 0.6508832865752667,
                    "edges_y": 0.7450130088899891,
                    "ew": 0,
                    "pe": "[3, 6]"
                   },
                   {
                    "edges_x": 0.5065170957051912,
                    "edges_y": 0.44817218029000694,
                    "ew": 0.24430823117338005,
                    "pe": "[3, 7]"
                   },
                   {
                    "edges_x": 0.6184435793956204,
                    "edges_y": 1.3193484960764532,
                    "ew": 0.24430823117338005,
                    "pe": "[3, 7]"
                   },
                   {
                    "edges_x": 0.5065170957051912,
                    "edges_y": 0.44817218029000694,
                    "ew": 0,
                    "pe": "[3, 8]"
                   },
                   {
                    "edges_x": 1.206061190479001,
                    "edges_y": 0.6034633084794592,
                    "ew": 0,
                    "pe": "[3, 8]"
                   },
                   {
                    "edges_x": 0.5065170957051912,
                    "edges_y": 0.44817218029000694,
                    "ew": 0.7057793345008757,
                    "pe": "[3, 9]"
                   },
                   {
                    "edges_x": 0.721856173205147,
                    "edges_y": 1.302496100594305,
                    "ew": 0.7057793345008757,
                    "pe": "[3, 9]"
                   },
                   {
                    "edges_x": 0.5065170957051912,
                    "edges_y": 0.44817218029000694,
                    "ew": 0,
                    "pe": "[3, 10]"
                   },
                   {
                    "edges_x": 1.116071930639642,
                    "edges_y": 0.969468827124786,
                    "ew": 0,
                    "pe": "[3, 10]"
                   },
                   {
                    "edges_x": 0.4617045283901213,
                    "edges_y": 0.12355083809283585,
                    "ew": 0,
                    "pe": "[4, 1]"
                   },
                   {
                    "edges_x": 0.9421774954859741,
                    "edges_y": 1.3872341290928847,
                    "ew": 0,
                    "pe": "[4, 1]"
                   },
                   {
                    "edges_x": 0.4617045283901213,
                    "edges_y": 0.12355083809283585,
                    "ew": 0.6243432574430824,
                    "pe": "[4, 2]"
                   },
                   {
                    "edges_x": 1.1444637664062214,
                    "edges_y": 0.5025450047019815,
                    "ew": 0.6243432574430824,
                    "pe": "[4, 2]"
                   },
                   {
                    "edges_x": 0.4617045283901213,
                    "edges_y": 0.12355083809283585,
                    "ew": 0,
                    "pe": "[4, 3]"
                   },
                   {
                    "edges_x": 1.1760197432878379,
                    "edges_y": 1.132684038884477,
                    "ew": 0,
                    "pe": "[4, 3]"
                   },
                   {
                    "edges_x": 0.4617045283901213,
                    "edges_y": 0.12355083809283585,
                    "ew": 0,
                    "pe": "[4, 4]"
                   },
                   {
                    "edges_x": 0.5321934168377944,
                    "edges_y": 0.9356364084639213,
                    "ew": 0,
                    "pe": "[4, 4]"
                   },
                   {
                    "edges_x": 0.4617045283901213,
                    "edges_y": 0.12355083809283585,
                    "ew": 0,
                    "pe": "[4, 5]"
                   },
                   {
                    "edges_x": 1.434225731077603,
                    "edges_y": 1.1674226949932396,
                    "ew": 0,
                    "pe": "[4, 5]"
                   },
                   {
                    "edges_x": 0.4617045283901213,
                    "edges_y": 0.12355083809283585,
                    "ew": 0.16549912434325745,
                    "pe": "[4, 6]"
                   },
                   {
                    "edges_x": 0.6508832865752667,
                    "edges_y": 0.7450130088899891,
                    "ew": 0.16549912434325745,
                    "pe": "[4, 6]"
                   },
                   {
                    "edges_x": 0.4617045283901213,
                    "edges_y": 0.12355083809283585,
                    "ew": 0,
                    "pe": "[4, 7]"
                   },
                   {
                    "edges_x": 0.6184435793956204,
                    "edges_y": 1.3193484960764532,
                    "ew": 0,
                    "pe": "[4, 7]"
                   },
                   {
                    "edges_x": 0.4617045283901213,
                    "edges_y": 0.12355083809283585,
                    "ew": 0.1330998248686515,
                    "pe": "[4, 8]"
                   },
                   {
                    "edges_x": 1.206061190479001,
                    "edges_y": 0.6034633084794592,
                    "ew": 0.1330998248686515,
                    "pe": "[4, 8]"
                   },
                   {
                    "edges_x": 0.4617045283901213,
                    "edges_y": 0.12355083809283585,
                    "ew": 0.20402802101576184,
                    "pe": "[4, 9]"
                   },
                   {
                    "edges_x": 0.721856173205147,
                    "edges_y": 1.302496100594305,
                    "ew": 0.20402802101576184,
                    "pe": "[4, 9]"
                   },
                   {
                    "edges_x": 0.4617045283901213,
                    "edges_y": 0.12355083809283585,
                    "ew": 0.6164623467600701,
                    "pe": "[4, 10]"
                   },
                   {
                    "edges_x": 1.116071930639642,
                    "edges_y": 0.969468827124786,
                    "ew": 0.6164623467600701,
                    "pe": "[4, 10]"
                   },
                   {
                    "edges_x": 0.3893100903361628,
                    "edges_y": 0.06635075123101641,
                    "ew": 0,
                    "pe": "[5, 1]"
                   },
                   {
                    "edges_x": 0.9421774954859741,
                    "edges_y": 1.3872341290928847,
                    "ew": 0,
                    "pe": "[5, 1]"
                   },
                   {
                    "edges_x": 0.3893100903361628,
                    "edges_y": 0.06635075123101641,
                    "ew": 0,
                    "pe": "[5, 2]"
                   },
                   {
                    "edges_x": 1.1444637664062214,
                    "edges_y": 0.5025450047019815,
                    "ew": 0,
                    "pe": "[5, 2]"
                   },
                   {
                    "edges_x": 0.3893100903361628,
                    "edges_y": 0.06635075123101641,
                    "ew": 0,
                    "pe": "[5, 3]"
                   },
                   {
                    "edges_x": 1.1760197432878379,
                    "edges_y": 1.132684038884477,
                    "ew": 0,
                    "pe": "[5, 3]"
                   },
                   {
                    "edges_x": 0.3893100903361628,
                    "edges_y": 0.06635075123101641,
                    "ew": 0,
                    "pe": "[5, 4]"
                   },
                   {
                    "edges_x": 0.5321934168377944,
                    "edges_y": 0.9356364084639213,
                    "ew": 0,
                    "pe": "[5, 4]"
                   },
                   {
                    "edges_x": 0.3893100903361628,
                    "edges_y": 0.06635075123101641,
                    "ew": 0,
                    "pe": "[5, 5]"
                   },
                   {
                    "edges_x": 1.434225731077603,
                    "edges_y": 1.1674226949932396,
                    "ew": 0,
                    "pe": "[5, 5]"
                   },
                   {
                    "edges_x": 0.3893100903361628,
                    "edges_y": 0.06635075123101641,
                    "ew": 0.08143607705779334,
                    "pe": "[5, 6]"
                   },
                   {
                    "edges_x": 0.6508832865752667,
                    "edges_y": 0.7450130088899891,
                    "ew": 0.08143607705779334,
                    "pe": "[5, 6]"
                   },
                   {
                    "edges_x": 0.3893100903361628,
                    "edges_y": 0.06635075123101641,
                    "ew": 0,
                    "pe": "[5, 7]"
                   },
                   {
                    "edges_x": 0.6184435793956204,
                    "edges_y": 1.3193484960764532,
                    "ew": 0,
                    "pe": "[5, 7]"
                   },
                   {
                    "edges_x": 0.3893100903361628,
                    "edges_y": 0.06635075123101641,
                    "ew": 0,
                    "pe": "[5, 8]"
                   },
                   {
                    "edges_x": 1.206061190479001,
                    "edges_y": 0.6034633084794592,
                    "ew": 0,
                    "pe": "[5, 8]"
                   },
                   {
                    "edges_x": 0.3893100903361628,
                    "edges_y": 0.06635075123101641,
                    "ew": 0,
                    "pe": "[5, 9]"
                   },
                   {
                    "edges_x": 0.721856173205147,
                    "edges_y": 1.302496100594305,
                    "ew": 0,
                    "pe": "[5, 9]"
                   },
                   {
                    "edges_x": 0.3893100903361628,
                    "edges_y": 0.06635075123101641,
                    "ew": 0,
                    "pe": "[5, 10]"
                   },
                   {
                    "edges_x": 1.116071930639642,
                    "edges_y": 0.969468827124786,
                    "ew": 0,
                    "pe": "[5, 10]"
                   },
                   {
                    "edges_x": 0.6993302606614282,
                    "edges_y": 0.22655236267581613,
                    "ew": 0,
                    "pe": "[6, 1]"
                   },
                   {
                    "edges_x": 0.9421774954859741,
                    "edges_y": 1.3872341290928847,
                    "ew": 0,
                    "pe": "[6, 1]"
                   },
                   {
                    "edges_x": 0.6993302606614282,
                    "edges_y": 0.22655236267581613,
                    "ew": 0,
                    "pe": "[6, 2]"
                   },
                   {
                    "edges_x": 1.1444637664062214,
                    "edges_y": 0.5025450047019815,
                    "ew": 0,
                    "pe": "[6, 2]"
                   },
                   {
                    "edges_x": 0.6993302606614282,
                    "edges_y": 0.22655236267581613,
                    "ew": 0.09982486865148862,
                    "pe": "[6, 3]"
                   },
                   {
                    "edges_x": 1.1760197432878379,
                    "edges_y": 1.132684038884477,
                    "ew": 0.09982486865148862,
                    "pe": "[6, 3]"
                   },
                   {
                    "edges_x": 0.6993302606614282,
                    "edges_y": 0.22655236267581613,
                    "ew": 0,
                    "pe": "[6, 4]"
                   },
                   {
                    "edges_x": 0.5321934168377944,
                    "edges_y": 0.9356364084639213,
                    "ew": 0,
                    "pe": "[6, 4]"
                   },
                   {
                    "edges_x": 0.6993302606614282,
                    "edges_y": 0.22655236267581613,
                    "ew": 0,
                    "pe": "[6, 5]"
                   },
                   {
                    "edges_x": 1.434225731077603,
                    "edges_y": 1.1674226949932396,
                    "ew": 0,
                    "pe": "[6, 5]"
                   },
                   {
                    "edges_x": 0.6993302606614282,
                    "edges_y": 0.22655236267581613,
                    "ew": 0,
                    "pe": "[6, 6]"
                   },
                   {
                    "edges_x": 0.6508832865752667,
                    "edges_y": 0.7450130088899891,
                    "ew": 0,
                    "pe": "[6, 6]"
                   },
                   {
                    "edges_x": 0.6993302606614282,
                    "edges_y": 0.22655236267581613,
                    "ew": 0,
                    "pe": "[6, 7]"
                   },
                   {
                    "edges_x": 0.6184435793956204,
                    "edges_y": 1.3193484960764532,
                    "ew": 0,
                    "pe": "[6, 7]"
                   },
                   {
                    "edges_x": 0.6993302606614282,
                    "edges_y": 0.22655236267581613,
                    "ew": 0,
                    "pe": "[6, 8]"
                   },
                   {
                    "edges_x": 1.206061190479001,
                    "edges_y": 0.6034633084794592,
                    "ew": 0,
                    "pe": "[6, 8]"
                   },
                   {
                    "edges_x": 0.6993302606614282,
                    "edges_y": 0.22655236267581613,
                    "ew": 0,
                    "pe": "[6, 9]"
                   },
                   {
                    "edges_x": 0.721856173205147,
                    "edges_y": 1.302496100594305,
                    "ew": 0,
                    "pe": "[6, 9]"
                   },
                   {
                    "edges_x": 0.6993302606614282,
                    "edges_y": 0.22655236267581613,
                    "ew": 0.6409807355516638,
                    "pe": "[6, 10]"
                   },
                   {
                    "edges_x": 1.116071930639642,
                    "edges_y": 0.969468827124786,
                    "ew": 0.6409807355516638,
                    "pe": "[6, 10]"
                   },
                   {
                    "edges_x": 0.16709682143673565,
                    "edges_y": 0.46960588645050905,
                    "ew": 0,
                    "pe": "[7, 1]"
                   },
                   {
                    "edges_x": 0.9421774954859741,
                    "edges_y": 1.3872341290928847,
                    "ew": 0,
                    "pe": "[7, 1]"
                   },
                   {
                    "edges_x": 0.16709682143673565,
                    "edges_y": 0.46960588645050905,
                    "ew": 0,
                    "pe": "[7, 2]"
                   },
                   {
                    "edges_x": 1.1444637664062214,
                    "edges_y": 0.5025450047019815,
                    "ew": 0,
                    "pe": "[7, 2]"
                   },
                   {
                    "edges_x": 0.16709682143673565,
                    "edges_y": 0.46960588645050905,
                    "ew": 0,
                    "pe": "[7, 3]"
                   },
                   {
                    "edges_x": 1.1760197432878379,
                    "edges_y": 1.132684038884477,
                    "ew": 0,
                    "pe": "[7, 3]"
                   },
                   {
                    "edges_x": 0.16709682143673565,
                    "edges_y": 0.46960588645050905,
                    "ew": 0,
                    "pe": "[7, 4]"
                   },
                   {
                    "edges_x": 0.5321934168377944,
                    "edges_y": 0.9356364084639213,
                    "ew": 0,
                    "pe": "[7, 4]"
                   },
                   {
                    "edges_x": 0.16709682143673565,
                    "edges_y": 0.46960588645050905,
                    "ew": 0,
                    "pe": "[7, 5]"
                   },
                   {
                    "edges_x": 1.434225731077603,
                    "edges_y": 1.1674226949932396,
                    "ew": 0,
                    "pe": "[7, 5]"
                   },
                   {
                    "edges_x": 0.16709682143673565,
                    "edges_y": 0.46960588645050905,
                    "ew": 0,
                    "pe": "[7, 6]"
                   },
                   {
                    "edges_x": 0.6508832865752667,
                    "edges_y": 0.7450130088899891,
                    "ew": 0,
                    "pe": "[7, 6]"
                   },
                   {
                    "edges_x": 0.16709682143673565,
                    "edges_y": 0.46960588645050905,
                    "ew": 0.4833625218914186,
                    "pe": "[7, 7]"
                   },
                   {
                    "edges_x": 0.6184435793956204,
                    "edges_y": 1.3193484960764532,
                    "ew": 0.4833625218914186,
                    "pe": "[7, 7]"
                   },
                   {
                    "edges_x": 0.16709682143673565,
                    "edges_y": 0.46960588645050905,
                    "ew": 0,
                    "pe": "[7, 8]"
                   },
                   {
                    "edges_x": 1.206061190479001,
                    "edges_y": 0.6034633084794592,
                    "ew": 0,
                    "pe": "[7, 8]"
                   },
                   {
                    "edges_x": 0.16709682143673565,
                    "edges_y": 0.46960588645050905,
                    "ew": 0,
                    "pe": "[7, 9]"
                   },
                   {
                    "edges_x": 0.721856173205147,
                    "edges_y": 1.302496100594305,
                    "ew": 0,
                    "pe": "[7, 9]"
                   },
                   {
                    "edges_x": 0.16709682143673565,
                    "edges_y": 0.46960588645050905,
                    "ew": 0,
                    "pe": "[7, 10]"
                   },
                   {
                    "edges_x": 1.116071930639642,
                    "edges_y": 0.969468827124786,
                    "ew": 0,
                    "pe": "[7, 10]"
                   },
                   {
                    "edges_x": 0.7181387051238257,
                    "edges_y": 0.6601933484076765,
                    "ew": 0.44133099824868655,
                    "pe": "[8, 1]"
                   },
                   {
                    "edges_x": 0.9421774954859741,
                    "edges_y": 1.3872341290928847,
                    "ew": 0.44133099824868655,
                    "pe": "[8, 1]"
                   },
                   {
                    "edges_x": 0.7181387051238257,
                    "edges_y": 0.6601933484076765,
                    "ew": 0,
                    "pe": "[8, 2]"
                   },
                   {
                    "edges_x": 1.1444637664062214,
                    "edges_y": 0.5025450047019815,
                    "ew": 0,
                    "pe": "[8, 2]"
                   },
                   {
                    "edges_x": 0.7181387051238257,
                    "edges_y": 0.6601933484076765,
                    "ew": 0,
                    "pe": "[8, 3]"
                   },
                   {
                    "edges_x": 1.1760197432878379,
                    "edges_y": 1.132684038884477,
                    "ew": 0,
                    "pe": "[8, 3]"
                   },
                   {
                    "edges_x": 0.7181387051238257,
                    "edges_y": 0.6601933484076765,
                    "ew": 0,
                    "pe": "[8, 4]"
                   },
                   {
                    "edges_x": 0.5321934168377944,
                    "edges_y": 0.9356364084639213,
                    "ew": 0,
                    "pe": "[8, 4]"
                   },
                   {
                    "edges_x": 0.7181387051238257,
                    "edges_y": 0.6601933484076765,
                    "ew": 0,
                    "pe": "[8, 5]"
                   },
                   {
                    "edges_x": 1.434225731077603,
                    "edges_y": 1.1674226949932396,
                    "ew": 0,
                    "pe": "[8, 5]"
                   },
                   {
                    "edges_x": 0.7181387051238257,
                    "edges_y": 0.6601933484076765,
                    "ew": 0,
                    "pe": "[8, 6]"
                   },
                   {
                    "edges_x": 0.6508832865752667,
                    "edges_y": 0.7450130088899891,
                    "ew": 0,
                    "pe": "[8, 6]"
                   },
                   {
                    "edges_x": 0.7181387051238257,
                    "edges_y": 0.6601933484076765,
                    "ew": 0,
                    "pe": "[8, 7]"
                   },
                   {
                    "edges_x": 0.6184435793956204,
                    "edges_y": 1.3193484960764532,
                    "ew": 0,
                    "pe": "[8, 7]"
                   },
                   {
                    "edges_x": 0.7181387051238257,
                    "edges_y": 0.6601933484076765,
                    "ew": 0,
                    "pe": "[8, 8]"
                   },
                   {
                    "edges_x": 1.206061190479001,
                    "edges_y": 0.6034633084794592,
                    "ew": 0,
                    "pe": "[8, 8]"
                   },
                   {
                    "edges_x": 0.7181387051238257,
                    "edges_y": 0.6601933484076765,
                    "ew": 0,
                    "pe": "[8, 9]"
                   },
                   {
                    "edges_x": 0.721856173205147,
                    "edges_y": 1.302496100594305,
                    "ew": 0,
                    "pe": "[8, 9]"
                   },
                   {
                    "edges_x": 0.7181387051238257,
                    "edges_y": 0.6601933484076765,
                    "ew": 0,
                    "pe": "[8, 10]"
                   },
                   {
                    "edges_x": 1.116071930639642,
                    "edges_y": 0.969468827124786,
                    "ew": 0,
                    "pe": "[8, 10]"
                   },
                   {
                    "edges_x": 0.9309970492805104,
                    "edges_y": 0.5681604870432839,
                    "ew": 0,
                    "pe": "[9, 1]"
                   },
                   {
                    "edges_x": 0.9421774954859741,
                    "edges_y": 1.3872341290928847,
                    "ew": 0,
                    "pe": "[9, 1]"
                   },
                   {
                    "edges_x": 0.9309970492805104,
                    "edges_y": 0.5681604870432839,
                    "ew": 0,
                    "pe": "[9, 2]"
                   },
                   {
                    "edges_x": 1.1444637664062214,
                    "edges_y": 0.5025450047019815,
                    "ew": 0,
                    "pe": "[9, 2]"
                   },
                   {
                    "edges_x": 0.9309970492805104,
                    "edges_y": 0.5681604870432839,
                    "ew": 0.2373029772329247,
                    "pe": "[9, 3]"
                   },
                   {
                    "edges_x": 1.1760197432878379,
                    "edges_y": 1.132684038884477,
                    "ew": 0.2373029772329247,
                    "pe": "[9, 3]"
                   },
                   {
                    "edges_x": 0.9309970492805104,
                    "edges_y": 0.5681604870432839,
                    "ew": 0,
                    "pe": "[9, 4]"
                   },
                   {
                    "edges_x": 0.5321934168377944,
                    "edges_y": 0.9356364084639213,
                    "ew": 0,
                    "pe": "[9, 4]"
                   },
                   {
                    "edges_x": 0.9309970492805104,
                    "edges_y": 0.5681604870432839,
                    "ew": 0.9124343257443083,
                    "pe": "[9, 5]"
                   },
                   {
                    "edges_x": 1.434225731077603,
                    "edges_y": 1.1674226949932396,
                    "ew": 0.9124343257443083,
                    "pe": "[9, 5]"
                   },
                   {
                    "edges_x": 0.9309970492805104,
                    "edges_y": 0.5681604870432839,
                    "ew": 0,
                    "pe": "[9, 6]"
                   },
                   {
                    "edges_x": 0.6508832865752667,
                    "edges_y": 0.7450130088899891,
                    "ew": 0,
                    "pe": "[9, 6]"
                   },
                   {
                    "edges_x": 0.9309970492805104,
                    "edges_y": 0.5681604870432839,
                    "ew": 0,
                    "pe": "[9, 7]"
                   },
                   {
                    "edges_x": 0.6184435793956204,
                    "edges_y": 1.3193484960764532,
                    "ew": 0,
                    "pe": "[9, 7]"
                   },
                   {
                    "edges_x": 0.9309970492805104,
                    "edges_y": 0.5681604870432839,
                    "ew": 0,
                    "pe": "[9, 8]"
                   },
                   {
                    "edges_x": 1.206061190479001,
                    "edges_y": 0.6034633084794592,
                    "ew": 0,
                    "pe": "[9, 8]"
                   },
                   {
                    "edges_x": 0.9309970492805104,
                    "edges_y": 0.5681604870432839,
                    "ew": 0,
                    "pe": "[9, 9]"
                   },
                   {
                    "edges_x": 0.721856173205147,
                    "edges_y": 1.302496100594305,
                    "ew": 0,
                    "pe": "[9, 9]"
                   },
                   {
                    "edges_x": 0.9309970492805104,
                    "edges_y": 0.5681604870432839,
                    "ew": 0,
                    "pe": "[9, 10]"
                   },
                   {
                    "edges_x": 1.116071930639642,
                    "edges_y": 0.969468827124786,
                    "ew": 0,
                    "pe": "[9, 10]"
                   },
                   {
                    "edges_x": 0.8556602431685518,
                    "edges_y": 0.088362427761294,
                    "ew": 0,
                    "pe": "[10, 1]"
                   },
                   {
                    "edges_x": 0.9421774954859741,
                    "edges_y": 1.3872341290928847,
                    "ew": 0,
                    "pe": "[10, 1]"
                   },
                   {
                    "edges_x": 0.8556602431685518,
                    "edges_y": 0.088362427761294,
                    "ew": 0,
                    "pe": "[10, 2]"
                   },
                   {
                    "edges_x": 1.1444637664062214,
                    "edges_y": 0.5025450047019815,
                    "ew": 0,
                    "pe": "[10, 2]"
                   },
                   {
                    "edges_x": 0.8556602431685518,
                    "edges_y": 0.088362427761294,
                    "ew": 0,
                    "pe": "[10, 3]"
                   },
                   {
                    "edges_x": 1.1760197432878379,
                    "edges_y": 1.132684038884477,
                    "ew": 0,
                    "pe": "[10, 3]"
                   },
                   {
                    "edges_x": 0.8556602431685518,
                    "edges_y": 0.088362427761294,
                    "ew": 0,
                    "pe": "[10, 4]"
                   },
                   {
                    "edges_x": 0.5321934168377944,
                    "edges_y": 0.9356364084639213,
                    "ew": 0,
                    "pe": "[10, 4]"
                   },
                   {
                    "edges_x": 0.8556602431685518,
                    "edges_y": 0.088362427761294,
                    "ew": 0,
                    "pe": "[10, 5]"
                   },
                   {
                    "edges_x": 1.434225731077603,
                    "edges_y": 1.1674226949932396,
                    "ew": 0,
                    "pe": "[10, 5]"
                   },
                   {
                    "edges_x": 0.8556602431685518,
                    "edges_y": 0.088362427761294,
                    "ew": 0,
                    "pe": "[10, 6]"
                   },
                   {
                    "edges_x": 0.6508832865752667,
                    "edges_y": 0.7450130088899891,
                    "ew": 0,
                    "pe": "[10, 6]"
                   },
                   {
                    "edges_x": 0.8556602431685518,
                    "edges_y": 0.088362427761294,
                    "ew": 0,
                    "pe": "[10, 7]"
                   },
                   {
                    "edges_x": 0.6184435793956204,
                    "edges_y": 1.3193484960764532,
                    "ew": 0,
                    "pe": "[10, 7]"
                   },
                   {
                    "edges_x": 0.8556602431685518,
                    "edges_y": 0.088362427761294,
                    "ew": 0.9106830122591943,
                    "pe": "[10, 8]"
                   },
                   {
                    "edges_x": 1.206061190479001,
                    "edges_y": 0.6034633084794592,
                    "ew": 0.9106830122591943,
                    "pe": "[10, 8]"
                   },
                   {
                    "edges_x": 0.8556602431685518,
                    "edges_y": 0.088362427761294,
                    "ew": 0,
                    "pe": "[10, 9]"
                   },
                   {
                    "edges_x": 0.721856173205147,
                    "edges_y": 1.302496100594305,
                    "ew": 0,
                    "pe": "[10, 9]"
                   },
                   {
                    "edges_x": 0.8556602431685518,
                    "edges_y": 0.088362427761294,
                    "ew": 0,
                    "pe": "[10, 10]"
                   },
                   {
                    "edges_x": 1.116071930639642,
                    "edges_y": 0.969468827124786,
                    "ew": 0,
                    "pe": "[10, 10]"
                   }
                  ]
                 },
                 "encoding": {
                  "detail": {
                   "field": "pe",
                   "type": "ordinal"
                  },
                  "opacity": {
                   "field": "ew",
                   "legend": null,
                   "type": "quantitative"
                  },
                  "size": {
                   "field": "ew",
                   "legend": null,
                   "scale": {
                    "range": [
                     0,
                     2
                    ]
                   },
                   "type": "ordinal"
                  },
                  "x": {
                   "axis": null,
                   "field": "edges_x",
                   "type": "quantitative"
                  },
                  "y": {
                   "axis": null,
                   "field": "edges_y",
                   "type": "quantitative"
                  }
                 },
                 "height": 200,
                 "mark": {
                  "clip": false,
                  "color": "black",
                  "type": "line"
                 },
                 "width": 200
                },
                {
                 "data": {
                  "values": [
                   {
                    "size": 0.16463475181392923,
                    "x": 0.9421774954859741,
                    "y": 1.3872341290928847
                   },
                   {
                    "size": 0.07128751647860529,
                    "x": 1.1444637664062214,
                    "y": 0.5025450047019815
                   },
                   {
                    "size": 0.038460280624755774,
                    "x": 1.1760197432878379,
                    "y": 1.132684038884477
                   },
                   {
                    "size": 0.0445292985586942,
                    "x": 0.5321934168377944,
                    "y": 0.9356364084639213
                   },
                   {
                    "size": 0.10416614071927005,
                    "x": 1.434225731077603,
                    "y": 1.1674226949932396
                   },
                   {
                    "size": 0.06955597008016547,
                    "x": 0.6508832865752667,
                    "y": 0.7450130088899891
                   },
                   {
                    "size": 0.14070122088350126,
                    "x": 0.6184435793956204,
                    "y": 1.3193484960764532
                   },
                   {
                    "size": 0.11922556219728855,
                    "x": 1.206061190479001,
                    "y": 0.6034633084794592
                   },
                   {
                    "size": 0.1038514410322068,
                    "x": 0.721856173205147,
                    "y": 1.302496100594305
                   },
                   {
                    "size": 0.14358781761158335,
                    "x": 1.116071930639642,
                    "y": 0.969468827124786
                   }
                  ]
                 },
                 "encoding": {
                  "size": {
                   "field": "size",
                   "legend": null,
                   "title": null,
                   "type": "q"
                  },
                  "x": {
                   "axis": null,
                   "field": "x",
                   "title": null,
                   "type": "quantitative"
                  },
                  "y": {
                   "axis": null,
                   "field": "y",
                   "title": null,
                   "type": "quantitative"
                  }
                 },
                 "height": 200,
                 "mark": {
                  "color": "red",
                  "opacity": 1,
                  "type": "circle"
                 },
                 "width": 200
                },
                {
                 "data": {
                  "values": [
                   {
                    "size": 0.057574681395820296,
                    "x": 0.4693443014806442,
                    "y": 0.2684417303924138
                   },
                   {
                    "size": 0.08584042045627449,
                    "x": 0.23187108390217226,
                    "y": 0.06352946708206986
                   },
                   {
                    "size": 0.22268620293203997,
                    "x": 0.5065170957051912,
                    "y": 0.44817218029000694
                   },
                   {
                    "size": 0.19901647222007454,
                    "x": 0.4617045283901213,
                    "y": 0.12355083809283585
                   },
                   {
                    "size": 0.009346565707262975,
                    "x": 0.3893100903361628,
                    "y": 0.06635075123101641
                   },
                   {
                    "size": 0.08458136309754984,
                    "x": 0.6993302606614282,
                    "y": 0.22655236267581613
                   },
                   {
                    "size": 0.055231308220935624,
                    "x": 0.16709682143673565,
                    "y": 0.46960588645050905
                   },
                   {
                    "size": 0.05043224856060407,
                    "x": 0.7181387051238257,
                    "y": 0.6601933484076765
                   },
                   {
                    "size": 0.13126058863989656,
                    "x": 0.9309970492805104,
                    "y": 0.5681604870432839
                   },
                   {
                    "size": 0.10403014876954182,
                    "x": 0.8556602431685518,
                    "y": 0.088362427761294
                   }
                  ]
                 },
                 "encoding": {
                  "size": {
                   "field": "size",
                   "legend": null,
                   "title": null,
                   "type": "q"
                  },
                  "x": {
                   "axis": null,
                   "field": "x",
                   "title": null,
                   "type": "quantitative"
                  },
                  "y": {
                   "axis": null,
                   "field": "y",
                   "title": null,
                   "type": "quantitative"
                  }
                 },
                 "height": 200,
                 "mark": {
                  "opacity": 1,
                  "type": "circle"
                 },
                 "width": 200
                }
               ],
               "title": "ϵ = 0.0",
               "view": {
                "stroke": null
               }
              },
              {
               "layer": [
                {
                 "data": {
                  "values": [
                   {
                    "edges_x": 0.4693443014806442,
                    "edges_y": 0.2684417303924138,
                    "ew": 0.0037629350893697085,
                    "pe": "[1, 1]"
                   },
                   {
                    "edges_x": 0.9421774954859741,
                    "edges_y": 1.3872341290928847,
                    "ew": 0.0037629350893697085,
                    "pe": "[1, 1]"
                   },
                   {
                    "edges_x": 0.4693443014806442,
                    "edges_y": 0.2684417303924138,
                    "ew": 0,
                    "pe": "[1, 2]"
                   },
                   {
                    "edges_x": 1.1444637664062214,
                    "edges_y": 0.5025450047019815,
                    "ew": 0,
                    "pe": "[1, 2]"
                   },
                   {
                    "edges_x": 0.4693443014806442,
                    "edges_y": 0.2684417303924138,
                    "ew": 0,
                    "pe": "[1, 3]"
                   },
                   {
                    "edges_x": 1.1760197432878379,
                    "edges_y": 1.132684038884477,
                    "ew": 0,
                    "pe": "[1, 3]"
                   },
                   {
                    "edges_x": 0.4693443014806442,
                    "edges_y": 0.2684417303924138,
                    "ew": 0,
                    "pe": "[1, 4]"
                   },
                   {
                    "edges_x": 0.5321934168377944,
                    "edges_y": 0.9356364084639213,
                    "ew": 0,
                    "pe": "[1, 4]"
                   },
                   {
                    "edges_x": 0.4693443014806442,
                    "edges_y": 0.2684417303924138,
                    "ew": 0,
                    "pe": "[1, 5]"
                   },
                   {
                    "edges_x": 1.434225731077603,
                    "edges_y": 1.1674226949932396,
                    "ew": 0,
                    "pe": "[1, 5]"
                   },
                   {
                    "edges_x": 0.4693443014806442,
                    "edges_y": 0.2684417303924138,
                    "ew": 0,
                    "pe": "[1, 6]"
                   },
                   {
                    "edges_x": 0.6508832865752667,
                    "edges_y": 0.7450130088899891,
                    "ew": 0,
                    "pe": "[1, 6]"
                   },
                   {
                    "edges_x": 0.4693443014806442,
                    "edges_y": 0.2684417303924138,
                    "ew": 0.2596425211665099,
                    "pe": "[1, 7]"
                   },
                   {
                    "edges_x": 0.6184435793956204,
                    "edges_y": 1.3193484960764532,
                    "ew": 0.2596425211665099,
                    "pe": "[1, 7]"
                   },
                   {
                    "edges_x": 0.4693443014806442,
                    "edges_y": 0.2684417303924138,
                    "ew": 0,
                    "pe": "[1, 8]"
                   },
                   {
                    "edges_x": 1.206061190479001,
                    "edges_y": 0.6034633084794592,
                    "ew": 0,
                    "pe": "[1, 8]"
                   },
                   {
                    "edges_x": 0.4693443014806442,
                    "edges_y": 0.2684417303924138,
                    "ew": 0.27751646284101594,
                    "pe": "[1, 9]"
                   },
                   {
                    "edges_x": 0.721856173205147,
                    "edges_y": 1.302496100594305,
                    "ew": 0.27751646284101594,
                    "pe": "[1, 9]"
                   },
                   {
                    "edges_x": 0.4693443014806442,
                    "edges_y": 0.2684417303924138,
                    "ew": 0,
                    "pe": "[1, 10]"
                   },
                   {
                    "edges_x": 1.116071930639642,
                    "edges_y": 0.969468827124786,
                    "ew": 0,
                    "pe": "[1, 10]"
                   },
                   {
                    "edges_x": 0.23187108390217226,
                    "edges_y": 0.06352946708206986,
                    "ew": 0,
                    "pe": "[2, 1]"
                   },
                   {
                    "edges_x": 0.9421774954859741,
                    "edges_y": 1.3872341290928847,
                    "ew": 0,
                    "pe": "[2, 1]"
                   },
                   {
                    "edges_x": 0.23187108390217226,
                    "edges_y": 0.06352946708206986,
                    "ew": 0,
                    "pe": "[2, 2]"
                   },
                   {
                    "edges_x": 1.1444637664062214,
                    "edges_y": 0.5025450047019815,
                    "ew": 0,
                    "pe": "[2, 2]"
                   },
                   {
                    "edges_x": 0.23187108390217226,
                    "edges_y": 0.06352946708206986,
                    "ew": 0,
                    "pe": "[2, 3]"
                   },
                   {
                    "edges_x": 1.1760197432878379,
                    "edges_y": 1.132684038884477,
                    "ew": 0,
                    "pe": "[2, 3]"
                   },
                   {
                    "edges_x": 0.23187108390217226,
                    "edges_y": 0.06352946708206986,
                    "ew": 0.40921919096895576,
                    "pe": "[2, 4]"
                   },
                   {
                    "edges_x": 0.5321934168377944,
                    "edges_y": 0.9356364084639213,
                    "ew": 0.40921919096895576,
                    "pe": "[2, 4]"
                   },
                   {
                    "edges_x": 0.23187108390217226,
                    "edges_y": 0.06352946708206986,
                    "ew": 0,
                    "pe": "[2, 5]"
                   },
                   {
                    "edges_x": 1.434225731077603,
                    "edges_y": 1.1674226949932396,
                    "ew": 0,
                    "pe": "[2, 5]"
                   },
                   {
                    "edges_x": 0.23187108390217226,
                    "edges_y": 0.06352946708206986,
                    "ew": 0.3979303857008466,
                    "pe": "[2, 6]"
                   },
                   {
                    "edges_x": 0.6508832865752667,
                    "edges_y": 0.7450130088899891,
                    "ew": 0.3979303857008466,
                    "pe": "[2, 6]"
                   },
                   {
                    "edges_x": 0.23187108390217226,
                    "edges_y": 0.06352946708206986,
                    "ew": 0.0009407337723424271,
                    "pe": "[2, 7]"
                   },
                   {
                    "edges_x": 0.6184435793956204,
                    "edges_y": 1.3193484960764532,
                    "ew": 0.0009407337723424271,
                    "pe": "[2, 7]"
                   },
                   {
                    "edges_x": 0.23187108390217226,
                    "edges_y": 0.06352946708206986,
                    "ew": 0,
                    "pe": "[2, 8]"
                   },
                   {
                    "edges_x": 1.206061190479001,
                    "edges_y": 0.6034633084794592,
                    "ew": 0,
                    "pe": "[2, 8]"
                   },
                   {
                    "edges_x": 0.23187108390217226,
                    "edges_y": 0.06352946708206986,
                    "ew": 0,
                    "pe": "[2, 9]"
                   },
                   {
                    "edges_x": 0.721856173205147,
                    "edges_y": 1.302496100594305,
                    "ew": 0,
                    "pe": "[2, 9]"
                   },
                   {
                    "edges_x": 0.23187108390217226,
                    "edges_y": 0.06352946708206986,
                    "ew": 0,
                    "pe": "[2, 10]"
                   },
                   {
                    "edges_x": 1.116071930639642,
                    "edges_y": 0.969468827124786,
                    "ew": 0,
                    "pe": "[2, 10]"
                   },
                   {
                    "edges_x": 0.5065170957051912,
                    "edges_y": 0.44817218029000694,
                    "ew": 1,
                    "pe": "[3, 1]"
                   },
                   {
                    "edges_x": 0.9421774954859741,
                    "edges_y": 1.3872341290928847,
                    "ew": 1,
                    "pe": "[3, 1]"
                   },
                   {
                    "edges_x": 0.5065170957051912,
                    "edges_y": 0.44817218029000694,
                    "ew": 0,
                    "pe": "[3, 2]"
                   },
                   {
                    "edges_x": 1.1444637664062214,
                    "edges_y": 0.5025450047019815,
                    "ew": 0,
                    "pe": "[3, 2]"
                   },
                   {
                    "edges_x": 0.5065170957051912,
                    "edges_y": 0.44817218029000694,
                    "ew": 0,
                    "pe": "[3, 3]"
                   },
                   {
                    "edges_x": 1.1760197432878379,
                    "edges_y": 1.132684038884477,
                    "ew": 0,
                    "pe": "[3, 3]"
                   },
                   {
                    "edges_x": 0.5065170957051912,
                    "edges_y": 0.44817218029000694,
                    "ew": 0,
                    "pe": "[3, 4]"
                   },
                   {
                    "edges_x": 0.5321934168377944,
                    "edges_y": 0.9356364084639213,
                    "ew": 0,
                    "pe": "[3, 4]"
                   },
                   {
                    "edges_x": 0.5065170957051912,
                    "edges_y": 0.44817218029000694,
                    "ew": 0,
                    "pe": "[3, 5]"
                   },
                   {
                    "edges_x": 1.434225731077603,
                    "edges_y": 1.1674226949932396,
                    "ew": 0,
                    "pe": "[3, 5]"
                   },
                   {
                    "edges_x": 0.5065170957051912,
                    "edges_y": 0.44817218029000694,
                    "ew": 0,
                    "pe": "[3, 6]"
                   },
                   {
                    "edges_x": 0.6508832865752667,
                    "edges_y": 0.7450130088899891,
                    "ew": 0,
                    "pe": "[3, 6]"
                   },
                   {
                    "edges_x": 0.5065170957051912,
                    "edges_y": 0.44817218029000694,
                    "ew": 0.4844778927563499,
                    "pe": "[3, 7]"
                   },
                   {
                    "edges_x": 0.6184435793956204,
                    "edges_y": 1.3193484960764532,
                    "ew": 0.4844778927563499,
                    "pe": "[3, 7]"
                   },
                   {
                    "edges_x": 0.5065170957051912,
                    "edges_y": 0.44817218029000694,
                    "ew": 0,
                    "pe": "[3, 8]"
                   },
                   {
                    "edges_x": 1.206061190479001,
                    "edges_y": 0.6034633084794592,
                    "ew": 0,
                    "pe": "[3, 8]"
                   },
                   {
                    "edges_x": 0.5065170957051912,
                    "edges_y": 0.44817218029000694,
                    "ew": 0.6105362182502352,
                    "pe": "[3, 9]"
                   },
                   {
                    "edges_x": 0.721856173205147,
                    "edges_y": 1.302496100594305,
                    "ew": 0.6105362182502352,
                    "pe": "[3, 9]"
                   },
                   {
                    "edges_x": 0.5065170957051912,
                    "edges_y": 0.44817218029000694,
                    "ew": 0,
                    "pe": "[3, 10]"
                   },
                   {
                    "edges_x": 1.116071930639642,
                    "edges_y": 0.969468827124786,
                    "ew": 0,
                    "pe": "[3, 10]"
                   },
                   {
                    "edges_x": 0.4617045283901213,
                    "edges_y": 0.12355083809283585,
                    "ew": 0,
                    "pe": "[4, 1]"
                   },
                   {
                    "edges_x": 0.9421774954859741,
                    "edges_y": 1.3872341290928847,
                    "ew": 0,
                    "pe": "[4, 1]"
                   },
                   {
                    "edges_x": 0.4617045283901213,
                    "edges_y": 0.12355083809283585,
                    "ew": 0.6180620884289745,
                    "pe": "[4, 2]"
                   },
                   {
                    "edges_x": 1.1444637664062214,
                    "edges_y": 0.5025450047019815,
                    "ew": 0.6180620884289745,
                    "pe": "[4, 2]"
                   },
                   {
                    "edges_x": 0.4617045283901213,
                    "edges_y": 0.12355083809283585,
                    "ew": 0,
                    "pe": "[4, 3]"
                   },
                   {
                    "edges_x": 1.1760197432878379,
                    "edges_y": 1.132684038884477,
                    "ew": 0,
                    "pe": "[4, 3]"
                   },
                   {
                    "edges_x": 0.4617045283901213,
                    "edges_y": 0.12355083809283585,
                    "ew": 0.007525870178739417,
                    "pe": "[4, 4]"
                   },
                   {
                    "edges_x": 0.5321934168377944,
                    "edges_y": 0.9356364084639213,
                    "ew": 0.007525870178739417,
                    "pe": "[4, 4]"
                   },
                   {
                    "edges_x": 0.4617045283901213,
                    "edges_y": 0.12355083809283585,
                    "ew": 0,
                    "pe": "[4, 5]"
                   },
                   {
                    "edges_x": 1.434225731077603,
                    "edges_y": 1.1674226949932396,
                    "ew": 0,
                    "pe": "[4, 5]"
                   },
                   {
                    "edges_x": 0.4617045283901213,
                    "edges_y": 0.12355083809283585,
                    "ew": 0.1749764816556914,
                    "pe": "[4, 6]"
                   },
                   {
                    "edges_x": 0.6508832865752667,
                    "edges_y": 0.7450130088899891,
                    "ew": 0.1749764816556914,
                    "pe": "[4, 6]"
                   },
                   {
                    "edges_x": 0.4617045283901213,
                    "edges_y": 0.12355083809283585,
                    "ew": 0.059266227657572904,
                    "pe": "[4, 7]"
                   },
                   {
                    "edges_x": 0.6184435793956204,
                    "edges_y": 1.3193484960764532,
                    "ew": 0.059266227657572904,
                    "pe": "[4, 7]"
                   },
                   {
                    "edges_x": 0.4617045283901213,
                    "edges_y": 0.12355083809283585,
                    "ew": 0.18626528692380057,
                    "pe": "[4, 8]"
                   },
                   {
                    "edges_x": 1.206061190479001,
                    "edges_y": 0.6034633084794592,
                    "ew": 0.18626528692380057,
                    "pe": "[4, 8]"
                   },
                   {
                    "edges_x": 0.4617045283901213,
                    "edges_y": 0.12355083809283585,
                    "ew": 0.08842897460018814,
                    "pe": "[4, 9]"
                   },
                   {
                    "edges_x": 0.721856173205147,
                    "edges_y": 1.302496100594305,
                    "ew": 0.08842897460018814,
                    "pe": "[4, 9]"
                   },
                   {
                    "edges_x": 0.4617045283901213,
                    "edges_y": 0.12355083809283585,
                    "ew": 0.7375352775164628,
                    "pe": "[4, 10]"
                   },
                   {
                    "edges_x": 1.116071930639642,
                    "edges_y": 0.969468827124786,
                    "ew": 0.7375352775164628,
                    "pe": "[4, 10]"
                   },
                   {
                    "edges_x": 0.3893100903361628,
                    "edges_y": 0.06635075123101641,
                    "ew": 0,
                    "pe": "[5, 1]"
                   },
                   {
                    "edges_x": 0.9421774954859741,
                    "edges_y": 1.3872341290928847,
                    "ew": 0,
                    "pe": "[5, 1]"
                   },
                   {
                    "edges_x": 0.3893100903361628,
                    "edges_y": 0.06635075123101641,
                    "ew": 0.0037629350893697085,
                    "pe": "[5, 2]"
                   },
                   {
                    "edges_x": 1.1444637664062214,
                    "edges_y": 0.5025450047019815,
                    "ew": 0.0037629350893697085,
                    "pe": "[5, 2]"
                   },
                   {
                    "edges_x": 0.3893100903361628,
                    "edges_y": 0.06635075123101641,
                    "ew": 0,
                    "pe": "[5, 3]"
                   },
                   {
                    "edges_x": 1.1760197432878379,
                    "edges_y": 1.132684038884477,
                    "ew": 0,
                    "pe": "[5, 3]"
                   },
                   {
                    "edges_x": 0.3893100903361628,
                    "edges_y": 0.06635075123101641,
                    "ew": 0.0018814675446848542,
                    "pe": "[5, 4]"
                   },
                   {
                    "edges_x": 0.5321934168377944,
                    "edges_y": 0.9356364084639213,
                    "ew": 0.0018814675446848542,
                    "pe": "[5, 4]"
                   },
                   {
                    "edges_x": 0.3893100903361628,
                    "edges_y": 0.06635075123101641,
                    "ew": 0,
                    "pe": "[5, 5]"
                   },
                   {
                    "edges_x": 1.434225731077603,
                    "edges_y": 1.1674226949932396,
                    "ew": 0,
                    "pe": "[5, 5]"
                   },
                   {
                    "edges_x": 0.3893100903361628,
                    "edges_y": 0.06635075123101641,
                    "ew": 0.08184383819379115,
                    "pe": "[5, 6]"
                   },
                   {
                    "edges_x": 0.6508832865752667,
                    "edges_y": 0.7450130088899891,
                    "ew": 0.08184383819379115,
                    "pe": "[5, 6]"
                   },
                   {
                    "edges_x": 0.3893100903361628,
                    "edges_y": 0.06635075123101641,
                    "ew": 0,
                    "pe": "[5, 7]"
                   },
                   {
                    "edges_x": 0.6184435793956204,
                    "edges_y": 1.3193484960764532,
                    "ew": 0,
                    "pe": "[5, 7]"
                   },
                   {
                    "edges_x": 0.3893100903361628,
                    "edges_y": 0.06635075123101641,
                    "ew": 0,
                    "pe": "[5, 8]"
                   },
                   {
                    "edges_x": 1.206061190479001,
                    "edges_y": 0.6034633084794592,
                    "ew": 0,
                    "pe": "[5, 8]"
                   },
                   {
                    "edges_x": 0.3893100903361628,
                    "edges_y": 0.06635075123101641,
                    "ew": 0,
                    "pe": "[5, 9]"
                   },
                   {
                    "edges_x": 0.721856173205147,
                    "edges_y": 1.302496100594305,
                    "ew": 0,
                    "pe": "[5, 9]"
                   },
                   {
                    "edges_x": 0.3893100903361628,
                    "edges_y": 0.06635075123101641,
                    "ew": 0,
                    "pe": "[5, 10]"
                   },
                   {
                    "edges_x": 1.116071930639642,
                    "edges_y": 0.969468827124786,
                    "ew": 0,
                    "pe": "[5, 10]"
                   },
                   {
                    "edges_x": 0.6993302606614282,
                    "edges_y": 0.22655236267581613,
                    "ew": 0,
                    "pe": "[6, 1]"
                   },
                   {
                    "edges_x": 0.9421774954859741,
                    "edges_y": 1.3872341290928847,
                    "ew": 0,
                    "pe": "[6, 1]"
                   },
                   {
                    "edges_x": 0.6993302606614282,
                    "edges_y": 0.22655236267581613,
                    "ew": 0,
                    "pe": "[6, 2]"
                   },
                   {
                    "edges_x": 1.1444637664062214,
                    "edges_y": 0.5025450047019815,
                    "ew": 0,
                    "pe": "[6, 2]"
                   },
                   {
                    "edges_x": 0.6993302606614282,
                    "edges_y": 0.22655236267581613,
                    "ew": 0.17685794920037629,
                    "pe": "[6, 3]"
                   },
                   {
                    "edges_x": 1.1760197432878379,
                    "edges_y": 1.132684038884477,
                    "ew": 0.17685794920037629,
                    "pe": "[6, 3]"
                   },
                   {
                    "edges_x": 0.6993302606614282,
                    "edges_y": 0.22655236267581613,
                    "ew": 0,
                    "pe": "[6, 4]"
                   },
                   {
                    "edges_x": 0.5321934168377944,
                    "edges_y": 0.9356364084639213,
                    "ew": 0,
                    "pe": "[6, 4]"
                   },
                   {
                    "edges_x": 0.6993302606614282,
                    "edges_y": 0.22655236267581613,
                    "ew": 0,
                    "pe": "[6, 5]"
                   },
                   {
                    "edges_x": 1.434225731077603,
                    "edges_y": 1.1674226949932396,
                    "ew": 0,
                    "pe": "[6, 5]"
                   },
                   {
                    "edges_x": 0.6993302606614282,
                    "edges_y": 0.22655236267581613,
                    "ew": 0,
                    "pe": "[6, 6]"
                   },
                   {
                    "edges_x": 0.6508832865752667,
                    "edges_y": 0.7450130088899891,
                    "ew": 0,
                    "pe": "[6, 6]"
                   },
                   {
                    "edges_x": 0.6993302606614282,
                    "edges_y": 0.22655236267581613,
                    "ew": 0,
                    "pe": "[6, 7]"
                   },
                   {
                    "edges_x": 0.6184435793956204,
                    "edges_y": 1.3193484960764532,
                    "ew": 0,
                    "pe": "[6, 7]"
                   },
                   {
                    "edges_x": 0.6993302606614282,
                    "edges_y": 0.22655236267581613,
                    "ew": 0.005644402634054562,
                    "pe": "[6, 8]"
                   },
                   {
                    "edges_x": 1.206061190479001,
                    "edges_y": 0.6034633084794592,
                    "ew": 0.005644402634054562,
                    "pe": "[6, 8]"
                   },
                   {
                    "edges_x": 0.6993302606614282,
                    "edges_y": 0.22655236267581613,
                    "ew": 0,
                    "pe": "[6, 9]"
                   },
                   {
                    "edges_x": 0.721856173205147,
                    "edges_y": 1.302496100594305,
                    "ew": 0,
                    "pe": "[6, 9]"
                   },
                   {
                    "edges_x": 0.6993302606614282,
                    "edges_y": 0.22655236267581613,
                    "ew": 0.6124176857949201,
                    "pe": "[6, 10]"
                   },
                   {
                    "edges_x": 1.116071930639642,
                    "edges_y": 0.969468827124786,
                    "ew": 0.6124176857949201,
                    "pe": "[6, 10]"
                   },
                   {
                    "edges_x": 0.16709682143673565,
                    "edges_y": 0.46960588645050905,
                    "ew": 0,
                    "pe": "[7, 1]"
                   },
                   {
                    "edges_x": 0.9421774954859741,
                    "edges_y": 1.3872341290928847,
                    "ew": 0,
                    "pe": "[7, 1]"
                   },
                   {
                    "edges_x": 0.16709682143673565,
                    "edges_y": 0.46960588645050905,
                    "ew": 0,
                    "pe": "[7, 2]"
                   },
                   {
                    "edges_x": 1.1444637664062214,
                    "edges_y": 0.5025450047019815,
                    "ew": 0,
                    "pe": "[7, 2]"
                   },
                   {
                    "edges_x": 0.16709682143673565,
                    "edges_y": 0.46960588645050905,
                    "ew": 0,
                    "pe": "[7, 3]"
                   },
                   {
                    "edges_x": 1.1760197432878379,
                    "edges_y": 1.132684038884477,
                    "ew": 0,
                    "pe": "[7, 3]"
                   },
                   {
                    "edges_x": 0.16709682143673565,
                    "edges_y": 0.46960588645050905,
                    "ew": 0,
                    "pe": "[7, 4]"
                   },
                   {
                    "edges_x": 0.5321934168377944,
                    "edges_y": 0.9356364084639213,
                    "ew": 0,
                    "pe": "[7, 4]"
                   },
                   {
                    "edges_x": 0.16709682143673565,
                    "edges_y": 0.46960588645050905,
                    "ew": 0,
                    "pe": "[7, 5]"
                   },
                   {
                    "edges_x": 1.434225731077603,
                    "edges_y": 1.1674226949932396,
                    "ew": 0,
                    "pe": "[7, 5]"
                   },
                   {
                    "edges_x": 0.16709682143673565,
                    "edges_y": 0.46960588645050905,
                    "ew": 0,
                    "pe": "[7, 6]"
                   },
                   {
                    "edges_x": 0.6508832865752667,
                    "edges_y": 0.7450130088899891,
                    "ew": 0,
                    "pe": "[7, 6]"
                   },
                   {
                    "edges_x": 0.16709682143673565,
                    "edges_y": 0.46960588645050905,
                    "ew": 0.5192850423330198,
                    "pe": "[7, 7]"
                   },
                   {
                    "edges_x": 0.6184435793956204,
                    "edges_y": 1.3193484960764532,
                    "ew": 0.5192850423330198,
                    "pe": "[7, 7]"
                   },
                   {
                    "edges_x": 0.16709682143673565,
                    "edges_y": 0.46960588645050905,
                    "ew": 0,
                    "pe": "[7, 8]"
                   },
                   {
                    "edges_x": 1.206061190479001,
                    "edges_y": 0.6034633084794592,
                    "ew": 0,
                    "pe": "[7, 8]"
                   },
                   {
                    "edges_x": 0.16709682143673565,
                    "edges_y": 0.46960588645050905,
                    "ew": 0.0009407337723424271,
                    "pe": "[7, 9]"
                   },
                   {
                    "edges_x": 0.721856173205147,
                    "edges_y": 1.302496100594305,
                    "ew": 0.0009407337723424271,
                    "pe": "[7, 9]"
                   },
                   {
                    "edges_x": 0.16709682143673565,
                    "edges_y": 0.46960588645050905,
                    "ew": 0,
                    "pe": "[7, 10]"
                   },
                   {
                    "edges_x": 1.116071930639642,
                    "edges_y": 0.969468827124786,
                    "ew": 0,
                    "pe": "[7, 10]"
                   },
                   {
                    "edges_x": 0.7181387051238257,
                    "edges_y": 0.6601933484076765,
                    "ew": 0.47412982126058323,
                    "pe": "[8, 1]"
                   },
                   {
                    "edges_x": 0.9421774954859741,
                    "edges_y": 1.3872341290928847,
                    "ew": 0.47412982126058323,
                    "pe": "[8, 1]"
                   },
                   {
                    "edges_x": 0.7181387051238257,
                    "edges_y": 0.6601933484076765,
                    "ew": 0,
                    "pe": "[8, 2]"
                   },
                   {
                    "edges_x": 1.1444637664062214,
                    "edges_y": 0.5025450047019815,
                    "ew": 0,
                    "pe": "[8, 2]"
                   },
                   {
                    "edges_x": 0.7181387051238257,
                    "edges_y": 0.6601933484076765,
                    "ew": 0,
                    "pe": "[8, 3]"
                   },
                   {
                    "edges_x": 1.1760197432878379,
                    "edges_y": 1.132684038884477,
                    "ew": 0,
                    "pe": "[8, 3]"
                   },
                   {
                    "edges_x": 0.7181387051238257,
                    "edges_y": 0.6601933484076765,
                    "ew": 0,
                    "pe": "[8, 4]"
                   },
                   {
                    "edges_x": 0.5321934168377944,
                    "edges_y": 0.9356364084639213,
                    "ew": 0,
                    "pe": "[8, 4]"
                   },
                   {
                    "edges_x": 0.7181387051238257,
                    "edges_y": 0.6601933484076765,
                    "ew": 0,
                    "pe": "[8, 5]"
                   },
                   {
                    "edges_x": 1.434225731077603,
                    "edges_y": 1.1674226949932396,
                    "ew": 0,
                    "pe": "[8, 5]"
                   },
                   {
                    "edges_x": 0.7181387051238257,
                    "edges_y": 0.6601933484076765,
                    "ew": 0,
                    "pe": "[8, 6]"
                   },
                   {
                    "edges_x": 0.6508832865752667,
                    "edges_y": 0.7450130088899891,
                    "ew": 0,
                    "pe": "[8, 6]"
                   },
                   {
                    "edges_x": 0.7181387051238257,
                    "edges_y": 0.6601933484076765,
                    "ew": 0,
                    "pe": "[8, 7]"
                   },
                   {
                    "edges_x": 0.6184435793956204,
                    "edges_y": 1.3193484960764532,
                    "ew": 0,
                    "pe": "[8, 7]"
                   },
                   {
                    "edges_x": 0.7181387051238257,
                    "edges_y": 0.6601933484076765,
                    "ew": 0,
                    "pe": "[8, 8]"
                   },
                   {
                    "edges_x": 1.206061190479001,
                    "edges_y": 0.6034633084794592,
                    "ew": 0,
                    "pe": "[8, 8]"
                   },
                   {
                    "edges_x": 0.7181387051238257,
                    "edges_y": 0.6601933484076765,
                    "ew": 0,
                    "pe": "[8, 9]"
                   },
                   {
                    "edges_x": 0.721856173205147,
                    "edges_y": 1.302496100594305,
                    "ew": 0,
                    "pe": "[8, 9]"
                   },
                   {
                    "edges_x": 0.7181387051238257,
                    "edges_y": 0.6601933484076765,
                    "ew": 0,
                    "pe": "[8, 10]"
                   },
                   {
                    "edges_x": 1.116071930639642,
                    "edges_y": 0.969468827124786,
                    "ew": 0,
                    "pe": "[8, 10]"
                   },
                   {
                    "edges_x": 0.9309970492805104,
                    "edges_y": 0.5681604870432839,
                    "ew": 0.07055503292568202,
                    "pe": "[9, 1]"
                   },
                   {
                    "edges_x": 0.9421774954859741,
                    "edges_y": 1.3872341290928847,
                    "ew": 0.07055503292568202,
                    "pe": "[9, 1]"
                   },
                   {
                    "edges_x": 0.9309970492805104,
                    "edges_y": 0.5681604870432839,
                    "ew": 0,
                    "pe": "[9, 2]"
                   },
                   {
                    "edges_x": 1.1444637664062214,
                    "edges_y": 0.5025450047019815,
                    "ew": 0,
                    "pe": "[9, 2]"
                   },
                   {
                    "edges_x": 0.9309970492805104,
                    "edges_y": 0.5681604870432839,
                    "ew": 0.1843838193791157,
                    "pe": "[9, 3]"
                   },
                   {
                    "edges_x": 1.1760197432878379,
                    "edges_y": 1.132684038884477,
                    "ew": 0.1843838193791157,
                    "pe": "[9, 3]"
                   },
                   {
                    "edges_x": 0.9309970492805104,
                    "edges_y": 0.5681604870432839,
                    "ew": 0,
                    "pe": "[9, 4]"
                   },
                   {
                    "edges_x": 0.5321934168377944,
                    "edges_y": 0.9356364084639213,
                    "ew": 0,
                    "pe": "[9, 4]"
                   },
                   {
                    "edges_x": 0.9309970492805104,
                    "edges_y": 0.5681604870432839,
                    "ew": 0.9802445907808089,
                    "pe": "[9, 5]"
                   },
                   {
                    "edges_x": 1.434225731077603,
                    "edges_y": 1.1674226949932396,
                    "ew": 0.9802445907808089,
                    "pe": "[9, 5]"
                   },
                   {
                    "edges_x": 0.9309970492805104,
                    "edges_y": 0.5681604870432839,
                    "ew": 0,
                    "pe": "[9, 6]"
                   },
                   {
                    "edges_x": 0.6508832865752667,
                    "edges_y": 0.7450130088899891,
                    "ew": 0,
                    "pe": "[9, 6]"
                   },
                   {
                    "edges_x": 0.9309970492805104,
                    "edges_y": 0.5681604870432839,
                    "ew": 0,
                    "pe": "[9, 7]"
                   },
                   {
                    "edges_x": 0.6184435793956204,
                    "edges_y": 1.3193484960764532,
                    "ew": 0,
                    "pe": "[9, 7]"
                   },
                   {
                    "edges_x": 0.9309970492805104,
                    "edges_y": 0.5681604870432839,
                    "ew": 0,
                    "pe": "[9, 8]"
                   },
                   {
                    "edges_x": 1.206061190479001,
                    "edges_y": 0.6034633084794592,
                    "ew": 0,
                    "pe": "[9, 8]"
                   },
                   {
                    "edges_x": 0.9309970492805104,
                    "edges_y": 0.5681604870432839,
                    "ew": 0,
                    "pe": "[9, 9]"
                   },
                   {
                    "edges_x": 0.721856173205147,
                    "edges_y": 1.302496100594305,
                    "ew": 0,
                    "pe": "[9, 9]"
                   },
                   {
                    "edges_x": 0.9309970492805104,
                    "edges_y": 0.5681604870432839,
                    "ew": 0,
                    "pe": "[9, 10]"
                   },
                   {
                    "edges_x": 1.116071930639642,
                    "edges_y": 0.969468827124786,
                    "ew": 0,
                    "pe": "[9, 10]"
                   },
                   {
                    "edges_x": 0.8556602431685518,
                    "edges_y": 0.088362427761294,
                    "ew": 0,
                    "pe": "[10, 1]"
                   },
                   {
                    "edges_x": 0.9421774954859741,
                    "edges_y": 1.3872341290928847,
                    "ew": 0,
                    "pe": "[10, 1]"
                   },
                   {
                    "edges_x": 0.8556602431685518,
                    "edges_y": 0.088362427761294,
                    "ew": 0.048918156161806205,
                    "pe": "[10, 2]"
                   },
                   {
                    "edges_x": 1.1444637664062214,
                    "edges_y": 0.5025450047019815,
                    "ew": 0.048918156161806205,
                    "pe": "[10, 2]"
                   },
                   {
                    "edges_x": 0.8556602431685518,
                    "edges_y": 0.088362427761294,
                    "ew": 0,
                    "pe": "[10, 3]"
                   },
                   {
                    "edges_x": 1.1760197432878379,
                    "edges_y": 1.132684038884477,
                    "ew": 0,
                    "pe": "[10, 3]"
                   },
                   {
                    "edges_x": 0.8556602431685518,
                    "edges_y": 0.088362427761294,
                    "ew": 0,
                    "pe": "[10, 4]"
                   },
                   {
                    "edges_x": 0.5321934168377944,
                    "edges_y": 0.9356364084639213,
                    "ew": 0,
                    "pe": "[10, 4]"
                   },
                   {
                    "edges_x": 0.8556602431685518,
                    "edges_y": 0.088362427761294,
                    "ew": 0,
                    "pe": "[10, 5]"
                   },
                   {
                    "edges_x": 1.434225731077603,
                    "edges_y": 1.1674226949932396,
                    "ew": 0,
                    "pe": "[10, 5]"
                   },
                   {
                    "edges_x": 0.8556602431685518,
                    "edges_y": 0.088362427761294,
                    "ew": 0,
                    "pe": "[10, 6]"
                   },
                   {
                    "edges_x": 0.6508832865752667,
                    "edges_y": 0.7450130088899891,
                    "ew": 0,
                    "pe": "[10, 6]"
                   },
                   {
                    "edges_x": 0.8556602431685518,
                    "edges_y": 0.088362427761294,
                    "ew": 0,
                    "pe": "[10, 7]"
                   },
                   {
                    "edges_x": 0.6184435793956204,
                    "edges_y": 1.3193484960764532,
                    "ew": 0,
                    "pe": "[10, 7]"
                   },
                   {
                    "edges_x": 0.8556602431685518,
                    "edges_y": 0.088362427761294,
                    "ew": 0.9294449670743179,
                    "pe": "[10, 8]"
                   },
                   {
                    "edges_x": 1.206061190479001,
                    "edges_y": 0.6034633084794592,
                    "ew": 0.9294449670743179,
                    "pe": "[10, 8]"
                   },
                   {
                    "edges_x": 0.8556602431685518,
                    "edges_y": 0.088362427761294,
                    "ew": 0,
                    "pe": "[10, 9]"
                   },
                   {
                    "edges_x": 0.721856173205147,
                    "edges_y": 1.302496100594305,
                    "ew": 0,
                    "pe": "[10, 9]"
                   },
                   {
                    "edges_x": 0.8556602431685518,
                    "edges_y": 0.088362427761294,
                    "ew": 0,
                    "pe": "[10, 10]"
                   },
                   {
                    "edges_x": 1.116071930639642,
                    "edges_y": 0.969468827124786,
                    "ew": 0,
                    "pe": "[10, 10]"
                   }
                  ]
                 },
                 "encoding": {
                  "detail": {
                   "field": "pe",
                   "type": "ordinal"
                  },
                  "opacity": {
                   "field": "ew",
                   "legend": null,
                   "type": "quantitative"
                  },
                  "size": {
                   "field": "ew",
                   "legend": null,
                   "scale": {
                    "range": [
                     0,
                     2
                    ]
                   },
                   "type": "ordinal"
                  },
                  "x": {
                   "axis": null,
                   "field": "edges_x",
                   "type": "quantitative"
                  },
                  "y": {
                   "axis": null,
                   "field": "edges_y",
                   "type": "quantitative"
                  }
                 },
                 "height": 200,
                 "mark": {
                  "clip": false,
                  "color": "black",
                  "type": "line"
                 },
                 "width": 200
                },
                {
                 "data": {
                  "values": [
                   {
                    "size": 0.16463475181392923,
                    "x": 0.9421774954859741,
                    "y": 1.3872341290928847
                   },
                   {
                    "size": 0.07128751647860529,
                    "x": 1.1444637664062214,
                    "y": 0.5025450047019815
                   },
                   {
                    "size": 0.038460280624755774,
                    "x": 1.1760197432878379,
                    "y": 1.132684038884477
                   },
                   {
                    "size": 0.0445292985586942,
                    "x": 0.5321934168377944,
                    "y": 0.9356364084639213
                   },
                   {
                    "size": 0.10416614071927005,
                    "x": 1.434225731077603,
                    "y": 1.1674226949932396
                   },
                   {
                    "size": 0.06955597008016547,
                    "x": 0.6508832865752667,
                    "y": 0.7450130088899891
                   },
                   {
                    "size": 0.14070122088350126,
                    "x": 0.6184435793956204,
                    "y": 1.3193484960764532
                   },
                   {
                    "size": 0.11922556219728855,
                    "x": 1.206061190479001,
                    "y": 0.6034633084794592
                   },
                   {
                    "size": 0.1038514410322068,
                    "x": 0.721856173205147,
                    "y": 1.302496100594305
                   },
                   {
                    "size": 0.14358781761158335,
                    "x": 1.116071930639642,
                    "y": 0.969468827124786
                   }
                  ]
                 },
                 "encoding": {
                  "size": {
                   "field": "size",
                   "legend": null,
                   "title": null,
                   "type": "q"
                  },
                  "x": {
                   "axis": null,
                   "field": "x",
                   "title": null,
                   "type": "quantitative"
                  },
                  "y": {
                   "axis": null,
                   "field": "y",
                   "title": null,
                   "type": "quantitative"
                  }
                 },
                 "height": 200,
                 "mark": {
                  "color": "red",
                  "opacity": 1,
                  "type": "circle"
                 },
                 "width": 200
                },
                {
                 "data": {
                  "values": [
                   {
                    "size": 0.057574681395820296,
                    "x": 0.4693443014806442,
                    "y": 0.2684417303924138
                   },
                   {
                    "size": 0.08584042045627449,
                    "x": 0.23187108390217226,
                    "y": 0.06352946708206986
                   },
                   {
                    "size": 0.22268620293203997,
                    "x": 0.5065170957051912,
                    "y": 0.44817218029000694
                   },
                   {
                    "size": 0.19901647222007454,
                    "x": 0.4617045283901213,
                    "y": 0.12355083809283585
                   },
                   {
                    "size": 0.009346565707262975,
                    "x": 0.3893100903361628,
                    "y": 0.06635075123101641
                   },
                   {
                    "size": 0.08458136309754984,
                    "x": 0.6993302606614282,
                    "y": 0.22655236267581613
                   },
                   {
                    "size": 0.055231308220935624,
                    "x": 0.16709682143673565,
                    "y": 0.46960588645050905
                   },
                   {
                    "size": 0.05043224856060407,
                    "x": 0.7181387051238257,
                    "y": 0.6601933484076765
                   },
                   {
                    "size": 0.13126058863989656,
                    "x": 0.9309970492805104,
                    "y": 0.5681604870432839
                   },
                   {
                    "size": 0.10403014876954182,
                    "x": 0.8556602431685518,
                    "y": 0.088362427761294
                   }
                  ]
                 },
                 "encoding": {
                  "size": {
                   "field": "size",
                   "legend": null,
                   "title": null,
                   "type": "q"
                  },
                  "x": {
                   "axis": null,
                   "field": "x",
                   "title": null,
                   "type": "quantitative"
                  },
                  "y": {
                   "axis": null,
                   "field": "y",
                   "title": null,
                   "type": "quantitative"
                  }
                 },
                 "height": 200,
                 "mark": {
                  "opacity": 1,
                  "type": "circle"
                 },
                 "width": 200
                }
               ],
               "title": "ϵ = 0.01",
               "view": {
                "stroke": null
               }
              }
             ]
            },
            {
             "layer": [
              {
               "data": {
                "values": [
                 {
                  "edges_x": 0.4693443014806442,
                  "edges_y": 0.2684417303924138,
                  "ew": 0.12722298221614226,
                  "pe": "[1, 1]"
                 },
                 {
                  "edges_x": 0.9421774954859741,
                  "edges_y": 1.3872341290928847,
                  "ew": 0.12722298221614226,
                  "pe": "[1, 1]"
                 },
                 {
                  "edges_x": 0.4693443014806442,
                  "edges_y": 0.2684417303924138,
                  "ew": 0.028727770177838577,
                  "pe": "[1, 2]"
                 },
                 {
                  "edges_x": 1.1444637664062214,
                  "edges_y": 0.5025450047019815,
                  "ew": 0.028727770177838577,
                  "pe": "[1, 2]"
                 },
                 {
                  "edges_x": 0.4693443014806442,
                  "edges_y": 0.2684417303924138,
                  "ew": 0.028727770177838577,
                  "pe": "[1, 3]"
                 },
                 {
                  "edges_x": 1.1760197432878379,
                  "edges_y": 1.132684038884477,
                  "ew": 0.028727770177838577,
                  "pe": "[1, 3]"
                 },
                 {
                  "edges_x": 0.4693443014806442,
                  "edges_y": 0.2684417303924138,
                  "ew": 0.03967168262653899,
                  "pe": "[1, 4]"
                 },
                 {
                  "edges_x": 0.5321934168377944,
                  "edges_y": 0.9356364084639213,
                  "ew": 0.03967168262653899,
                  "pe": "[1, 4]"
                 },
                 {
                  "edges_x": 0.4693443014806442,
                  "edges_y": 0.2684417303924138,
                  "ew": 0.012311901504787962,
                  "pe": "[1, 5]"
                 },
                 {
                  "edges_x": 1.434225731077603,
                  "edges_y": 1.1674226949932396,
                  "ew": 0.012311901504787962,
                  "pe": "[1, 5]"
                 },
                 {
                  "edges_x": 0.4693443014806442,
                  "edges_y": 0.2684417303924138,
                  "ew": 0.049247606019151846,
                  "pe": "[1, 6]"
                 },
                 {
                  "edges_x": 0.6508832865752667,
                  "edges_y": 0.7450130088899891,
                  "ew": 0.049247606019151846,
                  "pe": "[1, 6]"
                 },
                 {
                  "edges_x": 0.4693443014806442,
                  "edges_y": 0.2684417303924138,
                  "ew": 0.16415868673050615,
                  "pe": "[1, 7]"
                 },
                 {
                  "edges_x": 0.6184435793956204,
                  "edges_y": 1.3193484960764532,
                  "ew": 0.16415868673050615,
                  "pe": "[1, 7]"
                 },
                 {
                  "edges_x": 0.4693443014806442,
                  "edges_y": 0.2684417303924138,
                  "ew": 0.050615595075239404,
                  "pe": "[1, 8]"
                 },
                 {
                  "edges_x": 1.206061190479001,
                  "edges_y": 0.6034633084794592,
                  "ew": 0.050615595075239404,
                  "pe": "[1, 8]"
                 },
                 {
                  "edges_x": 0.4693443014806442,
                  "edges_y": 0.2684417303924138,
                  "ew": 0.13406292749658003,
                  "pe": "[1, 9]"
                 },
                 {
                  "edges_x": 0.721856173205147,
                  "edges_y": 1.302496100594305,
                  "ew": 0.13406292749658003,
                  "pe": "[1, 9]"
                 },
                 {
                  "edges_x": 0.4693443014806442,
                  "edges_y": 0.2684417303924138,
                  "ew": 0.1518467852257182,
                  "pe": "[1, 10]"
                 },
                 {
                  "edges_x": 1.116071930639642,
                  "edges_y": 0.969468827124786,
                  "ew": 0.1518467852257182,
                  "pe": "[1, 10]"
                 },
                 {
                  "edges_x": 0.23187108390217226,
                  "edges_y": 0.06352946708206986,
                  "ew": 0.02051983584131327,
                  "pe": "[2, 1]"
                 },
                 {
                  "edges_x": 0.9421774954859741,
                  "edges_y": 1.3872341290928847,
                  "ew": 0.02051983584131327,
                  "pe": "[2, 1]"
                 },
                 {
                  "edges_x": 0.23187108390217226,
                  "edges_y": 0.06352946708206986,
                  "ew": 0.06566347469220246,
                  "pe": "[2, 2]"
                 },
                 {
                  "edges_x": 1.1444637664062214,
                  "edges_y": 0.5025450047019815,
                  "ew": 0.06566347469220246,
                  "pe": "[2, 2]"
                 },
                 {
                  "edges_x": 0.23187108390217226,
                  "edges_y": 0.06352946708206986,
                  "ew": 0.004103967168262654,
                  "pe": "[2, 3]"
                 },
                 {
                  "edges_x": 1.1760197432878379,
                  "edges_y": 1.132684038884477,
                  "ew": 0.004103967168262654,
                  "pe": "[2, 3]"
                 },
                 {
                  "edges_x": 0.23187108390217226,
                  "edges_y": 0.06352946708206986,
                  "ew": 0.28454172366621067,
                  "pe": "[2, 4]"
                 },
                 {
                  "edges_x": 0.5321934168377944,
                  "edges_y": 0.9356364084639213,
                  "ew": 0.28454172366621067,
                  "pe": "[2, 4]"
                 },
                 {
                  "edges_x": 0.23187108390217226,
                  "edges_y": 0.06352946708206986,
                  "ew": 0,
                  "pe": "[2, 5]"
                 },
                 {
                  "edges_x": 1.434225731077603,
                  "edges_y": 1.1674226949932396,
                  "ew": 0,
                  "pe": "[2, 5]"
                 },
                 {
                  "edges_x": 0.23187108390217226,
                  "edges_y": 0.06352946708206986,
                  "ew": 0.43502051983584133,
                  "pe": "[2, 6]"
                 },
                 {
                  "edges_x": 0.6508832865752667,
                  "edges_y": 0.7450130088899891,
                  "ew": 0.43502051983584133,
                  "pe": "[2, 6]"
                 },
                 {
                  "edges_x": 0.23187108390217226,
                  "edges_y": 0.06352946708206986,
                  "ew": 0.16142270861833105,
                  "pe": "[2, 7]"
                 },
                 {
                  "edges_x": 0.6184435793956204,
                  "edges_y": 1.3193484960764532,
                  "ew": 0.16142270861833105,
                  "pe": "[2, 7]"
                 },
                 {
                  "edges_x": 0.23187108390217226,
                  "edges_y": 0.06352946708206986,
                  "ew": 0.057455540355677154,
                  "pe": "[2, 8]"
                 },
                 {
                  "edges_x": 1.206061190479001,
                  "edges_y": 0.6034633084794592,
                  "ew": 0.057455540355677154,
                  "pe": "[2, 8]"
                 },
                 {
                  "edges_x": 0.23187108390217226,
                  "edges_y": 0.06352946708206986,
                  "ew": 0.08618331053351573,
                  "pe": "[2, 9]"
                 },
                 {
                  "edges_x": 0.721856173205147,
                  "edges_y": 1.302496100594305,
                  "ew": 0.08618331053351573,
                  "pe": "[2, 9]"
                 },
                 {
                  "edges_x": 0.23187108390217226,
                  "edges_y": 0.06352946708206986,
                  "ew": 0.058823529411764705,
                  "pe": "[2, 10]"
                 },
                 {
                  "edges_x": 1.116071930639642,
                  "edges_y": 0.969468827124786,
                  "ew": 0.058823529411764705,
                  "pe": "[2, 10]"
                 },
                 {
                  "edges_x": 0.5065170957051912,
                  "edges_y": 0.44817218029000694,
                  "ew": 1,
                  "pe": "[3, 1]"
                 },
                 {
                  "edges_x": 0.9421774954859741,
                  "edges_y": 1.3872341290928847,
                  "ew": 1,
                  "pe": "[3, 1]"
                 },
                 {
                  "edges_x": 0.5065170957051912,
                  "edges_y": 0.44817218029000694,
                  "ew": 0.010943912448700412,
                  "pe": "[3, 2]"
                 },
                 {
                  "edges_x": 1.1444637664062214,
                  "edges_y": 0.5025450047019815,
                  "ew": 0.010943912448700412,
                  "pe": "[3, 2]"
                 },
                 {
                  "edges_x": 0.5065170957051912,
                  "edges_y": 0.44817218029000694,
                  "ew": 0.10533515731874146,
                  "pe": "[3, 3]"
                 },
                 {
                  "edges_x": 1.1760197432878379,
                  "edges_y": 1.132684038884477,
                  "ew": 0.10533515731874146,
                  "pe": "[3, 3]"
                 },
                 {
                  "edges_x": 0.5065170957051912,
                  "edges_y": 0.44817218029000694,
                  "ew": 0.04514363885088919,
                  "pe": "[3, 4]"
                 },
                 {
                  "edges_x": 0.5321934168377944,
                  "edges_y": 0.9356364084639213,
                  "ew": 0.04514363885088919,
                  "pe": "[3, 4]"
                 },
                 {
                  "edges_x": 0.5065170957051912,
                  "edges_y": 0.44817218029000694,
                  "ew": 0.06703146374829001,
                  "pe": "[3, 5]"
                 },
                 {
                  "edges_x": 1.434225731077603,
                  "edges_y": 1.1674226949932396,
                  "ew": 0.06703146374829001,
                  "pe": "[3, 5]"
                 },
                 {
                  "edges_x": 0.5065170957051912,
                  "edges_y": 0.44817218029000694,
                  "ew": 0.03146374829001368,
                  "pe": "[3, 6]"
                 },
                 {
                  "edges_x": 0.6508832865752667,
                  "edges_y": 0.7450130088899891,
                  "ew": 0.03146374829001368,
                  "pe": "[3, 6]"
                 },
                 {
                  "edges_x": 0.5065170957051912,
                  "edges_y": 0.44817218029000694,
                  "ew": 0.7948016415868673,
                  "pe": "[3, 7]"
                 },
                 {
                  "edges_x": 0.6184435793956204,
                  "edges_y": 1.3193484960764532,
                  "ew": 0.7948016415868673,
                  "pe": "[3, 7]"
                 },
                 {
                  "edges_x": 0.5065170957051912,
                  "edges_y": 0.44817218029000694,
                  "ew": 0.028727770177838577,
                  "pe": "[3, 8]"
                 },
                 {
                  "edges_x": 1.206061190479001,
                  "edges_y": 0.6034633084794592,
                  "ew": 0.028727770177838577,
                  "pe": "[3, 8]"
                 },
                 {
                  "edges_x": 0.5065170957051912,
                  "edges_y": 0.44817218029000694,
                  "ew": 0.6607387140902873,
                  "pe": "[3, 9]"
                 },
                 {
                  "edges_x": 0.721856173205147,
                  "edges_y": 1.302496100594305,
                  "ew": 0.6607387140902873,
                  "pe": "[3, 9]"
                 },
                 {
                  "edges_x": 0.5065170957051912,
                  "edges_y": 0.44817218029000694,
                  "ew": 0.3036935704514364,
                  "pe": "[3, 10]"
                 },
                 {
                  "edges_x": 1.116071930639642,
                  "edges_y": 0.969468827124786,
                  "ew": 0.3036935704514364,
                  "pe": "[3, 10]"
                 },
                 {
                  "edges_x": 0.4617045283901213,
                  "edges_y": 0.12355083809283585,
                  "ew": 0.1436388508891929,
                  "pe": "[4, 1]"
                 },
                 {
                  "edges_x": 0.9421774954859741,
                  "edges_y": 1.3872341290928847,
                  "ew": 0.1436388508891929,
                  "pe": "[4, 1]"
                 },
                 {
                  "edges_x": 0.4617045283901213,
                  "edges_y": 0.12355083809283585,
                  "ew": 0.40355677154582764,
                  "pe": "[4, 2]"
                 },
                 {
                  "edges_x": 1.1444637664062214,
                  "edges_y": 0.5025450047019815,
                  "ew": 0.40355677154582764,
                  "pe": "[4, 2]"
                 },
                 {
                  "edges_x": 0.4617045283901213,
                  "edges_y": 0.12355083809283585,
                  "ew": 0.06429548563611491,
                  "pe": "[4, 3]"
                 },
                 {
                  "edges_x": 1.1760197432878379,
                  "edges_y": 1.132684038884477,
                  "ew": 0.06429548563611491,
                  "pe": "[4, 3]"
                 },
                 {
                  "edges_x": 0.4617045283901213,
                  "edges_y": 0.12355083809283585,
                  "ew": 0.17783857729138167,
                  "pe": "[4, 4]"
                 },
                 {
                  "edges_x": 0.5321934168377944,
                  "edges_y": 0.9356364084639213,
                  "ew": 0.17783857729138167,
                  "pe": "[4, 4]"
                 },
                 {
                  "edges_x": 0.4617045283901213,
                  "edges_y": 0.12355083809283585,
                  "ew": 0.025991792065663474,
                  "pe": "[4, 5]"
                 },
                 {
                  "edges_x": 1.434225731077603,
                  "edges_y": 1.1674226949932396,
                  "ew": 0.025991792065663474,
                  "pe": "[4, 5]"
                 },
                 {
                  "edges_x": 0.4617045283901213,
                  "edges_y": 0.12355083809283585,
                  "ew": 0.37209302325581395,
                  "pe": "[4, 6]"
                 },
                 {
                  "edges_x": 0.6508832865752667,
                  "edges_y": 0.7450130088899891,
                  "ew": 0.37209302325581395,
                  "pe": "[4, 6]"
                 },
                 {
                  "edges_x": 0.4617045283901213,
                  "edges_y": 0.12355083809283585,
                  "ew": 0.23666210670314639,
                  "pe": "[4, 7]"
                 },
                 {
                  "edges_x": 0.6184435793956204,
                  "edges_y": 1.3193484960764532,
                  "ew": 0.23666210670314639,
                  "pe": "[4, 7]"
                 },
                 {
                  "edges_x": 0.4617045283901213,
                  "edges_y": 0.12355083809283585,
                  "ew": 0.5376196990424077,
                  "pe": "[4, 8]"
                 },
                 {
                  "edges_x": 1.206061190479001,
                  "edges_y": 0.6034633084794592,
                  "ew": 0.5376196990424077,
                  "pe": "[4, 8]"
                 },
                 {
                  "edges_x": 0.4617045283901213,
                  "edges_y": 0.12355083809283585,
                  "ew": 0.1997264021887825,
                  "pe": "[4, 9]"
                 },
                 {
                  "edges_x": 0.721856173205147,
                  "edges_y": 1.302496100594305,
                  "ew": 0.1997264021887825,
                  "pe": "[4, 9]"
                 },
                 {
                  "edges_x": 0.4617045283901213,
                  "edges_y": 0.12355083809283585,
                  "ew": 0.5608755129958961,
                  "pe": "[4, 10]"
                 },
                 {
                  "edges_x": 1.116071930639642,
                  "edges_y": 0.969468827124786,
                  "ew": 0.5608755129958961,
                  "pe": "[4, 10]"
                 },
                 {
                  "edges_x": 0.3893100903361628,
                  "edges_y": 0.06635075123101641,
                  "ew": 0.004103967168262654,
                  "pe": "[5, 1]"
                 },
                 {
                  "edges_x": 0.9421774954859741,
                  "edges_y": 1.3872341290928847,
                  "ew": 0.004103967168262654,
                  "pe": "[5, 1]"
                 },
                 {
                  "edges_x": 0.3893100903361628,
                  "edges_y": 0.06635075123101641,
                  "ew": 0.02051983584131327,
                  "pe": "[5, 2]"
                 },
                 {
                  "edges_x": 1.1444637664062214,
                  "edges_y": 0.5025450047019815,
                  "ew": 0.02051983584131327,
                  "pe": "[5, 2]"
                 },
                 {
                  "edges_x": 0.3893100903361628,
                  "edges_y": 0.06635075123101641,
                  "ew": 0.0013679890560875515,
                  "pe": "[5, 3]"
                 },
                 {
                  "edges_x": 1.1760197432878379,
                  "edges_y": 1.132684038884477,
                  "ew": 0.0013679890560875515,
                  "pe": "[5, 3]"
                 },
                 {
                  "edges_x": 0.3893100903361628,
                  "edges_y": 0.06635075123101641,
                  "ew": 0.013679890560875513,
                  "pe": "[5, 4]"
                 },
                 {
                  "edges_x": 0.5321934168377944,
                  "edges_y": 0.9356364084639213,
                  "ew": 0.013679890560875513,
                  "pe": "[5, 4]"
                 },
                 {
                  "edges_x": 0.3893100903361628,
                  "edges_y": 0.06635075123101641,
                  "ew": 0,
                  "pe": "[5, 5]"
                 },
                 {
                  "edges_x": 1.434225731077603,
                  "edges_y": 1.1674226949932396,
                  "ew": 0,
                  "pe": "[5, 5]"
                 },
                 {
                  "edges_x": 0.3893100903361628,
                  "edges_y": 0.06635075123101641,
                  "ew": 0.03009575923392613,
                  "pe": "[5, 6]"
                 },
                 {
                  "edges_x": 0.6508832865752667,
                  "edges_y": 0.7450130088899891,
                  "ew": 0.03009575923392613,
                  "pe": "[5, 6]"
                 },
                 {
                  "edges_x": 0.3893100903361628,
                  "edges_y": 0.06635075123101641,
                  "ew": 0.010943912448700412,
                  "pe": "[5, 7]"
                 },
                 {
                  "edges_x": 0.6184435793956204,
                  "edges_y": 1.3193484960764532,
                  "ew": 0.010943912448700412,
                  "pe": "[5, 7]"
                 },
                 {
                  "edges_x": 0.3893100903361628,
                  "edges_y": 0.06635075123101641,
                  "ew": 0.023255813953488372,
                  "pe": "[5, 8]"
                 },
                 {
                  "edges_x": 1.206061190479001,
                  "edges_y": 0.6034633084794592,
                  "ew": 0.023255813953488372,
                  "pe": "[5, 8]"
                 },
                 {
                  "edges_x": 0.3893100903361628,
                  "edges_y": 0.06635075123101641,
                  "ew": 0.008207934336525308,
                  "pe": "[5, 9]"
                 },
                 {
                  "edges_x": 0.721856173205147,
                  "edges_y": 1.302496100594305,
                  "ew": 0.008207934336525308,
                  "pe": "[5, 9]"
                 },
                 {
                  "edges_x": 0.3893100903361628,
                  "edges_y": 0.06635075123101641,
                  "ew": 0.017783857729138167,
                  "pe": "[5, 10]"
                 },
                 {
                  "edges_x": 1.116071930639642,
                  "edges_y": 0.969468827124786,
                  "ew": 0.017783857729138167,
                  "pe": "[5, 10]"
                 },
                 {
                  "edges_x": 0.6993302606614282,
                  "edges_y": 0.22655236267581613,
                  "ew": 0.09986320109439124,
                  "pe": "[6, 1]"
                 },
                 {
                  "edges_x": 0.9421774954859741,
                  "edges_y": 1.3872341290928847,
                  "ew": 0.09986320109439124,
                  "pe": "[6, 1]"
                 },
                 {
                  "edges_x": 0.6993302606614282,
                  "edges_y": 0.22655236267581613,
                  "ew": 0.11901504787961696,
                  "pe": "[6, 2]"
                 },
                 {
                  "edges_x": 1.1444637664062214,
                  "edges_y": 0.5025450047019815,
                  "ew": 0.11901504787961696,
                  "pe": "[6, 2]"
                 },
                 {
                  "edges_x": 0.6993302606614282,
                  "edges_y": 0.22655236267581613,
                  "ew": 0.08071135430916553,
                  "pe": "[6, 3]"
                 },
                 {
                  "edges_x": 1.1760197432878379,
                  "edges_y": 1.132684038884477,
                  "ew": 0.08071135430916553,
                  "pe": "[6, 3]"
                 },
                 {
                  "edges_x": 0.6993302606614282,
                  "edges_y": 0.22655236267581613,
                  "ew": 0.006839945280437756,
                  "pe": "[6, 4]"
                 },
                 {
                  "edges_x": 0.5321934168377944,
                  "edges_y": 0.9356364084639213,
                  "ew": 0.006839945280437756,
                  "pe": "[6, 4]"
                 },
                 {
                  "edges_x": 0.6993302606614282,
                  "edges_y": 0.22655236267581613,
                  "ew": 0.11764705882352941,
                  "pe": "[6, 5]"
                 },
                 {
                  "edges_x": 1.434225731077603,
                  "edges_y": 1.1674226949932396,
                  "ew": 0.11764705882352941,
                  "pe": "[6, 5]"
                 },
                 {
                  "edges_x": 0.6993302606614282,
                  "edges_y": 0.22655236267581613,
                  "ew": 0.017783857729138167,
                  "pe": "[6, 6]"
                 },
                 {
                  "edges_x": 0.6508832865752667,
                  "edges_y": 0.7450130088899891,
                  "ew": 0.017783857729138167,
                  "pe": "[6, 6]"
                 },
                 {
                  "edges_x": 0.6993302606614282,
                  "edges_y": 0.22655236267581613,
                  "ew": 0.03146374829001368,
                  "pe": "[6, 7]"
                 },
                 {
                  "edges_x": 0.6184435793956204,
                  "edges_y": 1.3193484960764532,
                  "ew": 0.03146374829001368,
                  "pe": "[6, 7]"
                 },
                 {
                  "edges_x": 0.6993302606614282,
                  "edges_y": 0.22655236267581613,
                  "ew": 0.26265389876880985,
                  "pe": "[6, 8]"
                 },
                 {
                  "edges_x": 1.206061190479001,
                  "edges_y": 0.6034633084794592,
                  "ew": 0.26265389876880985,
                  "pe": "[6, 8]"
                 },
                 {
                  "edges_x": 0.6993302606614282,
                  "edges_y": 0.22655236267581613,
                  "ew": 0.04103967168262654,
                  "pe": "[6, 9]"
                 },
                 {
                  "edges_x": 0.721856173205147,
                  "edges_y": 1.302496100594305,
                  "ew": 0.04103967168262654,
                  "pe": "[6, 9]"
                 },
                 {
                  "edges_x": 0.6993302606614282,
                  "edges_y": 0.22655236267581613,
                  "ew": 0.3789329685362517,
                  "pe": "[6, 10]"
                 },
                 {
                  "edges_x": 1.116071930639642,
                  "edges_y": 0.969468827124786,
                  "ew": 0.3789329685362517,
                  "pe": "[6, 10]"
                 },
                 {
                  "edges_x": 0.16709682143673565,
                  "edges_y": 0.46960588645050905,
                  "ew": 0.06429548563611491,
                  "pe": "[7, 1]"
                 },
                 {
                  "edges_x": 0.9421774954859741,
                  "edges_y": 1.3872341290928847,
                  "ew": 0.06429548563611491,
                  "pe": "[7, 1]"
                 },
                 {
                  "edges_x": 0.16709682143673565,
                  "edges_y": 0.46960588645050905,
                  "ew": 0,
                  "pe": "[7, 2]"
                 },
                 {
                  "edges_x": 1.1444637664062214,
                  "edges_y": 0.5025450047019815,
                  "ew": 0,
                  "pe": "[7, 2]"
                 },
                 {
                  "edges_x": 0.16709682143673565,
                  "edges_y": 0.46960588645050905,
                  "ew": 0.0013679890560875515,
                  "pe": "[7, 3]"
                 },
                 {
                  "edges_x": 1.1760197432878379,
                  "edges_y": 1.132684038884477,
                  "ew": 0.0013679890560875515,
                  "pe": "[7, 3]"
                 },
                 {
                  "edges_x": 0.16709682143673565,
                  "edges_y": 0.46960588645050905,
                  "ew": 0.03967168262653899,
                  "pe": "[7, 4]"
                 },
                 {
                  "edges_x": 0.5321934168377944,
                  "edges_y": 0.9356364084639213,
                  "ew": 0.03967168262653899,
                  "pe": "[7, 4]"
                 },
                 {
                  "edges_x": 0.16709682143673565,
                  "edges_y": 0.46960588645050905,
                  "ew": 0,
                  "pe": "[7, 5]"
                 },
                 {
                  "edges_x": 1.434225731077603,
                  "edges_y": 1.1674226949932396,
                  "ew": 0,
                  "pe": "[7, 5]"
                 },
                 {
                  "edges_x": 0.16709682143673565,
                  "edges_y": 0.46960588645050905,
                  "ew": 0.010943912448700412,
                  "pe": "[7, 6]"
                 },
                 {
                  "edges_x": 0.6508832865752667,
                  "edges_y": 0.7450130088899891,
                  "ew": 0.010943912448700412,
                  "pe": "[7, 6]"
                 },
                 {
                  "edges_x": 0.16709682143673565,
                  "edges_y": 0.46960588645050905,
                  "ew": 0.45006839945280436,
                  "pe": "[7, 7]"
                 },
                 {
                  "edges_x": 0.6184435793956204,
                  "edges_y": 1.3193484960764532,
                  "ew": 0.45006839945280436,
                  "pe": "[7, 7]"
                 },
                 {
                  "edges_x": 0.16709682143673565,
                  "edges_y": 0.46960588645050905,
                  "ew": 0,
                  "pe": "[7, 8]"
                 },
                 {
                  "edges_x": 1.206061190479001,
                  "edges_y": 0.6034633084794592,
                  "ew": 0,
                  "pe": "[7, 8]"
                 },
                 {
                  "edges_x": 0.16709682143673565,
                  "edges_y": 0.46960588645050905,
                  "ew": 0.18331053351573187,
                  "pe": "[7, 9]"
                 },
                 {
                  "edges_x": 0.721856173205147,
                  "edges_y": 1.302496100594305,
                  "ew": 0.18331053351573187,
                  "pe": "[7, 9]"
                 },
                 {
                  "edges_x": 0.16709682143673565,
                  "edges_y": 0.46960588645050905,
                  "ew": 0.005471956224350206,
                  "pe": "[7, 10]"
                 },
                 {
                  "edges_x": 1.116071930639642,
                  "edges_y": 0.969468827124786,
                  "ew": 0.005471956224350206,
                  "pe": "[7, 10]"
                 },
                 {
                  "edges_x": 0.7181387051238257,
                  "edges_y": 0.6601933484076765,
                  "ew": 0.39398084815321477,
                  "pe": "[8, 1]"
                 },
                 {
                  "edges_x": 0.9421774954859741,
                  "edges_y": 1.3872341290928847,
                  "ew": 0.39398084815321477,
                  "pe": "[8, 1]"
                 },
                 {
                  "edges_x": 0.7181387051238257,
                  "edges_y": 0.6601933484076765,
                  "ew": 0,
                  "pe": "[8, 2]"
                 },
                 {
                  "edges_x": 1.1444637664062214,
                  "edges_y": 0.5025450047019815,
                  "ew": 0,
                  "pe": "[8, 2]"
                 },
                 {
                  "edges_x": 0.7181387051238257,
                  "edges_y": 0.6601933484076765,
                  "ew": 0.038303693570451436,
                  "pe": "[8, 3]"
                 },
                 {
                  "edges_x": 1.1760197432878379,
                  "edges_y": 1.132684038884477,
                  "ew": 0.038303693570451436,
                  "pe": "[8, 3]"
                 },
                 {
                  "edges_x": 0.7181387051238257,
                  "edges_y": 0.6601933484076765,
                  "ew": 0,
                  "pe": "[8, 4]"
                 },
                 {
                  "edges_x": 0.5321934168377944,
                  "edges_y": 0.9356364084639213,
                  "ew": 0,
                  "pe": "[8, 4]"
                 },
                 {
                  "edges_x": 0.7181387051238257,
                  "edges_y": 0.6601933484076765,
                  "ew": 0.08344733242134064,
                  "pe": "[8, 5]"
                 },
                 {
                  "edges_x": 1.434225731077603,
                  "edges_y": 1.1674226949932396,
                  "ew": 0.08344733242134064,
                  "pe": "[8, 5]"
                 },
                 {
                  "edges_x": 0.7181387051238257,
                  "edges_y": 0.6601933484076765,
                  "ew": 0,
                  "pe": "[8, 6]"
                 },
                 {
                  "edges_x": 0.6508832865752667,
                  "edges_y": 0.7450130088899891,
                  "ew": 0,
                  "pe": "[8, 6]"
                 },
                 {
                  "edges_x": 0.7181387051238257,
                  "edges_y": 0.6601933484076765,
                  "ew": 0.06019151846785226,
                  "pe": "[8, 7]"
                 },
                 {
                  "edges_x": 0.6184435793956204,
                  "edges_y": 1.3193484960764532,
                  "ew": 0.06019151846785226,
                  "pe": "[8, 7]"
                 },
                 {
                  "edges_x": 0.7181387051238257,
                  "edges_y": 0.6601933484076765,
                  "ew": 0.0013679890560875515,
                  "pe": "[8, 8]"
                 },
                 {
                  "edges_x": 1.206061190479001,
                  "edges_y": 0.6034633084794592,
                  "ew": 0.0013679890560875515,
                  "pe": "[8, 8]"
                 },
                 {
                  "edges_x": 0.7181387051238257,
                  "edges_y": 0.6601933484076765,
                  "ew": 0.07113543091655267,
                  "pe": "[8, 9]"
                 },
                 {
                  "edges_x": 0.721856173205147,
                  "edges_y": 1.302496100594305,
                  "ew": 0.07113543091655267,
                  "pe": "[8, 9]"
                 },
                 {
                  "edges_x": 0.7181387051238257,
                  "edges_y": 0.6601933484076765,
                  "ew": 0.04240766073871409,
                  "pe": "[8, 10]"
                 },
                 {
                  "edges_x": 1.116071930639642,
                  "edges_y": 0.969468827124786,
                  "ew": 0.04240766073871409,
                  "pe": "[8, 10]"
                 },
                 {
                  "edges_x": 0.9309970492805104,
                  "edges_y": 0.5681604870432839,
                  "ew": 0.387140902872777,
                  "pe": "[9, 1]"
                 },
                 {
                  "edges_x": 0.9421774954859741,
                  "edges_y": 1.3872341290928847,
                  "ew": 0.387140902872777,
                  "pe": "[9, 1]"
                 },
                 {
                  "edges_x": 0.9309970492805104,
                  "edges_y": 0.5681604870432839,
                  "ew": 0.002735978112175103,
                  "pe": "[9, 2]"
                 },
                 {
                  "edges_x": 1.1444637664062214,
                  "edges_y": 0.5025450047019815,
                  "ew": 0.002735978112175103,
                  "pe": "[9, 2]"
                 },
                 {
                  "edges_x": 0.9309970492805104,
                  "edges_y": 0.5681604870432839,
                  "ew": 0.16142270861833105,
                  "pe": "[9, 3]"
                 },
                 {
                  "edges_x": 1.1760197432878379,
                  "edges_y": 1.132684038884477,
                  "ew": 0.16142270861833105,
                  "pe": "[9, 3]"
                 },
                 {
                  "edges_x": 0.9309970492805104,
                  "edges_y": 0.5681604870432839,
                  "ew": 0,
                  "pe": "[9, 4]"
                 },
                 {
                  "edges_x": 0.5321934168377944,
                  "edges_y": 0.9356364084639213,
                  "ew": 0,
                  "pe": "[9, 4]"
                 },
                 {
                  "edges_x": 0.9309970492805104,
                  "edges_y": 0.5681604870432839,
                  "ew": 0.9917920656634747,
                  "pe": "[9, 5]"
                 },
                 {
                  "edges_x": 1.434225731077603,
                  "edges_y": 1.1674226949932396,
                  "ew": 0.9917920656634747,
                  "pe": "[9, 5]"
                 },
                 {
                  "edges_x": 0.9309970492805104,
                  "edges_y": 0.5681604870432839,
                  "ew": 0,
                  "pe": "[9, 6]"
                 },
                 {
                  "edges_x": 0.6508832865752667,
                  "edges_y": 0.7450130088899891,
                  "ew": 0,
                  "pe": "[9, 6]"
                 },
                 {
                  "edges_x": 0.9309970492805104,
                  "edges_y": 0.5681604870432839,
                  "ew": 0.016415868673050615,
                  "pe": "[9, 7]"
                 },
                 {
                  "edges_x": 0.6184435793956204,
                  "edges_y": 1.3193484960764532,
                  "ew": 0.016415868673050615,
                  "pe": "[9, 7]"
                 },
                 {
                  "edges_x": 0.9309970492805104,
                  "edges_y": 0.5681604870432839,
                  "ew": 0.016415868673050615,
                  "pe": "[9, 8]"
                 },
                 {
                  "edges_x": 1.206061190479001,
                  "edges_y": 0.6034633084794592,
                  "ew": 0.016415868673050615,
                  "pe": "[9, 8]"
                 },
                 {
                  "edges_x": 0.9309970492805104,
                  "edges_y": 0.5681604870432839,
                  "ew": 0.03146374829001368,
                  "pe": "[9, 9]"
                 },
                 {
                  "edges_x": 0.721856173205147,
                  "edges_y": 1.302496100594305,
                  "ew": 0.03146374829001368,
                  "pe": "[9, 9]"
                 },
                 {
                  "edges_x": 0.9309970492805104,
                  "edges_y": 0.5681604870432839,
                  "ew": 0.18878248974008208,
                  "pe": "[9, 10]"
                 },
                 {
                  "edges_x": 1.116071930639642,
                  "edges_y": 0.969468827124786,
                  "ew": 0.18878248974008208,
                  "pe": "[9, 10]"
                 },
                 {
                  "edges_x": 0.8556602431685518,
                  "edges_y": 0.088362427761294,
                  "ew": 0.012311901504787962,
                  "pe": "[10, 1]"
                 },
                 {
                  "edges_x": 0.9421774954859741,
                  "edges_y": 1.3872341290928847,
                  "ew": 0.012311901504787962,
                  "pe": "[10, 1]"
                 },
                 {
                  "edges_x": 0.8556602431685518,
                  "edges_y": 0.088362427761294,
                  "ew": 0.3228454172366621,
                  "pe": "[10, 2]"
                 },
                 {
                  "edges_x": 1.1444637664062214,
                  "edges_y": 0.5025450047019815,
                  "ew": 0.3228454172366621,
                  "pe": "[10, 2]"
                 },
                 {
                  "edges_x": 0.8556602431685518,
                  "edges_y": 0.088362427761294,
                  "ew": 0.04240766073871409,
                  "pe": "[10, 3]"
                 },
                 {
                  "edges_x": 1.1760197432878379,
                  "edges_y": 1.132684038884477,
                  "ew": 0.04240766073871409,
                  "pe": "[10, 3]"
                 },
                 {
                  "edges_x": 0.8556602431685518,
                  "edges_y": 0.088362427761294,
                  "ew": 0.0013679890560875515,
                  "pe": "[10, 4]"
                 },
                 {
                  "edges_x": 0.5321934168377944,
                  "edges_y": 0.9356364084639213,
                  "ew": 0.0013679890560875515,
                  "pe": "[10, 4]"
                 },
                 {
                  "edges_x": 0.8556602431685518,
                  "edges_y": 0.088362427761294,
                  "ew": 0.12585499316005472,
                  "pe": "[10, 5]"
                 },
                 {
                  "edges_x": 1.434225731077603,
                  "edges_y": 1.1674226949932396,
                  "ew": 0.12585499316005472,
                  "pe": "[10, 5]"
                 },
                 {
                  "edges_x": 0.8556602431685518,
                  "edges_y": 0.088362427761294,
                  "ew": 0.005471956224350206,
                  "pe": "[10, 6]"
                 },
                 {
                  "edges_x": 0.6508832865752667,
                  "edges_y": 0.7450130088899891,
                  "ew": 0.005471956224350206,
                  "pe": "[10, 6]"
                 },
                 {
                  "edges_x": 0.8556602431685518,
                  "edges_y": 0.088362427761294,
                  "ew": 0.0013679890560875515,
                  "pe": "[10, 7]"
                 },
                 {
                  "edges_x": 0.6184435793956204,
                  "edges_y": 1.3193484960764532,
                  "ew": 0.0013679890560875515,
                  "pe": "[10, 7]"
                 },
                 {
                  "edges_x": 0.8556602431685518,
                  "edges_y": 0.088362427761294,
                  "ew": 0.6511627906976745,
                  "pe": "[10, 8]"
                 },
                 {
                  "edges_x": 1.206061190479001,
                  "edges_y": 0.6034633084794592,
                  "ew": 0.6511627906976745,
                  "pe": "[10, 8]"
                 },
                 {
                  "edges_x": 0.8556602431685518,
                  "edges_y": 0.088362427761294,
                  "ew": 0.002735978112175103,
                  "pe": "[10, 9]"
                 },
                 {
                  "edges_x": 0.721856173205147,
                  "edges_y": 1.302496100594305,
                  "ew": 0.002735978112175103,
                  "pe": "[10, 9]"
                 },
                 {
                  "edges_x": 0.8556602431685518,
                  "edges_y": 0.088362427761294,
                  "ew": 0.25718194254445964,
                  "pe": "[10, 10]"
                 },
                 {
                  "edges_x": 1.116071930639642,
                  "edges_y": 0.969468827124786,
                  "ew": 0.25718194254445964,
                  "pe": "[10, 10]"
                 }
                ]
               },
               "encoding": {
                "detail": {
                 "field": "pe",
                 "type": "ordinal"
                },
                "opacity": {
                 "field": "ew",
                 "legend": null,
                 "type": "quantitative"
                },
                "size": {
                 "field": "ew",
                 "legend": null,
                 "scale": {
                  "range": [
                   0,
                   2
                  ]
                 },
                 "type": "ordinal"
                },
                "x": {
                 "axis": null,
                 "field": "edges_x",
                 "type": "quantitative"
                },
                "y": {
                 "axis": null,
                 "field": "edges_y",
                 "type": "quantitative"
                }
               },
               "height": 200,
               "mark": {
                "clip": false,
                "color": "black",
                "type": "line"
               },
               "width": 200
              },
              {
               "data": {
                "values": [
                 {
                  "size": 0.16463475181392923,
                  "x": 0.9421774954859741,
                  "y": 1.3872341290928847
                 },
                 {
                  "size": 0.07128751647860529,
                  "x": 1.1444637664062214,
                  "y": 0.5025450047019815
                 },
                 {
                  "size": 0.038460280624755774,
                  "x": 1.1760197432878379,
                  "y": 1.132684038884477
                 },
                 {
                  "size": 0.0445292985586942,
                  "x": 0.5321934168377944,
                  "y": 0.9356364084639213
                 },
                 {
                  "size": 0.10416614071927005,
                  "x": 1.434225731077603,
                  "y": 1.1674226949932396
                 },
                 {
                  "size": 0.06955597008016547,
                  "x": 0.6508832865752667,
                  "y": 0.7450130088899891
                 },
                 {
                  "size": 0.14070122088350126,
                  "x": 0.6184435793956204,
                  "y": 1.3193484960764532
                 },
                 {
                  "size": 0.11922556219728855,
                  "x": 1.206061190479001,
                  "y": 0.6034633084794592
                 },
                 {
                  "size": 0.1038514410322068,
                  "x": 0.721856173205147,
                  "y": 1.302496100594305
                 },
                 {
                  "size": 0.14358781761158335,
                  "x": 1.116071930639642,
                  "y": 0.969468827124786
                 }
                ]
               },
               "encoding": {
                "size": {
                 "field": "size",
                 "legend": null,
                 "title": null,
                 "type": "q"
                },
                "x": {
                 "axis": null,
                 "field": "x",
                 "title": null,
                 "type": "quantitative"
                },
                "y": {
                 "axis": null,
                 "field": "y",
                 "title": null,
                 "type": "quantitative"
                }
               },
               "height": 200,
               "mark": {
                "color": "red",
                "opacity": 1,
                "type": "circle"
               },
               "width": 200
              },
              {
               "data": {
                "values": [
                 {
                  "size": 0.057574681395820296,
                  "x": 0.4693443014806442,
                  "y": 0.2684417303924138
                 },
                 {
                  "size": 0.08584042045627449,
                  "x": 0.23187108390217226,
                  "y": 0.06352946708206986
                 },
                 {
                  "size": 0.22268620293203997,
                  "x": 0.5065170957051912,
                  "y": 0.44817218029000694
                 },
                 {
                  "size": 0.19901647222007454,
                  "x": 0.4617045283901213,
                  "y": 0.12355083809283585
                 },
                 {
                  "size": 0.009346565707262975,
                  "x": 0.3893100903361628,
                  "y": 0.06635075123101641
                 },
                 {
                  "size": 0.08458136309754984,
                  "x": 0.6993302606614282,
                  "y": 0.22655236267581613
                 },
                 {
                  "size": 0.055231308220935624,
                  "x": 0.16709682143673565,
                  "y": 0.46960588645050905
                 },
                 {
                  "size": 0.05043224856060407,
                  "x": 0.7181387051238257,
                  "y": 0.6601933484076765
                 },
                 {
                  "size": 0.13126058863989656,
                  "x": 0.9309970492805104,
                  "y": 0.5681604870432839
                 },
                 {
                  "size": 0.10403014876954182,
                  "x": 0.8556602431685518,
                  "y": 0.088362427761294
                 }
                ]
               },
               "encoding": {
                "size": {
                 "field": "size",
                 "legend": null,
                 "title": null,
                 "type": "q"
                },
                "x": {
                 "axis": null,
                 "field": "x",
                 "title": null,
                 "type": "quantitative"
                },
                "y": {
                 "axis": null,
                 "field": "y",
                 "title": null,
                 "type": "quantitative"
                }
               },
               "height": 200,
               "mark": {
                "opacity": 1,
                "type": "circle"
               },
               "width": 200
              }
             ],
             "title": "ϵ = 0.1",
             "view": {
              "stroke": null
             }
            }
           ]
          },
          {
           "layer": [
            {
             "data": {
              "values": [
               {
                "edges_x": 0.4693443014806442,
                "edges_y": 0.2684417303924138,
                "ew": 0.23019801980198018,
                "pe": "[1, 1]"
               },
               {
                "edges_x": 0.9421774954859741,
                "edges_y": 1.3872341290928847,
                "ew": 0.23019801980198018,
                "pe": "[1, 1]"
               },
               {
                "edges_x": 0.4693443014806442,
                "edges_y": 0.2684417303924138,
                "ew": 0.10148514851485149,
                "pe": "[1, 2]"
               },
               {
                "edges_x": 1.1444637664062214,
                "edges_y": 0.5025450047019815,
                "ew": 0.10148514851485149,
                "pe": "[1, 2]"
               },
               {
                "edges_x": 0.4693443014806442,
                "edges_y": 0.2684417303924138,
                "ew": 0.05198019801980198,
                "pe": "[1, 3]"
               },
               {
                "edges_x": 1.1760197432878379,
                "edges_y": 1.132684038884477,
                "ew": 0.05198019801980198,
                "pe": "[1, 3]"
               },
               {
                "edges_x": 0.4693443014806442,
                "edges_y": 0.2684417303924138,
                "ew": 0.06930693069306931,
                "pe": "[1, 4]"
               },
               {
                "edges_x": 0.5321934168377944,
                "edges_y": 0.9356364084639213,
                "ew": 0.06930693069306931,
                "pe": "[1, 4]"
               },
               {
                "edges_x": 0.4693443014806442,
                "edges_y": 0.2684417303924138,
                "ew": 0.1311881188118812,
                "pe": "[1, 5]"
               },
               {
                "edges_x": 1.434225731077603,
                "edges_y": 1.1674226949932396,
                "ew": 0.1311881188118812,
                "pe": "[1, 5]"
               },
               {
                "edges_x": 0.4693443014806442,
                "edges_y": 0.2684417303924138,
                "ew": 0.10643564356435643,
                "pe": "[1, 6]"
               },
               {
                "edges_x": 0.6508832865752667,
                "edges_y": 0.7450130088899891,
                "ew": 0.10643564356435643,
                "pe": "[1, 6]"
               },
               {
                "edges_x": 0.4693443014806442,
                "edges_y": 0.2684417303924138,
                "ew": 0.21039603960396042,
                "pe": "[1, 7]"
               },
               {
                "edges_x": 0.6184435793956204,
                "edges_y": 1.3193484960764532,
                "ew": 0.21039603960396042,
                "pe": "[1, 7]"
               },
               {
                "edges_x": 0.4693443014806442,
                "edges_y": 0.2684417303924138,
                "ew": 0.16584158415841585,
                "pe": "[1, 8]"
               },
               {
                "edges_x": 1.206061190479001,
                "edges_y": 0.6034633084794592,
                "ew": 0.16584158415841585,
                "pe": "[1, 8]"
               },
               {
                "edges_x": 0.4693443014806442,
                "edges_y": 0.2684417303924138,
                "ew": 0.15346534653465346,
                "pe": "[1, 9]"
               },
               {
                "edges_x": 0.721856173205147,
                "edges_y": 1.302496100594305,
                "ew": 0.15346534653465346,
                "pe": "[1, 9]"
               },
               {
                "edges_x": 0.4693443014806442,
                "edges_y": 0.2684417303924138,
                "ew": 0.20297029702970298,
                "pe": "[1, 10]"
               },
               {
                "edges_x": 1.116071930639642,
                "edges_y": 0.969468827124786,
                "ew": 0.20297029702970298,
                "pe": "[1, 10]"
               },
               {
                "edges_x": 0.23187108390217226,
                "edges_y": 0.06352946708206986,
                "ew": 0.29702970297029707,
                "pe": "[2, 1]"
               },
               {
                "edges_x": 0.9421774954859741,
                "edges_y": 1.3872341290928847,
                "ew": 0.29702970297029707,
                "pe": "[2, 1]"
               },
               {
                "edges_x": 0.23187108390217226,
                "edges_y": 0.06352946708206986,
                "ew": 0.1707920792079208,
                "pe": "[2, 2]"
               },
               {
                "edges_x": 1.1444637664062214,
                "edges_y": 0.5025450047019815,
                "ew": 0.1707920792079208,
                "pe": "[2, 2]"
               },
               {
                "edges_x": 0.23187108390217226,
                "edges_y": 0.06352946708206986,
                "ew": 0.06683168316831684,
                "pe": "[2, 3]"
               },
               {
                "edges_x": 1.1760197432878379,
                "edges_y": 1.132684038884477,
                "ew": 0.06683168316831684,
                "pe": "[2, 3]"
               },
               {
                "edges_x": 0.23187108390217226,
                "edges_y": 0.06352946708206986,
                "ew": 0.1311881188118812,
                "pe": "[2, 4]"
               },
               {
                "edges_x": 0.5321934168377944,
                "edges_y": 0.9356364084639213,
                "ew": 0.1311881188118812,
                "pe": "[2, 4]"
               },
               {
                "edges_x": 0.23187108390217226,
                "edges_y": 0.06352946708206986,
                "ew": 0.14851485148514854,
                "pe": "[2, 5]"
               },
               {
                "edges_x": 1.434225731077603,
                "edges_y": 1.1674226949932396,
                "ew": 0.14851485148514854,
                "pe": "[2, 5]"
               },
               {
                "edges_x": 0.23187108390217226,
                "edges_y": 0.06352946708206986,
                "ew": 0.2079207920792079,
                "pe": "[2, 6]"
               },
               {
                "edges_x": 0.6508832865752667,
                "edges_y": 0.7450130088899891,
                "ew": 0.2079207920792079,
                "pe": "[2, 6]"
               },
               {
                "edges_x": 0.23187108390217226,
                "edges_y": 0.06352946708206986,
                "ew": 0.32673267326732675,
                "pe": "[2, 7]"
               },
               {
                "edges_x": 0.6184435793956204,
                "edges_y": 1.3193484960764532,
                "ew": 0.32673267326732675,
                "pe": "[2, 7]"
               },
               {
                "edges_x": 0.23187108390217226,
                "edges_y": 0.06352946708206986,
                "ew": 0.2623762376237624,
                "pe": "[2, 8]"
               },
               {
                "edges_x": 1.206061190479001,
                "edges_y": 0.6034633084794592,
                "ew": 0.2623762376237624,
                "pe": "[2, 8]"
               },
               {
                "edges_x": 0.23187108390217226,
                "edges_y": 0.06352946708206986,
                "ew": 0.22772277227722773,
                "pe": "[2, 9]"
               },
               {
                "edges_x": 0.721856173205147,
                "edges_y": 1.302496100594305,
                "ew": 0.22772277227722773,
                "pe": "[2, 9]"
               },
               {
                "edges_x": 0.23187108390217226,
                "edges_y": 0.06352946708206986,
                "ew": 0.2846534653465347,
                "pe": "[2, 10]"
               },
               {
                "edges_x": 1.116071930639642,
                "edges_y": 0.969468827124786,
                "ew": 0.2846534653465347,
                "pe": "[2, 10]"
               },
               {
                "edges_x": 0.5065170957051912,
                "edges_y": 0.44817218029000694,
                "ew": 1,
                "pe": "[3, 1]"
               },
               {
                "edges_x": 0.9421774954859741,
                "edges_y": 1.3872341290928847,
                "ew": 1,
                "pe": "[3, 1]"
               },
               {
                "edges_x": 0.5065170957051912,
                "edges_y": 0.44817218029000694,
                "ew": 0.32425742574257427,
                "pe": "[3, 2]"
               },
               {
                "edges_x": 1.1444637664062214,
                "edges_y": 0.5025450047019815,
                "ew": 0.32425742574257427,
                "pe": "[3, 2]"
               },
               {
                "edges_x": 0.5065170957051912,
                "edges_y": 0.44817218029000694,
                "ew": 0.21039603960396042,
                "pe": "[3, 3]"
               },
               {
                "edges_x": 1.1760197432878379,
                "edges_y": 1.132684038884477,
                "ew": 0.21039603960396042,
                "pe": "[3, 3]"
               },
               {
                "edges_x": 0.5065170957051912,
                "edges_y": 0.44817218029000694,
                "ew": 0.24752475247524755,
                "pe": "[3, 4]"
               },
               {
                "edges_x": 0.5321934168377944,
                "edges_y": 0.9356364084639213,
                "ew": 0.24752475247524755,
                "pe": "[3, 4]"
               },
               {
                "edges_x": 0.5065170957051912,
                "edges_y": 0.44817218029000694,
                "ew": 0.5470297029702971,
                "pe": "[3, 5]"
               },
               {
                "edges_x": 1.434225731077603,
                "edges_y": 1.1674226949932396,
                "ew": 0.5470297029702971,
                "pe": "[3, 5]"
               },
               {
                "edges_x": 0.5065170957051912,
                "edges_y": 0.44817218029000694,
                "ew": 0.36138613861386143,
                "pe": "[3, 6]"
               },
               {
                "edges_x": 0.6508832865752667,
                "edges_y": 0.7450130088899891,
                "ew": 0.36138613861386143,
                "pe": "[3, 6]"
               },
               {
                "edges_x": 0.5065170957051912,
                "edges_y": 0.44817218029000694,
                "ew": 0.8688118811881188,
                "pe": "[3, 7]"
               },
               {
                "edges_x": 0.6184435793956204,
                "edges_y": 1.3193484960764532,
                "ew": 0.8688118811881188,
                "pe": "[3, 7]"
               },
               {
                "edges_x": 0.5065170957051912,
                "edges_y": 0.44817218029000694,
                "ew": 0.556930693069307,
                "pe": "[3, 8]"
               },
               {
                "edges_x": 1.206061190479001,
                "edges_y": 0.6034633084794592,
                "ew": 0.556930693069307,
                "pe": "[3, 8]"
               },
               {
                "edges_x": 0.5065170957051912,
                "edges_y": 0.44817218029000694,
                "ew": 0.6336633663366337,
                "pe": "[3, 9]"
               },
               {
                "edges_x": 0.721856173205147,
                "edges_y": 1.302496100594305,
                "ew": 0.6336633663366337,
                "pe": "[3, 9]"
               },
               {
                "edges_x": 0.5065170957051912,
                "edges_y": 0.44817218029000694,
                "ew": 0.7623762376237624,
                "pe": "[3, 10]"
               },
               {
                "edges_x": 1.116071930639642,
                "edges_y": 0.969468827124786,
                "ew": 0.7623762376237624,
                "pe": "[3, 10]"
               },
               {
                "edges_x": 0.4617045283901213,
                "edges_y": 0.12355083809283585,
                "ew": 0.7202970297029704,
                "pe": "[4, 1]"
               },
               {
                "edges_x": 0.9421774954859741,
                "edges_y": 1.3872341290928847,
                "ew": 0.7202970297029704,
                "pe": "[4, 1]"
               },
               {
                "edges_x": 0.4617045283901213,
                "edges_y": 0.12355083809283585,
                "ew": 0.40841584158415845,
                "pe": "[4, 2]"
               },
               {
                "edges_x": 1.1444637664062214,
                "edges_y": 0.5025450047019815,
                "ew": 0.40841584158415845,
                "pe": "[4, 2]"
               },
               {
                "edges_x": 0.4617045283901213,
                "edges_y": 0.12355083809283585,
                "ew": 0.17574257425742576,
                "pe": "[4, 3]"
               },
               {
                "edges_x": 1.1760197432878379,
                "edges_y": 1.132684038884477,
                "ew": 0.17574257425742576,
                "pe": "[4, 3]"
               },
               {
                "edges_x": 0.4617045283901213,
                "edges_y": 0.12355083809283585,
                "ew": 0.24752475247524755,
                "pe": "[4, 4]"
               },
               {
                "edges_x": 0.5321934168377944,
                "edges_y": 0.9356364084639213,
                "ew": 0.24752475247524755,
                "pe": "[4, 4]"
               },
               {
                "edges_x": 0.4617045283901213,
                "edges_y": 0.12355083809283585,
                "ew": 0.4356435643564357,
                "pe": "[4, 5]"
               },
               {
                "edges_x": 1.434225731077603,
                "edges_y": 1.1674226949932396,
                "ew": 0.4356435643564357,
                "pe": "[4, 5]"
               },
               {
                "edges_x": 0.4617045283901213,
                "edges_y": 0.12355083809283585,
                "ew": 0.40594059405940597,
                "pe": "[4, 6]"
               },
               {
                "edges_x": 0.6508832865752667,
                "edges_y": 0.7450130088899891,
                "ew": 0.40594059405940597,
                "pe": "[4, 6]"
               },
               {
                "edges_x": 0.4617045283901213,
                "edges_y": 0.12355083809283585,
                "ew": 0.6757425742574258,
                "pe": "[4, 7]"
               },
               {
                "edges_x": 0.6184435793956204,
                "edges_y": 1.3193484960764532,
                "ew": 0.6757425742574258,
                "pe": "[4, 7]"
               },
               {
                "edges_x": 0.4617045283901213,
                "edges_y": 0.12355083809283585,
                "ew": 0.6534653465346535,
                "pe": "[4, 8]"
               },
               {
                "edges_x": 1.206061190479001,
                "edges_y": 0.6034633084794592,
                "ew": 0.6534653465346535,
                "pe": "[4, 8]"
               },
               {
                "edges_x": 0.4617045283901213,
                "edges_y": 0.12355083809283585,
                "ew": 0.4925742574257426,
                "pe": "[4, 9]"
               },
               {
                "edges_x": 0.721856173205147,
                "edges_y": 1.302496100594305,
                "ew": 0.4925742574257426,
                "pe": "[4, 9]"
               },
               {
                "edges_x": 0.4617045283901213,
                "edges_y": 0.12355083809283585,
                "ew": 0.7103960396039605,
                "pe": "[4, 10]"
               },
               {
                "edges_x": 1.116071930639642,
                "edges_y": 0.969468827124786,
                "ew": 0.7103960396039605,
                "pe": "[4, 10]"
               },
               {
                "edges_x": 0.3893100903361628,
                "edges_y": 0.06635075123101641,
                "ew": 0.03217821782178218,
                "pe": "[5, 1]"
               },
               {
                "edges_x": 0.9421774954859741,
                "edges_y": 1.3872341290928847,
                "ew": 0.03217821782178218,
                "pe": "[5, 1]"
               },
               {
                "edges_x": 0.3893100903361628,
                "edges_y": 0.06635075123101641,
                "ew": 0.019801980198019802,
                "pe": "[5, 2]"
               },
               {
                "edges_x": 1.1444637664062214,
                "edges_y": 0.5025450047019815,
                "ew": 0.019801980198019802,
                "pe": "[5, 2]"
               },
               {
                "edges_x": 0.3893100903361628,
                "edges_y": 0.06635075123101641,
                "ew": 0.007425742574257425,
                "pe": "[5, 3]"
               },
               {
                "edges_x": 1.1760197432878379,
                "edges_y": 1.132684038884477,
                "ew": 0.007425742574257425,
                "pe": "[5, 3]"
               },
               {
                "edges_x": 0.3893100903361628,
                "edges_y": 0.06635075123101641,
                "ew": 0.012376237623762377,
                "pe": "[5, 4]"
               },
               {
                "edges_x": 0.5321934168377944,
                "edges_y": 0.9356364084639213,
                "ew": 0.012376237623762377,
                "pe": "[5, 4]"
               },
               {
                "edges_x": 0.3893100903361628,
                "edges_y": 0.06635075123101641,
                "ew": 0.019801980198019802,
                "pe": "[5, 5]"
               },
               {
                "edges_x": 1.434225731077603,
                "edges_y": 1.1674226949932396,
                "ew": 0.019801980198019802,
                "pe": "[5, 5]"
               },
               {
                "edges_x": 0.3893100903361628,
                "edges_y": 0.06635075123101641,
                "ew": 0.019801980198019802,
                "pe": "[5, 6]"
               },
               {
                "edges_x": 0.6508832865752667,
                "edges_y": 0.7450130088899891,
                "ew": 0.019801980198019802,
                "pe": "[5, 6]"
               },
               {
                "edges_x": 0.3893100903361628,
                "edges_y": 0.06635075123101641,
                "ew": 0.03217821782178218,
                "pe": "[5, 7]"
               },
               {
                "edges_x": 0.6184435793956204,
                "edges_y": 1.3193484960764532,
                "ew": 0.03217821782178218,
                "pe": "[5, 7]"
               },
               {
                "edges_x": 0.3893100903361628,
                "edges_y": 0.06635075123101641,
                "ew": 0.03217821782178218,
                "pe": "[5, 8]"
               },
               {
                "edges_x": 1.206061190479001,
                "edges_y": 0.6034633084794592,
                "ew": 0.03217821782178218,
                "pe": "[5, 8]"
               },
               {
                "edges_x": 0.3893100903361628,
                "edges_y": 0.06635075123101641,
                "ew": 0.022277227722772276,
                "pe": "[5, 9]"
               },
               {
                "edges_x": 0.721856173205147,
                "edges_y": 1.302496100594305,
                "ew": 0.022277227722772276,
                "pe": "[5, 9]"
               },
               {
                "edges_x": 0.3893100903361628,
                "edges_y": 0.06635075123101641,
                "ew": 0.03217821782178218,
                "pe": "[5, 10]"
               },
               {
                "edges_x": 1.116071930639642,
                "edges_y": 0.969468827124786,
                "ew": 0.03217821782178218,
                "pe": "[5, 10]"
               },
               {
                "edges_x": 0.6993302606614282,
                "edges_y": 0.22655236267581613,
                "ew": 0.32425742574257427,
                "pe": "[6, 1]"
               },
               {
                "edges_x": 0.9421774954859741,
                "edges_y": 1.3872341290928847,
                "ew": 0.32425742574257427,
                "pe": "[6, 1]"
               },
               {
                "edges_x": 0.6993302606614282,
                "edges_y": 0.22655236267581613,
                "ew": 0.16831683168316833,
                "pe": "[6, 2]"
               },
               {
                "edges_x": 1.1444637664062214,
                "edges_y": 0.5025450047019815,
                "ew": 0.16831683168316833,
                "pe": "[6, 2]"
               },
               {
                "edges_x": 0.6993302606614282,
                "edges_y": 0.22655236267581613,
                "ew": 0.08415841584158416,
                "pe": "[6, 3]"
               },
               {
                "edges_x": 1.1760197432878379,
                "edges_y": 1.132684038884477,
                "ew": 0.08415841584158416,
                "pe": "[6, 3]"
               },
               {
                "edges_x": 0.6993302606614282,
                "edges_y": 0.22655236267581613,
                "ew": 0.08415841584158416,
                "pe": "[6, 4]"
               },
               {
                "edges_x": 0.5321934168377944,
                "edges_y": 0.9356364084639213,
                "ew": 0.08415841584158416,
                "pe": "[6, 4]"
               },
               {
                "edges_x": 0.6993302606614282,
                "edges_y": 0.22655236267581613,
                "ew": 0.2376237623762376,
                "pe": "[6, 5]"
               },
               {
                "edges_x": 1.434225731077603,
                "edges_y": 1.1674226949932396,
                "ew": 0.2376237623762376,
                "pe": "[6, 5]"
               },
               {
                "edges_x": 0.6993302606614282,
                "edges_y": 0.22655236267581613,
                "ew": 0.13861386138613863,
                "pe": "[6, 6]"
               },
               {
                "edges_x": 0.6508832865752667,
                "edges_y": 0.7450130088899891,
                "ew": 0.13861386138613863,
                "pe": "[6, 6]"
               },
               {
                "edges_x": 0.6993302606614282,
                "edges_y": 0.22655236267581613,
                "ew": 0.25742574257425743,
                "pe": "[6, 7]"
               },
               {
                "edges_x": 0.6184435793956204,
                "edges_y": 1.3193484960764532,
                "ew": 0.25742574257425743,
                "pe": "[6, 7]"
               },
               {
                "edges_x": 0.6993302606614282,
                "edges_y": 0.22655236267581613,
                "ew": 0.2846534653465347,
                "pe": "[6, 8]"
               },
               {
                "edges_x": 1.206061190479001,
                "edges_y": 0.6034633084794592,
                "ew": 0.2846534653465347,
                "pe": "[6, 8]"
               },
               {
                "edges_x": 0.6993302606614282,
                "edges_y": 0.22655236267581613,
                "ew": 0.19554455445544558,
                "pe": "[6, 9]"
               },
               {
                "edges_x": 0.721856173205147,
                "edges_y": 1.302496100594305,
                "ew": 0.19554455445544558,
                "pe": "[6, 9]"
               },
               {
                "edges_x": 0.6993302606614282,
                "edges_y": 0.22655236267581613,
                "ew": 0.3193069306930693,
                "pe": "[6, 10]"
               },
               {
                "edges_x": 1.116071930639642,
                "edges_y": 0.969468827124786,
                "ew": 0.3193069306930693,
                "pe": "[6, 10]"
               },
               {
                "edges_x": 0.16709682143673565,
                "edges_y": 0.46960588645050905,
                "ew": 0.24752475247524755,
                "pe": "[7, 1]"
               },
               {
                "edges_x": 0.9421774954859741,
                "edges_y": 1.3872341290928847,
                "ew": 0.24752475247524755,
                "pe": "[7, 1]"
               },
               {
                "edges_x": 0.16709682143673565,
                "edges_y": 0.46960588645050905,
                "ew": 0.06683168316831684,
                "pe": "[7, 2]"
               },
               {
                "edges_x": 1.1444637664062214,
                "edges_y": 0.5025450047019815,
                "ew": 0.06683168316831684,
                "pe": "[7, 2]"
               },
               {
                "edges_x": 0.16709682143673565,
                "edges_y": 0.46960588645050905,
                "ew": 0.04455445544554455,
                "pe": "[7, 3]"
               },
               {
                "edges_x": 1.1760197432878379,
                "edges_y": 1.132684038884477,
                "ew": 0.04455445544554455,
                "pe": "[7, 3]"
               },
               {
                "edges_x": 0.16709682143673565,
                "edges_y": 0.46960588645050905,
                "ew": 0.07920792079207921,
                "pe": "[7, 4]"
               },
               {
                "edges_x": 0.5321934168377944,
                "edges_y": 0.9356364084639213,
                "ew": 0.07920792079207921,
                "pe": "[7, 4]"
               },
               {
                "edges_x": 0.16709682143673565,
                "edges_y": 0.46960588645050905,
                "ew": 0.09653465346534654,
                "pe": "[7, 5]"
               },
               {
                "edges_x": 1.434225731077603,
                "edges_y": 1.1674226949932396,
                "ew": 0.09653465346534654,
                "pe": "[7, 5]"
               },
               {
                "edges_x": 0.16709682143673565,
                "edges_y": 0.46960588645050905,
                "ew": 0.10643564356435643,
                "pe": "[7, 6]"
               },
               {
                "edges_x": 0.6508832865752667,
                "edges_y": 0.7450130088899891,
                "ew": 0.10643564356435643,
                "pe": "[7, 6]"
               },
               {
                "edges_x": 0.16709682143673565,
                "edges_y": 0.46960588645050905,
                "ew": 0.26732673267326734,
                "pe": "[7, 7]"
               },
               {
                "edges_x": 0.6184435793956204,
                "edges_y": 1.3193484960764532,
                "ew": 0.26732673267326734,
                "pe": "[7, 7]"
               },
               {
                "edges_x": 0.16709682143673565,
                "edges_y": 0.46960588645050905,
                "ew": 0.11138613861386139,
                "pe": "[7, 8]"
               },
               {
                "edges_x": 1.206061190479001,
                "edges_y": 0.6034633084794592,
                "ew": 0.11138613861386139,
                "pe": "[7, 8]"
               },
               {
                "edges_x": 0.16709682143673565,
                "edges_y": 0.46960588645050905,
                "ew": 0.18069306930693071,
                "pe": "[7, 9]"
               },
               {
                "edges_x": 0.721856173205147,
                "edges_y": 1.302496100594305,
                "ew": 0.18069306930693071,
                "pe": "[7, 9]"
               },
               {
                "edges_x": 0.16709682143673565,
                "edges_y": 0.46960588645050905,
                "ew": 0.16584158415841585,
                "pe": "[7, 10]"
               },
               {
                "edges_x": 1.116071930639642,
                "edges_y": 0.969468827124786,
                "ew": 0.16584158415841585,
                "pe": "[7, 10]"
               },
               {
                "edges_x": 0.7181387051238257,
                "edges_y": 0.6601933484076765,
                "ew": 0.25495049504950495,
                "pe": "[8, 1]"
               },
               {
                "edges_x": 0.9421774954859741,
                "edges_y": 1.3872341290928847,
                "ew": 0.25495049504950495,
                "pe": "[8, 1]"
               },
               {
                "edges_x": 0.7181387051238257,
                "edges_y": 0.6601933484076765,
                "ew": 0.06188118811881189,
                "pe": "[8, 2]"
               },
               {
                "edges_x": 1.1444637664062214,
                "edges_y": 0.5025450047019815,
                "ew": 0.06188118811881189,
                "pe": "[8, 2]"
               },
               {
                "edges_x": 0.7181387051238257,
                "edges_y": 0.6601933484076765,
                "ew": 0.05445544554455446,
                "pe": "[8, 3]"
               },
               {
                "edges_x": 1.1760197432878379,
                "edges_y": 1.132684038884477,
                "ew": 0.05445544554455446,
                "pe": "[8, 3]"
               },
               {
                "edges_x": 0.7181387051238257,
                "edges_y": 0.6601933484076765,
                "ew": 0.04455445544554455,
                "pe": "[8, 4]"
               },
               {
                "edges_x": 0.5321934168377944,
                "edges_y": 0.9356364084639213,
                "ew": 0.04455445544554455,
                "pe": "[8, 4]"
               },
               {
                "edges_x": 0.7181387051238257,
                "edges_y": 0.6601933484076765,
                "ew": 0.15594059405940594,
                "pe": "[8, 5]"
               },
               {
                "edges_x": 1.434225731077603,
                "edges_y": 1.1674226949932396,
                "ew": 0.15594059405940594,
                "pe": "[8, 5]"
               },
               {
                "edges_x": 0.7181387051238257,
                "edges_y": 0.6601933484076765,
                "ew": 0.06188118811881189,
                "pe": "[8, 6]"
               },
               {
                "edges_x": 0.6508832865752667,
                "edges_y": 0.7450130088899891,
                "ew": 0.06188118811881189,
                "pe": "[8, 6]"
               },
               {
                "edges_x": 0.7181387051238257,
                "edges_y": 0.6601933484076765,
                "ew": 0.18811881188118812,
                "pe": "[8, 7]"
               },
               {
                "edges_x": 0.6184435793956204,
                "edges_y": 1.3193484960764532,
                "ew": 0.18811881188118812,
                "pe": "[8, 7]"
               },
               {
                "edges_x": 0.7181387051238257,
                "edges_y": 0.6601933484076765,
                "ew": 0.11386138613861387,
                "pe": "[8, 8]"
               },
               {
                "edges_x": 1.206061190479001,
                "edges_y": 0.6034633084794592,
                "ew": 0.11386138613861387,
                "pe": "[8, 8]"
               },
               {
                "edges_x": 0.7181387051238257,
                "edges_y": 0.6601933484076765,
                "ew": 0.1410891089108911,
                "pe": "[8, 9]"
               },
               {
                "edges_x": 0.721856173205147,
                "edges_y": 1.302496100594305,
                "ew": 0.1410891089108911,
                "pe": "[8, 9]"
               },
               {
                "edges_x": 0.7181387051238257,
                "edges_y": 0.6601933484076765,
                "ew": 0.17574257425742576,
                "pe": "[8, 10]"
               },
               {
                "edges_x": 1.116071930639642,
                "edges_y": 0.969468827124786,
                "ew": 0.17574257425742576,
                "pe": "[8, 10]"
               },
               {
                "edges_x": 0.9309970492805104,
                "edges_y": 0.5681604870432839,
                "ew": 0.6138613861386139,
                "pe": "[9, 1]"
               },
               {
                "edges_x": 0.9421774954859741,
                "edges_y": 1.3872341290928847,
                "ew": 0.6138613861386139,
                "pe": "[9, 1]"
               },
               {
                "edges_x": 0.9309970492805104,
                "edges_y": 0.5681604870432839,
                "ew": 0.1905940594059406,
                "pe": "[9, 2]"
               },
               {
                "edges_x": 1.1444637664062214,
                "edges_y": 0.5025450047019815,
                "ew": 0.1905940594059406,
                "pe": "[9, 2]"
               },
               {
                "edges_x": 0.9309970492805104,
                "edges_y": 0.5681604870432839,
                "ew": 0.14851485148514854,
                "pe": "[9, 3]"
               },
               {
                "edges_x": 1.1760197432878379,
                "edges_y": 1.132684038884477,
                "ew": 0.14851485148514854,
                "pe": "[9, 3]"
               },
               {
                "edges_x": 0.9309970492805104,
                "edges_y": 0.5681604870432839,
                "ew": 0.09653465346534654,
                "pe": "[9, 4]"
               },
               {
                "edges_x": 0.5321934168377944,
                "edges_y": 0.9356364084639213,
                "ew": 0.09653465346534654,
                "pe": "[9, 4]"
               },
               {
                "edges_x": 0.9309970492805104,
                "edges_y": 0.5681604870432839,
                "ew": 0.48514851485148514,
                "pe": "[9, 5]"
               },
               {
                "edges_x": 1.434225731077603,
                "edges_y": 1.1674226949932396,
                "ew": 0.48514851485148514,
                "pe": "[9, 5]"
               },
               {
                "edges_x": 0.9309970492805104,
                "edges_y": 0.5681604870432839,
                "ew": 0.14851485148514854,
                "pe": "[9, 6]"
               },
               {
                "edges_x": 0.6508832865752667,
                "edges_y": 0.7450130088899891,
                "ew": 0.14851485148514854,
                "pe": "[9, 6]"
               },
               {
                "edges_x": 0.9309970492805104,
                "edges_y": 0.5681604870432839,
                "ew": 0.39851485148514854,
                "pe": "[9, 7]"
               },
               {
                "edges_x": 0.6184435793956204,
                "edges_y": 1.3193484960764532,
                "ew": 0.39851485148514854,
                "pe": "[9, 7]"
               },
               {
                "edges_x": 0.9309970492805104,
                "edges_y": 0.5681604870432839,
                "ew": 0.353960396039604,
                "pe": "[9, 8]"
               },
               {
                "edges_x": 1.206061190479001,
                "edges_y": 0.6034633084794592,
                "ew": 0.353960396039604,
                "pe": "[9, 8]"
               },
               {
                "edges_x": 0.9309970492805104,
                "edges_y": 0.5681604870432839,
                "ew": 0.31683168316831684,
                "pe": "[9, 9]"
               },
               {
                "edges_x": 0.721856173205147,
                "edges_y": 1.302496100594305,
                "ew": 0.31683168316831684,
                "pe": "[9, 9]"
               },
               {
                "edges_x": 0.9309970492805104,
                "edges_y": 0.5681604870432839,
                "ew": 0.4925742574257426,
                "pe": "[9, 10]"
               },
               {
                "edges_x": 1.116071930639642,
                "edges_y": 0.969468827124786,
                "ew": 0.4925742574257426,
                "pe": "[9, 10]"
               },
               {
                "edges_x": 0.8556602431685518,
                "edges_y": 0.088362427761294,
                "ew": 0.353960396039604,
                "pe": "[10, 1]"
               },
               {
                "edges_x": 0.9421774954859741,
                "edges_y": 1.3872341290928847,
                "ew": 0.353960396039604,
                "pe": "[10, 1]"
               },
               {
                "edges_x": 0.8556602431685518,
                "edges_y": 0.088362427761294,
                "ew": 0.25,
                "pe": "[10, 2]"
               },
               {
                "edges_x": 1.1444637664062214,
                "edges_y": 0.5025450047019815,
                "ew": 0.25,
                "pe": "[10, 2]"
               },
               {
                "edges_x": 0.8556602431685518,
                "edges_y": 0.088362427761294,
                "ew": 0.10643564356435643,
                "pe": "[10, 3]"
               },
               {
                "edges_x": 1.1760197432878379,
                "edges_y": 1.132684038884477,
                "ew": 0.10643564356435643,
                "pe": "[10, 3]"
               },
               {
                "edges_x": 0.8556602431685518,
                "edges_y": 0.088362427761294,
                "ew": 0.0915841584158416,
                "pe": "[10, 4]"
               },
               {
                "edges_x": 0.5321934168377944,
                "edges_y": 0.9356364084639213,
                "ew": 0.0915841584158416,
                "pe": "[10, 4]"
               },
               {
                "edges_x": 0.8556602431685518,
                "edges_y": 0.088362427761294,
                "ew": 0.3193069306930693,
                "pe": "[10, 5]"
               },
               {
                "edges_x": 1.434225731077603,
                "edges_y": 1.1674226949932396,
                "ew": 0.3193069306930693,
                "pe": "[10, 5]"
               },
               {
                "edges_x": 0.8556602431685518,
                "edges_y": 0.088362427761294,
                "ew": 0.16584158415841585,
                "pe": "[10, 6]"
               },
               {
                "edges_x": 0.6508832865752667,
                "edges_y": 0.7450130088899891,
                "ew": 0.16584158415841585,
                "pe": "[10, 6]"
               },
               {
                "edges_x": 0.8556602431685518,
                "edges_y": 0.088362427761294,
                "ew": 0.25742574257425743,
                "pe": "[10, 7]"
               },
               {
                "edges_x": 0.6184435793956204,
                "edges_y": 1.3193484960764532,
                "ew": 0.25742574257425743,
                "pe": "[10, 7]"
               },
               {
                "edges_x": 0.8556602431685518,
                "edges_y": 0.088362427761294,
                "ew": 0.4158415841584158,
                "pe": "[10, 8]"
               },
               {
                "edges_x": 1.206061190479001,
                "edges_y": 0.6034633084794592,
                "ew": 0.4158415841584158,
                "pe": "[10, 8]"
               },
               {
                "edges_x": 0.8556602431685518,
                "edges_y": 0.088362427761294,
                "ew": 0.20544554455445546,
                "pe": "[10, 9]"
               },
               {
                "edges_x": 0.721856173205147,
                "edges_y": 1.302496100594305,
                "ew": 0.20544554455445546,
                "pe": "[10, 9]"
               },
               {
                "edges_x": 0.8556602431685518,
                "edges_y": 0.088362427761294,
                "ew": 0.4108910891089109,
                "pe": "[10, 10]"
               },
               {
                "edges_x": 1.116071930639642,
                "edges_y": 0.969468827124786,
                "ew": 0.4108910891089109,
                "pe": "[10, 10]"
               }
              ]
             },
             "encoding": {
              "detail": {
               "field": "pe",
               "type": "ordinal"
              },
              "opacity": {
               "field": "ew",
               "legend": null,
               "type": "quantitative"
              },
              "size": {
               "field": "ew",
               "legend": null,
               "scale": {
                "range": [
                 0,
                 2
                ]
               },
               "type": "ordinal"
              },
              "x": {
               "axis": null,
               "field": "edges_x",
               "type": "quantitative"
              },
              "y": {
               "axis": null,
               "field": "edges_y",
               "type": "quantitative"
              }
             },
             "height": 200,
             "mark": {
              "clip": false,
              "color": "black",
              "type": "line"
             },
             "width": 200
            },
            {
             "data": {
              "values": [
               {
                "size": 0.16463475181392923,
                "x": 0.9421774954859741,
                "y": 1.3872341290928847
               },
               {
                "size": 0.07128751647860529,
                "x": 1.1444637664062214,
                "y": 0.5025450047019815
               },
               {
                "size": 0.038460280624755774,
                "x": 1.1760197432878379,
                "y": 1.132684038884477
               },
               {
                "size": 0.0445292985586942,
                "x": 0.5321934168377944,
                "y": 0.9356364084639213
               },
               {
                "size": 0.10416614071927005,
                "x": 1.434225731077603,
                "y": 1.1674226949932396
               },
               {
                "size": 0.06955597008016547,
                "x": 0.6508832865752667,
                "y": 0.7450130088899891
               },
               {
                "size": 0.14070122088350126,
                "x": 0.6184435793956204,
                "y": 1.3193484960764532
               },
               {
                "size": 0.11922556219728855,
                "x": 1.206061190479001,
                "y": 0.6034633084794592
               },
               {
                "size": 0.1038514410322068,
                "x": 0.721856173205147,
                "y": 1.302496100594305
               },
               {
                "size": 0.14358781761158335,
                "x": 1.116071930639642,
                "y": 0.969468827124786
               }
              ]
             },
             "encoding": {
              "size": {
               "field": "size",
               "legend": null,
               "title": null,
               "type": "q"
              },
              "x": {
               "axis": null,
               "field": "x",
               "title": null,
               "type": "quantitative"
              },
              "y": {
               "axis": null,
               "field": "y",
               "title": null,
               "type": "quantitative"
              }
             },
             "height": 200,
             "mark": {
              "color": "red",
              "opacity": 1,
              "type": "circle"
             },
             "width": 200
            },
            {
             "data": {
              "values": [
               {
                "size": 0.057574681395820296,
                "x": 0.4693443014806442,
                "y": 0.2684417303924138
               },
               {
                "size": 0.08584042045627449,
                "x": 0.23187108390217226,
                "y": 0.06352946708206986
               },
               {
                "size": 0.22268620293203997,
                "x": 0.5065170957051912,
                "y": 0.44817218029000694
               },
               {
                "size": 0.19901647222007454,
                "x": 0.4617045283901213,
                "y": 0.12355083809283585
               },
               {
                "size": 0.009346565707262975,
                "x": 0.3893100903361628,
                "y": 0.06635075123101641
               },
               {
                "size": 0.08458136309754984,
                "x": 0.6993302606614282,
                "y": 0.22655236267581613
               },
               {
                "size": 0.055231308220935624,
                "x": 0.16709682143673565,
                "y": 0.46960588645050905
               },
               {
                "size": 0.05043224856060407,
                "x": 0.7181387051238257,
                "y": 0.6601933484076765
               },
               {
                "size": 0.13126058863989656,
                "x": 0.9309970492805104,
                "y": 0.5681604870432839
               },
               {
                "size": 0.10403014876954182,
                "x": 0.8556602431685518,
                "y": 0.088362427761294
               }
              ]
             },
             "encoding": {
              "size": {
               "field": "size",
               "legend": null,
               "title": null,
               "type": "q"
              },
              "x": {
               "axis": null,
               "field": "x",
               "title": null,
               "type": "quantitative"
              },
              "y": {
               "axis": null,
               "field": "y",
               "title": null,
               "type": "quantitative"
              }
             },
             "height": 200,
             "mark": {
              "opacity": 1,
              "type": "circle"
             },
             "width": 200
            }
           ],
           "title": "ϵ = 1.0",
           "view": {
            "stroke": null
           }
          }
         ]
        },
        {
         "layer": [
          {
           "data": {
            "values": [
             {
              "edges_x": 0.4693443014806442,
              "edges_y": 0.2684417303924138,
              "ew": 0.25675675675675674,
              "pe": "[1, 1]"
             },
             {
              "edges_x": 0.9421774954859741,
              "edges_y": 1.3872341290928847,
              "ew": 0.25675675675675674,
              "pe": "[1, 1]"
             },
             {
              "edges_x": 0.4693443014806442,
              "edges_y": 0.2684417303924138,
              "ew": 0.11081081081081083,
              "pe": "[1, 2]"
             },
             {
              "edges_x": 1.1444637664062214,
              "edges_y": 0.5025450047019815,
              "ew": 0.11081081081081083,
              "pe": "[1, 2]"
             },
             {
              "edges_x": 0.4693443014806442,
              "edges_y": 0.2684417303924138,
              "ew": 0.05945945945945946,
              "pe": "[1, 3]"
             },
             {
              "edges_x": 1.1760197432878379,
              "edges_y": 1.132684038884477,
              "ew": 0.05945945945945946,
              "pe": "[1, 3]"
             },
             {
              "edges_x": 0.4693443014806442,
              "edges_y": 0.2684417303924138,
              "ew": 0.07027027027027027,
              "pe": "[1, 4]"
             },
             {
              "edges_x": 0.5321934168377944,
              "edges_y": 0.9356364084639213,
              "ew": 0.07027027027027027,
              "pe": "[1, 4]"
             },
             {
              "edges_x": 0.4693443014806442,
              "edges_y": 0.2684417303924138,
              "ew": 0.15945945945945947,
              "pe": "[1, 5]"
             },
             {
              "edges_x": 1.434225731077603,
              "edges_y": 1.1674226949932396,
              "ew": 0.15945945945945947,
              "pe": "[1, 5]"
             },
             {
              "edges_x": 0.4693443014806442,
              "edges_y": 0.2684417303924138,
              "ew": 0.10810810810810811,
              "pe": "[1, 6]"
             },
             {
              "edges_x": 0.6508832865752667,
              "edges_y": 0.7450130088899891,
              "ew": 0.10810810810810811,
              "pe": "[1, 6]"
             },
             {
              "edges_x": 0.4693443014806442,
              "edges_y": 0.2684417303924138,
              "ew": 0.21891891891891893,
              "pe": "[1, 7]"
             },
             {
              "edges_x": 0.6184435793956204,
              "edges_y": 1.3193484960764532,
              "ew": 0.21891891891891893,
              "pe": "[1, 7]"
             },
             {
              "edges_x": 0.4693443014806442,
              "edges_y": 0.2684417303924138,
              "ew": 0.1864864864864865,
              "pe": "[1, 8]"
             },
             {
              "edges_x": 1.206061190479001,
              "edges_y": 0.6034633084794592,
              "ew": 0.1864864864864865,
              "pe": "[1, 8]"
             },
             {
              "edges_x": 0.4693443014806442,
              "edges_y": 0.2684417303924138,
              "ew": 0.16216216216216217,
              "pe": "[1, 9]"
             },
             {
              "edges_x": 0.721856173205147,
              "edges_y": 1.302496100594305,
              "ew": 0.16216216216216217,
              "pe": "[1, 9]"
             },
             {
              "edges_x": 0.4693443014806442,
              "edges_y": 0.2684417303924138,
              "ew": 0.22162162162162166,
              "pe": "[1, 10]"
             },
             {
              "edges_x": 1.116071930639642,
              "edges_y": 0.969468827124786,
              "ew": 0.22162162162162166,
              "pe": "[1, 10]"
             },
             {
              "edges_x": 0.23187108390217226,
              "edges_y": 0.06352946708206986,
              "ew": 0.37567567567567567,
              "pe": "[2, 1]"
             },
             {
              "edges_x": 0.9421774954859741,
              "edges_y": 1.3872341290928847,
              "ew": 0.37567567567567567,
              "pe": "[2, 1]"
             },
             {
              "edges_x": 0.23187108390217226,
              "edges_y": 0.06352946708206986,
              "ew": 0.16756756756756758,
              "pe": "[2, 2]"
             },
             {
              "edges_x": 1.1444637664062214,
              "edges_y": 0.5025450047019815,
              "ew": 0.16756756756756758,
              "pe": "[2, 2]"
             },
             {
              "edges_x": 0.23187108390217226,
              "edges_y": 0.06352946708206986,
              "ew": 0.08648648648648649,
              "pe": "[2, 3]"
             },
             {
              "edges_x": 1.1760197432878379,
              "edges_y": 1.132684038884477,
              "ew": 0.08648648648648649,
              "pe": "[2, 3]"
             },
             {
              "edges_x": 0.23187108390217226,
              "edges_y": 0.06352946708206986,
              "ew": 0.10810810810810811,
              "pe": "[2, 4]"
             },
             {
              "edges_x": 0.5321934168377944,
              "edges_y": 0.9356364084639213,
              "ew": 0.10810810810810811,
              "pe": "[2, 4]"
             },
             {
              "edges_x": 0.23187108390217226,
              "edges_y": 0.06352946708206986,
              "ew": 0.23243243243243245,
              "pe": "[2, 5]"
             },
             {
              "edges_x": 1.434225731077603,
              "edges_y": 1.1674226949932396,
              "ew": 0.23243243243243245,
              "pe": "[2, 5]"
             },
             {
              "edges_x": 0.23187108390217226,
              "edges_y": 0.06352946708206986,
              "ew": 0.16756756756756758,
              "pe": "[2, 6]"
             },
             {
              "edges_x": 0.6508832865752667,
              "edges_y": 0.7450130088899891,
              "ew": 0.16756756756756758,
              "pe": "[2, 6]"
             },
             {
              "edges_x": 0.23187108390217226,
              "edges_y": 0.06352946708206986,
              "ew": 0.32972972972972975,
              "pe": "[2, 7]"
             },
             {
              "edges_x": 0.6184435793956204,
              "edges_y": 1.3193484960764532,
              "ew": 0.32972972972972975,
              "pe": "[2, 7]"
             },
             {
              "edges_x": 0.23187108390217226,
              "edges_y": 0.06352946708206986,
              "ew": 0.2783783783783784,
              "pe": "[2, 8]"
             },
             {
              "edges_x": 1.206061190479001,
              "edges_y": 0.6034633084794592,
              "ew": 0.2783783783783784,
              "pe": "[2, 8]"
             },
             {
              "edges_x": 0.23187108390217226,
              "edges_y": 0.06352946708206986,
              "ew": 0.24324324324324323,
              "pe": "[2, 9]"
             },
             {
              "edges_x": 0.721856173205147,
              "edges_y": 1.302496100594305,
              "ew": 0.24324324324324323,
              "pe": "[2, 9]"
             },
             {
              "edges_x": 0.23187108390217226,
              "edges_y": 0.06352946708206986,
              "ew": 0.3324324324324325,
              "pe": "[2, 10]"
             },
             {
              "edges_x": 1.116071930639642,
              "edges_y": 0.969468827124786,
              "ew": 0.3324324324324325,
              "pe": "[2, 10]"
             },
             {
              "edges_x": 0.5065170957051912,
              "edges_y": 0.44817218029000694,
              "ew": 1,
              "pe": "[3, 1]"
             },
             {
              "edges_x": 0.9421774954859741,
              "edges_y": 1.3872341290928847,
              "ew": 1,
              "pe": "[3, 1]"
             },
             {
              "edges_x": 0.5065170957051912,
              "edges_y": 0.44817218029000694,
              "ew": 0.42162162162162165,
              "pe": "[3, 2]"
             },
             {
              "edges_x": 1.1444637664062214,
              "edges_y": 0.5025450047019815,
              "ew": 0.42162162162162165,
              "pe": "[3, 2]"
             },
             {
              "edges_x": 0.5065170957051912,
              "edges_y": 0.44817218029000694,
              "ew": 0.23243243243243245,
              "pe": "[3, 3]"
             },
             {
              "edges_x": 1.1760197432878379,
              "edges_y": 1.132684038884477,
              "ew": 0.23243243243243245,
              "pe": "[3, 3]"
             },
             {
              "edges_x": 0.5065170957051912,
              "edges_y": 0.44817218029000694,
              "ew": 0.2675675675675676,
              "pe": "[3, 4]"
             },
             {
              "edges_x": 0.5321934168377944,
              "edges_y": 0.9356364084639213,
              "ew": 0.2675675675675676,
              "pe": "[3, 4]"
             },
             {
              "edges_x": 0.5065170957051912,
              "edges_y": 0.44817218029000694,
              "ew": 0.6243243243243243,
              "pe": "[3, 5]"
             },
             {
              "edges_x": 1.434225731077603,
              "edges_y": 1.1674226949932396,
              "ew": 0.6243243243243243,
              "pe": "[3, 5]"
             },
             {
              "edges_x": 0.5065170957051912,
              "edges_y": 0.44817218029000694,
              "ew": 0.41621621621621624,
              "pe": "[3, 6]"
             },
             {
              "edges_x": 0.6508832865752667,
              "edges_y": 0.7450130088899891,
              "ew": 0.41621621621621624,
              "pe": "[3, 6]"
             },
             {
              "edges_x": 0.5065170957051912,
              "edges_y": 0.44817218029000694,
              "ew": 0.8567567567567568,
              "pe": "[3, 7]"
             },
             {
              "edges_x": 0.6184435793956204,
              "edges_y": 1.3193484960764532,
              "ew": 0.8567567567567568,
              "pe": "[3, 7]"
             },
             {
              "edges_x": 0.5065170957051912,
              "edges_y": 0.44817218029000694,
              "ew": 0.7054054054054055,
              "pe": "[3, 8]"
             },
             {
              "edges_x": 1.206061190479001,
              "edges_y": 0.6034633084794592,
              "ew": 0.7054054054054055,
              "pe": "[3, 8]"
             },
             {
              "edges_x": 0.5065170957051912,
              "edges_y": 0.44817218029000694,
              "ew": 0.6324324324324325,
              "pe": "[3, 9]"
             },
             {
              "edges_x": 0.721856173205147,
              "edges_y": 1.302496100594305,
              "ew": 0.6324324324324325,
              "pe": "[3, 9]"
             },
             {
              "edges_x": 0.5065170957051912,
              "edges_y": 0.44817218029000694,
              "ew": 0.8594594594594596,
              "pe": "[3, 10]"
             },
             {
              "edges_x": 1.116071930639642,
              "edges_y": 0.969468827124786,
              "ew": 0.8594594594594596,
              "pe": "[3, 10]"
             },
             {
              "edges_x": 0.4617045283901213,
              "edges_y": 0.12355083809283585,
              "ew": 0.8756756756756757,
              "pe": "[4, 1]"
             },
             {
              "edges_x": 0.9421774954859741,
              "edges_y": 1.3872341290928847,
              "ew": 0.8756756756756757,
              "pe": "[4, 1]"
             },
             {
              "edges_x": 0.4617045283901213,
              "edges_y": 0.12355083809283585,
              "ew": 0.3891891891891892,
              "pe": "[4, 2]"
             },
             {
              "edges_x": 1.1444637664062214,
              "edges_y": 0.5025450047019815,
              "ew": 0.3891891891891892,
              "pe": "[4, 2]"
             },
             {
              "edges_x": 0.4617045283901213,
              "edges_y": 0.12355083809283585,
              "ew": 0.20540540540540542,
              "pe": "[4, 3]"
             },
             {
              "edges_x": 1.1760197432878379,
              "edges_y": 1.132684038884477,
              "ew": 0.20540540540540542,
              "pe": "[4, 3]"
             },
             {
              "edges_x": 0.4617045283901213,
              "edges_y": 0.12355083809283585,
              "ew": 0.24324324324324323,
              "pe": "[4, 4]"
             },
             {
              "edges_x": 0.5321934168377944,
              "edges_y": 0.9356364084639213,
              "ew": 0.24324324324324323,
              "pe": "[4, 4]"
             },
             {
              "edges_x": 0.4617045283901213,
              "edges_y": 0.12355083809283585,
              "ew": 0.5513513513513514,
              "pe": "[4, 5]"
             },
             {
              "edges_x": 1.434225731077603,
              "edges_y": 1.1674226949932396,
              "ew": 0.5513513513513514,
              "pe": "[4, 5]"
             },
             {
              "edges_x": 0.4617045283901213,
              "edges_y": 0.12355083809283585,
              "ew": 0.3810810810810811,
              "pe": "[4, 6]"
             },
             {
              "edges_x": 0.6508832865752667,
              "edges_y": 0.7450130088899891,
              "ew": 0.3810810810810811,
              "pe": "[4, 6]"
             },
             {
              "edges_x": 0.4617045283901213,
              "edges_y": 0.12355083809283585,
              "ew": 0.7540540540540541,
              "pe": "[4, 7]"
             },
             {
              "edges_x": 0.6184435793956204,
              "edges_y": 1.3193484960764532,
              "ew": 0.7540540540540541,
              "pe": "[4, 7]"
             },
             {
              "edges_x": 0.4617045283901213,
              "edges_y": 0.12355083809283585,
              "ew": 0.6486486486486487,
              "pe": "[4, 8]"
             },
             {
              "edges_x": 1.206061190479001,
              "edges_y": 0.6034633084794592,
              "ew": 0.6486486486486487,
              "pe": "[4, 8]"
             },
             {
              "edges_x": 0.4617045283901213,
              "edges_y": 0.12355083809283585,
              "ew": 0.5567567567567568,
              "pe": "[4, 9]"
             },
             {
              "edges_x": 0.721856173205147,
              "edges_y": 1.302496100594305,
              "ew": 0.5567567567567568,
              "pe": "[4, 9]"
             },
             {
              "edges_x": 0.4617045283901213,
              "edges_y": 0.12355083809283585,
              "ew": 0.7729729729729731,
              "pe": "[4, 10]"
             },
             {
              "edges_x": 1.116071930639642,
              "edges_y": 0.969468827124786,
              "ew": 0.7729729729729731,
              "pe": "[4, 10]"
             },
             {
              "edges_x": 0.3893100903361628,
              "edges_y": 0.06635075123101641,
              "ew": 0.04054054054054054,
              "pe": "[5, 1]"
             },
             {
              "edges_x": 0.9421774954859741,
              "edges_y": 1.3872341290928847,
              "ew": 0.04054054054054054,
              "pe": "[5, 1]"
             },
             {
              "edges_x": 0.3893100903361628,
              "edges_y": 0.06635075123101641,
              "ew": 0.01891891891891892,
              "pe": "[5, 2]"
             },
             {
              "edges_x": 1.1444637664062214,
              "edges_y": 0.5025450047019815,
              "ew": 0.01891891891891892,
              "pe": "[5, 2]"
             },
             {
              "edges_x": 0.3893100903361628,
              "edges_y": 0.06635075123101641,
              "ew": 0.010810810810810811,
              "pe": "[5, 3]"
             },
             {
              "edges_x": 1.1760197432878379,
              "edges_y": 1.132684038884477,
              "ew": 0.010810810810810811,
              "pe": "[5, 3]"
             },
             {
              "edges_x": 0.3893100903361628,
              "edges_y": 0.06635075123101641,
              "ew": 0.010810810810810811,
              "pe": "[5, 4]"
             },
             {
              "edges_x": 0.5321934168377944,
              "edges_y": 0.9356364084639213,
              "ew": 0.010810810810810811,
              "pe": "[5, 4]"
             },
             {
              "edges_x": 0.3893100903361628,
              "edges_y": 0.06635075123101641,
              "ew": 0.02702702702702703,
              "pe": "[5, 5]"
             },
             {
              "edges_x": 1.434225731077603,
              "edges_y": 1.1674226949932396,
              "ew": 0.02702702702702703,
              "pe": "[5, 5]"
             },
             {
              "edges_x": 0.3893100903361628,
              "edges_y": 0.06635075123101641,
              "ew": 0.01891891891891892,
              "pe": "[5, 6]"
             },
             {
              "edges_x": 0.6508832865752667,
              "edges_y": 0.7450130088899891,
              "ew": 0.01891891891891892,
              "pe": "[5, 6]"
             },
             {
              "edges_x": 0.3893100903361628,
              "edges_y": 0.06635075123101641,
              "ew": 0.03513513513513514,
              "pe": "[5, 7]"
             },
             {
              "edges_x": 0.6184435793956204,
              "edges_y": 1.3193484960764532,
              "ew": 0.03513513513513514,
              "pe": "[5, 7]"
             },
             {
              "edges_x": 0.3893100903361628,
              "edges_y": 0.06635075123101641,
              "ew": 0.02972972972972973,
              "pe": "[5, 8]"
             },
             {
              "edges_x": 1.206061190479001,
              "edges_y": 0.6034633084794592,
              "ew": 0.02972972972972973,
              "pe": "[5, 8]"
             },
             {
              "edges_x": 0.3893100903361628,
              "edges_y": 0.06635075123101641,
              "ew": 0.02702702702702703,
              "pe": "[5, 9]"
             },
             {
              "edges_x": 0.721856173205147,
              "edges_y": 1.302496100594305,
              "ew": 0.02702702702702703,
              "pe": "[5, 9]"
             },
             {
              "edges_x": 0.3893100903361628,
              "edges_y": 0.06635075123101641,
              "ew": 0.03513513513513514,
              "pe": "[5, 10]"
             },
             {
              "edges_x": 1.116071930639642,
              "edges_y": 0.969468827124786,
              "ew": 0.03513513513513514,
              "pe": "[5, 10]"
             },
             {
              "edges_x": 0.6993302606614282,
              "edges_y": 0.22655236267581613,
              "ew": 0.372972972972973,
              "pe": "[6, 1]"
             },
             {
              "edges_x": 0.9421774954859741,
              "edges_y": 1.3872341290928847,
              "ew": 0.372972972972973,
              "pe": "[6, 1]"
             },
             {
              "edges_x": 0.6993302606614282,
              "edges_y": 0.22655236267581613,
              "ew": 0.16486486486486487,
              "pe": "[6, 2]"
             },
             {
              "edges_x": 1.1444637664062214,
              "edges_y": 0.5025450047019815,
              "ew": 0.16486486486486487,
              "pe": "[6, 2]"
             },
             {
              "edges_x": 0.6993302606614282,
              "edges_y": 0.22655236267581613,
              "ew": 0.0891891891891892,
              "pe": "[6, 3]"
             },
             {
              "edges_x": 1.1760197432878379,
              "edges_y": 1.132684038884477,
              "ew": 0.0891891891891892,
              "pe": "[6, 3]"
             },
             {
              "edges_x": 0.6993302606614282,
              "edges_y": 0.22655236267581613,
              "ew": 0.1,
              "pe": "[6, 4]"
             },
             {
              "edges_x": 0.5321934168377944,
              "edges_y": 0.9356364084639213,
              "ew": 0.1,
              "pe": "[6, 4]"
             },
             {
              "edges_x": 0.6993302606614282,
              "edges_y": 0.22655236267581613,
              "ew": 0.24054054054054055,
              "pe": "[6, 5]"
             },
             {
              "edges_x": 1.434225731077603,
              "edges_y": 1.1674226949932396,
              "ew": 0.24054054054054055,
              "pe": "[6, 5]"
             },
             {
              "edges_x": 0.6993302606614282,
              "edges_y": 0.22655236267581613,
              "ew": 0.15945945945945947,
              "pe": "[6, 6]"
             },
             {
              "edges_x": 0.6508832865752667,
              "edges_y": 0.7450130088899891,
              "ew": 0.15945945945945947,
              "pe": "[6, 6]"
             },
             {
              "edges_x": 0.6993302606614282,
              "edges_y": 0.22655236267581613,
              "ew": 0.31621621621621626,
              "pe": "[6, 7]"
             },
             {
              "edges_x": 0.6184435793956204,
              "edges_y": 1.3193484960764532,
              "ew": 0.31621621621621626,
              "pe": "[6, 7]"
             },
             {
              "edges_x": 0.6993302606614282,
              "edges_y": 0.22655236267581613,
              "ew": 0.2756756756756757,
              "pe": "[6, 8]"
             },
             {
              "edges_x": 1.206061190479001,
              "edges_y": 0.6034633084794592,
              "ew": 0.2756756756756757,
              "pe": "[6, 8]"
             },
             {
              "edges_x": 0.6993302606614282,
              "edges_y": 0.22655236267581613,
              "ew": 0.23513513513513512,
              "pe": "[6, 9]"
             },
             {
              "edges_x": 0.721856173205147,
              "edges_y": 1.302496100594305,
              "ew": 0.23513513513513512,
              "pe": "[6, 9]"
             },
             {
              "edges_x": 0.6993302606614282,
              "edges_y": 0.22655236267581613,
              "ew": 0.32972972972972975,
              "pe": "[6, 10]"
             },
             {
              "edges_x": 1.116071930639642,
              "edges_y": 0.969468827124786,
              "ew": 0.32972972972972975,
              "pe": "[6, 10]"
             },
             {
              "edges_x": 0.16709682143673565,
              "edges_y": 0.46960588645050905,
              "ew": 0.24864864864864866,
              "pe": "[7, 1]"
             },
             {
              "edges_x": 0.9421774954859741,
              "edges_y": 1.3872341290928847,
              "ew": 0.24864864864864866,
              "pe": "[7, 1]"
             },
             {
              "edges_x": 0.16709682143673565,
              "edges_y": 0.46960588645050905,
              "ew": 0.10270270270270271,
              "pe": "[7, 2]"
             },
             {
              "edges_x": 1.1444637664062214,
              "edges_y": 0.5025450047019815,
              "ew": 0.10270270270270271,
              "pe": "[7, 2]"
             },
             {
              "edges_x": 0.16709682143673565,
              "edges_y": 0.46960588645050905,
              "ew": 0.05675675675675675,
              "pe": "[7, 3]"
             },
             {
              "edges_x": 1.1760197432878379,
              "edges_y": 1.132684038884477,
              "ew": 0.05675675675675675,
              "pe": "[7, 3]"
             },
             {
              "edges_x": 0.16709682143673565,
              "edges_y": 0.46960588645050905,
              "ew": 0.06756756756756757,
              "pe": "[7, 4]"
             },
             {
              "edges_x": 0.5321934168377944,
              "edges_y": 0.9356364084639213,
              "ew": 0.06756756756756757,
              "pe": "[7, 4]"
             },
             {
              "edges_x": 0.16709682143673565,
              "edges_y": 0.46960588645050905,
              "ew": 0.15135135135135136,
              "pe": "[7, 5]"
             },
             {
              "edges_x": 1.434225731077603,
              "edges_y": 1.1674226949932396,
              "ew": 0.15135135135135136,
              "pe": "[7, 5]"
             },
             {
              "edges_x": 0.16709682143673565,
              "edges_y": 0.46960588645050905,
              "ew": 0.10540540540540541,
              "pe": "[7, 6]"
             },
             {
              "edges_x": 0.6508832865752667,
              "edges_y": 0.7450130088899891,
              "ew": 0.10540540540540541,
              "pe": "[7, 6]"
             },
             {
              "edges_x": 0.16709682143673565,
              "edges_y": 0.46960588645050905,
              "ew": 0.21891891891891893,
              "pe": "[7, 7]"
             },
             {
              "edges_x": 0.6184435793956204,
              "edges_y": 1.3193484960764532,
              "ew": 0.21891891891891893,
              "pe": "[7, 7]"
             },
             {
              "edges_x": 0.16709682143673565,
              "edges_y": 0.46960588645050905,
              "ew": 0.17297297297297298,
              "pe": "[7, 8]"
             },
             {
              "edges_x": 1.206061190479001,
              "edges_y": 0.6034633084794592,
              "ew": 0.17297297297297298,
              "pe": "[7, 8]"
             },
             {
              "edges_x": 0.16709682143673565,
              "edges_y": 0.46960588645050905,
              "ew": 0.15945945945945947,
              "pe": "[7, 9]"
             },
             {
              "edges_x": 0.721856173205147,
              "edges_y": 1.302496100594305,
              "ew": 0.15945945945945947,
              "pe": "[7, 9]"
             },
             {
              "edges_x": 0.16709682143673565,
              "edges_y": 0.46960588645050905,
              "ew": 0.21081081081081082,
              "pe": "[7, 10]"
             },
             {
              "edges_x": 1.116071930639642,
              "edges_y": 0.969468827124786,
              "ew": 0.21081081081081082,
              "pe": "[7, 10]"
             },
             {
              "edges_x": 0.7181387051238257,
              "edges_y": 0.6601933484076765,
              "ew": 0.22972972972972977,
              "pe": "[8, 1]"
             },
             {
              "edges_x": 0.9421774954859741,
              "edges_y": 1.3872341290928847,
              "ew": 0.22972972972972977,
              "pe": "[8, 1]"
             },
             {
              "edges_x": 0.7181387051238257,
              "edges_y": 0.6601933484076765,
              "ew": 0.0945945945945946,
              "pe": "[8, 2]"
             },
             {
              "edges_x": 1.1444637664062214,
              "edges_y": 0.5025450047019815,
              "ew": 0.0945945945945946,
              "pe": "[8, 2]"
             },
             {
              "edges_x": 0.7181387051238257,
              "edges_y": 0.6601933484076765,
              "ew": 0.05405405405405406,
              "pe": "[8, 3]"
             },
             {
              "edges_x": 1.1760197432878379,
              "edges_y": 1.132684038884477,
              "ew": 0.05405405405405406,
              "pe": "[8, 3]"
             },
             {
              "edges_x": 0.7181387051238257,
              "edges_y": 0.6601933484076765,
              "ew": 0.05945945945945946,
              "pe": "[8, 4]"
             },
             {
              "edges_x": 0.5321934168377944,
              "edges_y": 0.9356364084639213,
              "ew": 0.05945945945945946,
              "pe": "[8, 4]"
             },
             {
              "edges_x": 0.7181387051238257,
              "edges_y": 0.6601933484076765,
              "ew": 0.14594594594594595,
              "pe": "[8, 5]"
             },
             {
              "edges_x": 1.434225731077603,
              "edges_y": 1.1674226949932396,
              "ew": 0.14594594594594595,
              "pe": "[8, 5]"
             },
             {
              "edges_x": 0.7181387051238257,
              "edges_y": 0.6601933484076765,
              "ew": 0.0918918918918919,
              "pe": "[8, 6]"
             },
             {
              "edges_x": 0.6508832865752667,
              "edges_y": 0.7450130088899891,
              "ew": 0.0918918918918919,
              "pe": "[8, 6]"
             },
             {
              "edges_x": 0.7181387051238257,
              "edges_y": 0.6601933484076765,
              "ew": 0.1945945945945946,
              "pe": "[8, 7]"
             },
             {
              "edges_x": 0.6184435793956204,
              "edges_y": 1.3193484960764532,
              "ew": 0.1945945945945946,
              "pe": "[8, 7]"
             },
             {
              "edges_x": 0.7181387051238257,
              "edges_y": 0.6601933484076765,
              "ew": 0.15945945945945947,
              "pe": "[8, 8]"
             },
             {
              "edges_x": 1.206061190479001,
              "edges_y": 0.6034633084794592,
              "ew": 0.15945945945945947,
              "pe": "[8, 8]"
             },
             {
              "edges_x": 0.7181387051238257,
              "edges_y": 0.6601933484076765,
              "ew": 0.14324324324324325,
              "pe": "[8, 9]"
             },
             {
              "edges_x": 0.721856173205147,
              "edges_y": 1.302496100594305,
              "ew": 0.14324324324324325,
              "pe": "[8, 9]"
             },
             {
              "edges_x": 0.7181387051238257,
              "edges_y": 0.6601933484076765,
              "ew": 0.1945945945945946,
              "pe": "[8, 10]"
             },
             {
              "edges_x": 1.116071930639642,
              "edges_y": 0.969468827124786,
              "ew": 0.1945945945945946,
              "pe": "[8, 10]"
             },
             {
              "edges_x": 0.9309970492805104,
              "edges_y": 0.5681604870432839,
              "ew": 0.591891891891892,
              "pe": "[9, 1]"
             },
             {
              "edges_x": 0.9421774954859741,
              "edges_y": 1.3872341290928847,
              "ew": 0.591891891891892,
              "pe": "[9, 1]"
             },
             {
              "edges_x": 0.9309970492805104,
              "edges_y": 0.5681604870432839,
              "ew": 0.24864864864864866,
              "pe": "[9, 2]"
             },
             {
              "edges_x": 1.1444637664062214,
              "edges_y": 0.5025450047019815,
              "ew": 0.24864864864864866,
              "pe": "[9, 2]"
             },
             {
              "edges_x": 0.9309970492805104,
              "edges_y": 0.5681604870432839,
              "ew": 0.13783783783783785,
              "pe": "[9, 3]"
             },
             {
              "edges_x": 1.1760197432878379,
              "edges_y": 1.132684038884477,
              "ew": 0.13783783783783785,
              "pe": "[9, 3]"
             },
             {
              "edges_x": 0.9309970492805104,
              "edges_y": 0.5681604870432839,
              "ew": 0.15135135135135136,
              "pe": "[9, 4]"
             },
             {
              "edges_x": 0.5321934168377944,
              "edges_y": 0.9356364084639213,
              "ew": 0.15135135135135136,
              "pe": "[9, 4]"
             },
             {
              "edges_x": 0.9309970492805104,
              "edges_y": 0.5681604870432839,
              "ew": 0.3837837837837838,
              "pe": "[9, 5]"
             },
             {
              "edges_x": 1.434225731077603,
              "edges_y": 1.1674226949932396,
              "ew": 0.3837837837837838,
              "pe": "[9, 5]"
             },
             {
              "edges_x": 0.9309970492805104,
              "edges_y": 0.5681604870432839,
              "ew": 0.23783783783783785,
              "pe": "[9, 6]"
             },
             {
              "edges_x": 0.6508832865752667,
              "edges_y": 0.7450130088899891,
              "ew": 0.23783783783783785,
              "pe": "[9, 6]"
             },
             {
              "edges_x": 0.9309970492805104,
              "edges_y": 0.5681604870432839,
              "ew": 0.49459459459459465,
              "pe": "[9, 7]"
             },
             {
              "edges_x": 0.6184435793956204,
              "edges_y": 1.3193484960764532,
              "ew": 0.49459459459459465,
              "pe": "[9, 7]"
             },
             {
              "edges_x": 0.9309970492805104,
              "edges_y": 0.5681604870432839,
              "ew": 0.4189189189189189,
              "pe": "[9, 8]"
             },
             {
              "edges_x": 1.206061190479001,
              "edges_y": 0.6034633084794592,
              "ew": 0.4189189189189189,
              "pe": "[9, 8]"
             },
             {
              "edges_x": 0.9309970492805104,
              "edges_y": 0.5681604870432839,
              "ew": 0.3675675675675676,
              "pe": "[9, 9]"
             },
             {
              "edges_x": 0.721856173205147,
              "edges_y": 1.302496100594305,
              "ew": 0.3675675675675676,
              "pe": "[9, 9]"
             },
             {
              "edges_x": 0.9309970492805104,
              "edges_y": 0.5681604870432839,
              "ew": 0.5135135135135135,
              "pe": "[9, 10]"
             },
             {
              "edges_x": 1.116071930639642,
              "edges_y": 0.969468827124786,
              "ew": 0.5135135135135135,
              "pe": "[9, 10]"
             },
             {
              "edges_x": 0.8556602431685518,
              "edges_y": 0.088362427761294,
              "ew": 0.45675675675675675,
              "pe": "[10, 1]"
             },
             {
              "edges_x": 0.9421774954859741,
              "edges_y": 1.3872341290928847,
              "ew": 0.45675675675675675,
              "pe": "[10, 1]"
             },
             {
              "edges_x": 0.8556602431685518,
              "edges_y": 0.088362427761294,
              "ew": 0.20810810810810812,
              "pe": "[10, 2]"
             },
             {
              "edges_x": 1.1444637664062214,
              "edges_y": 0.5025450047019815,
              "ew": 0.20810810810810812,
              "pe": "[10, 2]"
             },
             {
              "edges_x": 0.8556602431685518,
              "edges_y": 0.088362427761294,
              "ew": 0.10810810810810811,
              "pe": "[10, 3]"
             },
             {
              "edges_x": 1.1760197432878379,
              "edges_y": 1.132684038884477,
              "ew": 0.10810810810810811,
              "pe": "[10, 3]"
             },
             {
              "edges_x": 0.8556602431685518,
              "edges_y": 0.088362427761294,
              "ew": 0.12162162162162161,
              "pe": "[10, 4]"
             },
             {
              "edges_x": 0.5321934168377944,
              "edges_y": 0.9356364084639213,
              "ew": 0.12162162162162161,
              "pe": "[10, 4]"
             },
             {
              "edges_x": 0.8556602431685518,
              "edges_y": 0.088362427761294,
              "ew": 0.30000000000000004,
              "pe": "[10, 5]"
             },
             {
              "edges_x": 1.434225731077603,
              "edges_y": 1.1674226949932396,
              "ew": 0.30000000000000004,
              "pe": "[10, 5]"
             },
             {
              "edges_x": 0.8556602431685518,
              "edges_y": 0.088362427761294,
              "ew": 0.1945945945945946,
              "pe": "[10, 6]"
             },
             {
              "edges_x": 0.6508832865752667,
              "edges_y": 0.7450130088899891,
              "ew": 0.1945945945945946,
              "pe": "[10, 6]"
             },
             {
              "edges_x": 0.8556602431685518,
              "edges_y": 0.088362427761294,
              "ew": 0.3837837837837838,
              "pe": "[10, 7]"
             },
             {
              "edges_x": 0.6184435793956204,
              "edges_y": 1.3193484960764532,
              "ew": 0.3837837837837838,
              "pe": "[10, 7]"
             },
             {
              "edges_x": 0.8556602431685518,
              "edges_y": 0.088362427761294,
              "ew": 0.34594594594594597,
              "pe": "[10, 8]"
             },
             {
              "edges_x": 1.206061190479001,
              "edges_y": 0.6034633084794592,
              "ew": 0.34594594594594597,
              "pe": "[10, 8]"
             },
             {
              "edges_x": 0.8556602431685518,
              "edges_y": 0.088362427761294,
              "ew": 0.2837837837837838,
              "pe": "[10, 9]"
             },
             {
              "edges_x": 0.721856173205147,
              "edges_y": 1.302496100594305,
              "ew": 0.2837837837837838,
              "pe": "[10, 9]"
             },
             {
              "edges_x": 0.8556602431685518,
              "edges_y": 0.088362427761294,
              "ew": 0.40810810810810816,
              "pe": "[10, 10]"
             },
             {
              "edges_x": 1.116071930639642,
              "edges_y": 0.969468827124786,
              "ew": 0.40810810810810816,
              "pe": "[10, 10]"
             }
            ]
           },
           "encoding": {
            "detail": {
             "field": "pe",
             "type": "ordinal"
            },
            "opacity": {
             "field": "ew",
             "legend": null,
             "type": "quantitative"
            },
            "size": {
             "field": "ew",
             "legend": null,
             "scale": {
              "range": [
               0,
               2
              ]
             },
             "type": "ordinal"
            },
            "x": {
             "axis": null,
             "field": "edges_x",
             "type": "quantitative"
            },
            "y": {
             "axis": null,
             "field": "edges_y",
             "type": "quantitative"
            }
           },
           "height": 200,
           "mark": {
            "clip": false,
            "color": "black",
            "type": "line"
           },
           "width": 200
          },
          {
           "data": {
            "values": [
             {
              "size": 0.16463475181392923,
              "x": 0.9421774954859741,
              "y": 1.3872341290928847
             },
             {
              "size": 0.07128751647860529,
              "x": 1.1444637664062214,
              "y": 0.5025450047019815
             },
             {
              "size": 0.038460280624755774,
              "x": 1.1760197432878379,
              "y": 1.132684038884477
             },
             {
              "size": 0.0445292985586942,
              "x": 0.5321934168377944,
              "y": 0.9356364084639213
             },
             {
              "size": 0.10416614071927005,
              "x": 1.434225731077603,
              "y": 1.1674226949932396
             },
             {
              "size": 0.06955597008016547,
              "x": 0.6508832865752667,
              "y": 0.7450130088899891
             },
             {
              "size": 0.14070122088350126,
              "x": 0.6184435793956204,
              "y": 1.3193484960764532
             },
             {
              "size": 0.11922556219728855,
              "x": 1.206061190479001,
              "y": 0.6034633084794592
             },
             {
              "size": 0.1038514410322068,
              "x": 0.721856173205147,
              "y": 1.302496100594305
             },
             {
              "size": 0.14358781761158335,
              "x": 1.116071930639642,
              "y": 0.969468827124786
             }
            ]
           },
           "encoding": {
            "size": {
             "field": "size",
             "legend": null,
             "title": null,
             "type": "q"
            },
            "x": {
             "axis": null,
             "field": "x",
             "title": null,
             "type": "quantitative"
            },
            "y": {
             "axis": null,
             "field": "y",
             "title": null,
             "type": "quantitative"
            }
           },
           "height": 200,
           "mark": {
            "color": "red",
            "opacity": 1,
            "type": "circle"
           },
           "width": 200
          },
          {
           "data": {
            "values": [
             {
              "size": 0.057574681395820296,
              "x": 0.4693443014806442,
              "y": 0.2684417303924138
             },
             {
              "size": 0.08584042045627449,
              "x": 0.23187108390217226,
              "y": 0.06352946708206986
             },
             {
              "size": 0.22268620293203997,
              "x": 0.5065170957051912,
              "y": 0.44817218029000694
             },
             {
              "size": 0.19901647222007454,
              "x": 0.4617045283901213,
              "y": 0.12355083809283585
             },
             {
              "size": 0.009346565707262975,
              "x": 0.3893100903361628,
              "y": 0.06635075123101641
             },
             {
              "size": 0.08458136309754984,
              "x": 0.6993302606614282,
              "y": 0.22655236267581613
             },
             {
              "size": 0.055231308220935624,
              "x": 0.16709682143673565,
              "y": 0.46960588645050905
             },
             {
              "size": 0.05043224856060407,
              "x": 0.7181387051238257,
              "y": 0.6601933484076765
             },
             {
              "size": 0.13126058863989656,
              "x": 0.9309970492805104,
              "y": 0.5681604870432839
             },
             {
              "size": 0.10403014876954182,
              "x": 0.8556602431685518,
              "y": 0.088362427761294
             }
            ]
           },
           "encoding": {
            "size": {
             "field": "size",
             "legend": null,
             "title": null,
             "type": "q"
            },
            "x": {
             "axis": null,
             "field": "x",
             "title": null,
             "type": "quantitative"
            },
            "y": {
             "axis": null,
             "field": "y",
             "title": null,
             "type": "quantitative"
            }
           },
           "height": 200,
           "mark": {
            "opacity": 1,
            "type": "circle"
           },
           "width": 200
          }
         ],
         "title": "ϵ = 10.0",
         "view": {
          "stroke": null
         }
        }
       ]
      },
      "image/png": "[encoded data removed]",
      "image/svg+xml": [
       "<?xml version=\"1.0\" encoding=\"utf-8\"?>\n",
       "<!DOCTYPE svg PUBLIC \"-//W3C//DTD SVG 1.1//EN\" \"http://www.w3.org/Graphics/SVG/1.1/DTD/svg11.dtd\">\n",
       "<svg class=\"marks\" width=\"1090\" height=\"235\" viewBox=\"0 0 1090 235\" version=\"1.1\" xmlns=\"http://www.w3.org/2000/svg\" xmlns:xlink=\"http://www.w3.org/1999/xlink\"><rect width=\"1090\" height=\"235\" fill=\"white\"></rect><g fill=\"none\" stroke-miterlimit=\"10\" transform=\"translate(5,30)\"><g class=\"mark-group role-frame root\" role=\"graphics-object\" aria-roledescription=\"group mark container\"><g transform=\"translate(0,0)\"><path class=\"background\" aria-hidden=\"true\" d=\"M0,0h0v200h0Z\"></path><g><g class=\"mark-group role-scope concat_0_group\" role=\"graphics-object\" aria-roledescription=\"group mark container\"><g transform=\"translate(0,0)\"><path class=\"background\" aria-hidden=\"true\" d=\"M0,0h0v0h0Z\"></path><g><g class=\"mark-group role-scope concat_0_concat_0_group\" role=\"graphics-object\" aria-roledescription=\"group mark container\"><g transform=\"translate(0,0)\"><path class=\"background\" aria-hidden=\"true\" d=\"M0,0h0v0h0Z\"></path><g><g class=\"mark-group role-scope concat_0_concat_0_concat_0_group\" role=\"graphics-object\" aria-roledescription=\"group mark container\"><g transform=\"translate(0,0)\"><path class=\"background\" aria-hidden=\"true\" d=\"M0,0h0v0h0Z\"></path><g><g class=\"mark-group role-scope concat_0_concat_0_concat_0_concat_0_group\" role=\"graphics-object\" aria-roledescription=\"group mark container\"><g transform=\"translate(0,0)\"><path class=\"background\" aria-hidden=\"true\" d=\"M0,0h200v200h-200Z\"></path><g><g class=\"mark-group role-scope concat_0_concat_0_concat_0_concat_0_layer_0_pathgroup\" role=\"graphics-object\" aria-roledescription=\"group mark container\"><g transform=\"translate(0,0)\"><path class=\"background\" aria-hidden=\"true\" d=\"M0,0h200v200h-200Z\"></path><g><g class=\"mark-line role-mark concat_0_concat_0_concat_0_concat_0_layer_0_marks\" role=\"graphics-object\" aria-roledescription=\"line mark container\"><path aria-label=\"edges_x: 0.469344301481; edges_y: 0.268441730392; ew: 0; pe: [1, 1]\" role=\"graphics-symbol\" aria-roledescription=\"line mark\" d=\"M52.76347164009204,161.6511813725123L120.31107078371059,1.8236958438736073\" stroke=\"black\" stroke-width=\"0\" opacity=\"0.3\"></path></g></g><path class=\"foreground\" aria-hidden=\"true\" d=\"\" display=\"none\"></path></g><g transform=\"translate(0,0)\"><path class=\"background\" aria-hidden=\"true\" d=\"M0,0h200v200h-200Z\"></path><g><g class=\"mark-line role-mark concat_0_concat_0_concat_0_concat_0_layer_0_marks\" role=\"graphics-object\" aria-roledescription=\"line mark container\"><path aria-label=\"edges_x: 0.469344301481; edges_y: 0.268441730392; ew: 0; pe: [1, 2]\" role=\"graphics-symbol\" aria-roledescription=\"line mark\" d=\"M52.76347164009204,161.6511813725123L149.20910948660304,128.2078564711455\" stroke=\"black\" stroke-width=\"0\" opacity=\"0.3\"></path></g></g><path class=\"foreground\" aria-hidden=\"true\" d=\"\" display=\"none\"></path></g><g transform=\"translate(0,0)\"><path class=\"background\" aria-hidden=\"true\" d=\"M0,0h200v200h-200Z\"></path><g><g class=\"mark-line role-mark concat_0_concat_0_concat_0_concat_0_layer_0_marks\" role=\"graphics-object\" aria-roledescription=\"line mark container\"><path aria-label=\"edges_x: 0.469344301481; edges_y: 0.268441730392; ew: 0; pe: [1, 3]\" role=\"graphics-symbol\" aria-roledescription=\"line mark\" d=\"M52.76347164009204,161.6511813725123L153.71710618397682,38.1879944450747\" stroke=\"black\" stroke-width=\"0\" opacity=\"0.3\"></path></g></g><path class=\"foreground\" aria-hidden=\"true\" d=\"\" display=\"none\"></path></g><g transform=\"translate(0,0)\"><path class=\"background\" aria-hidden=\"true\" d=\"M0,0h200v200h-200Z\"></path><g><g class=\"mark-line role-mark concat_0_concat_0_concat_0_concat_0_layer_0_marks\" role=\"graphics-object\" aria-roledescription=\"line mark container\"><path aria-label=\"edges_x: 0.469344301481; edges_y: 0.268441730392; ew: 0; pe: [1, 4]\" role=\"graphics-symbol\" aria-roledescription=\"line mark\" d=\"M52.76347164009204,161.6511813725123L61.741916691113495,66.33765593372551\" stroke=\"black\" stroke-width=\"0\" opacity=\"0.3\"></path></g></g><path class=\"foreground\" aria-hidden=\"true\" d=\"\" display=\"none\"></path></g><g transform=\"translate(0,0)\"><path class=\"background\" aria-hidden=\"true\" d=\"M0,0h200v200h-200Z\"></path><g><g class=\"mark-line role-mark concat_0_concat_0_concat_0_concat_0_layer_0_marks\" role=\"graphics-object\" aria-roledescription=\"line mark container\"><path aria-label=\"edges_x: 0.469344301481; edges_y: 0.268441730392; ew: 0; pe: [1, 5]\" role=\"graphics-symbol\" aria-roledescription=\"line mark\" d=\"M52.76347164009204,161.6511813725123L190.603675868229,33.22532928668005\" stroke=\"black\" stroke-width=\"0\" opacity=\"0.3\"></path></g></g><path class=\"foreground\" aria-hidden=\"true\" d=\"\" display=\"none\"></path></g><g transform=\"translate(0,0)\"><path class=\"background\" aria-hidden=\"true\" d=\"M0,0h200v200h-200Z\"></path><g><g class=\"mark-line role-mark concat_0_concat_0_concat_0_concat_0_layer_0_marks\" role=\"graphics-object\" aria-roledescription=\"line mark container\"><path aria-label=\"edges_x: 0.469344301481; edges_y: 0.268441730392; ew: 0; pe: [1, 6]\" role=\"graphics-symbol\" aria-roledescription=\"line mark\" d=\"M52.76347164009204,161.6511813725123L78.69761236789526,93.56957015857297\" stroke=\"black\" stroke-width=\"0\" opacity=\"0.3\"></path></g></g><path class=\"foreground\" aria-hidden=\"true\" d=\"\" display=\"none\"></path></g><g transform=\"translate(0,0)\"><path class=\"background\" aria-hidden=\"true\" d=\"M0,0h200v200h-200Z\"></path><g><g class=\"mark-line role-mark concat_0_concat_0_concat_0_concat_0_layer_0_marks\" role=\"graphics-object\" aria-roledescription=\"line mark container\"><path aria-label=\"edges_x: 0.469344301481; edges_y: 0.268441730392; ew: 0.5043782837127846; pe: [1, 7]\" role=\"graphics-symbol\" aria-roledescription=\"line mark\" d=\"M52.76347164009204,161.6511813725123L74.06336848508865,11.521643417649518\" stroke=\"black\" stroke-width=\"1.263157894736842\" opacity=\"0.5521891418563923\"></path></g></g><path class=\"foreground\" aria-hidden=\"true\" d=\"\" display=\"none\"></path></g><g transform=\"translate(0,0)\"><path class=\"background\" aria-hidden=\"true\" d=\"M0,0h200v200h-200Z\"></path><g><g class=\"mark-line role-mark concat_0_concat_0_concat_0_concat_0_layer_0_marks\" role=\"graphics-object\" aria-roledescription=\"line mark container\"><path aria-label=\"edges_x: 0.469344301481; edges_y: 0.268441730392; ew: 0; pe: [1, 8]\" role=\"graphics-symbol\" aria-roledescription=\"line mark\" d=\"M52.76347164009204,161.6511813725123L158.00874149700016,113.79095593150583\" stroke=\"black\" stroke-width=\"0\" opacity=\"0.3\"></path></g></g><path class=\"foreground\" aria-hidden=\"true\" d=\"\" display=\"none\"></path></g><g transform=\"translate(0,0)\"><path class=\"background\" aria-hidden=\"true\" d=\"M0,0h200v200h-200Z\"></path><g><g class=\"mark-line role-mark concat_0_concat_0_concat_0_concat_0_layer_0_marks\" role=\"graphics-object\" aria-roledescription=\"line mark container\"><path aria-label=\"edges_x: 0.469344301481; edges_y: 0.268441730392; ew: 0; pe: [1, 9]\" role=\"graphics-symbol\" aria-roledescription=\"line mark\" d=\"M52.76347164009204,161.6511813725123L88.83659617216387,13.929128486527853\" stroke=\"black\" stroke-width=\"0\" opacity=\"0.3\"></path></g></g><path class=\"foreground\" aria-hidden=\"true\" d=\"\" display=\"none\"></path></g><g transform=\"translate(0,0)\"><path class=\"background\" aria-hidden=\"true\" d=\"M0,0h200v200h-200Z\"></path><g><g class=\"mark-line role-mark concat_0_concat_0_concat_0_concat_0_layer_0_marks\" role=\"graphics-object\" aria-roledescription=\"line mark container\"><path aria-label=\"edges_x: 0.469344301481; edges_y: 0.268441730392; ew: 0; pe: [1, 10]\" role=\"graphics-symbol\" aria-roledescription=\"line mark\" d=\"M52.76347164009204,161.6511813725123L145.1531329485203,61.50445326788771\" stroke=\"black\" stroke-width=\"0\" opacity=\"0.3\"></path></g></g><path class=\"foreground\" aria-hidden=\"true\" d=\"\" display=\"none\"></path></g><g transform=\"translate(0,0)\"><path class=\"background\" aria-hidden=\"true\" d=\"M0,0h200v200h-200Z\"></path><g><g class=\"mark-line role-mark concat_0_concat_0_concat_0_concat_0_layer_0_marks\" role=\"graphics-object\" aria-roledescription=\"line mark container\"><path aria-label=\"edges_x: 0.231871083902; edges_y: 0.0635294670821; ew: 0; pe: [2, 1]\" role=\"graphics-symbol\" aria-roledescription=\"line mark\" d=\"M18.838726271738896,190.9243618454186L120.31107078371059,1.8236958438736073\" stroke=\"black\" stroke-width=\"0\" opacity=\"0.3\"></path></g></g><path class=\"foreground\" aria-hidden=\"true\" d=\"\" display=\"none\"></path></g><g transform=\"translate(0,0)\"><path class=\"background\" aria-hidden=\"true\" d=\"M0,0h200v200h-200Z\"></path><g><g class=\"mark-line role-mark concat_0_concat_0_concat_0_concat_0_layer_0_marks\" role=\"graphics-object\" aria-roledescription=\"line mark container\"><path aria-label=\"edges_x: 0.231871083902; edges_y: 0.0635294670821; ew: 0; pe: [2, 2]\" role=\"graphics-symbol\" aria-roledescription=\"line mark\" d=\"M18.838726271738896,190.9243618454186L149.20910948660304,128.2078564711455\" stroke=\"black\" stroke-width=\"0\" opacity=\"0.3\"></path></g></g><path class=\"foreground\" aria-hidden=\"true\" d=\"\" display=\"none\"></path></g><g transform=\"translate(0,0)\"><path class=\"background\" aria-hidden=\"true\" d=\"M0,0h200v200h-200Z\"></path><g><g class=\"mark-line role-mark concat_0_concat_0_concat_0_concat_0_layer_0_marks\" role=\"graphics-object\" aria-roledescription=\"line mark container\"><path aria-label=\"edges_x: 0.231871083902; edges_y: 0.0635294670821; ew: 0; pe: [2, 3]\" role=\"graphics-symbol\" aria-roledescription=\"line mark\" d=\"M18.838726271738896,190.9243618454186L153.71710618397682,38.1879944450747\" stroke=\"black\" stroke-width=\"0\" opacity=\"0.3\"></path></g></g><path class=\"foreground\" aria-hidden=\"true\" d=\"\" display=\"none\"></path></g><g transform=\"translate(0,0)\"><path class=\"background\" aria-hidden=\"true\" d=\"M0,0h200v200h-200Z\"></path><g><g class=\"mark-line role-mark concat_0_concat_0_concat_0_concat_0_layer_0_marks\" role=\"graphics-object\" aria-roledescription=\"line mark container\"><path aria-label=\"edges_x: 0.231871083902; edges_y: 0.0635294670821; ew: 0.38966725043782835; pe: [2, 4]\" role=\"graphics-symbol\" aria-roledescription=\"line mark\" d=\"M18.838726271738896,190.9243618454186L61.741916691113495,66.33765593372551\" stroke=\"black\" stroke-width=\"0.9473684210526315\" opacity=\"0.49483362521891416\"></path></g></g><path class=\"foreground\" aria-hidden=\"true\" d=\"\" display=\"none\"></path></g><g transform=\"translate(0,0)\"><path class=\"background\" aria-hidden=\"true\" d=\"M0,0h200v200h-200Z\"></path><g><g class=\"mark-line role-mark concat_0_concat_0_concat_0_concat_0_layer_0_marks\" role=\"graphics-object\" aria-roledescription=\"line mark container\"><path aria-label=\"edges_x: 0.231871083902; edges_y: 0.0635294670821; ew: 0; pe: [2, 5]\" role=\"graphics-symbol\" aria-roledescription=\"line mark\" d=\"M18.838726271738896,190.9243618454186L190.603675868229,33.22532928668005\" stroke=\"black\" stroke-width=\"0\" opacity=\"0.3\"></path></g></g><path class=\"foreground\" aria-hidden=\"true\" d=\"\" display=\"none\"></path></g><g transform=\"translate(0,0)\"><path class=\"background\" aria-hidden=\"true\" d=\"M0,0h200v200h-200Z\"></path><g><g class=\"mark-line role-mark concat_0_concat_0_concat_0_concat_0_layer_0_marks\" role=\"graphics-object\" aria-roledescription=\"line mark container\"><path aria-label=\"edges_x: 0.231871083902; edges_y: 0.0635294670821; ew: 0.36164623467600704; pe: [2, 6]\" role=\"graphics-symbol\" aria-roledescription=\"line mark\" d=\"M18.838726271738896,190.9243618454186L78.69761236789526,93.56957015857297\" stroke=\"black\" stroke-width=\"0.8421052631578947\" opacity=\"0.48082311733800354\"></path></g></g><path class=\"foreground\" aria-hidden=\"true\" d=\"\" display=\"none\"></path></g><g transform=\"translate(0,0)\"><path class=\"background\" aria-hidden=\"true\" d=\"M0,0h200v200h-200Z\"></path><g><g class=\"mark-line role-mark concat_0_concat_0_concat_0_concat_0_layer_0_marks\" role=\"graphics-object\" aria-roledescription=\"line mark container\"><path aria-label=\"edges_x: 0.231871083902; edges_y: 0.0635294670821; ew: 0; pe: [2, 7]\" role=\"graphics-symbol\" aria-roledescription=\"line mark\" d=\"M18.838726271738896,190.9243618454186L74.06336848508865,11.521643417649518\" stroke=\"black\" stroke-width=\"0\" opacity=\"0.3\"></path></g></g><path class=\"foreground\" aria-hidden=\"true\" d=\"\" display=\"none\"></path></g><g transform=\"translate(0,0)\"><path class=\"background\" aria-hidden=\"true\" d=\"M0,0h200v200h-200Z\"></path><g><g class=\"mark-line role-mark concat_0_concat_0_concat_0_concat_0_layer_0_marks\" role=\"graphics-object\" aria-roledescription=\"line mark container\"><path aria-label=\"edges_x: 0.231871083902; edges_y: 0.0635294670821; ew: 0; pe: [2, 8]\" role=\"graphics-symbol\" aria-roledescription=\"line mark\" d=\"M18.838726271738896,190.9243618454186L158.00874149700016,113.79095593150583\" stroke=\"black\" stroke-width=\"0\" opacity=\"0.3\"></path></g></g><path class=\"foreground\" aria-hidden=\"true\" d=\"\" display=\"none\"></path></g><g transform=\"translate(0,0)\"><path class=\"background\" aria-hidden=\"true\" d=\"M0,0h200v200h-200Z\"></path><g><g class=\"mark-line role-mark concat_0_concat_0_concat_0_concat_0_layer_0_marks\" role=\"graphics-object\" aria-roledescription=\"line mark container\"><path aria-label=\"edges_x: 0.231871083902; edges_y: 0.0635294670821; ew: 0; pe: [2, 9]\" role=\"graphics-symbol\" aria-roledescription=\"line mark\" d=\"M18.838726271738896,190.9243618454186L88.83659617216387,13.929128486527853\" stroke=\"black\" stroke-width=\"0\" opacity=\"0.3\"></path></g></g><path class=\"foreground\" aria-hidden=\"true\" d=\"\" display=\"none\"></path></g><g transform=\"translate(0,0)\"><path class=\"background\" aria-hidden=\"true\" d=\"M0,0h200v200h-200Z\"></path><g><g class=\"mark-line role-mark concat_0_concat_0_concat_0_concat_0_layer_0_marks\" role=\"graphics-object\" aria-roledescription=\"line mark container\"><path aria-label=\"edges_x: 0.231871083902; edges_y: 0.0635294670821; ew: 0; pe: [2, 10]\" role=\"graphics-symbol\" aria-roledescription=\"line mark\" d=\"M18.838726271738896,190.9243618454186L145.1531329485203,61.50445326788771\" stroke=\"black\" stroke-width=\"0\" opacity=\"0.3\"></path></g></g><path class=\"foreground\" aria-hidden=\"true\" d=\"\" display=\"none\"></path></g><g transform=\"translate(0,0)\"><path class=\"background\" aria-hidden=\"true\" d=\"M0,0h200v200h-200Z\"></path><g><g class=\"mark-line role-mark concat_0_concat_0_concat_0_concat_0_layer_0_marks\" role=\"graphics-object\" aria-roledescription=\"line mark container\"><path aria-label=\"edges_x: 0.506517095705; edges_y: 0.44817218029; ew: 1; pe: [3, 1]\" role=\"graphics-symbol\" aria-roledescription=\"line mark\" d=\"M58.07387081502732,135.97540281571327L120.31107078371059,1.8236958438736073\" stroke=\"black\" stroke-width=\"2\" opacity=\"0.8\"></path></g></g><path class=\"foreground\" aria-hidden=\"true\" d=\"\" display=\"none\"></path></g><g transform=\"translate(0,0)\"><path class=\"background\" aria-hidden=\"true\" d=\"M0,0h200v200h-200Z\"></path><g><g class=\"mark-line role-mark concat_0_concat_0_concat_0_concat_0_layer_0_marks\" role=\"graphics-object\" aria-roledescription=\"line mark container\"><path aria-label=\"edges_x: 0.506517095705; edges_y: 0.44817218029; ew: 0; pe: [3, 2]\" role=\"graphics-symbol\" aria-roledescription=\"line mark\" d=\"M58.07387081502732,135.97540281571327L149.20910948660304,128.2078564711455\" stroke=\"black\" stroke-width=\"0\" opacity=\"0.3\"></path></g></g><path class=\"foreground\" aria-hidden=\"true\" d=\"\" display=\"none\"></path></g><g transform=\"translate(0,0)\"><path class=\"background\" aria-hidden=\"true\" d=\"M0,0h200v200h-200Z\"></path><g><g class=\"mark-line role-mark concat_0_concat_0_concat_0_concat_0_layer_0_marks\" role=\"graphics-object\" aria-roledescription=\"line mark container\"><path aria-label=\"edges_x: 0.506517095705; edges_y: 0.44817218029; ew: 0; pe: [3, 3]\" role=\"graphics-symbol\" aria-roledescription=\"line mark\" d=\"M58.07387081502732,135.97540281571327L153.71710618397682,38.1879944450747\" stroke=\"black\" stroke-width=\"0\" opacity=\"0.3\"></path></g></g><path class=\"foreground\" aria-hidden=\"true\" d=\"\" display=\"none\"></path></g><g transform=\"translate(0,0)\"><path class=\"background\" aria-hidden=\"true\" d=\"M0,0h200v200h-200Z\"></path><g><g class=\"mark-line role-mark concat_0_concat_0_concat_0_concat_0_layer_0_marks\" role=\"graphics-object\" aria-roledescription=\"line mark container\"><path aria-label=\"edges_x: 0.506517095705; edges_y: 0.44817218029; ew: 0; pe: [3, 4]\" role=\"graphics-symbol\" aria-roledescription=\"line mark\" d=\"M58.07387081502732,135.97540281571327L61.741916691113495,66.33765593372551\" stroke=\"black\" stroke-width=\"0\" opacity=\"0.3\"></path></g></g><path class=\"foreground\" aria-hidden=\"true\" d=\"\" display=\"none\"></path></g><g transform=\"translate(0,0)\"><path class=\"background\" aria-hidden=\"true\" d=\"M0,0h200v200h-200Z\"></path><g><g class=\"mark-line role-mark concat_0_concat_0_concat_0_concat_0_layer_0_marks\" role=\"graphics-object\" aria-roledescription=\"line mark container\"><path aria-label=\"edges_x: 0.506517095705; edges_y: 0.44817218029; ew: 0; pe: [3, 5]\" role=\"graphics-symbol\" aria-roledescription=\"line mark\" d=\"M58.07387081502732,135.97540281571327L190.603675868229,33.22532928668005\" stroke=\"black\" stroke-width=\"0\" opacity=\"0.3\"></path></g></g><path class=\"foreground\" aria-hidden=\"true\" d=\"\" display=\"none\"></path></g><g transform=\"translate(0,0)\"><path class=\"background\" aria-hidden=\"true\" d=\"M0,0h200v200h-200Z\"></path><g><g class=\"mark-line role-mark concat_0_concat_0_concat_0_concat_0_layer_0_marks\" role=\"graphics-object\" aria-roledescription=\"line mark container\"><path aria-label=\"edges_x: 0.506517095705; edges_y: 0.44817218029; ew: 0; pe: [3, 6]\" role=\"graphics-symbol\" aria-roledescription=\"line mark\" d=\"M58.07387081502732,135.97540281571327L78.69761236789526,93.56957015857297\" stroke=\"black\" stroke-width=\"0\" opacity=\"0.3\"></path></g></g><path class=\"foreground\" aria-hidden=\"true\" d=\"\" display=\"none\"></path></g><g transform=\"translate(0,0)\"><path class=\"background\" aria-hidden=\"true\" d=\"M0,0h200v200h-200Z\"></path><g><g class=\"mark-line role-mark concat_0_concat_0_concat_0_concat_0_layer_0_marks\" role=\"graphics-object\" aria-roledescription=\"line mark container\"><path aria-label=\"edges_x: 0.506517095705; edges_y: 0.44817218029; ew: 0.24430823117338005; pe: [3, 7]\" role=\"graphics-symbol\" aria-roledescription=\"line mark\" d=\"M58.07387081502732,135.97540281571327L74.06336848508865,11.521643417649518\" stroke=\"black\" stroke-width=\"0.7368421052631579\" opacity=\"0.42215411558669\"></path></g></g><path class=\"foreground\" aria-hidden=\"true\" d=\"\" display=\"none\"></path></g><g transform=\"translate(0,0)\"><path class=\"background\" aria-hidden=\"true\" d=\"M0,0h200v200h-200Z\"></path><g><g class=\"mark-line role-mark concat_0_concat_0_concat_0_concat_0_layer_0_marks\" role=\"graphics-object\" aria-roledescription=\"line mark container\"><path aria-label=\"edges_x: 0.506517095705; edges_y: 0.44817218029; ew: 0; pe: [3, 8]\" role=\"graphics-symbol\" aria-roledescription=\"line mark\" d=\"M58.07387081502732,135.97540281571327L158.00874149700016,113.79095593150583\" stroke=\"black\" stroke-width=\"0\" opacity=\"0.3\"></path></g></g><path class=\"foreground\" aria-hidden=\"true\" d=\"\" display=\"none\"></path></g><g transform=\"translate(0,0)\"><path class=\"background\" aria-hidden=\"true\" d=\"M0,0h200v200h-200Z\"></path><g><g class=\"mark-line role-mark concat_0_concat_0_concat_0_concat_0_layer_0_marks\" role=\"graphics-object\" aria-roledescription=\"line mark container\"><path aria-label=\"edges_x: 0.506517095705; edges_y: 0.44817218029; ew: 0.7057793345008757; pe: [3, 9]\" role=\"graphics-symbol\" aria-roledescription=\"line mark\" d=\"M58.07387081502732,135.97540281571327L88.83659617216387,13.929128486527853\" stroke=\"black\" stroke-width=\"1.6842105263157894\" opacity=\"0.6528896672504378\"></path></g></g><path class=\"foreground\" aria-hidden=\"true\" d=\"\" display=\"none\"></path></g><g transform=\"translate(0,0)\"><path class=\"background\" aria-hidden=\"true\" d=\"M0,0h200v200h-200Z\"></path><g><g class=\"mark-line role-mark concat_0_concat_0_concat_0_concat_0_layer_0_marks\" role=\"graphics-object\" aria-roledescription=\"line mark container\"><path aria-label=\"edges_x: 0.506517095705; edges_y: 0.44817218029; ew: 0; pe: [3, 10]\" role=\"graphics-symbol\" aria-roledescription=\"line mark\" d=\"M58.07387081502732,135.97540281571327L145.1531329485203,61.50445326788771\" stroke=\"black\" stroke-width=\"0\" opacity=\"0.3\"></path></g></g><path class=\"foreground\" aria-hidden=\"true\" d=\"\" display=\"none\"></path></g><g transform=\"translate(0,0)\"><path class=\"background\" aria-hidden=\"true\" d=\"M0,0h200v200h-200Z\"></path><g><g class=\"mark-line role-mark concat_0_concat_0_concat_0_concat_0_layer_0_marks\" role=\"graphics-object\" aria-roledescription=\"line mark container\"><path aria-label=\"edges_x: 0.46170452839; edges_y: 0.123550838093; ew: 0; pe: [4, 1]\" role=\"graphics-symbol\" aria-roledescription=\"line mark\" d=\"M51.67207548430305,182.34988027245203L120.31107078371059,1.8236958438736073\" stroke=\"black\" stroke-width=\"0\" opacity=\"0.3\"></path></g></g><path class=\"foreground\" aria-hidden=\"true\" d=\"\" display=\"none\"></path></g><g transform=\"translate(0,0)\"><path class=\"background\" aria-hidden=\"true\" d=\"M0,0h200v200h-200Z\"></path><g><g class=\"mark-line role-mark concat_0_concat_0_concat_0_concat_0_layer_0_marks\" role=\"graphics-object\" aria-roledescription=\"line mark container\"><path aria-label=\"edges_x: 0.46170452839; edges_y: 0.123550838093; ew: 0.6243432574430824; pe: [4, 2]\" role=\"graphics-symbol\" aria-roledescription=\"line mark\" d=\"M51.67207548430305,182.34988027245203L149.20910948660304,128.2078564711455\" stroke=\"black\" stroke-width=\"1.4736842105263157\" opacity=\"0.6121716287215412\"></path></g></g><path class=\"foreground\" aria-hidden=\"true\" d=\"\" display=\"none\"></path></g><g transform=\"translate(0,0)\"><path class=\"background\" aria-hidden=\"true\" d=\"M0,0h200v200h-200Z\"></path><g><g class=\"mark-line role-mark concat_0_concat_0_concat_0_concat_0_layer_0_marks\" role=\"graphics-object\" aria-roledescription=\"line mark container\"><path aria-label=\"edges_x: 0.46170452839; edges_y: 0.123550838093; ew: 0; pe: [4, 3]\" role=\"graphics-symbol\" aria-roledescription=\"line mark\" d=\"M51.67207548430305,182.34988027245203L153.71710618397682,38.1879944450747\" stroke=\"black\" stroke-width=\"0\" opacity=\"0.3\"></path></g></g><path class=\"foreground\" aria-hidden=\"true\" d=\"\" display=\"none\"></path></g><g transform=\"translate(0,0)\"><path class=\"background\" aria-hidden=\"true\" d=\"M0,0h200v200h-200Z\"></path><g><g class=\"mark-line role-mark concat_0_concat_0_concat_0_concat_0_layer_0_marks\" role=\"graphics-object\" aria-roledescription=\"line mark container\"><path aria-label=\"edges_x: 0.46170452839; edges_y: 0.123550838093; ew: 0; pe: [4, 4]\" role=\"graphics-symbol\" aria-roledescription=\"line mark\" d=\"M51.67207548430305,182.34988027245203L61.741916691113495,66.33765593372551\" stroke=\"black\" stroke-width=\"0\" opacity=\"0.3\"></path></g></g><path class=\"foreground\" aria-hidden=\"true\" d=\"\" display=\"none\"></path></g><g transform=\"translate(0,0)\"><path class=\"background\" aria-hidden=\"true\" d=\"M0,0h200v200h-200Z\"></path><g><g class=\"mark-line role-mark concat_0_concat_0_concat_0_concat_0_layer_0_marks\" role=\"graphics-object\" aria-roledescription=\"line mark container\"><path aria-label=\"edges_x: 0.46170452839; edges_y: 0.123550838093; ew: 0; pe: [4, 5]\" role=\"graphics-symbol\" aria-roledescription=\"line mark\" d=\"M51.67207548430305,182.34988027245203L190.603675868229,33.22532928668005\" stroke=\"black\" stroke-width=\"0\" opacity=\"0.3\"></path></g></g><path class=\"foreground\" aria-hidden=\"true\" d=\"\" display=\"none\"></path></g><g transform=\"translate(0,0)\"><path class=\"background\" aria-hidden=\"true\" d=\"M0,0h200v200h-200Z\"></path><g><g class=\"mark-line role-mark concat_0_concat_0_concat_0_concat_0_layer_0_marks\" role=\"graphics-object\" aria-roledescription=\"line mark container\"><path aria-label=\"edges_x: 0.46170452839; edges_y: 0.123550838093; ew: 0.16549912434325745; pe: [4, 6]\" role=\"graphics-symbol\" aria-roledescription=\"line mark\" d=\"M51.67207548430305,182.34988027245203L78.69761236789526,93.56957015857297\" stroke=\"black\" stroke-width=\"0.42105263157894735\" opacity=\"0.3827495621716287\"></path></g></g><path class=\"foreground\" aria-hidden=\"true\" d=\"\" display=\"none\"></path></g><g transform=\"translate(0,0)\"><path class=\"background\" aria-hidden=\"true\" d=\"M0,0h200v200h-200Z\"></path><g><g class=\"mark-line role-mark concat_0_concat_0_concat_0_concat_0_layer_0_marks\" role=\"graphics-object\" aria-roledescription=\"line mark container\"><path aria-label=\"edges_x: 0.46170452839; edges_y: 0.123550838093; ew: 0; pe: [4, 7]\" role=\"graphics-symbol\" aria-roledescription=\"line mark\" d=\"M51.67207548430305,182.34988027245203L74.06336848508865,11.521643417649518\" stroke=\"black\" stroke-width=\"0\" opacity=\"0.3\"></path></g></g><path class=\"foreground\" aria-hidden=\"true\" d=\"\" display=\"none\"></path></g><g transform=\"translate(0,0)\"><path class=\"background\" aria-hidden=\"true\" d=\"M0,0h200v200h-200Z\"></path><g><g class=\"mark-line role-mark concat_0_concat_0_concat_0_concat_0_layer_0_marks\" role=\"graphics-object\" aria-roledescription=\"line mark container\"><path aria-label=\"edges_x: 0.46170452839; edges_y: 0.123550838093; ew: 0.1330998248686515; pe: [4, 8]\" role=\"graphics-symbol\" aria-roledescription=\"line mark\" d=\"M51.67207548430305,182.34988027245203L158.00874149700016,113.79095593150583\" stroke=\"black\" stroke-width=\"0.3157894736842105\" opacity=\"0.3665499124343258\"></path></g></g><path class=\"foreground\" aria-hidden=\"true\" d=\"\" display=\"none\"></path></g><g transform=\"translate(0,0)\"><path class=\"background\" aria-hidden=\"true\" d=\"M0,0h200v200h-200Z\"></path><g><g class=\"mark-line role-mark concat_0_concat_0_concat_0_concat_0_layer_0_marks\" role=\"graphics-object\" aria-roledescription=\"line mark container\"><path aria-label=\"edges_x: 0.46170452839; edges_y: 0.123550838093; ew: 0.20402802101576184; pe: [4, 9]\" role=\"graphics-symbol\" aria-roledescription=\"line mark\" d=\"M51.67207548430305,182.34988027245203L88.83659617216387,13.929128486527853\" stroke=\"black\" stroke-width=\"0.5263157894736842\" opacity=\"0.4020140105078809\"></path></g></g><path class=\"foreground\" aria-hidden=\"true\" d=\"\" display=\"none\"></path></g><g transform=\"translate(0,0)\"><path class=\"background\" aria-hidden=\"true\" d=\"M0,0h200v200h-200Z\"></path><g><g class=\"mark-line role-mark concat_0_concat_0_concat_0_concat_0_layer_0_marks\" role=\"graphics-object\" aria-roledescription=\"line mark container\"><path aria-label=\"edges_x: 0.46170452839; edges_y: 0.123550838093; ew: 0.6164623467600701; pe: [4, 10]\" role=\"graphics-symbol\" aria-roledescription=\"line mark\" d=\"M51.67207548430305,182.34988027245203L145.1531329485203,61.50445326788771\" stroke=\"black\" stroke-width=\"1.3684210526315788\" opacity=\"0.6082311733800351\"></path></g></g><path class=\"foreground\" aria-hidden=\"true\" d=\"\" display=\"none\"></path></g><g transform=\"translate(0,0)\"><path class=\"background\" aria-hidden=\"true\" d=\"M0,0h200v200h-200Z\"></path><g><g class=\"mark-line role-mark concat_0_concat_0_concat_0_concat_0_layer_0_marks\" role=\"graphics-object\" aria-roledescription=\"line mark container\"><path aria-label=\"edges_x: 0.389310090336; edges_y: 0.066350751231; ew: 0; pe: [5, 1]\" role=\"graphics-symbol\" aria-roledescription=\"line mark\" d=\"M41.33001290516612,190.52132125271194L120.31107078371059,1.8236958438736073\" stroke=\"black\" stroke-width=\"0\" opacity=\"0.3\"></path></g></g><path class=\"foreground\" aria-hidden=\"true\" d=\"\" display=\"none\"></path></g><g transform=\"translate(0,0)\"><path class=\"background\" aria-hidden=\"true\" d=\"M0,0h200v200h-200Z\"></path><g><g class=\"mark-line role-mark concat_0_concat_0_concat_0_concat_0_layer_0_marks\" role=\"graphics-object\" aria-roledescription=\"line mark container\"><path aria-label=\"edges_x: 0.389310090336; edges_y: 0.066350751231; ew: 0; pe: [5, 2]\" role=\"graphics-symbol\" aria-roledescription=\"line mark\" d=\"M41.33001290516612,190.52132125271194L149.20910948660304,128.2078564711455\" stroke=\"black\" stroke-width=\"0\" opacity=\"0.3\"></path></g></g><path class=\"foreground\" aria-hidden=\"true\" d=\"\" display=\"none\"></path></g><g transform=\"translate(0,0)\"><path class=\"background\" aria-hidden=\"true\" d=\"M0,0h200v200h-200Z\"></path><g><g class=\"mark-line role-mark concat_0_concat_0_concat_0_concat_0_layer_0_marks\" role=\"graphics-object\" aria-roledescription=\"line mark container\"><path aria-label=\"edges_x: 0.389310090336; edges_y: 0.066350751231; ew: 0; pe: [5, 3]\" role=\"graphics-symbol\" aria-roledescription=\"line mark\" d=\"M41.33001290516612,190.52132125271194L153.71710618397682,38.1879944450747\" stroke=\"black\" stroke-width=\"0\" opacity=\"0.3\"></path></g></g><path class=\"foreground\" aria-hidden=\"true\" d=\"\" display=\"none\"></path></g><g transform=\"translate(0,0)\"><path class=\"background\" aria-hidden=\"true\" d=\"M0,0h200v200h-200Z\"></path><g><g class=\"mark-line role-mark concat_0_concat_0_concat_0_concat_0_layer_0_marks\" role=\"graphics-object\" aria-roledescription=\"line mark container\"><path aria-label=\"edges_x: 0.389310090336; edges_y: 0.066350751231; ew: 0; pe: [5, 4]\" role=\"graphics-symbol\" aria-roledescription=\"line mark\" d=\"M41.33001290516612,190.52132125271194L61.741916691113495,66.33765593372551\" stroke=\"black\" stroke-width=\"0\" opacity=\"0.3\"></path></g></g><path class=\"foreground\" aria-hidden=\"true\" d=\"\" display=\"none\"></path></g><g transform=\"translate(0,0)\"><path class=\"background\" aria-hidden=\"true\" d=\"M0,0h200v200h-200Z\"></path><g><g class=\"mark-line role-mark concat_0_concat_0_concat_0_concat_0_layer_0_marks\" role=\"graphics-object\" aria-roledescription=\"line mark container\"><path aria-label=\"edges_x: 0.389310090336; edges_y: 0.066350751231; ew: 0; pe: [5, 5]\" role=\"graphics-symbol\" aria-roledescription=\"line mark\" d=\"M41.33001290516612,190.52132125271194L190.603675868229,33.22532928668005\" stroke=\"black\" stroke-width=\"0\" opacity=\"0.3\"></path></g></g><path class=\"foreground\" aria-hidden=\"true\" d=\"\" display=\"none\"></path></g><g transform=\"translate(0,0)\"><path class=\"background\" aria-hidden=\"true\" d=\"M0,0h200v200h-200Z\"></path><g><g class=\"mark-line role-mark concat_0_concat_0_concat_0_concat_0_layer_0_marks\" role=\"graphics-object\" aria-roledescription=\"line mark container\"><path aria-label=\"edges_x: 0.389310090336; edges_y: 0.066350751231; ew: 0.08143607705779334; pe: [5, 6]\" role=\"graphics-symbol\" aria-roledescription=\"line mark\" d=\"M41.33001290516612,190.52132125271194L78.69761236789526,93.56957015857297\" stroke=\"black\" stroke-width=\"0.10526315789473684\" opacity=\"0.34071803852889665\"></path></g></g><path class=\"foreground\" aria-hidden=\"true\" d=\"\" display=\"none\"></path></g><g transform=\"translate(0,0)\"><path class=\"background\" aria-hidden=\"true\" d=\"M0,0h200v200h-200Z\"></path><g><g class=\"mark-line role-mark concat_0_concat_0_concat_0_concat_0_layer_0_marks\" role=\"graphics-object\" aria-roledescription=\"line mark container\"><path aria-label=\"edges_x: 0.389310090336; edges_y: 0.066350751231; ew: 0; pe: [5, 7]\" role=\"graphics-symbol\" aria-roledescription=\"line mark\" d=\"M41.33001290516612,190.52132125271194L74.06336848508865,11.521643417649518\" stroke=\"black\" stroke-width=\"0\" opacity=\"0.3\"></path></g></g><path class=\"foreground\" aria-hidden=\"true\" d=\"\" display=\"none\"></path></g><g transform=\"translate(0,0)\"><path class=\"background\" aria-hidden=\"true\" d=\"M0,0h200v200h-200Z\"></path><g><g class=\"mark-line role-mark concat_0_concat_0_concat_0_concat_0_layer_0_marks\" role=\"graphics-object\" aria-roledescription=\"line mark container\"><path aria-label=\"edges_x: 0.389310090336; edges_y: 0.066350751231; ew: 0; pe: [5, 8]\" role=\"graphics-symbol\" aria-roledescription=\"line mark\" d=\"M41.33001290516612,190.52132125271194L158.00874149700016,113.79095593150583\" stroke=\"black\" stroke-width=\"0\" opacity=\"0.3\"></path></g></g><path class=\"foreground\" aria-hidden=\"true\" d=\"\" display=\"none\"></path></g><g transform=\"translate(0,0)\"><path class=\"background\" aria-hidden=\"true\" d=\"M0,0h200v200h-200Z\"></path><g><g class=\"mark-line role-mark concat_0_concat_0_concat_0_concat_0_layer_0_marks\" role=\"graphics-object\" aria-roledescription=\"line mark container\"><path aria-label=\"edges_x: 0.389310090336; edges_y: 0.066350751231; ew: 0; pe: [5, 9]\" role=\"graphics-symbol\" aria-roledescription=\"line mark\" d=\"M41.33001290516612,190.52132125271194L88.83659617216387,13.929128486527853\" stroke=\"black\" stroke-width=\"0\" opacity=\"0.3\"></path></g></g><path class=\"foreground\" aria-hidden=\"true\" d=\"\" display=\"none\"></path></g><g transform=\"translate(0,0)\"><path class=\"background\" aria-hidden=\"true\" d=\"M0,0h200v200h-200Z\"></path><g><g class=\"mark-line role-mark concat_0_concat_0_concat_0_concat_0_layer_0_marks\" role=\"graphics-object\" aria-roledescription=\"line mark container\"><path aria-label=\"edges_x: 0.389310090336; edges_y: 0.066350751231; ew: 0; pe: [5, 10]\" role=\"graphics-symbol\" aria-roledescription=\"line mark\" d=\"M41.33001290516612,190.52132125271194L145.1531329485203,61.50445326788771\" stroke=\"black\" stroke-width=\"0\" opacity=\"0.3\"></path></g></g><path class=\"foreground\" aria-hidden=\"true\" d=\"\" display=\"none\"></path></g><g transform=\"translate(0,0)\"><path class=\"background\" aria-hidden=\"true\" d=\"M0,0h200v200h-200Z\"></path><g><g class=\"mark-line role-mark concat_0_concat_0_concat_0_concat_0_layer_0_marks\" role=\"graphics-object\" aria-roledescription=\"line mark container\"><path aria-label=\"edges_x: 0.699330260661; edges_y: 0.226552362676; ew: 0; pe: [6, 1]\" role=\"graphics-symbol\" aria-roledescription=\"line mark\" d=\"M85.61860866591833,167.6353767605977L120.31107078371059,1.8236958438736073\" stroke=\"black\" stroke-width=\"0\" opacity=\"0.3\"></path></g></g><path class=\"foreground\" aria-hidden=\"true\" d=\"\" display=\"none\"></path></g><g transform=\"translate(0,0)\"><path class=\"background\" aria-hidden=\"true\" d=\"M0,0h200v200h-200Z\"></path><g><g class=\"mark-line role-mark concat_0_concat_0_concat_0_concat_0_layer_0_marks\" role=\"graphics-object\" aria-roledescription=\"line mark container\"><path aria-label=\"edges_x: 0.699330260661; edges_y: 0.226552362676; ew: 0; pe: [6, 2]\" role=\"graphics-symbol\" aria-roledescription=\"line mark\" d=\"M85.61860866591833,167.6353767605977L149.20910948660304,128.2078564711455\" stroke=\"black\" stroke-width=\"0\" opacity=\"0.3\"></path></g></g><path class=\"foreground\" aria-hidden=\"true\" d=\"\" display=\"none\"></path></g><g transform=\"translate(0,0)\"><path class=\"background\" aria-hidden=\"true\" d=\"M0,0h200v200h-200Z\"></path><g><g class=\"mark-line role-mark concat_0_concat_0_concat_0_concat_0_layer_0_marks\" role=\"graphics-object\" aria-roledescription=\"line mark container\"><path aria-label=\"edges_x: 0.699330260661; edges_y: 0.226552362676; ew: 0.09982486865148862; pe: [6, 3]\" role=\"graphics-symbol\" aria-roledescription=\"line mark\" d=\"M85.61860866591833,167.6353767605977L153.71710618397682,38.1879944450747\" stroke=\"black\" stroke-width=\"0.21052631578947367\" opacity=\"0.34991243432574426\"></path></g></g><path class=\"foreground\" aria-hidden=\"true\" d=\"\" display=\"none\"></path></g><g transform=\"translate(0,0)\"><path class=\"background\" aria-hidden=\"true\" d=\"M0,0h200v200h-200Z\"></path><g><g class=\"mark-line role-mark concat_0_concat_0_concat_0_concat_0_layer_0_marks\" role=\"graphics-object\" aria-roledescription=\"line mark container\"><path aria-label=\"edges_x: 0.532193416838; edges_y: 0.935636408464; ew: 0; pe: [6, 4]\" role=\"graphics-symbol\" aria-roledescription=\"line mark\" d=\"M61.741916691113495,66.33765593372551L85.61860866591833,167.6353767605977\" stroke=\"black\" stroke-width=\"0\" opacity=\"0.3\"></path></g></g><path class=\"foreground\" aria-hidden=\"true\" d=\"\" display=\"none\"></path></g><g transform=\"translate(0,0)\"><path class=\"background\" aria-hidden=\"true\" d=\"M0,0h200v200h-200Z\"></path><g><g class=\"mark-line role-mark concat_0_concat_0_concat_0_concat_0_layer_0_marks\" role=\"graphics-object\" aria-roledescription=\"line mark container\"><path aria-label=\"edges_x: 0.699330260661; edges_y: 0.226552362676; ew: 0; pe: [6, 5]\" role=\"graphics-symbol\" aria-roledescription=\"line mark\" d=\"M85.61860866591833,167.6353767605977L190.603675868229,33.22532928668005\" stroke=\"black\" stroke-width=\"0\" opacity=\"0.3\"></path></g></g><path class=\"foreground\" aria-hidden=\"true\" d=\"\" display=\"none\"></path></g><g transform=\"translate(0,0)\"><path class=\"background\" aria-hidden=\"true\" d=\"M0,0h200v200h-200Z\"></path><g><g class=\"mark-line role-mark concat_0_concat_0_concat_0_concat_0_layer_0_marks\" role=\"graphics-object\" aria-roledescription=\"line mark container\"><path aria-label=\"edges_x: 0.650883286575; edges_y: 0.74501300889; ew: 0; pe: [6, 6]\" role=\"graphics-symbol\" aria-roledescription=\"line mark\" d=\"M78.69761236789526,93.56957015857297L85.61860866591833,167.6353767605977\" stroke=\"black\" stroke-width=\"0\" opacity=\"0.3\"></path></g></g><path class=\"foreground\" aria-hidden=\"true\" d=\"\" display=\"none\"></path></g><g transform=\"translate(0,0)\"><path class=\"background\" aria-hidden=\"true\" d=\"M0,0h200v200h-200Z\"></path><g><g class=\"mark-line role-mark concat_0_concat_0_concat_0_concat_0_layer_0_marks\" role=\"graphics-object\" aria-roledescription=\"line mark container\"><path aria-label=\"edges_x: 0.618443579396; edges_y: 1.31934849608; ew: 0; pe: [6, 7]\" role=\"graphics-symbol\" aria-roledescription=\"line mark\" d=\"M74.06336848508865,11.521643417649518L85.61860866591833,167.6353767605977\" stroke=\"black\" stroke-width=\"0\" opacity=\"0.3\"></path></g></g><path class=\"foreground\" aria-hidden=\"true\" d=\"\" display=\"none\"></path></g><g transform=\"translate(0,0)\"><path class=\"background\" aria-hidden=\"true\" d=\"M0,0h200v200h-200Z\"></path><g><g class=\"mark-line role-mark concat_0_concat_0_concat_0_concat_0_layer_0_marks\" role=\"graphics-object\" aria-roledescription=\"line mark container\"><path aria-label=\"edges_x: 0.699330260661; edges_y: 0.226552362676; ew: 0; pe: [6, 8]\" role=\"graphics-symbol\" aria-roledescription=\"line mark\" d=\"M85.61860866591833,167.6353767605977L158.00874149700016,113.79095593150583\" stroke=\"black\" stroke-width=\"0\" opacity=\"0.3\"></path></g></g><path class=\"foreground\" aria-hidden=\"true\" d=\"\" display=\"none\"></path></g><g transform=\"translate(0,0)\"><path class=\"background\" aria-hidden=\"true\" d=\"M0,0h200v200h-200Z\"></path><g><g class=\"mark-line role-mark concat_0_concat_0_concat_0_concat_0_layer_0_marks\" role=\"graphics-object\" aria-roledescription=\"line mark container\"><path aria-label=\"edges_x: 0.699330260661; edges_y: 0.226552362676; ew: 0; pe: [6, 9]\" role=\"graphics-symbol\" aria-roledescription=\"line mark\" d=\"M85.61860866591833,167.6353767605977L88.83659617216387,13.929128486527853\" stroke=\"black\" stroke-width=\"0\" opacity=\"0.3\"></path></g></g><path class=\"foreground\" aria-hidden=\"true\" d=\"\" display=\"none\"></path></g><g transform=\"translate(0,0)\"><path class=\"background\" aria-hidden=\"true\" d=\"M0,0h200v200h-200Z\"></path><g><g class=\"mark-line role-mark concat_0_concat_0_concat_0_concat_0_layer_0_marks\" role=\"graphics-object\" aria-roledescription=\"line mark container\"><path aria-label=\"edges_x: 0.699330260661; edges_y: 0.226552362676; ew: 0.6409807355516638; pe: [6, 10]\" role=\"graphics-symbol\" aria-roledescription=\"line mark\" d=\"M85.61860866591833,167.6353767605977L145.1531329485203,61.50445326788771\" stroke=\"black\" stroke-width=\"1.5789473684210527\" opacity=\"0.6204903677758319\"></path></g></g><path class=\"foreground\" aria-hidden=\"true\" d=\"\" display=\"none\"></path></g><g transform=\"translate(0,0)\"><path class=\"background\" aria-hidden=\"true\" d=\"M0,0h200v200h-200Z\"></path><g><g class=\"mark-line role-mark concat_0_concat_0_concat_0_concat_0_layer_0_marks\" role=\"graphics-object\" aria-roledescription=\"line mark container\"><path aria-label=\"edges_x: 0.167096821437; edges_y: 0.469605886451; ew: 0; pe: [7, 1]\" role=\"graphics-symbol\" aria-roledescription=\"line mark\" d=\"M9.58526020524795,132.91344479278442L120.31107078371059,1.8236958438736073\" stroke=\"black\" stroke-width=\"0\" opacity=\"0.3\"></path></g></g><path class=\"foreground\" aria-hidden=\"true\" d=\"\" display=\"none\"></path></g><g transform=\"translate(0,0)\"><path class=\"background\" aria-hidden=\"true\" d=\"M0,0h200v200h-200Z\"></path><g><g class=\"mark-line role-mark concat_0_concat_0_concat_0_concat_0_layer_0_marks\" role=\"graphics-object\" aria-roledescription=\"line mark container\"><path aria-label=\"edges_x: 0.167096821437; edges_y: 0.469605886451; ew: 0; pe: [7, 2]\" role=\"graphics-symbol\" aria-roledescription=\"line mark\" d=\"M9.58526020524795,132.91344479278442L149.20910948660304,128.2078564711455\" stroke=\"black\" stroke-width=\"0\" opacity=\"0.3\"></path></g></g><path class=\"foreground\" aria-hidden=\"true\" d=\"\" display=\"none\"></path></g><g transform=\"translate(0,0)\"><path class=\"background\" aria-hidden=\"true\" d=\"M0,0h200v200h-200Z\"></path><g><g class=\"mark-line role-mark concat_0_concat_0_concat_0_concat_0_layer_0_marks\" role=\"graphics-object\" aria-roledescription=\"line mark container\"><path aria-label=\"edges_x: 0.167096821437; edges_y: 0.469605886451; ew: 0; pe: [7, 3]\" role=\"graphics-symbol\" aria-roledescription=\"line mark\" d=\"M9.58526020524795,132.91344479278442L153.71710618397682,38.1879944450747\" stroke=\"black\" stroke-width=\"0\" opacity=\"0.3\"></path></g></g><path class=\"foreground\" aria-hidden=\"true\" d=\"\" display=\"none\"></path></g><g transform=\"translate(0,0)\"><path class=\"background\" aria-hidden=\"true\" d=\"M0,0h200v200h-200Z\"></path><g><g class=\"mark-line role-mark concat_0_concat_0_concat_0_concat_0_layer_0_marks\" role=\"graphics-object\" aria-roledescription=\"line mark container\"><path aria-label=\"edges_x: 0.167096821437; edges_y: 0.469605886451; ew: 0; pe: [7, 4]\" role=\"graphics-symbol\" aria-roledescription=\"line mark\" d=\"M9.58526020524795,132.91344479278442L61.741916691113495,66.33765593372551\" stroke=\"black\" stroke-width=\"0\" opacity=\"0.3\"></path></g></g><path class=\"foreground\" aria-hidden=\"true\" d=\"\" display=\"none\"></path></g><g transform=\"translate(0,0)\"><path class=\"background\" aria-hidden=\"true\" d=\"M0,0h200v200h-200Z\"></path><g><g class=\"mark-line role-mark concat_0_concat_0_concat_0_concat_0_layer_0_marks\" role=\"graphics-object\" aria-roledescription=\"line mark container\"><path aria-label=\"edges_x: 0.167096821437; edges_y: 0.469605886451; ew: 0; pe: [7, 5]\" role=\"graphics-symbol\" aria-roledescription=\"line mark\" d=\"M9.58526020524795,132.91344479278442L190.603675868229,33.22532928668005\" stroke=\"black\" stroke-width=\"0\" opacity=\"0.3\"></path></g></g><path class=\"foreground\" aria-hidden=\"true\" d=\"\" display=\"none\"></path></g><g transform=\"translate(0,0)\"><path class=\"background\" aria-hidden=\"true\" d=\"M0,0h200v200h-200Z\"></path><g><g class=\"mark-line role-mark concat_0_concat_0_concat_0_concat_0_layer_0_marks\" role=\"graphics-object\" aria-roledescription=\"line mark container\"><path aria-label=\"edges_x: 0.167096821437; edges_y: 0.469605886451; ew: 0; pe: [7, 6]\" role=\"graphics-symbol\" aria-roledescription=\"line mark\" d=\"M9.58526020524795,132.91344479278442L78.69761236789526,93.56957015857297\" stroke=\"black\" stroke-width=\"0\" opacity=\"0.3\"></path></g></g><path class=\"foreground\" aria-hidden=\"true\" d=\"\" display=\"none\"></path></g><g transform=\"translate(0,0)\"><path class=\"background\" aria-hidden=\"true\" d=\"M0,0h200v200h-200Z\"></path><g><g class=\"mark-line role-mark concat_0_concat_0_concat_0_concat_0_layer_0_marks\" role=\"graphics-object\" aria-roledescription=\"line mark container\"><path aria-label=\"edges_x: 0.167096821437; edges_y: 0.469605886451; ew: 0.4833625218914186; pe: [7, 7]\" role=\"graphics-symbol\" aria-roledescription=\"line mark\" d=\"M9.58526020524795,132.91344479278442L74.06336848508865,11.521643417649518\" stroke=\"black\" stroke-width=\"1.1578947368421053\" opacity=\"0.5416812609457093\"></path></g></g><path class=\"foreground\" aria-hidden=\"true\" d=\"\" display=\"none\"></path></g><g transform=\"translate(0,0)\"><path class=\"background\" aria-hidden=\"true\" d=\"M0,0h200v200h-200Z\"></path><g><g class=\"mark-line role-mark concat_0_concat_0_concat_0_concat_0_layer_0_marks\" role=\"graphics-object\" aria-roledescription=\"line mark container\"><path aria-label=\"edges_x: 0.167096821437; edges_y: 0.469605886451; ew: 0; pe: [7, 8]\" role=\"graphics-symbol\" aria-roledescription=\"line mark\" d=\"M9.58526020524795,132.91344479278442L158.00874149700016,113.79095593150583\" stroke=\"black\" stroke-width=\"0\" opacity=\"0.3\"></path></g></g><path class=\"foreground\" aria-hidden=\"true\" d=\"\" display=\"none\"></path></g><g transform=\"translate(0,0)\"><path class=\"background\" aria-hidden=\"true\" d=\"M0,0h200v200h-200Z\"></path><g><g class=\"mark-line role-mark concat_0_concat_0_concat_0_concat_0_layer_0_marks\" role=\"graphics-object\" aria-roledescription=\"line mark container\"><path aria-label=\"edges_x: 0.167096821437; edges_y: 0.469605886451; ew: 0; pe: [7, 9]\" role=\"graphics-symbol\" aria-roledescription=\"line mark\" d=\"M9.58526020524795,132.91344479278442L88.83659617216387,13.929128486527853\" stroke=\"black\" stroke-width=\"0\" opacity=\"0.3\"></path></g></g><path class=\"foreground\" aria-hidden=\"true\" d=\"\" display=\"none\"></path></g><g transform=\"translate(0,0)\"><path class=\"background\" aria-hidden=\"true\" d=\"M0,0h200v200h-200Z\"></path><g><g class=\"mark-line role-mark concat_0_concat_0_concat_0_concat_0_layer_0_marks\" role=\"graphics-object\" aria-roledescription=\"line mark container\"><path aria-label=\"edges_x: 0.167096821437; edges_y: 0.469605886451; ew: 0; pe: [7, 10]\" role=\"graphics-symbol\" aria-roledescription=\"line mark\" d=\"M9.58526020524795,132.91344479278442L145.1531329485203,61.50445326788771\" stroke=\"black\" stroke-width=\"0\" opacity=\"0.3\"></path></g></g><path class=\"foreground\" aria-hidden=\"true\" d=\"\" display=\"none\"></path></g><g transform=\"translate(0,0)\"><path class=\"background\" aria-hidden=\"true\" d=\"M0,0h200v200h-200Z\"></path><g><g class=\"mark-line role-mark concat_0_concat_0_concat_0_concat_0_layer_0_marks\" role=\"graphics-object\" aria-roledescription=\"line mark container\"><path aria-label=\"edges_x: 0.718138705124; edges_y: 0.660193348408; ew: 0.44133099824868655; pe: [8, 1]\" role=\"graphics-symbol\" aria-roledescription=\"line mark\" d=\"M88.30552930340369,105.68666451318907L120.31107078371059,1.8236958438736073\" stroke=\"black\" stroke-width=\"1.0526315789473684\" opacity=\"0.5206654991243432\"></path></g></g><path class=\"foreground\" aria-hidden=\"true\" d=\"\" display=\"none\"></path></g><g transform=\"translate(0,0)\"><path class=\"background\" aria-hidden=\"true\" d=\"M0,0h200v200h-200Z\"></path><g><g class=\"mark-line role-mark concat_0_concat_0_concat_0_concat_0_layer_0_marks\" role=\"graphics-object\" aria-roledescription=\"line mark container\"><path aria-label=\"edges_x: 0.718138705124; edges_y: 0.660193348408; ew: 0; pe: [8, 2]\" role=\"graphics-symbol\" aria-roledescription=\"line mark\" d=\"M88.30552930340369,105.68666451318907L149.20910948660304,128.2078564711455\" stroke=\"black\" stroke-width=\"0\" opacity=\"0.3\"></path></g></g><path class=\"foreground\" aria-hidden=\"true\" d=\"\" display=\"none\"></path></g><g transform=\"translate(0,0)\"><path class=\"background\" aria-hidden=\"true\" d=\"M0,0h200v200h-200Z\"></path><g><g class=\"mark-line role-mark concat_0_concat_0_concat_0_concat_0_layer_0_marks\" role=\"graphics-object\" aria-roledescription=\"line mark container\"><path aria-label=\"edges_x: 0.718138705124; edges_y: 0.660193348408; ew: 0; pe: [8, 3]\" role=\"graphics-symbol\" aria-roledescription=\"line mark\" d=\"M88.30552930340369,105.68666451318907L153.71710618397682,38.1879944450747\" stroke=\"black\" stroke-width=\"0\" opacity=\"0.3\"></path></g></g><path class=\"foreground\" aria-hidden=\"true\" d=\"\" display=\"none\"></path></g><g transform=\"translate(0,0)\"><path class=\"background\" aria-hidden=\"true\" d=\"M0,0h200v200h-200Z\"></path><g><g class=\"mark-line role-mark concat_0_concat_0_concat_0_concat_0_layer_0_marks\" role=\"graphics-object\" aria-roledescription=\"line mark container\"><path aria-label=\"edges_x: 0.532193416838; edges_y: 0.935636408464; ew: 0; pe: [8, 4]\" role=\"graphics-symbol\" aria-roledescription=\"line mark\" d=\"M61.741916691113495,66.33765593372551L88.30552930340369,105.68666451318907\" stroke=\"black\" stroke-width=\"0\" opacity=\"0.3\"></path></g></g><path class=\"foreground\" aria-hidden=\"true\" d=\"\" display=\"none\"></path></g><g transform=\"translate(0,0)\"><path class=\"background\" aria-hidden=\"true\" d=\"M0,0h200v200h-200Z\"></path><g><g class=\"mark-line role-mark concat_0_concat_0_concat_0_concat_0_layer_0_marks\" role=\"graphics-object\" aria-roledescription=\"line mark container\"><path aria-label=\"edges_x: 0.718138705124; edges_y: 0.660193348408; ew: 0; pe: [8, 5]\" role=\"graphics-symbol\" aria-roledescription=\"line mark\" d=\"M88.30552930340369,105.68666451318907L190.603675868229,33.22532928668005\" stroke=\"black\" stroke-width=\"0\" opacity=\"0.3\"></path></g></g><path class=\"foreground\" aria-hidden=\"true\" d=\"\" display=\"none\"></path></g><g transform=\"translate(0,0)\"><path class=\"background\" aria-hidden=\"true\" d=\"M0,0h200v200h-200Z\"></path><g><g class=\"mark-line role-mark concat_0_concat_0_concat_0_concat_0_layer_0_marks\" role=\"graphics-object\" aria-roledescription=\"line mark container\"><path aria-label=\"edges_x: 0.650883286575; edges_y: 0.74501300889; ew: 0; pe: [8, 6]\" role=\"graphics-symbol\" aria-roledescription=\"line mark\" d=\"M78.69761236789526,93.56957015857297L88.30552930340369,105.68666451318907\" stroke=\"black\" stroke-width=\"0\" opacity=\"0.3\"></path></g></g><path class=\"foreground\" aria-hidden=\"true\" d=\"\" display=\"none\"></path></g><g transform=\"translate(0,0)\"><path class=\"background\" aria-hidden=\"true\" d=\"M0,0h200v200h-200Z\"></path><g><g class=\"mark-line role-mark concat_0_concat_0_concat_0_concat_0_layer_0_marks\" role=\"graphics-object\" aria-roledescription=\"line mark container\"><path aria-label=\"edges_x: 0.618443579396; edges_y: 1.31934849608; ew: 0; pe: [8, 7]\" role=\"graphics-symbol\" aria-roledescription=\"line mark\" d=\"M74.06336848508865,11.521643417649518L88.30552930340369,105.68666451318907\" stroke=\"black\" stroke-width=\"0\" opacity=\"0.3\"></path></g></g><path class=\"foreground\" aria-hidden=\"true\" d=\"\" display=\"none\"></path></g><g transform=\"translate(0,0)\"><path class=\"background\" aria-hidden=\"true\" d=\"M0,0h200v200h-200Z\"></path><g><g class=\"mark-line role-mark concat_0_concat_0_concat_0_concat_0_layer_0_marks\" role=\"graphics-object\" aria-roledescription=\"line mark container\"><path aria-label=\"edges_x: 0.718138705124; edges_y: 0.660193348408; ew: 0; pe: [8, 8]\" role=\"graphics-symbol\" aria-roledescription=\"line mark\" d=\"M88.30552930340369,105.68666451318907L158.00874149700016,113.79095593150583\" stroke=\"black\" stroke-width=\"0\" opacity=\"0.3\"></path></g></g><path class=\"foreground\" aria-hidden=\"true\" d=\"\" display=\"none\"></path></g><g transform=\"translate(0,0)\"><path class=\"background\" aria-hidden=\"true\" d=\"M0,0h200v200h-200Z\"></path><g><g class=\"mark-line role-mark concat_0_concat_0_concat_0_concat_0_layer_0_marks\" role=\"graphics-object\" aria-roledescription=\"line mark container\"><path aria-label=\"edges_x: 0.718138705124; edges_y: 0.660193348408; ew: 0; pe: [8, 9]\" role=\"graphics-symbol\" aria-roledescription=\"line mark\" d=\"M88.30552930340369,105.68666451318907L88.83659617216387,13.929128486527853\" stroke=\"black\" stroke-width=\"0\" opacity=\"0.3\"></path></g></g><path class=\"foreground\" aria-hidden=\"true\" d=\"\" display=\"none\"></path></g><g transform=\"translate(0,0)\"><path class=\"background\" aria-hidden=\"true\" d=\"M0,0h200v200h-200Z\"></path><g><g class=\"mark-line role-mark concat_0_concat_0_concat_0_concat_0_layer_0_marks\" role=\"graphics-object\" aria-roledescription=\"line mark container\"><path aria-label=\"edges_x: 0.718138705124; edges_y: 0.660193348408; ew: 0; pe: [8, 10]\" role=\"graphics-symbol\" aria-roledescription=\"line mark\" d=\"M88.30552930340369,105.68666451318907L145.1531329485203,61.50445326788771\" stroke=\"black\" stroke-width=\"0\" opacity=\"0.3\"></path></g></g><path class=\"foreground\" aria-hidden=\"true\" d=\"\" display=\"none\"></path></g><g transform=\"translate(0,0)\"><path class=\"background\" aria-hidden=\"true\" d=\"M0,0h200v200h-200Z\"></path><g><g class=\"mark-line role-mark concat_0_concat_0_concat_0_concat_0_layer_0_marks\" role=\"graphics-object\" aria-roledescription=\"line mark container\"><path aria-label=\"edges_x: 0.930997049281; edges_y: 0.568160487043; ew: 0; pe: [9, 1]\" role=\"graphics-symbol\" aria-roledescription=\"line mark\" d=\"M118.71386418293007,118.83421613667373L120.31107078371059,1.8236958438736073\" stroke=\"black\" stroke-width=\"0\" opacity=\"0.3\"></path></g></g><path class=\"foreground\" aria-hidden=\"true\" d=\"\" display=\"none\"></path></g><g transform=\"translate(0,0)\"><path class=\"background\" aria-hidden=\"true\" d=\"M0,0h200v200h-200Z\"></path><g><g class=\"mark-line role-mark concat_0_concat_0_concat_0_concat_0_layer_0_marks\" role=\"graphics-object\" aria-roledescription=\"line mark container\"><path aria-label=\"edges_x: 0.930997049281; edges_y: 0.568160487043; ew: 0; pe: [9, 2]\" role=\"graphics-symbol\" aria-roledescription=\"line mark\" d=\"M118.71386418293007,118.83421613667373L149.20910948660304,128.2078564711455\" stroke=\"black\" stroke-width=\"0\" opacity=\"0.3\"></path></g></g><path class=\"foreground\" aria-hidden=\"true\" d=\"\" display=\"none\"></path></g><g transform=\"translate(0,0)\"><path class=\"background\" aria-hidden=\"true\" d=\"M0,0h200v200h-200Z\"></path><g><g class=\"mark-line role-mark concat_0_concat_0_concat_0_concat_0_layer_0_marks\" role=\"graphics-object\" aria-roledescription=\"line mark container\"><path aria-label=\"edges_x: 0.930997049281; edges_y: 0.568160487043; ew: 0.2373029772329247; pe: [9, 3]\" role=\"graphics-symbol\" aria-roledescription=\"line mark\" d=\"M118.71386418293007,118.83421613667373L153.71710618397682,38.1879944450747\" stroke=\"black\" stroke-width=\"0.631578947368421\" opacity=\"0.41865148861646234\"></path></g></g><path class=\"foreground\" aria-hidden=\"true\" d=\"\" display=\"none\"></path></g><g transform=\"translate(0,0)\"><path class=\"background\" aria-hidden=\"true\" d=\"M0,0h200v200h-200Z\"></path><g><g class=\"mark-line role-mark concat_0_concat_0_concat_0_concat_0_layer_0_marks\" role=\"graphics-object\" aria-roledescription=\"line mark container\"><path aria-label=\"edges_x: 0.532193416838; edges_y: 0.935636408464; ew: 0; pe: [9, 4]\" role=\"graphics-symbol\" aria-roledescription=\"line mark\" d=\"M61.741916691113495,66.33765593372551L118.71386418293007,118.83421613667373\" stroke=\"black\" stroke-width=\"0\" opacity=\"0.3\"></path></g></g><path class=\"foreground\" aria-hidden=\"true\" d=\"\" display=\"none\"></path></g><g transform=\"translate(0,0)\"><path class=\"background\" aria-hidden=\"true\" d=\"M0,0h200v200h-200Z\"></path><g><g class=\"mark-line role-mark concat_0_concat_0_concat_0_concat_0_layer_0_marks\" role=\"graphics-object\" aria-roledescription=\"line mark container\"><path aria-label=\"edges_x: 0.930997049281; edges_y: 0.568160487043; ew: 0.9124343257443083; pe: [9, 5]\" role=\"graphics-symbol\" aria-roledescription=\"line mark\" d=\"M118.71386418293007,118.83421613667373L190.603675868229,33.22532928668005\" stroke=\"black\" stroke-width=\"1.894736842105263\" opacity=\"0.7562171628721542\"></path></g></g><path class=\"foreground\" aria-hidden=\"true\" d=\"\" display=\"none\"></path></g><g transform=\"translate(0,0)\"><path class=\"background\" aria-hidden=\"true\" d=\"M0,0h200v200h-200Z\"></path><g><g class=\"mark-line role-mark concat_0_concat_0_concat_0_concat_0_layer_0_marks\" role=\"graphics-object\" aria-roledescription=\"line mark container\"><path aria-label=\"edges_x: 0.650883286575; edges_y: 0.74501300889; ew: 0; pe: [9, 6]\" role=\"graphics-symbol\" aria-roledescription=\"line mark\" d=\"M78.69761236789526,93.56957015857297L118.71386418293007,118.83421613667373\" stroke=\"black\" stroke-width=\"0\" opacity=\"0.3\"></path></g></g><path class=\"foreground\" aria-hidden=\"true\" d=\"\" display=\"none\"></path></g><g transform=\"translate(0,0)\"><path class=\"background\" aria-hidden=\"true\" d=\"M0,0h200v200h-200Z\"></path><g><g class=\"mark-line role-mark concat_0_concat_0_concat_0_concat_0_layer_0_marks\" role=\"graphics-object\" aria-roledescription=\"line mark container\"><path aria-label=\"edges_x: 0.618443579396; edges_y: 1.31934849608; ew: 0; pe: [9, 7]\" role=\"graphics-symbol\" aria-roledescription=\"line mark\" d=\"M74.06336848508865,11.521643417649518L118.71386418293007,118.83421613667373\" stroke=\"black\" stroke-width=\"0\" opacity=\"0.3\"></path></g></g><path class=\"foreground\" aria-hidden=\"true\" d=\"\" display=\"none\"></path></g><g transform=\"translate(0,0)\"><path class=\"background\" aria-hidden=\"true\" d=\"M0,0h200v200h-200Z\"></path><g><g class=\"mark-line role-mark concat_0_concat_0_concat_0_concat_0_layer_0_marks\" role=\"graphics-object\" aria-roledescription=\"line mark container\"><path aria-label=\"edges_x: 0.930997049281; edges_y: 0.568160487043; ew: 0; pe: [9, 8]\" role=\"graphics-symbol\" aria-roledescription=\"line mark\" d=\"M118.71386418293007,118.83421613667373L158.00874149700016,113.79095593150583\" stroke=\"black\" stroke-width=\"0\" opacity=\"0.3\"></path></g></g><path class=\"foreground\" aria-hidden=\"true\" d=\"\" display=\"none\"></path></g><g transform=\"translate(0,0)\"><path class=\"background\" aria-hidden=\"true\" d=\"M0,0h200v200h-200Z\"></path><g><g class=\"mark-line role-mark concat_0_concat_0_concat_0_concat_0_layer_0_marks\" role=\"graphics-object\" aria-roledescription=\"line mark container\"><path aria-label=\"edges_x: 0.721856173205; edges_y: 1.30249610059; ew: 0; pe: [9, 9]\" role=\"graphics-symbol\" aria-roledescription=\"line mark\" d=\"M88.83659617216387,13.929128486527853L118.71386418293007,118.83421613667373\" stroke=\"black\" stroke-width=\"0\" opacity=\"0.3\"></path></g></g><path class=\"foreground\" aria-hidden=\"true\" d=\"\" display=\"none\"></path></g><g transform=\"translate(0,0)\"><path class=\"background\" aria-hidden=\"true\" d=\"M0,0h200v200h-200Z\"></path><g><g class=\"mark-line role-mark concat_0_concat_0_concat_0_concat_0_layer_0_marks\" role=\"graphics-object\" aria-roledescription=\"line mark container\"><path aria-label=\"edges_x: 0.930997049281; edges_y: 0.568160487043; ew: 0; pe: [9, 10]\" role=\"graphics-symbol\" aria-roledescription=\"line mark\" d=\"M118.71386418293007,118.83421613667373L145.1531329485203,61.50445326788771\" stroke=\"black\" stroke-width=\"0\" opacity=\"0.3\"></path></g></g><path class=\"foreground\" aria-hidden=\"true\" d=\"\" display=\"none\"></path></g><g transform=\"translate(0,0)\"><path class=\"background\" aria-hidden=\"true\" d=\"M0,0h200v200h-200Z\"></path><g><g class=\"mark-line role-mark concat_0_concat_0_concat_0_concat_0_layer_0_marks\" role=\"graphics-object\" aria-roledescription=\"line mark container\"><path aria-label=\"edges_x: 0.855660243169; edges_y: 0.0883624277613; ew: 0; pe: [10, 1]\" role=\"graphics-symbol\" aria-roledescription=\"line mark\" d=\"M107.95146330979313,187.37679603410083L120.31107078371059,1.8236958438736073\" stroke=\"black\" stroke-width=\"0\" opacity=\"0.3\"></path></g></g><path class=\"foreground\" aria-hidden=\"true\" d=\"\" display=\"none\"></path></g><g transform=\"translate(0,0)\"><path class=\"background\" aria-hidden=\"true\" d=\"M0,0h200v200h-200Z\"></path><g><g class=\"mark-line role-mark concat_0_concat_0_concat_0_concat_0_layer_0_marks\" role=\"graphics-object\" aria-roledescription=\"line mark container\"><path aria-label=\"edges_x: 0.855660243169; edges_y: 0.0883624277613; ew: 0; pe: [10, 2]\" role=\"graphics-symbol\" aria-roledescription=\"line mark\" d=\"M107.95146330979313,187.37679603410083L149.20910948660304,128.2078564711455\" stroke=\"black\" stroke-width=\"0\" opacity=\"0.3\"></path></g></g><path class=\"foreground\" aria-hidden=\"true\" d=\"\" display=\"none\"></path></g><g transform=\"translate(0,0)\"><path class=\"background\" aria-hidden=\"true\" d=\"M0,0h200v200h-200Z\"></path><g><g class=\"mark-line role-mark concat_0_concat_0_concat_0_concat_0_layer_0_marks\" role=\"graphics-object\" aria-roledescription=\"line mark container\"><path aria-label=\"edges_x: 0.855660243169; edges_y: 0.0883624277613; ew: 0; pe: [10, 3]\" role=\"graphics-symbol\" aria-roledescription=\"line mark\" d=\"M107.95146330979313,187.37679603410083L153.71710618397682,38.1879944450747\" stroke=\"black\" stroke-width=\"0\" opacity=\"0.3\"></path></g></g><path class=\"foreground\" aria-hidden=\"true\" d=\"\" display=\"none\"></path></g><g transform=\"translate(0,0)\"><path class=\"background\" aria-hidden=\"true\" d=\"M0,0h200v200h-200Z\"></path><g><g class=\"mark-line role-mark concat_0_concat_0_concat_0_concat_0_layer_0_marks\" role=\"graphics-object\" aria-roledescription=\"line mark container\"><path aria-label=\"edges_x: 0.532193416838; edges_y: 0.935636408464; ew: 0; pe: [10, 4]\" role=\"graphics-symbol\" aria-roledescription=\"line mark\" d=\"M61.741916691113495,66.33765593372551L107.95146330979313,187.37679603410083\" stroke=\"black\" stroke-width=\"0\" opacity=\"0.3\"></path></g></g><path class=\"foreground\" aria-hidden=\"true\" d=\"\" display=\"none\"></path></g><g transform=\"translate(0,0)\"><path class=\"background\" aria-hidden=\"true\" d=\"M0,0h200v200h-200Z\"></path><g><g class=\"mark-line role-mark concat_0_concat_0_concat_0_concat_0_layer_0_marks\" role=\"graphics-object\" aria-roledescription=\"line mark container\"><path aria-label=\"edges_x: 0.855660243169; edges_y: 0.0883624277613; ew: 0; pe: [10, 5]\" role=\"graphics-symbol\" aria-roledescription=\"line mark\" d=\"M107.95146330979313,187.37679603410083L190.603675868229,33.22532928668005\" stroke=\"black\" stroke-width=\"0\" opacity=\"0.3\"></path></g></g><path class=\"foreground\" aria-hidden=\"true\" d=\"\" display=\"none\"></path></g><g transform=\"translate(0,0)\"><path class=\"background\" aria-hidden=\"true\" d=\"M0,0h200v200h-200Z\"></path><g><g class=\"mark-line role-mark concat_0_concat_0_concat_0_concat_0_layer_0_marks\" role=\"graphics-object\" aria-roledescription=\"line mark container\"><path aria-label=\"edges_x: 0.650883286575; edges_y: 0.74501300889; ew: 0; pe: [10, 6]\" role=\"graphics-symbol\" aria-roledescription=\"line mark\" d=\"M78.69761236789526,93.56957015857297L107.95146330979313,187.37679603410083\" stroke=\"black\" stroke-width=\"0\" opacity=\"0.3\"></path></g></g><path class=\"foreground\" aria-hidden=\"true\" d=\"\" display=\"none\"></path></g><g transform=\"translate(0,0)\"><path class=\"background\" aria-hidden=\"true\" d=\"M0,0h200v200h-200Z\"></path><g><g class=\"mark-line role-mark concat_0_concat_0_concat_0_concat_0_layer_0_marks\" role=\"graphics-object\" aria-roledescription=\"line mark container\"><path aria-label=\"edges_x: 0.618443579396; edges_y: 1.31934849608; ew: 0; pe: [10, 7]\" role=\"graphics-symbol\" aria-roledescription=\"line mark\" d=\"M74.06336848508865,11.521643417649518L107.95146330979313,187.37679603410083\" stroke=\"black\" stroke-width=\"0\" opacity=\"0.3\"></path></g></g><path class=\"foreground\" aria-hidden=\"true\" d=\"\" display=\"none\"></path></g><g transform=\"translate(0,0)\"><path class=\"background\" aria-hidden=\"true\" d=\"M0,0h200v200h-200Z\"></path><g><g class=\"mark-line role-mark concat_0_concat_0_concat_0_concat_0_layer_0_marks\" role=\"graphics-object\" aria-roledescription=\"line mark container\"><path aria-label=\"edges_x: 0.855660243169; edges_y: 0.0883624277613; ew: 0.9106830122591943; pe: [10, 8]\" role=\"graphics-symbol\" aria-roledescription=\"line mark\" d=\"M107.95146330979313,187.37679603410083L158.00874149700016,113.79095593150583\" stroke=\"black\" stroke-width=\"1.789473684210526\" opacity=\"0.7553415061295972\"></path></g></g><path class=\"foreground\" aria-hidden=\"true\" d=\"\" display=\"none\"></path></g><g transform=\"translate(0,0)\"><path class=\"background\" aria-hidden=\"true\" d=\"M0,0h200v200h-200Z\"></path><g><g class=\"mark-line role-mark concat_0_concat_0_concat_0_concat_0_layer_0_marks\" role=\"graphics-object\" aria-roledescription=\"line mark container\"><path aria-label=\"edges_x: 0.721856173205; edges_y: 1.30249610059; ew: 0; pe: [10, 9]\" role=\"graphics-symbol\" aria-roledescription=\"line mark\" d=\"M88.83659617216387,13.929128486527853L107.95146330979313,187.37679603410083\" stroke=\"black\" stroke-width=\"0\" opacity=\"0.3\"></path></g></g><path class=\"foreground\" aria-hidden=\"true\" d=\"\" display=\"none\"></path></g><g transform=\"translate(0,0)\"><path class=\"background\" aria-hidden=\"true\" d=\"M0,0h200v200h-200Z\"></path><g><g class=\"mark-line role-mark concat_0_concat_0_concat_0_concat_0_layer_0_marks\" role=\"graphics-object\" aria-roledescription=\"line mark container\"><path aria-label=\"edges_x: 0.855660243169; edges_y: 0.0883624277613; ew: 0; pe: [10, 10]\" role=\"graphics-symbol\" aria-roledescription=\"line mark\" d=\"M107.95146330979313,187.37679603410083L145.1531329485203,61.50445326788771\" stroke=\"black\" stroke-width=\"0\" opacity=\"0.3\"></path></g></g><path class=\"foreground\" aria-hidden=\"true\" d=\"\" display=\"none\"></path></g></g><g class=\"mark-symbol role-mark concat_0_concat_0_concat_0_concat_0_layer_1_marks\" role=\"graphics-object\" aria-roledescription=\"symbol mark container\"><path aria-label=\"x: 0.942177495486; y: 1.38723412909; size: 0.164634751814\" role=\"graphics-symbol\" aria-roledescription=\"circle\" transform=\"translate(120.31107078371059,1.8236958438736073)\" d=\"M9.5,0A9.5,9.5,0,1,1,-9.5,0A9.5,9.5,0,1,1,9.5,0\" fill=\"red\" stroke-width=\"2\" opacity=\"1\"></path><path aria-label=\"x: 1.14446376641; y: 0.502545004702; size: 0.0712875164786\" role=\"graphics-symbol\" aria-roledescription=\"circle\" transform=\"translate(149.20910948660304,128.2078564711455)\" d=\"M6.251289203307511,0A6.251289203307511,6.251289203307511,0,1,1,-6.251289203307511,0A6.251289203307511,6.251289203307511,0,1,1,6.251289203307511,0\" fill=\"red\" stroke-width=\"2\" opacity=\"1\"></path><path aria-label=\"x: 1.17601974329; y: 1.13268403888; size: 0.0384602806248\" role=\"graphics-symbol\" aria-roledescription=\"circle\" transform=\"translate(153.71710618397682,38.1879944450747)\" d=\"M4.591653135735218,0A4.591653135735218,4.591653135735218,0,1,1,-4.591653135735218,0A4.591653135735218,4.591653135735218,0,1,1,4.591653135735218,0\" fill=\"red\" stroke-width=\"2\" opacity=\"1\"></path><path aria-label=\"x: 0.532193416838; y: 0.935636408464; size: 0.0445292985587\" role=\"graphics-symbol\" aria-roledescription=\"circle\" transform=\"translate(61.741916691113495,66.33765593372551)\" d=\"M4.9406691857989475,0A4.9406691857989475,4.9406691857989475,0,1,1,-4.9406691857989475,0A4.9406691857989475,4.9406691857989475,0,1,1,4.9406691857989475,0\" fill=\"red\" stroke-width=\"2\" opacity=\"1\"></path><path aria-label=\"x: 1.43422573108; y: 1.16742269499; size: 0.104166140719\" role=\"graphics-symbol\" aria-roledescription=\"circle\" transform=\"translate(190.603675868229,33.22532928668005)\" d=\"M7.556594810932531,0A7.556594810932531,7.556594810932531,0,1,1,-7.556594810932531,0A7.556594810932531,7.556594810932531,0,1,1,7.556594810932531,0\" fill=\"red\" stroke-width=\"2\" opacity=\"1\"></path><path aria-label=\"x: 0.650883286575; y: 0.74501300889; size: 0.0695559700802\" role=\"graphics-symbol\" aria-roledescription=\"circle\" transform=\"translate(78.69761236789526,93.56957015857297)\" d=\"M6.174901789597849,0A6.174901789597849,6.174901789597849,0,1,1,-6.174901789597849,0A6.174901789597849,6.174901789597849,0,1,1,6.174901789597849,0\" fill=\"red\" stroke-width=\"2\" opacity=\"1\"></path><path aria-label=\"x: 0.618443579396; y: 1.31934849608; size: 0.140701220884\" role=\"graphics-symbol\" aria-roledescription=\"circle\" transform=\"translate(74.06336848508865,11.521643417649518)\" d=\"M8.782371044646123,0A8.782371044646123,8.782371044646123,0,1,1,-8.782371044646123,0A8.782371044646123,8.782371044646123,0,1,1,8.782371044646123,0\" fill=\"red\" stroke-width=\"2\" opacity=\"1\"></path><path aria-label=\"x: 1.20606119048; y: 0.603463308479; size: 0.119225562197\" role=\"graphics-symbol\" aria-roledescription=\"circle\" transform=\"translate(158.00874149700016,113.79095593150583)\" d=\"M8.08439524812174,0A8.08439524812174,8.08439524812174,0,1,1,-8.08439524812174,0A8.08439524812174,8.08439524812174,0,1,1,8.08439524812174,0\" fill=\"red\" stroke-width=\"2\" opacity=\"1\"></path><path aria-label=\"x: 0.721856173205; y: 1.30249610059; size: 0.103851441032\" role=\"graphics-symbol\" aria-roledescription=\"circle\" transform=\"translate(88.83659617216387,13.929128486527853)\" d=\"M7.545171440386934,0A7.545171440386934,7.545171440386934,0,1,1,-7.545171440386934,0A7.545171440386934,7.545171440386934,0,1,1,7.545171440386934,0\" fill=\"red\" stroke-width=\"2\" opacity=\"1\"></path><path aria-label=\"x: 1.11607193064; y: 0.969468827125; size: 0.143587817612\" role=\"graphics-symbol\" aria-roledescription=\"circle\" transform=\"translate(145.1531329485203,61.50445326788771)\" d=\"M8.872002305470222,0A8.872002305470222,8.872002305470222,0,1,1,-8.872002305470222,0A8.872002305470222,8.872002305470222,0,1,1,8.872002305470222,0\" fill=\"red\" stroke-width=\"2\" opacity=\"1\"></path></g><g class=\"mark-symbol role-mark concat_0_concat_0_concat_0_concat_0_layer_2_marks\" role=\"graphics-object\" aria-roledescription=\"symbol mark container\"><path aria-label=\"x: 0.469344301481; y: 0.268441730392; size: 0.0575746813958\" role=\"graphics-symbol\" aria-roledescription=\"circle\" transform=\"translate(52.76347164009204,161.6511813725123)\" d=\"M4.830507068211761,0A4.830507068211761,4.830507068211761,0,1,1,-4.830507068211761,0A4.830507068211761,4.830507068211761,0,1,1,4.830507068211761,0\" fill=\"#4c78a8\" stroke-width=\"2\" opacity=\"1\"></path><path aria-label=\"x: 0.231871083902; y: 0.0635294670821; size: 0.0858404204563\" role=\"graphics-symbol\" aria-roledescription=\"circle\" transform=\"translate(18.838726271738896,190.9243618454186)\" d=\"M5.898245816475333,0A5.898245816475333,5.898245816475333,0,1,1,-5.898245816475333,0A5.898245816475333,5.898245816475333,0,1,1,5.898245816475333,0\" fill=\"#4c78a8\" stroke-width=\"2\" opacity=\"1\"></path><path aria-label=\"x: 0.506517095705; y: 0.44817218029; size: 0.222686202932\" role=\"graphics-symbol\" aria-roledescription=\"circle\" transform=\"translate(58.07387081502732,135.97540281571327)\" d=\"M9.5,0A9.5,9.5,0,1,1,-9.5,0A9.5,9.5,0,1,1,9.5,0\" fill=\"#4c78a8\" stroke-width=\"2\" opacity=\"1\"></path><path aria-label=\"x: 0.46170452839; y: 0.123550838093; size: 0.19901647222\" role=\"graphics-symbol\" aria-roledescription=\"circle\" transform=\"translate(51.67207548430305,182.34988027245203)\" d=\"M8.980933115917066,0A8.980933115917066,8.980933115917066,0,1,1,-8.980933115917066,0A8.980933115917066,8.980933115917066,0,1,1,8.980933115917066,0\" fill=\"#4c78a8\" stroke-width=\"2\" opacity=\"1\"></path><path aria-label=\"x: 0.389310090336; y: 0.066350751231; size: 0.00934656570726\" role=\"graphics-symbol\" aria-roledescription=\"circle\" transform=\"translate(41.33001290516612,190.52132125271194)\" d=\"M1.9462695228676334,0A1.9462695228676334,1.9462695228676334,0,1,1,-1.9462695228676334,0A1.9462695228676334,1.9462695228676334,0,1,1,1.9462695228676334,0\" fill=\"#4c78a8\" stroke-width=\"2\" opacity=\"1\"></path><path aria-label=\"x: 0.699330260661; y: 0.226552362676; size: 0.0845813630975\" role=\"graphics-symbol\" aria-roledescription=\"circle\" transform=\"translate(85.61860866591833,167.6353767605977)\" d=\"M5.854830009462446,0A5.854830009462446,5.854830009462446,0,1,1,-5.854830009462446,0A5.854830009462446,5.854830009462446,0,1,1,5.854830009462446,0\" fill=\"#4c78a8\" stroke-width=\"2\" opacity=\"1\"></path><path aria-label=\"x: 0.167096821437; y: 0.469605886451; size: 0.0552313082209\" role=\"graphics-symbol\" aria-roledescription=\"circle\" transform=\"translate(9.58526020524795,132.91344479278442)\" d=\"M4.731181568833097,0A4.731181568833097,4.731181568833097,0,1,1,-4.731181568833097,0A4.731181568833097,4.731181568833097,0,1,1,4.731181568833097,0\" fill=\"#4c78a8\" stroke-width=\"2\" opacity=\"1\"></path><path aria-label=\"x: 0.718138705124; y: 0.660193348408; size: 0.0504322485606\" role=\"graphics-symbol\" aria-roledescription=\"circle\" transform=\"translate(88.30552930340369,105.68666451318907)\" d=\"M4.520964701755543,0A4.520964701755543,4.520964701755543,0,1,1,-4.520964701755543,0A4.520964701755543,4.520964701755543,0,1,1,4.520964701755543,0\" fill=\"#4c78a8\" stroke-width=\"2\" opacity=\"1\"></path><path aria-label=\"x: 0.930997049281; y: 0.568160487043; size: 0.13126058864\" role=\"graphics-symbol\" aria-roledescription=\"circle\" transform=\"translate(118.71386418293007,118.83421613667373)\" d=\"M7.293636648486774,0A7.293636648486774,7.293636648486774,0,1,1,-7.293636648486774,0A7.293636648486774,7.293636648486774,0,1,1,7.293636648486774,0\" fill=\"#4c78a8\" stroke-width=\"2\" opacity=\"1\"></path><path aria-label=\"x: 0.855660243169; y: 0.0883624277613; size: 0.10403014877\" role=\"graphics-symbol\" aria-roledescription=\"circle\" transform=\"translate(107.95146330979313,187.37679603410083)\" d=\"M6.493166809154637,0A6.493166809154637,6.493166809154637,0,1,1,-6.493166809154637,0A6.493166809154637,6.493166809154637,0,1,1,6.493166809154637,0\" fill=\"#4c78a8\" stroke-width=\"2\" opacity=\"1\"></path></g><g class=\"mark-group role-title\"><g transform=\"translate(100,-24.676304156126392)\"><path class=\"background\" aria-hidden=\"true\" d=\"M0,0h0v0h0Z\" pointer-events=\"none\"></path><g><g class=\"mark-text role-title-text\" role=\"graphics-symbol\" aria-roledescription=\"title\" aria-label=\"Title text 'ϵ = 0.0'\" pointer-events=\"none\"><text text-anchor=\"middle\" transform=\"translate(0,10)\" font-family=\"sans-serif\" font-size=\"13px\" font-weight=\"bold\" fill=\"#000\" opacity=\"1\">ϵ = 0.0</text></g></g><path class=\"foreground\" aria-hidden=\"true\" d=\"\" pointer-events=\"none\" display=\"none\"></path></g></g></g><path class=\"foreground\" aria-hidden=\"true\" d=\"\" display=\"none\"></path></g></g><g class=\"mark-group role-scope concat_0_concat_0_concat_0_concat_1_group\" role=\"graphics-object\" aria-roledescription=\"group mark container\"><g transform=\"translate(220,0)\"><path class=\"background\" aria-hidden=\"true\" d=\"M0,0h200v200h-200Z\"></path><g><g class=\"mark-group role-scope concat_0_concat_0_concat_0_concat_1_layer_0_pathgroup\" role=\"graphics-object\" aria-roledescription=\"group mark container\"><g transform=\"translate(0,0)\"><path class=\"background\" aria-hidden=\"true\" d=\"M0,0h200v200h-200Z\"></path><g><g class=\"mark-line role-mark concat_0_concat_0_concat_0_concat_1_layer_0_marks\" role=\"graphics-object\" aria-roledescription=\"line mark container\"><path aria-label=\"edges_x: 0.469344301481; edges_y: 0.268441730392; ew: 0.0037629350893697085; pe: [1, 1]\" role=\"graphics-symbol\" aria-roledescription=\"line mark\" d=\"M52.76347164009204,161.6511813725123L120.31107078371059,1.8236958438736073\" stroke=\"black\" stroke-width=\"0.21428571428571427\" opacity=\"0.3018814675446848\"></path></g></g><path class=\"foreground\" aria-hidden=\"true\" d=\"\" display=\"none\"></path></g><g transform=\"translate(0,0)\"><path class=\"background\" aria-hidden=\"true\" d=\"M0,0h200v200h-200Z\"></path><g><g class=\"mark-line role-mark concat_0_concat_0_concat_0_concat_1_layer_0_marks\" role=\"graphics-object\" aria-roledescription=\"line mark container\"><path aria-label=\"edges_x: 0.469344301481; edges_y: 0.268441730392; ew: 0; pe: [1, 2]\" role=\"graphics-symbol\" aria-roledescription=\"line mark\" d=\"M52.76347164009204,161.6511813725123L149.20910948660304,128.2078564711455\" stroke=\"black\" stroke-width=\"0\" opacity=\"0.3\"></path></g></g><path class=\"foreground\" aria-hidden=\"true\" d=\"\" display=\"none\"></path></g><g transform=\"translate(0,0)\"><path class=\"background\" aria-hidden=\"true\" d=\"M0,0h200v200h-200Z\"></path><g><g class=\"mark-line role-mark concat_0_concat_0_concat_0_concat_1_layer_0_marks\" role=\"graphics-object\" aria-roledescription=\"line mark container\"><path aria-label=\"edges_x: 0.469344301481; edges_y: 0.268441730392; ew: 0; pe: [1, 3]\" role=\"graphics-symbol\" aria-roledescription=\"line mark\" d=\"M52.76347164009204,161.6511813725123L153.71710618397682,38.1879944450747\" stroke=\"black\" stroke-width=\"0\" opacity=\"0.3\"></path></g></g><path class=\"foreground\" aria-hidden=\"true\" d=\"\" display=\"none\"></path></g><g transform=\"translate(0,0)\"><path class=\"background\" aria-hidden=\"true\" d=\"M0,0h200v200h-200Z\"></path><g><g class=\"mark-line role-mark concat_0_concat_0_concat_0_concat_1_layer_0_marks\" role=\"graphics-object\" aria-roledescription=\"line mark container\"><path aria-label=\"edges_x: 0.469344301481; edges_y: 0.268441730392; ew: 0; pe: [1, 4]\" role=\"graphics-symbol\" aria-roledescription=\"line mark\" d=\"M52.76347164009204,161.6511813725123L61.741916691113495,66.33765593372551\" stroke=\"black\" stroke-width=\"0\" opacity=\"0.3\"></path></g></g><path class=\"foreground\" aria-hidden=\"true\" d=\"\" display=\"none\"></path></g><g transform=\"translate(0,0)\"><path class=\"background\" aria-hidden=\"true\" d=\"M0,0h200v200h-200Z\"></path><g><g class=\"mark-line role-mark concat_0_concat_0_concat_0_concat_1_layer_0_marks\" role=\"graphics-object\" aria-roledescription=\"line mark container\"><path aria-label=\"edges_x: 0.469344301481; edges_y: 0.268441730392; ew: 0; pe: [1, 5]\" role=\"graphics-symbol\" aria-roledescription=\"line mark\" d=\"M52.76347164009204,161.6511813725123L190.603675868229,33.22532928668005\" stroke=\"black\" stroke-width=\"0\" opacity=\"0.3\"></path></g></g><path class=\"foreground\" aria-hidden=\"true\" d=\"\" display=\"none\"></path></g><g transform=\"translate(0,0)\"><path class=\"background\" aria-hidden=\"true\" d=\"M0,0h200v200h-200Z\"></path><g><g class=\"mark-line role-mark concat_0_concat_0_concat_0_concat_1_layer_0_marks\" role=\"graphics-object\" aria-roledescription=\"line mark container\"><path aria-label=\"edges_x: 0.469344301481; edges_y: 0.268441730392; ew: 0; pe: [1, 6]\" role=\"graphics-symbol\" aria-roledescription=\"line mark\" d=\"M52.76347164009204,161.6511813725123L78.69761236789526,93.56957015857297\" stroke=\"black\" stroke-width=\"0\" opacity=\"0.3\"></path></g></g><path class=\"foreground\" aria-hidden=\"true\" d=\"\" display=\"none\"></path></g><g transform=\"translate(0,0)\"><path class=\"background\" aria-hidden=\"true\" d=\"M0,0h200v200h-200Z\"></path><g><g class=\"mark-line role-mark concat_0_concat_0_concat_0_concat_1_layer_0_marks\" role=\"graphics-object\" aria-roledescription=\"line mark container\"><path aria-label=\"edges_x: 0.469344301481; edges_y: 0.268441730392; ew: 0.2596425211665099; pe: [1, 7]\" role=\"graphics-symbol\" aria-roledescription=\"line mark\" d=\"M52.76347164009204,161.6511813725123L74.06336848508865,11.521643417649518\" stroke=\"black\" stroke-width=\"1.0714285714285714\" opacity=\"0.4298212605832549\"></path></g></g><path class=\"foreground\" aria-hidden=\"true\" d=\"\" display=\"none\"></path></g><g transform=\"translate(0,0)\"><path class=\"background\" aria-hidden=\"true\" d=\"M0,0h200v200h-200Z\"></path><g><g class=\"mark-line role-mark concat_0_concat_0_concat_0_concat_1_layer_0_marks\" role=\"graphics-object\" aria-roledescription=\"line mark container\"><path aria-label=\"edges_x: 0.469344301481; edges_y: 0.268441730392; ew: 0; pe: [1, 8]\" role=\"graphics-symbol\" aria-roledescription=\"line mark\" d=\"M52.76347164009204,161.6511813725123L158.00874149700016,113.79095593150583\" stroke=\"black\" stroke-width=\"0\" opacity=\"0.3\"></path></g></g><path class=\"foreground\" aria-hidden=\"true\" d=\"\" display=\"none\"></path></g><g transform=\"translate(0,0)\"><path class=\"background\" aria-hidden=\"true\" d=\"M0,0h200v200h-200Z\"></path><g><g class=\"mark-line role-mark concat_0_concat_0_concat_0_concat_1_layer_0_marks\" role=\"graphics-object\" aria-roledescription=\"line mark container\"><path aria-label=\"edges_x: 0.469344301481; edges_y: 0.268441730392; ew: 0.27751646284101594; pe: [1, 9]\" role=\"graphics-symbol\" aria-roledescription=\"line mark\" d=\"M52.76347164009204,161.6511813725123L88.83659617216387,13.929128486527853\" stroke=\"black\" stroke-width=\"1.1428571428571428\" opacity=\"0.43875823142050796\"></path></g></g><path class=\"foreground\" aria-hidden=\"true\" d=\"\" display=\"none\"></path></g><g transform=\"translate(0,0)\"><path class=\"background\" aria-hidden=\"true\" d=\"M0,0h200v200h-200Z\"></path><g><g class=\"mark-line role-mark concat_0_concat_0_concat_0_concat_1_layer_0_marks\" role=\"graphics-object\" aria-roledescription=\"line mark container\"><path aria-label=\"edges_x: 0.469344301481; edges_y: 0.268441730392; ew: 0; pe: [1, 10]\" role=\"graphics-symbol\" aria-roledescription=\"line mark\" d=\"M52.76347164009204,161.6511813725123L145.1531329485203,61.50445326788771\" stroke=\"black\" stroke-width=\"0\" opacity=\"0.3\"></path></g></g><path class=\"foreground\" aria-hidden=\"true\" d=\"\" display=\"none\"></path></g><g transform=\"translate(0,0)\"><path class=\"background\" aria-hidden=\"true\" d=\"M0,0h200v200h-200Z\"></path><g><g class=\"mark-line role-mark concat_0_concat_0_concat_0_concat_1_layer_0_marks\" role=\"graphics-object\" aria-roledescription=\"line mark container\"><path aria-label=\"edges_x: 0.231871083902; edges_y: 0.0635294670821; ew: 0; pe: [2, 1]\" role=\"graphics-symbol\" aria-roledescription=\"line mark\" d=\"M18.838726271738896,190.9243618454186L120.31107078371059,1.8236958438736073\" stroke=\"black\" stroke-width=\"0\" opacity=\"0.3\"></path></g></g><path class=\"foreground\" aria-hidden=\"true\" d=\"\" display=\"none\"></path></g><g transform=\"translate(0,0)\"><path class=\"background\" aria-hidden=\"true\" d=\"M0,0h200v200h-200Z\"></path><g><g class=\"mark-line role-mark concat_0_concat_0_concat_0_concat_1_layer_0_marks\" role=\"graphics-object\" aria-roledescription=\"line mark container\"><path aria-label=\"edges_x: 0.231871083902; edges_y: 0.0635294670821; ew: 0; pe: [2, 2]\" role=\"graphics-symbol\" aria-roledescription=\"line mark\" d=\"M18.838726271738896,190.9243618454186L149.20910948660304,128.2078564711455\" stroke=\"black\" stroke-width=\"0\" opacity=\"0.3\"></path></g></g><path class=\"foreground\" aria-hidden=\"true\" d=\"\" display=\"none\"></path></g><g transform=\"translate(0,0)\"><path class=\"background\" aria-hidden=\"true\" d=\"M0,0h200v200h-200Z\"></path><g><g class=\"mark-line role-mark concat_0_concat_0_concat_0_concat_1_layer_0_marks\" role=\"graphics-object\" aria-roledescription=\"line mark container\"><path aria-label=\"edges_x: 0.231871083902; edges_y: 0.0635294670821; ew: 0; pe: [2, 3]\" role=\"graphics-symbol\" aria-roledescription=\"line mark\" d=\"M18.838726271738896,190.9243618454186L153.71710618397682,38.1879944450747\" stroke=\"black\" stroke-width=\"0\" opacity=\"0.3\"></path></g></g><path class=\"foreground\" aria-hidden=\"true\" d=\"\" display=\"none\"></path></g><g transform=\"translate(0,0)\"><path class=\"background\" aria-hidden=\"true\" d=\"M0,0h200v200h-200Z\"></path><g><g class=\"mark-line role-mark concat_0_concat_0_concat_0_concat_1_layer_0_marks\" role=\"graphics-object\" aria-roledescription=\"line mark container\"><path aria-label=\"edges_x: 0.231871083902; edges_y: 0.0635294670821; ew: 0.40921919096895576; pe: [2, 4]\" role=\"graphics-symbol\" aria-roledescription=\"line mark\" d=\"M18.838726271738896,190.9243618454186L61.741916691113495,66.33765593372551\" stroke=\"black\" stroke-width=\"1.2857142857142856\" opacity=\"0.5046095954844778\"></path></g></g><path class=\"foreground\" aria-hidden=\"true\" d=\"\" display=\"none\"></path></g><g transform=\"translate(0,0)\"><path class=\"background\" aria-hidden=\"true\" d=\"M0,0h200v200h-200Z\"></path><g><g class=\"mark-line role-mark concat_0_concat_0_concat_0_concat_1_layer_0_marks\" role=\"graphics-object\" aria-roledescription=\"line mark container\"><path aria-label=\"edges_x: 0.231871083902; edges_y: 0.0635294670821; ew: 0; pe: [2, 5]\" role=\"graphics-symbol\" aria-roledescription=\"line mark\" d=\"M18.838726271738896,190.9243618454186L190.603675868229,33.22532928668005\" stroke=\"black\" stroke-width=\"0\" opacity=\"0.3\"></path></g></g><path class=\"foreground\" aria-hidden=\"true\" d=\"\" display=\"none\"></path></g><g transform=\"translate(0,0)\"><path class=\"background\" aria-hidden=\"true\" d=\"M0,0h200v200h-200Z\"></path><g><g class=\"mark-line role-mark concat_0_concat_0_concat_0_concat_1_layer_0_marks\" role=\"graphics-object\" aria-roledescription=\"line mark container\"><path aria-label=\"edges_x: 0.231871083902; edges_y: 0.0635294670821; ew: 0.3979303857008466; pe: [2, 6]\" role=\"graphics-symbol\" aria-roledescription=\"line mark\" d=\"M18.838726271738896,190.9243618454186L78.69761236789526,93.56957015857297\" stroke=\"black\" stroke-width=\"1.2142857142857142\" opacity=\"0.4989651928504233\"></path></g></g><path class=\"foreground\" aria-hidden=\"true\" d=\"\" display=\"none\"></path></g><g transform=\"translate(0,0)\"><path class=\"background\" aria-hidden=\"true\" d=\"M0,0h200v200h-200Z\"></path><g><g class=\"mark-line role-mark concat_0_concat_0_concat_0_concat_1_layer_0_marks\" role=\"graphics-object\" aria-roledescription=\"line mark container\"><path aria-label=\"edges_x: 0.231871083902; edges_y: 0.0635294670821; ew: 0.0009407337723424271; pe: [2, 7]\" role=\"graphics-symbol\" aria-roledescription=\"line mark\" d=\"M18.838726271738896,190.9243618454186L74.06336848508865,11.521643417649518\" stroke=\"black\" stroke-width=\"0.07142857142857142\" opacity=\"0.30047036688617124\"></path></g></g><path class=\"foreground\" aria-hidden=\"true\" d=\"\" display=\"none\"></path></g><g transform=\"translate(0,0)\"><path class=\"background\" aria-hidden=\"true\" d=\"M0,0h200v200h-200Z\"></path><g><g class=\"mark-line role-mark concat_0_concat_0_concat_0_concat_1_layer_0_marks\" role=\"graphics-object\" aria-roledescription=\"line mark container\"><path aria-label=\"edges_x: 0.231871083902; edges_y: 0.0635294670821; ew: 0; pe: [2, 8]\" role=\"graphics-symbol\" aria-roledescription=\"line mark\" d=\"M18.838726271738896,190.9243618454186L158.00874149700016,113.79095593150583\" stroke=\"black\" stroke-width=\"0\" opacity=\"0.3\"></path></g></g><path class=\"foreground\" aria-hidden=\"true\" d=\"\" display=\"none\"></path></g><g transform=\"translate(0,0)\"><path class=\"background\" aria-hidden=\"true\" d=\"M0,0h200v200h-200Z\"></path><g><g class=\"mark-line role-mark concat_0_concat_0_concat_0_concat_1_layer_0_marks\" role=\"graphics-object\" aria-roledescription=\"line mark container\"><path aria-label=\"edges_x: 0.231871083902; edges_y: 0.0635294670821; ew: 0; pe: [2, 9]\" role=\"graphics-symbol\" aria-roledescription=\"line mark\" d=\"M18.838726271738896,190.9243618454186L88.83659617216387,13.929128486527853\" stroke=\"black\" stroke-width=\"0\" opacity=\"0.3\"></path></g></g><path class=\"foreground\" aria-hidden=\"true\" d=\"\" display=\"none\"></path></g><g transform=\"translate(0,0)\"><path class=\"background\" aria-hidden=\"true\" d=\"M0,0h200v200h-200Z\"></path><g><g class=\"mark-line role-mark concat_0_concat_0_concat_0_concat_1_layer_0_marks\" role=\"graphics-object\" aria-roledescription=\"line mark container\"><path aria-label=\"edges_x: 0.231871083902; edges_y: 0.0635294670821; ew: 0; pe: [2, 10]\" role=\"graphics-symbol\" aria-roledescription=\"line mark\" d=\"M18.838726271738896,190.9243618454186L145.1531329485203,61.50445326788771\" stroke=\"black\" stroke-width=\"0\" opacity=\"0.3\"></path></g></g><path class=\"foreground\" aria-hidden=\"true\" d=\"\" display=\"none\"></path></g><g transform=\"translate(0,0)\"><path class=\"background\" aria-hidden=\"true\" d=\"M0,0h200v200h-200Z\"></path><g><g class=\"mark-line role-mark concat_0_concat_0_concat_0_concat_1_layer_0_marks\" role=\"graphics-object\" aria-roledescription=\"line mark container\"><path aria-label=\"edges_x: 0.506517095705; edges_y: 0.44817218029; ew: 1; pe: [3, 1]\" role=\"graphics-symbol\" aria-roledescription=\"line mark\" d=\"M58.07387081502732,135.97540281571327L120.31107078371059,1.8236958438736073\" stroke=\"black\" stroke-width=\"2\" opacity=\"0.8\"></path></g></g><path class=\"foreground\" aria-hidden=\"true\" d=\"\" display=\"none\"></path></g><g transform=\"translate(0,0)\"><path class=\"background\" aria-hidden=\"true\" d=\"M0,0h200v200h-200Z\"></path><g><g class=\"mark-line role-mark concat_0_concat_0_concat_0_concat_1_layer_0_marks\" role=\"graphics-object\" aria-roledescription=\"line mark container\"><path aria-label=\"edges_x: 0.506517095705; edges_y: 0.44817218029; ew: 0; pe: [3, 2]\" role=\"graphics-symbol\" aria-roledescription=\"line mark\" d=\"M58.07387081502732,135.97540281571327L149.20910948660304,128.2078564711455\" stroke=\"black\" stroke-width=\"0\" opacity=\"0.3\"></path></g></g><path class=\"foreground\" aria-hidden=\"true\" d=\"\" display=\"none\"></path></g><g transform=\"translate(0,0)\"><path class=\"background\" aria-hidden=\"true\" d=\"M0,0h200v200h-200Z\"></path><g><g class=\"mark-line role-mark concat_0_concat_0_concat_0_concat_1_layer_0_marks\" role=\"graphics-object\" aria-roledescription=\"line mark container\"><path aria-label=\"edges_x: 0.506517095705; edges_y: 0.44817218029; ew: 0; pe: [3, 3]\" role=\"graphics-symbol\" aria-roledescription=\"line mark\" d=\"M58.07387081502732,135.97540281571327L153.71710618397682,38.1879944450747\" stroke=\"black\" stroke-width=\"0\" opacity=\"0.3\"></path></g></g><path class=\"foreground\" aria-hidden=\"true\" d=\"\" display=\"none\"></path></g><g transform=\"translate(0,0)\"><path class=\"background\" aria-hidden=\"true\" d=\"M0,0h200v200h-200Z\"></path><g><g class=\"mark-line role-mark concat_0_concat_0_concat_0_concat_1_layer_0_marks\" role=\"graphics-object\" aria-roledescription=\"line mark container\"><path aria-label=\"edges_x: 0.506517095705; edges_y: 0.44817218029; ew: 0; pe: [3, 4]\" role=\"graphics-symbol\" aria-roledescription=\"line mark\" d=\"M58.07387081502732,135.97540281571327L61.741916691113495,66.33765593372551\" stroke=\"black\" stroke-width=\"0\" opacity=\"0.3\"></path></g></g><path class=\"foreground\" aria-hidden=\"true\" d=\"\" display=\"none\"></path></g><g transform=\"translate(0,0)\"><path class=\"background\" aria-hidden=\"true\" d=\"M0,0h200v200h-200Z\"></path><g><g class=\"mark-line role-mark concat_0_concat_0_concat_0_concat_1_layer_0_marks\" role=\"graphics-object\" aria-roledescription=\"line mark container\"><path aria-label=\"edges_x: 0.506517095705; edges_y: 0.44817218029; ew: 0; pe: [3, 5]\" role=\"graphics-symbol\" aria-roledescription=\"line mark\" d=\"M58.07387081502732,135.97540281571327L190.603675868229,33.22532928668005\" stroke=\"black\" stroke-width=\"0\" opacity=\"0.3\"></path></g></g><path class=\"foreground\" aria-hidden=\"true\" d=\"\" display=\"none\"></path></g><g transform=\"translate(0,0)\"><path class=\"background\" aria-hidden=\"true\" d=\"M0,0h200v200h-200Z\"></path><g><g class=\"mark-line role-mark concat_0_concat_0_concat_0_concat_1_layer_0_marks\" role=\"graphics-object\" aria-roledescription=\"line mark container\"><path aria-label=\"edges_x: 0.506517095705; edges_y: 0.44817218029; ew: 0; pe: [3, 6]\" role=\"graphics-symbol\" aria-roledescription=\"line mark\" d=\"M58.07387081502732,135.97540281571327L78.69761236789526,93.56957015857297\" stroke=\"black\" stroke-width=\"0\" opacity=\"0.3\"></path></g></g><path class=\"foreground\" aria-hidden=\"true\" d=\"\" display=\"none\"></path></g><g transform=\"translate(0,0)\"><path class=\"background\" aria-hidden=\"true\" d=\"M0,0h200v200h-200Z\"></path><g><g class=\"mark-line role-mark concat_0_concat_0_concat_0_concat_1_layer_0_marks\" role=\"graphics-object\" aria-roledescription=\"line mark container\"><path aria-label=\"edges_x: 0.506517095705; edges_y: 0.44817218029; ew: 0.4844778927563499; pe: [3, 7]\" role=\"graphics-symbol\" aria-roledescription=\"line mark\" d=\"M58.07387081502732,135.97540281571327L74.06336848508865,11.521643417649518\" stroke=\"black\" stroke-width=\"1.4285714285714284\" opacity=\"0.5422389463781749\"></path></g></g><path class=\"foreground\" aria-hidden=\"true\" d=\"\" display=\"none\"></path></g><g transform=\"translate(0,0)\"><path class=\"background\" aria-hidden=\"true\" d=\"M0,0h200v200h-200Z\"></path><g><g class=\"mark-line role-mark concat_0_concat_0_concat_0_concat_1_layer_0_marks\" role=\"graphics-object\" aria-roledescription=\"line mark container\"><path aria-label=\"edges_x: 0.506517095705; edges_y: 0.44817218029; ew: 0; pe: [3, 8]\" role=\"graphics-symbol\" aria-roledescription=\"line mark\" d=\"M58.07387081502732,135.97540281571327L158.00874149700016,113.79095593150583\" stroke=\"black\" stroke-width=\"0\" opacity=\"0.3\"></path></g></g><path class=\"foreground\" aria-hidden=\"true\" d=\"\" display=\"none\"></path></g><g transform=\"translate(0,0)\"><path class=\"background\" aria-hidden=\"true\" d=\"M0,0h200v200h-200Z\"></path><g><g class=\"mark-line role-mark concat_0_concat_0_concat_0_concat_1_layer_0_marks\" role=\"graphics-object\" aria-roledescription=\"line mark container\"><path aria-label=\"edges_x: 0.506517095705; edges_y: 0.44817218029; ew: 0.6105362182502352; pe: [3, 9]\" role=\"graphics-symbol\" aria-roledescription=\"line mark\" d=\"M58.07387081502732,135.97540281571327L88.83659617216387,13.929128486527853\" stroke=\"black\" stroke-width=\"1.5714285714285714\" opacity=\"0.6052681091251176\"></path></g></g><path class=\"foreground\" aria-hidden=\"true\" d=\"\" display=\"none\"></path></g><g transform=\"translate(0,0)\"><path class=\"background\" aria-hidden=\"true\" d=\"M0,0h200v200h-200Z\"></path><g><g class=\"mark-line role-mark concat_0_concat_0_concat_0_concat_1_layer_0_marks\" role=\"graphics-object\" aria-roledescription=\"line mark container\"><path aria-label=\"edges_x: 0.506517095705; edges_y: 0.44817218029; ew: 0; pe: [3, 10]\" role=\"graphics-symbol\" aria-roledescription=\"line mark\" d=\"M58.07387081502732,135.97540281571327L145.1531329485203,61.50445326788771\" stroke=\"black\" stroke-width=\"0\" opacity=\"0.3\"></path></g></g><path class=\"foreground\" aria-hidden=\"true\" d=\"\" display=\"none\"></path></g><g transform=\"translate(0,0)\"><path class=\"background\" aria-hidden=\"true\" d=\"M0,0h200v200h-200Z\"></path><g><g class=\"mark-line role-mark concat_0_concat_0_concat_0_concat_1_layer_0_marks\" role=\"graphics-object\" aria-roledescription=\"line mark container\"><path aria-label=\"edges_x: 0.46170452839; edges_y: 0.123550838093; ew: 0; pe: [4, 1]\" role=\"graphics-symbol\" aria-roledescription=\"line mark\" d=\"M51.67207548430305,182.34988027245203L120.31107078371059,1.8236958438736073\" stroke=\"black\" stroke-width=\"0\" opacity=\"0.3\"></path></g></g><path class=\"foreground\" aria-hidden=\"true\" d=\"\" display=\"none\"></path></g><g transform=\"translate(0,0)\"><path class=\"background\" aria-hidden=\"true\" d=\"M0,0h200v200h-200Z\"></path><g><g class=\"mark-line role-mark concat_0_concat_0_concat_0_concat_1_layer_0_marks\" role=\"graphics-object\" aria-roledescription=\"line mark container\"><path aria-label=\"edges_x: 0.46170452839; edges_y: 0.123550838093; ew: 0.6180620884289745; pe: [4, 2]\" role=\"graphics-symbol\" aria-roledescription=\"line mark\" d=\"M51.67207548430305,182.34988027245203L149.20910948660304,128.2078564711455\" stroke=\"black\" stroke-width=\"1.7142857142857142\" opacity=\"0.6090310442144873\"></path></g></g><path class=\"foreground\" aria-hidden=\"true\" d=\"\" display=\"none\"></path></g><g transform=\"translate(0,0)\"><path class=\"background\" aria-hidden=\"true\" d=\"M0,0h200v200h-200Z\"></path><g><g class=\"mark-line role-mark concat_0_concat_0_concat_0_concat_1_layer_0_marks\" role=\"graphics-object\" aria-roledescription=\"line mark container\"><path aria-label=\"edges_x: 0.46170452839; edges_y: 0.123550838093; ew: 0; pe: [4, 3]\" role=\"graphics-symbol\" aria-roledescription=\"line mark\" d=\"M51.67207548430305,182.34988027245203L153.71710618397682,38.1879944450747\" stroke=\"black\" stroke-width=\"0\" opacity=\"0.3\"></path></g></g><path class=\"foreground\" aria-hidden=\"true\" d=\"\" display=\"none\"></path></g><g transform=\"translate(0,0)\"><path class=\"background\" aria-hidden=\"true\" d=\"M0,0h200v200h-200Z\"></path><g><g class=\"mark-line role-mark concat_0_concat_0_concat_0_concat_1_layer_0_marks\" role=\"graphics-object\" aria-roledescription=\"line mark container\"><path aria-label=\"edges_x: 0.46170452839; edges_y: 0.123550838093; ew: 0.007525870178739417; pe: [4, 4]\" role=\"graphics-symbol\" aria-roledescription=\"line mark\" d=\"M51.67207548430305,182.34988027245203L61.741916691113495,66.33765593372551\" stroke=\"black\" stroke-width=\"0.3571428571428571\" opacity=\"0.30376293508936975\"></path></g></g><path class=\"foreground\" aria-hidden=\"true\" d=\"\" display=\"none\"></path></g><g transform=\"translate(0,0)\"><path class=\"background\" aria-hidden=\"true\" d=\"M0,0h200v200h-200Z\"></path><g><g class=\"mark-line role-mark concat_0_concat_0_concat_0_concat_1_layer_0_marks\" role=\"graphics-object\" aria-roledescription=\"line mark container\"><path aria-label=\"edges_x: 0.46170452839; edges_y: 0.123550838093; ew: 0; pe: [4, 5]\" role=\"graphics-symbol\" aria-roledescription=\"line mark\" d=\"M51.67207548430305,182.34988027245203L190.603675868229,33.22532928668005\" stroke=\"black\" stroke-width=\"0\" opacity=\"0.3\"></path></g></g><path class=\"foreground\" aria-hidden=\"true\" d=\"\" display=\"none\"></path></g><g transform=\"translate(0,0)\"><path class=\"background\" aria-hidden=\"true\" d=\"M0,0h200v200h-200Z\"></path><g><g class=\"mark-line role-mark concat_0_concat_0_concat_0_concat_1_layer_0_marks\" role=\"graphics-object\" aria-roledescription=\"line mark container\"><path aria-label=\"edges_x: 0.46170452839; edges_y: 0.123550838093; ew: 0.1749764816556914; pe: [4, 6]\" role=\"graphics-symbol\" aria-roledescription=\"line mark\" d=\"M51.67207548430305,182.34988027245203L78.69761236789526,93.56957015857297\" stroke=\"black\" stroke-width=\"0.7857142857142857\" opacity=\"0.3874882408278457\"></path></g></g><path class=\"foreground\" aria-hidden=\"true\" d=\"\" display=\"none\"></path></g><g transform=\"translate(0,0)\"><path class=\"background\" aria-hidden=\"true\" d=\"M0,0h200v200h-200Z\"></path><g><g class=\"mark-line role-mark concat_0_concat_0_concat_0_concat_1_layer_0_marks\" role=\"graphics-object\" aria-roledescription=\"line mark container\"><path aria-label=\"edges_x: 0.46170452839; edges_y: 0.123550838093; ew: 0.059266227657572904; pe: [4, 7]\" role=\"graphics-symbol\" aria-roledescription=\"line mark\" d=\"M51.67207548430305,182.34988027245203L74.06336848508865,11.521643417649518\" stroke=\"black\" stroke-width=\"0.5\" opacity=\"0.3296331138287864\"></path></g></g><path class=\"foreground\" aria-hidden=\"true\" d=\"\" display=\"none\"></path></g><g transform=\"translate(0,0)\"><path class=\"background\" aria-hidden=\"true\" d=\"M0,0h200v200h-200Z\"></path><g><g class=\"mark-line role-mark concat_0_concat_0_concat_0_concat_1_layer_0_marks\" role=\"graphics-object\" aria-roledescription=\"line mark container\"><path aria-label=\"edges_x: 0.46170452839; edges_y: 0.123550838093; ew: 0.18626528692380057; pe: [4, 8]\" role=\"graphics-symbol\" aria-roledescription=\"line mark\" d=\"M51.67207548430305,182.34988027245203L158.00874149700016,113.79095593150583\" stroke=\"black\" stroke-width=\"1\" opacity=\"0.39313264346190024\"></path></g></g><path class=\"foreground\" aria-hidden=\"true\" d=\"\" display=\"none\"></path></g><g transform=\"translate(0,0)\"><path class=\"background\" aria-hidden=\"true\" d=\"M0,0h200v200h-200Z\"></path><g><g class=\"mark-line role-mark concat_0_concat_0_concat_0_concat_1_layer_0_marks\" role=\"graphics-object\" aria-roledescription=\"line mark container\"><path aria-label=\"edges_x: 0.46170452839; edges_y: 0.123550838093; ew: 0.08842897460018814; pe: [4, 9]\" role=\"graphics-symbol\" aria-roledescription=\"line mark\" d=\"M51.67207548430305,182.34988027245203L88.83659617216387,13.929128486527853\" stroke=\"black\" stroke-width=\"0.7142857142857142\" opacity=\"0.3442144873000941\"></path></g></g><path class=\"foreground\" aria-hidden=\"true\" d=\"\" display=\"none\"></path></g><g transform=\"translate(0,0)\"><path class=\"background\" aria-hidden=\"true\" d=\"M0,0h200v200h-200Z\"></path><g><g class=\"mark-line role-mark concat_0_concat_0_concat_0_concat_1_layer_0_marks\" role=\"graphics-object\" aria-roledescription=\"line mark container\"><path aria-label=\"edges_x: 0.46170452839; edges_y: 0.123550838093; ew: 0.7375352775164628; pe: [4, 10]\" role=\"graphics-symbol\" aria-roledescription=\"line mark\" d=\"M51.67207548430305,182.34988027245203L145.1531329485203,61.50445326788771\" stroke=\"black\" stroke-width=\"1.7857142857142856\" opacity=\"0.6687676387582313\"></path></g></g><path class=\"foreground\" aria-hidden=\"true\" d=\"\" display=\"none\"></path></g><g transform=\"translate(0,0)\"><path class=\"background\" aria-hidden=\"true\" d=\"M0,0h200v200h-200Z\"></path><g><g class=\"mark-line role-mark concat_0_concat_0_concat_0_concat_1_layer_0_marks\" role=\"graphics-object\" aria-roledescription=\"line mark container\"><path aria-label=\"edges_x: 0.389310090336; edges_y: 0.066350751231; ew: 0; pe: [5, 1]\" role=\"graphics-symbol\" aria-roledescription=\"line mark\" d=\"M41.33001290516612,190.52132125271194L120.31107078371059,1.8236958438736073\" stroke=\"black\" stroke-width=\"0\" opacity=\"0.3\"></path></g></g><path class=\"foreground\" aria-hidden=\"true\" d=\"\" display=\"none\"></path></g><g transform=\"translate(0,0)\"><path class=\"background\" aria-hidden=\"true\" d=\"M0,0h200v200h-200Z\"></path><g><g class=\"mark-line role-mark concat_0_concat_0_concat_0_concat_1_layer_0_marks\" role=\"graphics-object\" aria-roledescription=\"line mark container\"><path aria-label=\"edges_x: 0.389310090336; edges_y: 0.066350751231; ew: 0.0037629350893697085; pe: [5, 2]\" role=\"graphics-symbol\" aria-roledescription=\"line mark\" d=\"M41.33001290516612,190.52132125271194L149.20910948660304,128.2078564711455\" stroke=\"black\" stroke-width=\"0.21428571428571427\" opacity=\"0.3018814675446848\"></path></g></g><path class=\"foreground\" aria-hidden=\"true\" d=\"\" display=\"none\"></path></g><g transform=\"translate(0,0)\"><path class=\"background\" aria-hidden=\"true\" d=\"M0,0h200v200h-200Z\"></path><g><g class=\"mark-line role-mark concat_0_concat_0_concat_0_concat_1_layer_0_marks\" role=\"graphics-object\" aria-roledescription=\"line mark container\"><path aria-label=\"edges_x: 0.389310090336; edges_y: 0.066350751231; ew: 0; pe: [5, 3]\" role=\"graphics-symbol\" aria-roledescription=\"line mark\" d=\"M41.33001290516612,190.52132125271194L153.71710618397682,38.1879944450747\" stroke=\"black\" stroke-width=\"0\" opacity=\"0.3\"></path></g></g><path class=\"foreground\" aria-hidden=\"true\" d=\"\" display=\"none\"></path></g><g transform=\"translate(0,0)\"><path class=\"background\" aria-hidden=\"true\" d=\"M0,0h200v200h-200Z\"></path><g><g class=\"mark-line role-mark concat_0_concat_0_concat_0_concat_1_layer_0_marks\" role=\"graphics-object\" aria-roledescription=\"line mark container\"><path aria-label=\"edges_x: 0.389310090336; edges_y: 0.066350751231; ew: 0.0018814675446848542; pe: [5, 4]\" role=\"graphics-symbol\" aria-roledescription=\"line mark\" d=\"M41.33001290516612,190.52132125271194L61.741916691113495,66.33765593372551\" stroke=\"black\" stroke-width=\"0.14285714285714285\" opacity=\"0.30094073377234243\"></path></g></g><path class=\"foreground\" aria-hidden=\"true\" d=\"\" display=\"none\"></path></g><g transform=\"translate(0,0)\"><path class=\"background\" aria-hidden=\"true\" d=\"M0,0h200v200h-200Z\"></path><g><g class=\"mark-line role-mark concat_0_concat_0_concat_0_concat_1_layer_0_marks\" role=\"graphics-object\" aria-roledescription=\"line mark container\"><path aria-label=\"edges_x: 0.389310090336; edges_y: 0.066350751231; ew: 0; pe: [5, 5]\" role=\"graphics-symbol\" aria-roledescription=\"line mark\" d=\"M41.33001290516612,190.52132125271194L190.603675868229,33.22532928668005\" stroke=\"black\" stroke-width=\"0\" opacity=\"0.3\"></path></g></g><path class=\"foreground\" aria-hidden=\"true\" d=\"\" display=\"none\"></path></g><g transform=\"translate(0,0)\"><path class=\"background\" aria-hidden=\"true\" d=\"M0,0h200v200h-200Z\"></path><g><g class=\"mark-line role-mark concat_0_concat_0_concat_0_concat_1_layer_0_marks\" role=\"graphics-object\" aria-roledescription=\"line mark container\"><path aria-label=\"edges_x: 0.389310090336; edges_y: 0.066350751231; ew: 0.08184383819379115; pe: [5, 6]\" role=\"graphics-symbol\" aria-roledescription=\"line mark\" d=\"M41.33001290516612,190.52132125271194L78.69761236789526,93.56957015857297\" stroke=\"black\" stroke-width=\"0.6428571428571428\" opacity=\"0.34092191909689556\"></path></g></g><path class=\"foreground\" aria-hidden=\"true\" d=\"\" display=\"none\"></path></g><g transform=\"translate(0,0)\"><path class=\"background\" aria-hidden=\"true\" d=\"M0,0h200v200h-200Z\"></path><g><g class=\"mark-line role-mark concat_0_concat_0_concat_0_concat_1_layer_0_marks\" role=\"graphics-object\" aria-roledescription=\"line mark container\"><path aria-label=\"edges_x: 0.389310090336; edges_y: 0.066350751231; ew: 0; pe: [5, 7]\" role=\"graphics-symbol\" aria-roledescription=\"line mark\" d=\"M41.33001290516612,190.52132125271194L74.06336848508865,11.521643417649518\" stroke=\"black\" stroke-width=\"0\" opacity=\"0.3\"></path></g></g><path class=\"foreground\" aria-hidden=\"true\" d=\"\" display=\"none\"></path></g><g transform=\"translate(0,0)\"><path class=\"background\" aria-hidden=\"true\" d=\"M0,0h200v200h-200Z\"></path><g><g class=\"mark-line role-mark concat_0_concat_0_concat_0_concat_1_layer_0_marks\" role=\"graphics-object\" aria-roledescription=\"line mark container\"><path aria-label=\"edges_x: 0.389310090336; edges_y: 0.066350751231; ew: 0; pe: [5, 8]\" role=\"graphics-symbol\" aria-roledescription=\"line mark\" d=\"M41.33001290516612,190.52132125271194L158.00874149700016,113.79095593150583\" stroke=\"black\" stroke-width=\"0\" opacity=\"0.3\"></path></g></g><path class=\"foreground\" aria-hidden=\"true\" d=\"\" display=\"none\"></path></g><g transform=\"translate(0,0)\"><path class=\"background\" aria-hidden=\"true\" d=\"M0,0h200v200h-200Z\"></path><g><g class=\"mark-line role-mark concat_0_concat_0_concat_0_concat_1_layer_0_marks\" role=\"graphics-object\" aria-roledescription=\"line mark container\"><path aria-label=\"edges_x: 0.389310090336; edges_y: 0.066350751231; ew: 0; pe: [5, 9]\" role=\"graphics-symbol\" aria-roledescription=\"line mark\" d=\"M41.33001290516612,190.52132125271194L88.83659617216387,13.929128486527853\" stroke=\"black\" stroke-width=\"0\" opacity=\"0.3\"></path></g></g><path class=\"foreground\" aria-hidden=\"true\" d=\"\" display=\"none\"></path></g><g transform=\"translate(0,0)\"><path class=\"background\" aria-hidden=\"true\" d=\"M0,0h200v200h-200Z\"></path><g><g class=\"mark-line role-mark concat_0_concat_0_concat_0_concat_1_layer_0_marks\" role=\"graphics-object\" aria-roledescription=\"line mark container\"><path aria-label=\"edges_x: 0.389310090336; edges_y: 0.066350751231; ew: 0; pe: [5, 10]\" role=\"graphics-symbol\" aria-roledescription=\"line mark\" d=\"M41.33001290516612,190.52132125271194L145.1531329485203,61.50445326788771\" stroke=\"black\" stroke-width=\"0\" opacity=\"0.3\"></path></g></g><path class=\"foreground\" aria-hidden=\"true\" d=\"\" display=\"none\"></path></g><g transform=\"translate(0,0)\"><path class=\"background\" aria-hidden=\"true\" d=\"M0,0h200v200h-200Z\"></path><g><g class=\"mark-line role-mark concat_0_concat_0_concat_0_concat_1_layer_0_marks\" role=\"graphics-object\" aria-roledescription=\"line mark container\"><path aria-label=\"edges_x: 0.699330260661; edges_y: 0.226552362676; ew: 0; pe: [6, 1]\" role=\"graphics-symbol\" aria-roledescription=\"line mark\" d=\"M85.61860866591833,167.6353767605977L120.31107078371059,1.8236958438736073\" stroke=\"black\" stroke-width=\"0\" opacity=\"0.3\"></path></g></g><path class=\"foreground\" aria-hidden=\"true\" d=\"\" display=\"none\"></path></g><g transform=\"translate(0,0)\"><path class=\"background\" aria-hidden=\"true\" d=\"M0,0h200v200h-200Z\"></path><g><g class=\"mark-line role-mark concat_0_concat_0_concat_0_concat_1_layer_0_marks\" role=\"graphics-object\" aria-roledescription=\"line mark container\"><path aria-label=\"edges_x: 0.699330260661; edges_y: 0.226552362676; ew: 0; pe: [6, 2]\" role=\"graphics-symbol\" aria-roledescription=\"line mark\" d=\"M85.61860866591833,167.6353767605977L149.20910948660304,128.2078564711455\" stroke=\"black\" stroke-width=\"0\" opacity=\"0.3\"></path></g></g><path class=\"foreground\" aria-hidden=\"true\" d=\"\" display=\"none\"></path></g><g transform=\"translate(0,0)\"><path class=\"background\" aria-hidden=\"true\" d=\"M0,0h200v200h-200Z\"></path><g><g class=\"mark-line role-mark concat_0_concat_0_concat_0_concat_1_layer_0_marks\" role=\"graphics-object\" aria-roledescription=\"line mark container\"><path aria-label=\"edges_x: 0.699330260661; edges_y: 0.226552362676; ew: 0.17685794920037629; pe: [6, 3]\" role=\"graphics-symbol\" aria-roledescription=\"line mark\" d=\"M85.61860866591833,167.6353767605977L153.71710618397682,38.1879944450747\" stroke=\"black\" stroke-width=\"0.8571428571428571\" opacity=\"0.3884289746001881\"></path></g></g><path class=\"foreground\" aria-hidden=\"true\" d=\"\" display=\"none\"></path></g><g transform=\"translate(0,0)\"><path class=\"background\" aria-hidden=\"true\" d=\"M0,0h200v200h-200Z\"></path><g><g class=\"mark-line role-mark concat_0_concat_0_concat_0_concat_1_layer_0_marks\" role=\"graphics-object\" aria-roledescription=\"line mark container\"><path aria-label=\"edges_x: 0.532193416838; edges_y: 0.935636408464; ew: 0; pe: [6, 4]\" role=\"graphics-symbol\" aria-roledescription=\"line mark\" d=\"M61.741916691113495,66.33765593372551L85.61860866591833,167.6353767605977\" stroke=\"black\" stroke-width=\"0\" opacity=\"0.3\"></path></g></g><path class=\"foreground\" aria-hidden=\"true\" d=\"\" display=\"none\"></path></g><g transform=\"translate(0,0)\"><path class=\"background\" aria-hidden=\"true\" d=\"M0,0h200v200h-200Z\"></path><g><g class=\"mark-line role-mark concat_0_concat_0_concat_0_concat_1_layer_0_marks\" role=\"graphics-object\" aria-roledescription=\"line mark container\"><path aria-label=\"edges_x: 0.699330260661; edges_y: 0.226552362676; ew: 0; pe: [6, 5]\" role=\"graphics-symbol\" aria-roledescription=\"line mark\" d=\"M85.61860866591833,167.6353767605977L190.603675868229,33.22532928668005\" stroke=\"black\" stroke-width=\"0\" opacity=\"0.3\"></path></g></g><path class=\"foreground\" aria-hidden=\"true\" d=\"\" display=\"none\"></path></g><g transform=\"translate(0,0)\"><path class=\"background\" aria-hidden=\"true\" d=\"M0,0h200v200h-200Z\"></path><g><g class=\"mark-line role-mark concat_0_concat_0_concat_0_concat_1_layer_0_marks\" role=\"graphics-object\" aria-roledescription=\"line mark container\"><path aria-label=\"edges_x: 0.650883286575; edges_y: 0.74501300889; ew: 0; pe: [6, 6]\" role=\"graphics-symbol\" aria-roledescription=\"line mark\" d=\"M78.69761236789526,93.56957015857297L85.61860866591833,167.6353767605977\" stroke=\"black\" stroke-width=\"0\" opacity=\"0.3\"></path></g></g><path class=\"foreground\" aria-hidden=\"true\" d=\"\" display=\"none\"></path></g><g transform=\"translate(0,0)\"><path class=\"background\" aria-hidden=\"true\" d=\"M0,0h200v200h-200Z\"></path><g><g class=\"mark-line role-mark concat_0_concat_0_concat_0_concat_1_layer_0_marks\" role=\"graphics-object\" aria-roledescription=\"line mark container\"><path aria-label=\"edges_x: 0.618443579396; edges_y: 1.31934849608; ew: 0; pe: [6, 7]\" role=\"graphics-symbol\" aria-roledescription=\"line mark\" d=\"M74.06336848508865,11.521643417649518L85.61860866591833,167.6353767605977\" stroke=\"black\" stroke-width=\"0\" opacity=\"0.3\"></path></g></g><path class=\"foreground\" aria-hidden=\"true\" d=\"\" display=\"none\"></path></g><g transform=\"translate(0,0)\"><path class=\"background\" aria-hidden=\"true\" d=\"M0,0h200v200h-200Z\"></path><g><g class=\"mark-line role-mark concat_0_concat_0_concat_0_concat_1_layer_0_marks\" role=\"graphics-object\" aria-roledescription=\"line mark container\"><path aria-label=\"edges_x: 0.699330260661; edges_y: 0.226552362676; ew: 0.005644402634054562; pe: [6, 8]\" role=\"graphics-symbol\" aria-roledescription=\"line mark\" d=\"M85.61860866591833,167.6353767605977L158.00874149700016,113.79095593150583\" stroke=\"black\" stroke-width=\"0.2857142857142857\" opacity=\"0.3028222013170273\"></path></g></g><path class=\"foreground\" aria-hidden=\"true\" d=\"\" display=\"none\"></path></g><g transform=\"translate(0,0)\"><path class=\"background\" aria-hidden=\"true\" d=\"M0,0h200v200h-200Z\"></path><g><g class=\"mark-line role-mark concat_0_concat_0_concat_0_concat_1_layer_0_marks\" role=\"graphics-object\" aria-roledescription=\"line mark container\"><path aria-label=\"edges_x: 0.699330260661; edges_y: 0.226552362676; ew: 0; pe: [6, 9]\" role=\"graphics-symbol\" aria-roledescription=\"line mark\" d=\"M85.61860866591833,167.6353767605977L88.83659617216387,13.929128486527853\" stroke=\"black\" stroke-width=\"0\" opacity=\"0.3\"></path></g></g><path class=\"foreground\" aria-hidden=\"true\" d=\"\" display=\"none\"></path></g><g transform=\"translate(0,0)\"><path class=\"background\" aria-hidden=\"true\" d=\"M0,0h200v200h-200Z\"></path><g><g class=\"mark-line role-mark concat_0_concat_0_concat_0_concat_1_layer_0_marks\" role=\"graphics-object\" aria-roledescription=\"line mark container\"><path aria-label=\"edges_x: 0.699330260661; edges_y: 0.226552362676; ew: 0.6124176857949201; pe: [6, 10]\" role=\"graphics-symbol\" aria-roledescription=\"line mark\" d=\"M85.61860866591833,167.6353767605977L145.1531329485203,61.50445326788771\" stroke=\"black\" stroke-width=\"1.6428571428571428\" opacity=\"0.6062088428974601\"></path></g></g><path class=\"foreground\" aria-hidden=\"true\" d=\"\" display=\"none\"></path></g><g transform=\"translate(0,0)\"><path class=\"background\" aria-hidden=\"true\" d=\"M0,0h200v200h-200Z\"></path><g><g class=\"mark-line role-mark concat_0_concat_0_concat_0_concat_1_layer_0_marks\" role=\"graphics-object\" aria-roledescription=\"line mark container\"><path aria-label=\"edges_x: 0.167096821437; edges_y: 0.469605886451; ew: 0; pe: [7, 1]\" role=\"graphics-symbol\" aria-roledescription=\"line mark\" d=\"M9.58526020524795,132.91344479278442L120.31107078371059,1.8236958438736073\" stroke=\"black\" stroke-width=\"0\" opacity=\"0.3\"></path></g></g><path class=\"foreground\" aria-hidden=\"true\" d=\"\" display=\"none\"></path></g><g transform=\"translate(0,0)\"><path class=\"background\" aria-hidden=\"true\" d=\"M0,0h200v200h-200Z\"></path><g><g class=\"mark-line role-mark concat_0_concat_0_concat_0_concat_1_layer_0_marks\" role=\"graphics-object\" aria-roledescription=\"line mark container\"><path aria-label=\"edges_x: 0.167096821437; edges_y: 0.469605886451; ew: 0; pe: [7, 2]\" role=\"graphics-symbol\" aria-roledescription=\"line mark\" d=\"M9.58526020524795,132.91344479278442L149.20910948660304,128.2078564711455\" stroke=\"black\" stroke-width=\"0\" opacity=\"0.3\"></path></g></g><path class=\"foreground\" aria-hidden=\"true\" d=\"\" display=\"none\"></path></g><g transform=\"translate(0,0)\"><path class=\"background\" aria-hidden=\"true\" d=\"M0,0h200v200h-200Z\"></path><g><g class=\"mark-line role-mark concat_0_concat_0_concat_0_concat_1_layer_0_marks\" role=\"graphics-object\" aria-roledescription=\"line mark container\"><path aria-label=\"edges_x: 0.167096821437; edges_y: 0.469605886451; ew: 0; pe: [7, 3]\" role=\"graphics-symbol\" aria-roledescription=\"line mark\" d=\"M9.58526020524795,132.91344479278442L153.71710618397682,38.1879944450747\" stroke=\"black\" stroke-width=\"0\" opacity=\"0.3\"></path></g></g><path class=\"foreground\" aria-hidden=\"true\" d=\"\" display=\"none\"></path></g><g transform=\"translate(0,0)\"><path class=\"background\" aria-hidden=\"true\" d=\"M0,0h200v200h-200Z\"></path><g><g class=\"mark-line role-mark concat_0_concat_0_concat_0_concat_1_layer_0_marks\" role=\"graphics-object\" aria-roledescription=\"line mark container\"><path aria-label=\"edges_x: 0.167096821437; edges_y: 0.469605886451; ew: 0; pe: [7, 4]\" role=\"graphics-symbol\" aria-roledescription=\"line mark\" d=\"M9.58526020524795,132.91344479278442L61.741916691113495,66.33765593372551\" stroke=\"black\" stroke-width=\"0\" opacity=\"0.3\"></path></g></g><path class=\"foreground\" aria-hidden=\"true\" d=\"\" display=\"none\"></path></g><g transform=\"translate(0,0)\"><path class=\"background\" aria-hidden=\"true\" d=\"M0,0h200v200h-200Z\"></path><g><g class=\"mark-line role-mark concat_0_concat_0_concat_0_concat_1_layer_0_marks\" role=\"graphics-object\" aria-roledescription=\"line mark container\"><path aria-label=\"edges_x: 0.167096821437; edges_y: 0.469605886451; ew: 0; pe: [7, 5]\" role=\"graphics-symbol\" aria-roledescription=\"line mark\" d=\"M9.58526020524795,132.91344479278442L190.603675868229,33.22532928668005\" stroke=\"black\" stroke-width=\"0\" opacity=\"0.3\"></path></g></g><path class=\"foreground\" aria-hidden=\"true\" d=\"\" display=\"none\"></path></g><g transform=\"translate(0,0)\"><path class=\"background\" aria-hidden=\"true\" d=\"M0,0h200v200h-200Z\"></path><g><g class=\"mark-line role-mark concat_0_concat_0_concat_0_concat_1_layer_0_marks\" role=\"graphics-object\" aria-roledescription=\"line mark container\"><path aria-label=\"edges_x: 0.167096821437; edges_y: 0.469605886451; ew: 0; pe: [7, 6]\" role=\"graphics-symbol\" aria-roledescription=\"line mark\" d=\"M9.58526020524795,132.91344479278442L78.69761236789526,93.56957015857297\" stroke=\"black\" stroke-width=\"0\" opacity=\"0.3\"></path></g></g><path class=\"foreground\" aria-hidden=\"true\" d=\"\" display=\"none\"></path></g><g transform=\"translate(0,0)\"><path class=\"background\" aria-hidden=\"true\" d=\"M0,0h200v200h-200Z\"></path><g><g class=\"mark-line role-mark concat_0_concat_0_concat_0_concat_1_layer_0_marks\" role=\"graphics-object\" aria-roledescription=\"line mark container\"><path aria-label=\"edges_x: 0.167096821437; edges_y: 0.469605886451; ew: 0.5192850423330198; pe: [7, 7]\" role=\"graphics-symbol\" aria-roledescription=\"line mark\" d=\"M9.58526020524795,132.91344479278442L74.06336848508865,11.521643417649518\" stroke=\"black\" stroke-width=\"1.5\" opacity=\"0.5596425211665099\"></path></g></g><path class=\"foreground\" aria-hidden=\"true\" d=\"\" display=\"none\"></path></g><g transform=\"translate(0,0)\"><path class=\"background\" aria-hidden=\"true\" d=\"M0,0h200v200h-200Z\"></path><g><g class=\"mark-line role-mark concat_0_concat_0_concat_0_concat_1_layer_0_marks\" role=\"graphics-object\" aria-roledescription=\"line mark container\"><path aria-label=\"edges_x: 0.167096821437; edges_y: 0.469605886451; ew: 0; pe: [7, 8]\" role=\"graphics-symbol\" aria-roledescription=\"line mark\" d=\"M9.58526020524795,132.91344479278442L158.00874149700016,113.79095593150583\" stroke=\"black\" stroke-width=\"0\" opacity=\"0.3\"></path></g></g><path class=\"foreground\" aria-hidden=\"true\" d=\"\" display=\"none\"></path></g><g transform=\"translate(0,0)\"><path class=\"background\" aria-hidden=\"true\" d=\"M0,0h200v200h-200Z\"></path><g><g class=\"mark-line role-mark concat_0_concat_0_concat_0_concat_1_layer_0_marks\" role=\"graphics-object\" aria-roledescription=\"line mark container\"><path aria-label=\"edges_x: 0.167096821437; edges_y: 0.469605886451; ew: 0.0009407337723424271; pe: [7, 9]\" role=\"graphics-symbol\" aria-roledescription=\"line mark\" d=\"M9.58526020524795,132.91344479278442L88.83659617216387,13.929128486527853\" stroke=\"black\" stroke-width=\"0.07142857142857142\" opacity=\"0.30047036688617124\"></path></g></g><path class=\"foreground\" aria-hidden=\"true\" d=\"\" display=\"none\"></path></g><g transform=\"translate(0,0)\"><path class=\"background\" aria-hidden=\"true\" d=\"M0,0h200v200h-200Z\"></path><g><g class=\"mark-line role-mark concat_0_concat_0_concat_0_concat_1_layer_0_marks\" role=\"graphics-object\" aria-roledescription=\"line mark container\"><path aria-label=\"edges_x: 0.167096821437; edges_y: 0.469605886451; ew: 0; pe: [7, 10]\" role=\"graphics-symbol\" aria-roledescription=\"line mark\" d=\"M9.58526020524795,132.91344479278442L145.1531329485203,61.50445326788771\" stroke=\"black\" stroke-width=\"0\" opacity=\"0.3\"></path></g></g><path class=\"foreground\" aria-hidden=\"true\" d=\"\" display=\"none\"></path></g><g transform=\"translate(0,0)\"><path class=\"background\" aria-hidden=\"true\" d=\"M0,0h200v200h-200Z\"></path><g><g class=\"mark-line role-mark concat_0_concat_0_concat_0_concat_1_layer_0_marks\" role=\"graphics-object\" aria-roledescription=\"line mark container\"><path aria-label=\"edges_x: 0.718138705124; edges_y: 0.660193348408; ew: 0.47412982126058323; pe: [8, 1]\" role=\"graphics-symbol\" aria-roledescription=\"line mark\" d=\"M88.30552930340369,105.68666451318907L120.31107078371059,1.8236958438736073\" stroke=\"black\" stroke-width=\"1.357142857142857\" opacity=\"0.5370649106302916\"></path></g></g><path class=\"foreground\" aria-hidden=\"true\" d=\"\" display=\"none\"></path></g><g transform=\"translate(0,0)\"><path class=\"background\" aria-hidden=\"true\" d=\"M0,0h200v200h-200Z\"></path><g><g class=\"mark-line role-mark concat_0_concat_0_concat_0_concat_1_layer_0_marks\" role=\"graphics-object\" aria-roledescription=\"line mark container\"><path aria-label=\"edges_x: 0.718138705124; edges_y: 0.660193348408; ew: 0; pe: [8, 2]\" role=\"graphics-symbol\" aria-roledescription=\"line mark\" d=\"M88.30552930340369,105.68666451318907L149.20910948660304,128.2078564711455\" stroke=\"black\" stroke-width=\"0\" opacity=\"0.3\"></path></g></g><path class=\"foreground\" aria-hidden=\"true\" d=\"\" display=\"none\"></path></g><g transform=\"translate(0,0)\"><path class=\"background\" aria-hidden=\"true\" d=\"M0,0h200v200h-200Z\"></path><g><g class=\"mark-line role-mark concat_0_concat_0_concat_0_concat_1_layer_0_marks\" role=\"graphics-object\" aria-roledescription=\"line mark container\"><path aria-label=\"edges_x: 0.718138705124; edges_y: 0.660193348408; ew: 0; pe: [8, 3]\" role=\"graphics-symbol\" aria-roledescription=\"line mark\" d=\"M88.30552930340369,105.68666451318907L153.71710618397682,38.1879944450747\" stroke=\"black\" stroke-width=\"0\" opacity=\"0.3\"></path></g></g><path class=\"foreground\" aria-hidden=\"true\" d=\"\" display=\"none\"></path></g><g transform=\"translate(0,0)\"><path class=\"background\" aria-hidden=\"true\" d=\"M0,0h200v200h-200Z\"></path><g><g class=\"mark-line role-mark concat_0_concat_0_concat_0_concat_1_layer_0_marks\" role=\"graphics-object\" aria-roledescription=\"line mark container\"><path aria-label=\"edges_x: 0.532193416838; edges_y: 0.935636408464; ew: 0; pe: [8, 4]\" role=\"graphics-symbol\" aria-roledescription=\"line mark\" d=\"M61.741916691113495,66.33765593372551L88.30552930340369,105.68666451318907\" stroke=\"black\" stroke-width=\"0\" opacity=\"0.3\"></path></g></g><path class=\"foreground\" aria-hidden=\"true\" d=\"\" display=\"none\"></path></g><g transform=\"translate(0,0)\"><path class=\"background\" aria-hidden=\"true\" d=\"M0,0h200v200h-200Z\"></path><g><g class=\"mark-line role-mark concat_0_concat_0_concat_0_concat_1_layer_0_marks\" role=\"graphics-object\" aria-roledescription=\"line mark container\"><path aria-label=\"edges_x: 0.718138705124; edges_y: 0.660193348408; ew: 0; pe: [8, 5]\" role=\"graphics-symbol\" aria-roledescription=\"line mark\" d=\"M88.30552930340369,105.68666451318907L190.603675868229,33.22532928668005\" stroke=\"black\" stroke-width=\"0\" opacity=\"0.3\"></path></g></g><path class=\"foreground\" aria-hidden=\"true\" d=\"\" display=\"none\"></path></g><g transform=\"translate(0,0)\"><path class=\"background\" aria-hidden=\"true\" d=\"M0,0h200v200h-200Z\"></path><g><g class=\"mark-line role-mark concat_0_concat_0_concat_0_concat_1_layer_0_marks\" role=\"graphics-object\" aria-roledescription=\"line mark container\"><path aria-label=\"edges_x: 0.650883286575; edges_y: 0.74501300889; ew: 0; pe: [8, 6]\" role=\"graphics-symbol\" aria-roledescription=\"line mark\" d=\"M78.69761236789526,93.56957015857297L88.30552930340369,105.68666451318907\" stroke=\"black\" stroke-width=\"0\" opacity=\"0.3\"></path></g></g><path class=\"foreground\" aria-hidden=\"true\" d=\"\" display=\"none\"></path></g><g transform=\"translate(0,0)\"><path class=\"background\" aria-hidden=\"true\" d=\"M0,0h200v200h-200Z\"></path><g><g class=\"mark-line role-mark concat_0_concat_0_concat_0_concat_1_layer_0_marks\" role=\"graphics-object\" aria-roledescription=\"line mark container\"><path aria-label=\"edges_x: 0.618443579396; edges_y: 1.31934849608; ew: 0; pe: [8, 7]\" role=\"graphics-symbol\" aria-roledescription=\"line mark\" d=\"M74.06336848508865,11.521643417649518L88.30552930340369,105.68666451318907\" stroke=\"black\" stroke-width=\"0\" opacity=\"0.3\"></path></g></g><path class=\"foreground\" aria-hidden=\"true\" d=\"\" display=\"none\"></path></g><g transform=\"translate(0,0)\"><path class=\"background\" aria-hidden=\"true\" d=\"M0,0h200v200h-200Z\"></path><g><g class=\"mark-line role-mark concat_0_concat_0_concat_0_concat_1_layer_0_marks\" role=\"graphics-object\" aria-roledescription=\"line mark container\"><path aria-label=\"edges_x: 0.718138705124; edges_y: 0.660193348408; ew: 0; pe: [8, 8]\" role=\"graphics-symbol\" aria-roledescription=\"line mark\" d=\"M88.30552930340369,105.68666451318907L158.00874149700016,113.79095593150583\" stroke=\"black\" stroke-width=\"0\" opacity=\"0.3\"></path></g></g><path class=\"foreground\" aria-hidden=\"true\" d=\"\" display=\"none\"></path></g><g transform=\"translate(0,0)\"><path class=\"background\" aria-hidden=\"true\" d=\"M0,0h200v200h-200Z\"></path><g><g class=\"mark-line role-mark concat_0_concat_0_concat_0_concat_1_layer_0_marks\" role=\"graphics-object\" aria-roledescription=\"line mark container\"><path aria-label=\"edges_x: 0.718138705124; edges_y: 0.660193348408; ew: 0; pe: [8, 9]\" role=\"graphics-symbol\" aria-roledescription=\"line mark\" d=\"M88.30552930340369,105.68666451318907L88.83659617216387,13.929128486527853\" stroke=\"black\" stroke-width=\"0\" opacity=\"0.3\"></path></g></g><path class=\"foreground\" aria-hidden=\"true\" d=\"\" display=\"none\"></path></g><g transform=\"translate(0,0)\"><path class=\"background\" aria-hidden=\"true\" d=\"M0,0h200v200h-200Z\"></path><g><g class=\"mark-line role-mark concat_0_concat_0_concat_0_concat_1_layer_0_marks\" role=\"graphics-object\" aria-roledescription=\"line mark container\"><path aria-label=\"edges_x: 0.718138705124; edges_y: 0.660193348408; ew: 0; pe: [8, 10]\" role=\"graphics-symbol\" aria-roledescription=\"line mark\" d=\"M88.30552930340369,105.68666451318907L145.1531329485203,61.50445326788771\" stroke=\"black\" stroke-width=\"0\" opacity=\"0.3\"></path></g></g><path class=\"foreground\" aria-hidden=\"true\" d=\"\" display=\"none\"></path></g><g transform=\"translate(0,0)\"><path class=\"background\" aria-hidden=\"true\" d=\"M0,0h200v200h-200Z\"></path><g><g class=\"mark-line role-mark concat_0_concat_0_concat_0_concat_1_layer_0_marks\" role=\"graphics-object\" aria-roledescription=\"line mark container\"><path aria-label=\"edges_x: 0.930997049281; edges_y: 0.568160487043; ew: 0.07055503292568202; pe: [9, 1]\" role=\"graphics-symbol\" aria-roledescription=\"line mark\" d=\"M118.71386418293007,118.83421613667373L120.31107078371059,1.8236958438736073\" stroke=\"black\" stroke-width=\"0.5714285714285714\" opacity=\"0.33527751646284104\"></path></g></g><path class=\"foreground\" aria-hidden=\"true\" d=\"\" display=\"none\"></path></g><g transform=\"translate(0,0)\"><path class=\"background\" aria-hidden=\"true\" d=\"M0,0h200v200h-200Z\"></path><g><g class=\"mark-line role-mark concat_0_concat_0_concat_0_concat_1_layer_0_marks\" role=\"graphics-object\" aria-roledescription=\"line mark container\"><path aria-label=\"edges_x: 0.930997049281; edges_y: 0.568160487043; ew: 0; pe: [9, 2]\" role=\"graphics-symbol\" aria-roledescription=\"line mark\" d=\"M118.71386418293007,118.83421613667373L149.20910948660304,128.2078564711455\" stroke=\"black\" stroke-width=\"0\" opacity=\"0.3\"></path></g></g><path class=\"foreground\" aria-hidden=\"true\" d=\"\" display=\"none\"></path></g><g transform=\"translate(0,0)\"><path class=\"background\" aria-hidden=\"true\" d=\"M0,0h200v200h-200Z\"></path><g><g class=\"mark-line role-mark concat_0_concat_0_concat_0_concat_1_layer_0_marks\" role=\"graphics-object\" aria-roledescription=\"line mark container\"><path aria-label=\"edges_x: 0.930997049281; edges_y: 0.568160487043; ew: 0.1843838193791157; pe: [9, 3]\" role=\"graphics-symbol\" aria-roledescription=\"line mark\" d=\"M118.71386418293007,118.83421613667373L153.71710618397682,38.1879944450747\" stroke=\"black\" stroke-width=\"0.9285714285714285\" opacity=\"0.39219190968955786\"></path></g></g><path class=\"foreground\" aria-hidden=\"true\" d=\"\" display=\"none\"></path></g><g transform=\"translate(0,0)\"><path class=\"background\" aria-hidden=\"true\" d=\"M0,0h200v200h-200Z\"></path><g><g class=\"mark-line role-mark concat_0_concat_0_concat_0_concat_1_layer_0_marks\" role=\"graphics-object\" aria-roledescription=\"line mark container\"><path aria-label=\"edges_x: 0.532193416838; edges_y: 0.935636408464; ew: 0; pe: [9, 4]\" role=\"graphics-symbol\" aria-roledescription=\"line mark\" d=\"M61.741916691113495,66.33765593372551L118.71386418293007,118.83421613667373\" stroke=\"black\" stroke-width=\"0\" opacity=\"0.3\"></path></g></g><path class=\"foreground\" aria-hidden=\"true\" d=\"\" display=\"none\"></path></g><g transform=\"translate(0,0)\"><path class=\"background\" aria-hidden=\"true\" d=\"M0,0h200v200h-200Z\"></path><g><g class=\"mark-line role-mark concat_0_concat_0_concat_0_concat_1_layer_0_marks\" role=\"graphics-object\" aria-roledescription=\"line mark container\"><path aria-label=\"edges_x: 0.930997049281; edges_y: 0.568160487043; ew: 0.9802445907808089; pe: [9, 5]\" role=\"graphics-symbol\" aria-roledescription=\"line mark\" d=\"M118.71386418293007,118.83421613667373L190.603675868229,33.22532928668005\" stroke=\"black\" stroke-width=\"1.9285714285714284\" opacity=\"0.7901222953904045\"></path></g></g><path class=\"foreground\" aria-hidden=\"true\" d=\"\" display=\"none\"></path></g><g transform=\"translate(0,0)\"><path class=\"background\" aria-hidden=\"true\" d=\"M0,0h200v200h-200Z\"></path><g><g class=\"mark-line role-mark concat_0_concat_0_concat_0_concat_1_layer_0_marks\" role=\"graphics-object\" aria-roledescription=\"line mark container\"><path aria-label=\"edges_x: 0.650883286575; edges_y: 0.74501300889; ew: 0; pe: [9, 6]\" role=\"graphics-symbol\" aria-roledescription=\"line mark\" d=\"M78.69761236789526,93.56957015857297L118.71386418293007,118.83421613667373\" stroke=\"black\" stroke-width=\"0\" opacity=\"0.3\"></path></g></g><path class=\"foreground\" aria-hidden=\"true\" d=\"\" display=\"none\"></path></g><g transform=\"translate(0,0)\"><path class=\"background\" aria-hidden=\"true\" d=\"M0,0h200v200h-200Z\"></path><g><g class=\"mark-line role-mark concat_0_concat_0_concat_0_concat_1_layer_0_marks\" role=\"graphics-object\" aria-roledescription=\"line mark container\"><path aria-label=\"edges_x: 0.618443579396; edges_y: 1.31934849608; ew: 0; pe: [9, 7]\" role=\"graphics-symbol\" aria-roledescription=\"line mark\" d=\"M74.06336848508865,11.521643417649518L118.71386418293007,118.83421613667373\" stroke=\"black\" stroke-width=\"0\" opacity=\"0.3\"></path></g></g><path class=\"foreground\" aria-hidden=\"true\" d=\"\" display=\"none\"></path></g><g transform=\"translate(0,0)\"><path class=\"background\" aria-hidden=\"true\" d=\"M0,0h200v200h-200Z\"></path><g><g class=\"mark-line role-mark concat_0_concat_0_concat_0_concat_1_layer_0_marks\" role=\"graphics-object\" aria-roledescription=\"line mark container\"><path aria-label=\"edges_x: 0.930997049281; edges_y: 0.568160487043; ew: 0; pe: [9, 8]\" role=\"graphics-symbol\" aria-roledescription=\"line mark\" d=\"M118.71386418293007,118.83421613667373L158.00874149700016,113.79095593150583\" stroke=\"black\" stroke-width=\"0\" opacity=\"0.3\"></path></g></g><path class=\"foreground\" aria-hidden=\"true\" d=\"\" display=\"none\"></path></g><g transform=\"translate(0,0)\"><path class=\"background\" aria-hidden=\"true\" d=\"M0,0h200v200h-200Z\"></path><g><g class=\"mark-line role-mark concat_0_concat_0_concat_0_concat_1_layer_0_marks\" role=\"graphics-object\" aria-roledescription=\"line mark container\"><path aria-label=\"edges_x: 0.721856173205; edges_y: 1.30249610059; ew: 0; pe: [9, 9]\" role=\"graphics-symbol\" aria-roledescription=\"line mark\" d=\"M88.83659617216387,13.929128486527853L118.71386418293007,118.83421613667373\" stroke=\"black\" stroke-width=\"0\" opacity=\"0.3\"></path></g></g><path class=\"foreground\" aria-hidden=\"true\" d=\"\" display=\"none\"></path></g><g transform=\"translate(0,0)\"><path class=\"background\" aria-hidden=\"true\" d=\"M0,0h200v200h-200Z\"></path><g><g class=\"mark-line role-mark concat_0_concat_0_concat_0_concat_1_layer_0_marks\" role=\"graphics-object\" aria-roledescription=\"line mark container\"><path aria-label=\"edges_x: 0.930997049281; edges_y: 0.568160487043; ew: 0; pe: [9, 10]\" role=\"graphics-symbol\" aria-roledescription=\"line mark\" d=\"M118.71386418293007,118.83421613667373L145.1531329485203,61.50445326788771\" stroke=\"black\" stroke-width=\"0\" opacity=\"0.3\"></path></g></g><path class=\"foreground\" aria-hidden=\"true\" d=\"\" display=\"none\"></path></g><g transform=\"translate(0,0)\"><path class=\"background\" aria-hidden=\"true\" d=\"M0,0h200v200h-200Z\"></path><g><g class=\"mark-line role-mark concat_0_concat_0_concat_0_concat_1_layer_0_marks\" role=\"graphics-object\" aria-roledescription=\"line mark container\"><path aria-label=\"edges_x: 0.855660243169; edges_y: 0.0883624277613; ew: 0; pe: [10, 1]\" role=\"graphics-symbol\" aria-roledescription=\"line mark\" d=\"M107.95146330979313,187.37679603410083L120.31107078371059,1.8236958438736073\" stroke=\"black\" stroke-width=\"0\" opacity=\"0.3\"></path></g></g><path class=\"foreground\" aria-hidden=\"true\" d=\"\" display=\"none\"></path></g><g transform=\"translate(0,0)\"><path class=\"background\" aria-hidden=\"true\" d=\"M0,0h200v200h-200Z\"></path><g><g class=\"mark-line role-mark concat_0_concat_0_concat_0_concat_1_layer_0_marks\" role=\"graphics-object\" aria-roledescription=\"line mark container\"><path aria-label=\"edges_x: 0.855660243169; edges_y: 0.0883624277613; ew: 0.048918156161806205; pe: [10, 2]\" role=\"graphics-symbol\" aria-roledescription=\"line mark\" d=\"M107.95146330979313,187.37679603410083L149.20910948660304,128.2078564711455\" stroke=\"black\" stroke-width=\"0.42857142857142855\" opacity=\"0.32445907808090313\"></path></g></g><path class=\"foreground\" aria-hidden=\"true\" d=\"\" display=\"none\"></path></g><g transform=\"translate(0,0)\"><path class=\"background\" aria-hidden=\"true\" d=\"M0,0h200v200h-200Z\"></path><g><g class=\"mark-line role-mark concat_0_concat_0_concat_0_concat_1_layer_0_marks\" role=\"graphics-object\" aria-roledescription=\"line mark container\"><path aria-label=\"edges_x: 0.855660243169; edges_y: 0.0883624277613; ew: 0; pe: [10, 3]\" role=\"graphics-symbol\" aria-roledescription=\"line mark\" d=\"M107.95146330979313,187.37679603410083L153.71710618397682,38.1879944450747\" stroke=\"black\" stroke-width=\"0\" opacity=\"0.3\"></path></g></g><path class=\"foreground\" aria-hidden=\"true\" d=\"\" display=\"none\"></path></g><g transform=\"translate(0,0)\"><path class=\"background\" aria-hidden=\"true\" d=\"M0,0h200v200h-200Z\"></path><g><g class=\"mark-line role-mark concat_0_concat_0_concat_0_concat_1_layer_0_marks\" role=\"graphics-object\" aria-roledescription=\"line mark container\"><path aria-label=\"edges_x: 0.532193416838; edges_y: 0.935636408464; ew: 0; pe: [10, 4]\" role=\"graphics-symbol\" aria-roledescription=\"line mark\" d=\"M61.741916691113495,66.33765593372551L107.95146330979313,187.37679603410083\" stroke=\"black\" stroke-width=\"0\" opacity=\"0.3\"></path></g></g><path class=\"foreground\" aria-hidden=\"true\" d=\"\" display=\"none\"></path></g><g transform=\"translate(0,0)\"><path class=\"background\" aria-hidden=\"true\" d=\"M0,0h200v200h-200Z\"></path><g><g class=\"mark-line role-mark concat_0_concat_0_concat_0_concat_1_layer_0_marks\" role=\"graphics-object\" aria-roledescription=\"line mark container\"><path aria-label=\"edges_x: 0.855660243169; edges_y: 0.0883624277613; ew: 0; pe: [10, 5]\" role=\"graphics-symbol\" aria-roledescription=\"line mark\" d=\"M107.95146330979313,187.37679603410083L190.603675868229,33.22532928668005\" stroke=\"black\" stroke-width=\"0\" opacity=\"0.3\"></path></g></g><path class=\"foreground\" aria-hidden=\"true\" d=\"\" display=\"none\"></path></g><g transform=\"translate(0,0)\"><path class=\"background\" aria-hidden=\"true\" d=\"M0,0h200v200h-200Z\"></path><g><g class=\"mark-line role-mark concat_0_concat_0_concat_0_concat_1_layer_0_marks\" role=\"graphics-object\" aria-roledescription=\"line mark container\"><path aria-label=\"edges_x: 0.650883286575; edges_y: 0.74501300889; ew: 0; pe: [10, 6]\" role=\"graphics-symbol\" aria-roledescription=\"line mark\" d=\"M78.69761236789526,93.56957015857297L107.95146330979313,187.37679603410083\" stroke=\"black\" stroke-width=\"0\" opacity=\"0.3\"></path></g></g><path class=\"foreground\" aria-hidden=\"true\" d=\"\" display=\"none\"></path></g><g transform=\"translate(0,0)\"><path class=\"background\" aria-hidden=\"true\" d=\"M0,0h200v200h-200Z\"></path><g><g class=\"mark-line role-mark concat_0_concat_0_concat_0_concat_1_layer_0_marks\" role=\"graphics-object\" aria-roledescription=\"line mark container\"><path aria-label=\"edges_x: 0.618443579396; edges_y: 1.31934849608; ew: 0; pe: [10, 7]\" role=\"graphics-symbol\" aria-roledescription=\"line mark\" d=\"M74.06336848508865,11.521643417649518L107.95146330979313,187.37679603410083\" stroke=\"black\" stroke-width=\"0\" opacity=\"0.3\"></path></g></g><path class=\"foreground\" aria-hidden=\"true\" d=\"\" display=\"none\"></path></g><g transform=\"translate(0,0)\"><path class=\"background\" aria-hidden=\"true\" d=\"M0,0h200v200h-200Z\"></path><g><g class=\"mark-line role-mark concat_0_concat_0_concat_0_concat_1_layer_0_marks\" role=\"graphics-object\" aria-roledescription=\"line mark container\"><path aria-label=\"edges_x: 0.855660243169; edges_y: 0.0883624277613; ew: 0.9294449670743179; pe: [10, 8]\" role=\"graphics-symbol\" aria-roledescription=\"line mark\" d=\"M107.95146330979313,187.37679603410083L158.00874149700016,113.79095593150583\" stroke=\"black\" stroke-width=\"1.857142857142857\" opacity=\"0.764722483537159\"></path></g></g><path class=\"foreground\" aria-hidden=\"true\" d=\"\" display=\"none\"></path></g><g transform=\"translate(0,0)\"><path class=\"background\" aria-hidden=\"true\" d=\"M0,0h200v200h-200Z\"></path><g><g class=\"mark-line role-mark concat_0_concat_0_concat_0_concat_1_layer_0_marks\" role=\"graphics-object\" aria-roledescription=\"line mark container\"><path aria-label=\"edges_x: 0.721856173205; edges_y: 1.30249610059; ew: 0; pe: [10, 9]\" role=\"graphics-symbol\" aria-roledescription=\"line mark\" d=\"M88.83659617216387,13.929128486527853L107.95146330979313,187.37679603410083\" stroke=\"black\" stroke-width=\"0\" opacity=\"0.3\"></path></g></g><path class=\"foreground\" aria-hidden=\"true\" d=\"\" display=\"none\"></path></g><g transform=\"translate(0,0)\"><path class=\"background\" aria-hidden=\"true\" d=\"M0,0h200v200h-200Z\"></path><g><g class=\"mark-line role-mark concat_0_concat_0_concat_0_concat_1_layer_0_marks\" role=\"graphics-object\" aria-roledescription=\"line mark container\"><path aria-label=\"edges_x: 0.855660243169; edges_y: 0.0883624277613; ew: 0; pe: [10, 10]\" role=\"graphics-symbol\" aria-roledescription=\"line mark\" d=\"M107.95146330979313,187.37679603410083L145.1531329485203,61.50445326788771\" stroke=\"black\" stroke-width=\"0\" opacity=\"0.3\"></path></g></g><path class=\"foreground\" aria-hidden=\"true\" d=\"\" display=\"none\"></path></g></g><g class=\"mark-symbol role-mark concat_0_concat_0_concat_0_concat_1_layer_1_marks\" role=\"graphics-object\" aria-roledescription=\"symbol mark container\"><path aria-label=\"x: 0.942177495486; y: 1.38723412909; size: 0.164634751814\" role=\"graphics-symbol\" aria-roledescription=\"circle\" transform=\"translate(120.31107078371059,1.8236958438736073)\" d=\"M9.5,0A9.5,9.5,0,1,1,-9.5,0A9.5,9.5,0,1,1,9.5,0\" fill=\"red\" stroke-width=\"2\" opacity=\"1\"></path><path aria-label=\"x: 1.14446376641; y: 0.502545004702; size: 0.0712875164786\" role=\"graphics-symbol\" aria-roledescription=\"circle\" transform=\"translate(149.20910948660304,128.2078564711455)\" d=\"M6.251289203307511,0A6.251289203307511,6.251289203307511,0,1,1,-6.251289203307511,0A6.251289203307511,6.251289203307511,0,1,1,6.251289203307511,0\" fill=\"red\" stroke-width=\"2\" opacity=\"1\"></path><path aria-label=\"x: 1.17601974329; y: 1.13268403888; size: 0.0384602806248\" role=\"graphics-symbol\" aria-roledescription=\"circle\" transform=\"translate(153.71710618397682,38.1879944450747)\" d=\"M4.591653135735218,0A4.591653135735218,4.591653135735218,0,1,1,-4.591653135735218,0A4.591653135735218,4.591653135735218,0,1,1,4.591653135735218,0\" fill=\"red\" stroke-width=\"2\" opacity=\"1\"></path><path aria-label=\"x: 0.532193416838; y: 0.935636408464; size: 0.0445292985587\" role=\"graphics-symbol\" aria-roledescription=\"circle\" transform=\"translate(61.741916691113495,66.33765593372551)\" d=\"M4.9406691857989475,0A4.9406691857989475,4.9406691857989475,0,1,1,-4.9406691857989475,0A4.9406691857989475,4.9406691857989475,0,1,1,4.9406691857989475,0\" fill=\"red\" stroke-width=\"2\" opacity=\"1\"></path><path aria-label=\"x: 1.43422573108; y: 1.16742269499; size: 0.104166140719\" role=\"graphics-symbol\" aria-roledescription=\"circle\" transform=\"translate(190.603675868229,33.22532928668005)\" d=\"M7.556594810932531,0A7.556594810932531,7.556594810932531,0,1,1,-7.556594810932531,0A7.556594810932531,7.556594810932531,0,1,1,7.556594810932531,0\" fill=\"red\" stroke-width=\"2\" opacity=\"1\"></path><path aria-label=\"x: 0.650883286575; y: 0.74501300889; size: 0.0695559700802\" role=\"graphics-symbol\" aria-roledescription=\"circle\" transform=\"translate(78.69761236789526,93.56957015857297)\" d=\"M6.174901789597849,0A6.174901789597849,6.174901789597849,0,1,1,-6.174901789597849,0A6.174901789597849,6.174901789597849,0,1,1,6.174901789597849,0\" fill=\"red\" stroke-width=\"2\" opacity=\"1\"></path><path aria-label=\"x: 0.618443579396; y: 1.31934849608; size: 0.140701220884\" role=\"graphics-symbol\" aria-roledescription=\"circle\" transform=\"translate(74.06336848508865,11.521643417649518)\" d=\"M8.782371044646123,0A8.782371044646123,8.782371044646123,0,1,1,-8.782371044646123,0A8.782371044646123,8.782371044646123,0,1,1,8.782371044646123,0\" fill=\"red\" stroke-width=\"2\" opacity=\"1\"></path><path aria-label=\"x: 1.20606119048; y: 0.603463308479; size: 0.119225562197\" role=\"graphics-symbol\" aria-roledescription=\"circle\" transform=\"translate(158.00874149700016,113.79095593150583)\" d=\"M8.08439524812174,0A8.08439524812174,8.08439524812174,0,1,1,-8.08439524812174,0A8.08439524812174,8.08439524812174,0,1,1,8.08439524812174,0\" fill=\"red\" stroke-width=\"2\" opacity=\"1\"></path><path aria-label=\"x: 0.721856173205; y: 1.30249610059; size: 0.103851441032\" role=\"graphics-symbol\" aria-roledescription=\"circle\" transform=\"translate(88.83659617216387,13.929128486527853)\" d=\"M7.545171440386934,0A7.545171440386934,7.545171440386934,0,1,1,-7.545171440386934,0A7.545171440386934,7.545171440386934,0,1,1,7.545171440386934,0\" fill=\"red\" stroke-width=\"2\" opacity=\"1\"></path><path aria-label=\"x: 1.11607193064; y: 0.969468827125; size: 0.143587817612\" role=\"graphics-symbol\" aria-roledescription=\"circle\" transform=\"translate(145.1531329485203,61.50445326788771)\" d=\"M8.872002305470222,0A8.872002305470222,8.872002305470222,0,1,1,-8.872002305470222,0A8.872002305470222,8.872002305470222,0,1,1,8.872002305470222,0\" fill=\"red\" stroke-width=\"2\" opacity=\"1\"></path></g><g class=\"mark-symbol role-mark concat_0_concat_0_concat_0_concat_1_layer_2_marks\" role=\"graphics-object\" aria-roledescription=\"symbol mark container\"><path aria-label=\"x: 0.469344301481; y: 0.268441730392; size: 0.0575746813958\" role=\"graphics-symbol\" aria-roledescription=\"circle\" transform=\"translate(52.76347164009204,161.6511813725123)\" d=\"M4.830507068211761,0A4.830507068211761,4.830507068211761,0,1,1,-4.830507068211761,0A4.830507068211761,4.830507068211761,0,1,1,4.830507068211761,0\" fill=\"#4c78a8\" stroke-width=\"2\" opacity=\"1\"></path><path aria-label=\"x: 0.231871083902; y: 0.0635294670821; size: 0.0858404204563\" role=\"graphics-symbol\" aria-roledescription=\"circle\" transform=\"translate(18.838726271738896,190.9243618454186)\" d=\"M5.898245816475333,0A5.898245816475333,5.898245816475333,0,1,1,-5.898245816475333,0A5.898245816475333,5.898245816475333,0,1,1,5.898245816475333,0\" fill=\"#4c78a8\" stroke-width=\"2\" opacity=\"1\"></path><path aria-label=\"x: 0.506517095705; y: 0.44817218029; size: 0.222686202932\" role=\"graphics-symbol\" aria-roledescription=\"circle\" transform=\"translate(58.07387081502732,135.97540281571327)\" d=\"M9.5,0A9.5,9.5,0,1,1,-9.5,0A9.5,9.5,0,1,1,9.5,0\" fill=\"#4c78a8\" stroke-width=\"2\" opacity=\"1\"></path><path aria-label=\"x: 0.46170452839; y: 0.123550838093; size: 0.19901647222\" role=\"graphics-symbol\" aria-roledescription=\"circle\" transform=\"translate(51.67207548430305,182.34988027245203)\" d=\"M8.980933115917066,0A8.980933115917066,8.980933115917066,0,1,1,-8.980933115917066,0A8.980933115917066,8.980933115917066,0,1,1,8.980933115917066,0\" fill=\"#4c78a8\" stroke-width=\"2\" opacity=\"1\"></path><path aria-label=\"x: 0.389310090336; y: 0.066350751231; size: 0.00934656570726\" role=\"graphics-symbol\" aria-roledescription=\"circle\" transform=\"translate(41.33001290516612,190.52132125271194)\" d=\"M1.9462695228676334,0A1.9462695228676334,1.9462695228676334,0,1,1,-1.9462695228676334,0A1.9462695228676334,1.9462695228676334,0,1,1,1.9462695228676334,0\" fill=\"#4c78a8\" stroke-width=\"2\" opacity=\"1\"></path><path aria-label=\"x: 0.699330260661; y: 0.226552362676; size: 0.0845813630975\" role=\"graphics-symbol\" aria-roledescription=\"circle\" transform=\"translate(85.61860866591833,167.6353767605977)\" d=\"M5.854830009462446,0A5.854830009462446,5.854830009462446,0,1,1,-5.854830009462446,0A5.854830009462446,5.854830009462446,0,1,1,5.854830009462446,0\" fill=\"#4c78a8\" stroke-width=\"2\" opacity=\"1\"></path><path aria-label=\"x: 0.167096821437; y: 0.469605886451; size: 0.0552313082209\" role=\"graphics-symbol\" aria-roledescription=\"circle\" transform=\"translate(9.58526020524795,132.91344479278442)\" d=\"M4.731181568833097,0A4.731181568833097,4.731181568833097,0,1,1,-4.731181568833097,0A4.731181568833097,4.731181568833097,0,1,1,4.731181568833097,0\" fill=\"#4c78a8\" stroke-width=\"2\" opacity=\"1\"></path><path aria-label=\"x: 0.718138705124; y: 0.660193348408; size: 0.0504322485606\" role=\"graphics-symbol\" aria-roledescription=\"circle\" transform=\"translate(88.30552930340369,105.68666451318907)\" d=\"M4.520964701755543,0A4.520964701755543,4.520964701755543,0,1,1,-4.520964701755543,0A4.520964701755543,4.520964701755543,0,1,1,4.520964701755543,0\" fill=\"#4c78a8\" stroke-width=\"2\" opacity=\"1\"></path><path aria-label=\"x: 0.930997049281; y: 0.568160487043; size: 0.13126058864\" role=\"graphics-symbol\" aria-roledescription=\"circle\" transform=\"translate(118.71386418293007,118.83421613667373)\" d=\"M7.293636648486774,0A7.293636648486774,7.293636648486774,0,1,1,-7.293636648486774,0A7.293636648486774,7.293636648486774,0,1,1,7.293636648486774,0\" fill=\"#4c78a8\" stroke-width=\"2\" opacity=\"1\"></path><path aria-label=\"x: 0.855660243169; y: 0.0883624277613; size: 0.10403014877\" role=\"graphics-symbol\" aria-roledescription=\"circle\" transform=\"translate(107.95146330979313,187.37679603410083)\" d=\"M6.493166809154637,0A6.493166809154637,6.493166809154637,0,1,1,-6.493166809154637,0A6.493166809154637,6.493166809154637,0,1,1,6.493166809154637,0\" fill=\"#4c78a8\" stroke-width=\"2\" opacity=\"1\"></path></g><g class=\"mark-group role-title\"><g transform=\"translate(100,-24.676304156126392)\"><path class=\"background\" aria-hidden=\"true\" d=\"M0,0h0v0h0Z\" pointer-events=\"none\"></path><g><g class=\"mark-text role-title-text\" role=\"graphics-symbol\" aria-roledescription=\"title\" aria-label=\"Title text 'ϵ = 0.01'\" pointer-events=\"none\"><text text-anchor=\"middle\" transform=\"translate(0,10)\" font-family=\"sans-serif\" font-size=\"13px\" font-weight=\"bold\" fill=\"#000\" opacity=\"1\">ϵ = 0.01</text></g></g><path class=\"foreground\" aria-hidden=\"true\" d=\"\" pointer-events=\"none\" display=\"none\"></path></g></g></g><path class=\"foreground\" aria-hidden=\"true\" d=\"\" display=\"none\"></path></g></g></g><path class=\"foreground\" aria-hidden=\"true\" d=\"\" display=\"none\"></path></g></g><g class=\"mark-group role-scope concat_0_concat_0_concat_1_group\" role=\"graphics-object\" aria-roledescription=\"group mark container\"><g transform=\"translate(440,0)\"><path class=\"background\" aria-hidden=\"true\" d=\"M0,0h200v200h-200Z\"></path><g><g class=\"mark-group role-scope concat_0_concat_0_concat_1_layer_0_pathgroup\" role=\"graphics-object\" aria-roledescription=\"group mark container\"><g transform=\"translate(0,0)\"><path class=\"background\" aria-hidden=\"true\" d=\"M0,0h200v200h-200Z\"></path><g><g class=\"mark-line role-mark concat_0_concat_0_concat_1_layer_0_marks\" role=\"graphics-object\" aria-roledescription=\"line mark container\"><path aria-label=\"edges_x: 0.469344301481; edges_y: 0.268441730392; ew: 0.12722298221614226; pe: [1, 1]\" role=\"graphics-symbol\" aria-roledescription=\"line mark\" d=\"M52.76347164009204,161.6511813725123L120.31107078371059,1.8236958438736073\" stroke=\"black\" stroke-width=\"1.1594202898550725\" opacity=\"0.3636114911080711\"></path></g></g><path class=\"foreground\" aria-hidden=\"true\" d=\"\" display=\"none\"></path></g><g transform=\"translate(0,0)\"><path class=\"background\" aria-hidden=\"true\" d=\"M0,0h200v200h-200Z\"></path><g><g class=\"mark-line role-mark concat_0_concat_0_concat_1_layer_0_marks\" role=\"graphics-object\" aria-roledescription=\"line mark container\"><path aria-label=\"edges_x: 0.469344301481; edges_y: 0.268441730392; ew: 0.028727770177838577; pe: [1, 2]\" role=\"graphics-symbol\" aria-roledescription=\"line mark\" d=\"M52.76347164009204,161.6511813725123L149.20910948660304,128.2078564711455\" stroke=\"black\" stroke-width=\"0.43478260869565216\" opacity=\"0.31436388508891927\"></path></g></g><path class=\"foreground\" aria-hidden=\"true\" d=\"\" display=\"none\"></path></g><g transform=\"translate(0,0)\"><path class=\"background\" aria-hidden=\"true\" d=\"M0,0h200v200h-200Z\"></path><g><g class=\"mark-line role-mark concat_0_concat_0_concat_1_layer_0_marks\" role=\"graphics-object\" aria-roledescription=\"line mark container\"><path aria-label=\"edges_x: 0.469344301481; edges_y: 0.268441730392; ew: 0.028727770177838577; pe: [1, 3]\" role=\"graphics-symbol\" aria-roledescription=\"line mark\" d=\"M52.76347164009204,161.6511813725123L153.71710618397682,38.1879944450747\" stroke=\"black\" stroke-width=\"0.43478260869565216\" opacity=\"0.31436388508891927\"></path></g></g><path class=\"foreground\" aria-hidden=\"true\" d=\"\" display=\"none\"></path></g><g transform=\"translate(0,0)\"><path class=\"background\" aria-hidden=\"true\" d=\"M0,0h200v200h-200Z\"></path><g><g class=\"mark-line role-mark concat_0_concat_0_concat_1_layer_0_marks\" role=\"graphics-object\" aria-roledescription=\"line mark container\"><path aria-label=\"edges_x: 0.469344301481; edges_y: 0.268441730392; ew: 0.03967168262653899; pe: [1, 4]\" role=\"graphics-symbol\" aria-roledescription=\"line mark\" d=\"M52.76347164009204,161.6511813725123L61.741916691113495,66.33765593372551\" stroke=\"black\" stroke-width=\"0.5507246376811594\" opacity=\"0.3198358413132695\"></path></g></g><path class=\"foreground\" aria-hidden=\"true\" d=\"\" display=\"none\"></path></g><g transform=\"translate(0,0)\"><path class=\"background\" aria-hidden=\"true\" d=\"M0,0h200v200h-200Z\"></path><g><g class=\"mark-line role-mark concat_0_concat_0_concat_1_layer_0_marks\" role=\"graphics-object\" aria-roledescription=\"line mark container\"><path aria-label=\"edges_x: 0.469344301481; edges_y: 0.268441730392; ew: 0.012311901504787962; pe: [1, 5]\" role=\"graphics-symbol\" aria-roledescription=\"line mark\" d=\"M52.76347164009204,161.6511813725123L190.603675868229,33.22532928668005\" stroke=\"black\" stroke-width=\"0.2318840579710145\" opacity=\"0.30615595075239393\"></path></g></g><path class=\"foreground\" aria-hidden=\"true\" d=\"\" display=\"none\"></path></g><g transform=\"translate(0,0)\"><path class=\"background\" aria-hidden=\"true\" d=\"M0,0h200v200h-200Z\"></path><g><g class=\"mark-line role-mark concat_0_concat_0_concat_1_layer_0_marks\" role=\"graphics-object\" aria-roledescription=\"line mark container\"><path aria-label=\"edges_x: 0.469344301481; edges_y: 0.268441730392; ew: 0.049247606019151846; pe: [1, 6]\" role=\"graphics-symbol\" aria-roledescription=\"line mark\" d=\"M52.76347164009204,161.6511813725123L78.69761236789526,93.56957015857297\" stroke=\"black\" stroke-width=\"0.6666666666666666\" opacity=\"0.32462380300957594\"></path></g></g><path class=\"foreground\" aria-hidden=\"true\" d=\"\" display=\"none\"></path></g><g transform=\"translate(0,0)\"><path class=\"background\" aria-hidden=\"true\" d=\"M0,0h200v200h-200Z\"></path><g><g class=\"mark-line role-mark concat_0_concat_0_concat_1_layer_0_marks\" role=\"graphics-object\" aria-roledescription=\"line mark container\"><path aria-label=\"edges_x: 0.469344301481; edges_y: 0.268441730392; ew: 0.16415868673050615; pe: [1, 7]\" role=\"graphics-symbol\" aria-roledescription=\"line mark\" d=\"M52.76347164009204,161.6511813725123L74.06336848508865,11.521643417649518\" stroke=\"black\" stroke-width=\"1.3043478260869565\" opacity=\"0.38207934336525307\"></path></g></g><path class=\"foreground\" aria-hidden=\"true\" d=\"\" display=\"none\"></path></g><g transform=\"translate(0,0)\"><path class=\"background\" aria-hidden=\"true\" d=\"M0,0h200v200h-200Z\"></path><g><g class=\"mark-line role-mark concat_0_concat_0_concat_1_layer_0_marks\" role=\"graphics-object\" aria-roledescription=\"line mark container\"><path aria-label=\"edges_x: 0.469344301481; edges_y: 0.268441730392; ew: 0.050615595075239404; pe: [1, 8]\" role=\"graphics-symbol\" aria-roledescription=\"line mark\" d=\"M52.76347164009204,161.6511813725123L158.00874149700016,113.79095593150583\" stroke=\"black\" stroke-width=\"0.6956521739130435\" opacity=\"0.3253077975376197\"></path></g></g><path class=\"foreground\" aria-hidden=\"true\" d=\"\" display=\"none\"></path></g><g transform=\"translate(0,0)\"><path class=\"background\" aria-hidden=\"true\" d=\"M0,0h200v200h-200Z\"></path><g><g class=\"mark-line role-mark concat_0_concat_0_concat_1_layer_0_marks\" role=\"graphics-object\" aria-roledescription=\"line mark container\"><path aria-label=\"edges_x: 0.469344301481; edges_y: 0.268441730392; ew: 0.13406292749658003; pe: [1, 9]\" role=\"graphics-symbol\" aria-roledescription=\"line mark\" d=\"M52.76347164009204,161.6511813725123L88.83659617216387,13.929128486527853\" stroke=\"black\" stroke-width=\"1.1884057971014492\" opacity=\"0.36703146374829\"></path></g></g><path class=\"foreground\" aria-hidden=\"true\" d=\"\" display=\"none\"></path></g><g transform=\"translate(0,0)\"><path class=\"background\" aria-hidden=\"true\" d=\"M0,0h200v200h-200Z\"></path><g><g class=\"mark-line role-mark concat_0_concat_0_concat_1_layer_0_marks\" role=\"graphics-object\" aria-roledescription=\"line mark container\"><path aria-label=\"edges_x: 0.469344301481; edges_y: 0.268441730392; ew: 0.1518467852257182; pe: [1, 10]\" role=\"graphics-symbol\" aria-roledescription=\"line mark\" d=\"M52.76347164009204,161.6511813725123L145.1531329485203,61.50445326788771\" stroke=\"black\" stroke-width=\"1.2463768115942029\" opacity=\"0.3759233926128591\"></path></g></g><path class=\"foreground\" aria-hidden=\"true\" d=\"\" display=\"none\"></path></g><g transform=\"translate(0,0)\"><path class=\"background\" aria-hidden=\"true\" d=\"M0,0h200v200h-200Z\"></path><g><g class=\"mark-line role-mark concat_0_concat_0_concat_1_layer_0_marks\" role=\"graphics-object\" aria-roledescription=\"line mark container\"><path aria-label=\"edges_x: 0.231871083902; edges_y: 0.0635294670821; ew: 0.02051983584131327; pe: [2, 1]\" role=\"graphics-symbol\" aria-roledescription=\"line mark\" d=\"M18.838726271738896,190.9243618454186L120.31107078371059,1.8236958438736073\" stroke=\"black\" stroke-width=\"0.34782608695652173\" opacity=\"0.31025991792065666\"></path></g></g><path class=\"foreground\" aria-hidden=\"true\" d=\"\" display=\"none\"></path></g><g transform=\"translate(0,0)\"><path class=\"background\" aria-hidden=\"true\" d=\"M0,0h200v200h-200Z\"></path><g><g class=\"mark-line role-mark concat_0_concat_0_concat_1_layer_0_marks\" role=\"graphics-object\" aria-roledescription=\"line mark container\"><path aria-label=\"edges_x: 0.231871083902; edges_y: 0.0635294670821; ew: 0.06566347469220246; pe: [2, 2]\" role=\"graphics-symbol\" aria-roledescription=\"line mark\" d=\"M18.838726271738896,190.9243618454186L149.20910948660304,128.2078564711455\" stroke=\"black\" stroke-width=\"0.8405797101449275\" opacity=\"0.3328317373461012\"></path></g></g><path class=\"foreground\" aria-hidden=\"true\" d=\"\" display=\"none\"></path></g><g transform=\"translate(0,0)\"><path class=\"background\" aria-hidden=\"true\" d=\"M0,0h200v200h-200Z\"></path><g><g class=\"mark-line role-mark concat_0_concat_0_concat_1_layer_0_marks\" role=\"graphics-object\" aria-roledescription=\"line mark container\"><path aria-label=\"edges_x: 0.231871083902; edges_y: 0.0635294670821; ew: 0.004103967168262654; pe: [2, 3]\" role=\"graphics-symbol\" aria-roledescription=\"line mark\" d=\"M18.838726271738896,190.9243618454186L153.71710618397682,38.1879944450747\" stroke=\"black\" stroke-width=\"0.08695652173913043\" opacity=\"0.3020519835841313\"></path></g></g><path class=\"foreground\" aria-hidden=\"true\" d=\"\" display=\"none\"></path></g><g transform=\"translate(0,0)\"><path class=\"background\" aria-hidden=\"true\" d=\"M0,0h200v200h-200Z\"></path><g><g class=\"mark-line role-mark concat_0_concat_0_concat_1_layer_0_marks\" role=\"graphics-object\" aria-roledescription=\"line mark container\"><path aria-label=\"edges_x: 0.231871083902; edges_y: 0.0635294670821; ew: 0.28454172366621067; pe: [2, 4]\" role=\"graphics-symbol\" aria-roledescription=\"line mark\" d=\"M18.838726271738896,190.9243618454186L61.741916691113495,66.33765593372551\" stroke=\"black\" stroke-width=\"1.536231884057971\" opacity=\"0.4422708618331053\"></path></g></g><path class=\"foreground\" aria-hidden=\"true\" d=\"\" display=\"none\"></path></g><g transform=\"translate(0,0)\"><path class=\"background\" aria-hidden=\"true\" d=\"M0,0h200v200h-200Z\"></path><g><g class=\"mark-line role-mark concat_0_concat_0_concat_1_layer_0_marks\" role=\"graphics-object\" aria-roledescription=\"line mark container\"><path aria-label=\"edges_x: 0.231871083902; edges_y: 0.0635294670821; ew: 0; pe: [2, 5]\" role=\"graphics-symbol\" aria-roledescription=\"line mark\" d=\"M18.838726271738896,190.9243618454186L190.603675868229,33.22532928668005\" stroke=\"black\" stroke-width=\"0\" opacity=\"0.3\"></path></g></g><path class=\"foreground\" aria-hidden=\"true\" d=\"\" display=\"none\"></path></g><g transform=\"translate(0,0)\"><path class=\"background\" aria-hidden=\"true\" d=\"M0,0h200v200h-200Z\"></path><g><g class=\"mark-line role-mark concat_0_concat_0_concat_1_layer_0_marks\" role=\"graphics-object\" aria-roledescription=\"line mark container\"><path aria-label=\"edges_x: 0.231871083902; edges_y: 0.0635294670821; ew: 0.43502051983584133; pe: [2, 6]\" role=\"graphics-symbol\" aria-roledescription=\"line mark\" d=\"M18.838726271738896,190.9243618454186L78.69761236789526,93.56957015857297\" stroke=\"black\" stroke-width=\"1.7681159420289856\" opacity=\"0.5175102599179207\"></path></g></g><path class=\"foreground\" aria-hidden=\"true\" d=\"\" display=\"none\"></path></g><g transform=\"translate(0,0)\"><path class=\"background\" aria-hidden=\"true\" d=\"M0,0h200v200h-200Z\"></path><g><g class=\"mark-line role-mark concat_0_concat_0_concat_1_layer_0_marks\" role=\"graphics-object\" aria-roledescription=\"line mark container\"><path aria-label=\"edges_x: 0.231871083902; edges_y: 0.0635294670821; ew: 0.16142270861833105; pe: [2, 7]\" role=\"graphics-symbol\" aria-roledescription=\"line mark\" d=\"M18.838726271738896,190.9243618454186L74.06336848508865,11.521643417649518\" stroke=\"black\" stroke-width=\"1.2753623188405798\" opacity=\"0.38071135430916553\"></path></g></g><path class=\"foreground\" aria-hidden=\"true\" d=\"\" display=\"none\"></path></g><g transform=\"translate(0,0)\"><path class=\"background\" aria-hidden=\"true\" d=\"M0,0h200v200h-200Z\"></path><g><g class=\"mark-line role-mark concat_0_concat_0_concat_1_layer_0_marks\" role=\"graphics-object\" aria-roledescription=\"line mark container\"><path aria-label=\"edges_x: 0.231871083902; edges_y: 0.0635294670821; ew: 0.057455540355677154; pe: [2, 8]\" role=\"graphics-symbol\" aria-roledescription=\"line mark\" d=\"M18.838726271738896,190.9243618454186L158.00874149700016,113.79095593150583\" stroke=\"black\" stroke-width=\"0.7246376811594203\" opacity=\"0.32872777017783855\"></path></g></g><path class=\"foreground\" aria-hidden=\"true\" d=\"\" display=\"none\"></path></g><g transform=\"translate(0,0)\"><path class=\"background\" aria-hidden=\"true\" d=\"M0,0h200v200h-200Z\"></path><g><g class=\"mark-line role-mark concat_0_concat_0_concat_1_layer_0_marks\" role=\"graphics-object\" aria-roledescription=\"line mark container\"><path aria-label=\"edges_x: 0.231871083902; edges_y: 0.0635294670821; ew: 0.08618331053351573; pe: [2, 9]\" role=\"graphics-symbol\" aria-roledescription=\"line mark\" d=\"M18.838726271738896,190.9243618454186L88.83659617216387,13.929128486527853\" stroke=\"black\" stroke-width=\"0.9855072463768116\" opacity=\"0.3430916552667579\"></path></g></g><path class=\"foreground\" aria-hidden=\"true\" d=\"\" display=\"none\"></path></g><g transform=\"translate(0,0)\"><path class=\"background\" aria-hidden=\"true\" d=\"M0,0h200v200h-200Z\"></path><g><g class=\"mark-line role-mark concat_0_concat_0_concat_1_layer_0_marks\" role=\"graphics-object\" aria-roledescription=\"line mark container\"><path aria-label=\"edges_x: 0.231871083902; edges_y: 0.0635294670821; ew: 0.058823529411764705; pe: [2, 10]\" role=\"graphics-symbol\" aria-roledescription=\"line mark\" d=\"M18.838726271738896,190.9243618454186L145.1531329485203,61.50445326788771\" stroke=\"black\" stroke-width=\"0.7536231884057971\" opacity=\"0.32941176470588235\"></path></g></g><path class=\"foreground\" aria-hidden=\"true\" d=\"\" display=\"none\"></path></g><g transform=\"translate(0,0)\"><path class=\"background\" aria-hidden=\"true\" d=\"M0,0h200v200h-200Z\"></path><g><g class=\"mark-line role-mark concat_0_concat_0_concat_1_layer_0_marks\" role=\"graphics-object\" aria-roledescription=\"line mark container\"><path aria-label=\"edges_x: 0.506517095705; edges_y: 0.44817218029; ew: 1; pe: [3, 1]\" role=\"graphics-symbol\" aria-roledescription=\"line mark\" d=\"M58.07387081502732,135.97540281571327L120.31107078371059,1.8236958438736073\" stroke=\"black\" stroke-width=\"2\" opacity=\"0.8\"></path></g></g><path class=\"foreground\" aria-hidden=\"true\" d=\"\" display=\"none\"></path></g><g transform=\"translate(0,0)\"><path class=\"background\" aria-hidden=\"true\" d=\"M0,0h200v200h-200Z\"></path><g><g class=\"mark-line role-mark concat_0_concat_0_concat_1_layer_0_marks\" role=\"graphics-object\" aria-roledescription=\"line mark container\"><path aria-label=\"edges_x: 0.506517095705; edges_y: 0.44817218029; ew: 0.010943912448700412; pe: [3, 2]\" role=\"graphics-symbol\" aria-roledescription=\"line mark\" d=\"M58.07387081502732,135.97540281571327L149.20910948660304,128.2078564711455\" stroke=\"black\" stroke-width=\"0.2028985507246377\" opacity=\"0.3054719562243502\"></path></g></g><path class=\"foreground\" aria-hidden=\"true\" d=\"\" display=\"none\"></path></g><g transform=\"translate(0,0)\"><path class=\"background\" aria-hidden=\"true\" d=\"M0,0h200v200h-200Z\"></path><g><g class=\"mark-line role-mark concat_0_concat_0_concat_1_layer_0_marks\" role=\"graphics-object\" aria-roledescription=\"line mark container\"><path aria-label=\"edges_x: 0.506517095705; edges_y: 0.44817218029; ew: 0.10533515731874146; pe: [3, 3]\" role=\"graphics-symbol\" aria-roledescription=\"line mark\" d=\"M58.07387081502732,135.97540281571327L153.71710618397682,38.1879944450747\" stroke=\"black\" stroke-width=\"1.0434782608695652\" opacity=\"0.3526675786593707\"></path></g></g><path class=\"foreground\" aria-hidden=\"true\" d=\"\" display=\"none\"></path></g><g transform=\"translate(0,0)\"><path class=\"background\" aria-hidden=\"true\" d=\"M0,0h200v200h-200Z\"></path><g><g class=\"mark-line role-mark concat_0_concat_0_concat_1_layer_0_marks\" role=\"graphics-object\" aria-roledescription=\"line mark container\"><path aria-label=\"edges_x: 0.506517095705; edges_y: 0.44817218029; ew: 0.04514363885088919; pe: [3, 4]\" role=\"graphics-symbol\" aria-roledescription=\"line mark\" d=\"M58.07387081502732,135.97540281571327L61.741916691113495,66.33765593372551\" stroke=\"black\" stroke-width=\"0.6376811594202899\" opacity=\"0.32257181942544455\"></path></g></g><path class=\"foreground\" aria-hidden=\"true\" d=\"\" display=\"none\"></path></g><g transform=\"translate(0,0)\"><path class=\"background\" aria-hidden=\"true\" d=\"M0,0h200v200h-200Z\"></path><g><g class=\"mark-line role-mark concat_0_concat_0_concat_1_layer_0_marks\" role=\"graphics-object\" aria-roledescription=\"line mark container\"><path aria-label=\"edges_x: 0.506517095705; edges_y: 0.44817218029; ew: 0.06703146374829001; pe: [3, 5]\" role=\"graphics-symbol\" aria-roledescription=\"line mark\" d=\"M58.07387081502732,135.97540281571327L190.603675868229,33.22532928668005\" stroke=\"black\" stroke-width=\"0.8695652173913043\" opacity=\"0.33351573187414496\"></path></g></g><path class=\"foreground\" aria-hidden=\"true\" d=\"\" display=\"none\"></path></g><g transform=\"translate(0,0)\"><path class=\"background\" aria-hidden=\"true\" d=\"M0,0h200v200h-200Z\"></path><g><g class=\"mark-line role-mark concat_0_concat_0_concat_1_layer_0_marks\" role=\"graphics-object\" aria-roledescription=\"line mark container\"><path aria-label=\"edges_x: 0.506517095705; edges_y: 0.44817218029; ew: 0.03146374829001368; pe: [3, 6]\" role=\"graphics-symbol\" aria-roledescription=\"line mark\" d=\"M58.07387081502732,135.97540281571327L78.69761236789526,93.56957015857297\" stroke=\"black\" stroke-width=\"0.4927536231884058\" opacity=\"0.31573187414500686\"></path></g></g><path class=\"foreground\" aria-hidden=\"true\" d=\"\" display=\"none\"></path></g><g transform=\"translate(0,0)\"><path class=\"background\" aria-hidden=\"true\" d=\"M0,0h200v200h-200Z\"></path><g><g class=\"mark-line role-mark concat_0_concat_0_concat_1_layer_0_marks\" role=\"graphics-object\" aria-roledescription=\"line mark container\"><path aria-label=\"edges_x: 0.506517095705; edges_y: 0.44817218029; ew: 0.7948016415868673; pe: [3, 7]\" role=\"graphics-symbol\" aria-roledescription=\"line mark\" d=\"M58.07387081502732,135.97540281571327L74.06336848508865,11.521643417649518\" stroke=\"black\" stroke-width=\"1.9420289855072463\" opacity=\"0.6974008207934337\"></path></g></g><path class=\"foreground\" aria-hidden=\"true\" d=\"\" display=\"none\"></path></g><g transform=\"translate(0,0)\"><path class=\"background\" aria-hidden=\"true\" d=\"M0,0h200v200h-200Z\"></path><g><g class=\"mark-line role-mark concat_0_concat_0_concat_1_layer_0_marks\" role=\"graphics-object\" aria-roledescription=\"line mark container\"><path aria-label=\"edges_x: 0.506517095705; edges_y: 0.44817218029; ew: 0.028727770177838577; pe: [3, 8]\" role=\"graphics-symbol\" aria-roledescription=\"line mark\" d=\"M58.07387081502732,135.97540281571327L158.00874149700016,113.79095593150583\" stroke=\"black\" stroke-width=\"0.43478260869565216\" opacity=\"0.31436388508891927\"></path></g></g><path class=\"foreground\" aria-hidden=\"true\" d=\"\" display=\"none\"></path></g><g transform=\"translate(0,0)\"><path class=\"background\" aria-hidden=\"true\" d=\"M0,0h200v200h-200Z\"></path><g><g class=\"mark-line role-mark concat_0_concat_0_concat_1_layer_0_marks\" role=\"graphics-object\" aria-roledescription=\"line mark container\"><path aria-label=\"edges_x: 0.506517095705; edges_y: 0.44817218029; ew: 0.6607387140902873; pe: [3, 9]\" role=\"graphics-symbol\" aria-roledescription=\"line mark\" d=\"M58.07387081502732,135.97540281571327L88.83659617216387,13.929128486527853\" stroke=\"black\" stroke-width=\"1.9130434782608696\" opacity=\"0.6303693570451436\"></path></g></g><path class=\"foreground\" aria-hidden=\"true\" d=\"\" display=\"none\"></path></g><g transform=\"translate(0,0)\"><path class=\"background\" aria-hidden=\"true\" d=\"M0,0h200v200h-200Z\"></path><g><g class=\"mark-line role-mark concat_0_concat_0_concat_1_layer_0_marks\" role=\"graphics-object\" aria-roledescription=\"line mark container\"><path aria-label=\"edges_x: 0.506517095705; edges_y: 0.44817218029; ew: 0.3036935704514364; pe: [3, 10]\" role=\"graphics-symbol\" aria-roledescription=\"line mark\" d=\"M58.07387081502732,135.97540281571327L145.1531329485203,61.50445326788771\" stroke=\"black\" stroke-width=\"1.565217391304348\" opacity=\"0.4518467852257182\"></path></g></g><path class=\"foreground\" aria-hidden=\"true\" d=\"\" display=\"none\"></path></g><g transform=\"translate(0,0)\"><path class=\"background\" aria-hidden=\"true\" d=\"M0,0h200v200h-200Z\"></path><g><g class=\"mark-line role-mark concat_0_concat_0_concat_1_layer_0_marks\" role=\"graphics-object\" aria-roledescription=\"line mark container\"><path aria-label=\"edges_x: 0.46170452839; edges_y: 0.123550838093; ew: 0.1436388508891929; pe: [4, 1]\" role=\"graphics-symbol\" aria-roledescription=\"line mark\" d=\"M51.67207548430305,182.34988027245203L120.31107078371059,1.8236958438736073\" stroke=\"black\" stroke-width=\"1.2173913043478262\" opacity=\"0.3718194254445964\"></path></g></g><path class=\"foreground\" aria-hidden=\"true\" d=\"\" display=\"none\"></path></g><g transform=\"translate(0,0)\"><path class=\"background\" aria-hidden=\"true\" d=\"M0,0h200v200h-200Z\"></path><g><g class=\"mark-line role-mark concat_0_concat_0_concat_1_layer_0_marks\" role=\"graphics-object\" aria-roledescription=\"line mark container\"><path aria-label=\"edges_x: 0.46170452839; edges_y: 0.123550838093; ew: 0.40355677154582764; pe: [4, 2]\" role=\"graphics-symbol\" aria-roledescription=\"line mark\" d=\"M51.67207548430305,182.34988027245203L149.20910948660304,128.2078564711455\" stroke=\"black\" stroke-width=\"1.7391304347826086\" opacity=\"0.5017783857729139\"></path></g></g><path class=\"foreground\" aria-hidden=\"true\" d=\"\" display=\"none\"></path></g><g transform=\"translate(0,0)\"><path class=\"background\" aria-hidden=\"true\" d=\"M0,0h200v200h-200Z\"></path><g><g class=\"mark-line role-mark concat_0_concat_0_concat_1_layer_0_marks\" role=\"graphics-object\" aria-roledescription=\"line mark container\"><path aria-label=\"edges_x: 0.46170452839; edges_y: 0.123550838093; ew: 0.06429548563611491; pe: [4, 3]\" role=\"graphics-symbol\" aria-roledescription=\"line mark\" d=\"M51.67207548430305,182.34988027245203L153.71710618397682,38.1879944450747\" stroke=\"black\" stroke-width=\"0.8115942028985508\" opacity=\"0.3321477428180575\"></path></g></g><path class=\"foreground\" aria-hidden=\"true\" d=\"\" display=\"none\"></path></g><g transform=\"translate(0,0)\"><path class=\"background\" aria-hidden=\"true\" d=\"M0,0h200v200h-200Z\"></path><g><g class=\"mark-line role-mark concat_0_concat_0_concat_1_layer_0_marks\" role=\"graphics-object\" aria-roledescription=\"line mark container\"><path aria-label=\"edges_x: 0.46170452839; edges_y: 0.123550838093; ew: 0.17783857729138167; pe: [4, 4]\" role=\"graphics-symbol\" aria-roledescription=\"line mark\" d=\"M51.67207548430305,182.34988027245203L61.741916691113495,66.33765593372551\" stroke=\"black\" stroke-width=\"1.3333333333333333\" opacity=\"0.3889192886456908\"></path></g></g><path class=\"foreground\" aria-hidden=\"true\" d=\"\" display=\"none\"></path></g><g transform=\"translate(0,0)\"><path class=\"background\" aria-hidden=\"true\" d=\"M0,0h200v200h-200Z\"></path><g><g class=\"mark-line role-mark concat_0_concat_0_concat_1_layer_0_marks\" role=\"graphics-object\" aria-roledescription=\"line mark container\"><path aria-label=\"edges_x: 0.46170452839; edges_y: 0.123550838093; ew: 0.025991792065663474; pe: [4, 5]\" role=\"graphics-symbol\" aria-roledescription=\"line mark\" d=\"M51.67207548430305,182.34988027245203L190.603675868229,33.22532928668005\" stroke=\"black\" stroke-width=\"0.4057971014492754\" opacity=\"0.31299589603283173\"></path></g></g><path class=\"foreground\" aria-hidden=\"true\" d=\"\" display=\"none\"></path></g><g transform=\"translate(0,0)\"><path class=\"background\" aria-hidden=\"true\" d=\"M0,0h200v200h-200Z\"></path><g><g class=\"mark-line role-mark concat_0_concat_0_concat_1_layer_0_marks\" role=\"graphics-object\" aria-roledescription=\"line mark container\"><path aria-label=\"edges_x: 0.46170452839; edges_y: 0.123550838093; ew: 0.37209302325581395; pe: [4, 6]\" role=\"graphics-symbol\" aria-roledescription=\"line mark\" d=\"M51.67207548430305,182.34988027245203L78.69761236789526,93.56957015857297\" stroke=\"black\" stroke-width=\"1.6231884057971016\" opacity=\"0.48604651162790696\"></path></g></g><path class=\"foreground\" aria-hidden=\"true\" d=\"\" display=\"none\"></path></g><g transform=\"translate(0,0)\"><path class=\"background\" aria-hidden=\"true\" d=\"M0,0h200v200h-200Z\"></path><g><g class=\"mark-line role-mark concat_0_concat_0_concat_1_layer_0_marks\" role=\"graphics-object\" aria-roledescription=\"line mark container\"><path aria-label=\"edges_x: 0.46170452839; edges_y: 0.123550838093; ew: 0.23666210670314639; pe: [4, 7]\" role=\"graphics-symbol\" aria-roledescription=\"line mark\" d=\"M51.67207548430305,182.34988027245203L74.06336848508865,11.521643417649518\" stroke=\"black\" stroke-width=\"1.4492753623188406\" opacity=\"0.41833105335157317\"></path></g></g><path class=\"foreground\" aria-hidden=\"true\" d=\"\" display=\"none\"></path></g><g transform=\"translate(0,0)\"><path class=\"background\" aria-hidden=\"true\" d=\"M0,0h200v200h-200Z\"></path><g><g class=\"mark-line role-mark concat_0_concat_0_concat_1_layer_0_marks\" role=\"graphics-object\" aria-roledescription=\"line mark container\"><path aria-label=\"edges_x: 0.46170452839; edges_y: 0.123550838093; ew: 0.5376196990424077; pe: [4, 8]\" role=\"graphics-symbol\" aria-roledescription=\"line mark\" d=\"M51.67207548430305,182.34988027245203L158.00874149700016,113.79095593150583\" stroke=\"black\" stroke-width=\"1.8260869565217392\" opacity=\"0.5688098495212038\"></path></g></g><path class=\"foreground\" aria-hidden=\"true\" d=\"\" display=\"none\"></path></g><g transform=\"translate(0,0)\"><path class=\"background\" aria-hidden=\"true\" d=\"M0,0h200v200h-200Z\"></path><g><g class=\"mark-line role-mark concat_0_concat_0_concat_1_layer_0_marks\" role=\"graphics-object\" aria-roledescription=\"line mark container\"><path aria-label=\"edges_x: 0.46170452839; edges_y: 0.123550838093; ew: 0.1997264021887825; pe: [4, 9]\" role=\"graphics-symbol\" aria-roledescription=\"line mark\" d=\"M51.67207548430305,182.34988027245203L88.83659617216387,13.929128486527853\" stroke=\"black\" stroke-width=\"1.4202898550724639\" opacity=\"0.3998632010943912\"></path></g></g><path class=\"foreground\" aria-hidden=\"true\" d=\"\" display=\"none\"></path></g><g transform=\"translate(0,0)\"><path class=\"background\" aria-hidden=\"true\" d=\"M0,0h200v200h-200Z\"></path><g><g class=\"mark-line role-mark concat_0_concat_0_concat_1_layer_0_marks\" role=\"graphics-object\" aria-roledescription=\"line mark container\"><path aria-label=\"edges_x: 0.46170452839; edges_y: 0.123550838093; ew: 0.5608755129958961; pe: [4, 10]\" role=\"graphics-symbol\" aria-roledescription=\"line mark\" d=\"M51.67207548430305,182.34988027245203L145.1531329485203,61.50445326788771\" stroke=\"black\" stroke-width=\"1.855072463768116\" opacity=\"0.5804377564979482\"></path></g></g><path class=\"foreground\" aria-hidden=\"true\" d=\"\" display=\"none\"></path></g><g transform=\"translate(0,0)\"><path class=\"background\" aria-hidden=\"true\" d=\"M0,0h200v200h-200Z\"></path><g><g class=\"mark-line role-mark concat_0_concat_0_concat_1_layer_0_marks\" role=\"graphics-object\" aria-roledescription=\"line mark container\"><path aria-label=\"edges_x: 0.389310090336; edges_y: 0.066350751231; ew: 0.004103967168262654; pe: [5, 1]\" role=\"graphics-symbol\" aria-roledescription=\"line mark\" d=\"M41.33001290516612,190.52132125271194L120.31107078371059,1.8236958438736073\" stroke=\"black\" stroke-width=\"0.08695652173913043\" opacity=\"0.3020519835841313\"></path></g></g><path class=\"foreground\" aria-hidden=\"true\" d=\"\" display=\"none\"></path></g><g transform=\"translate(0,0)\"><path class=\"background\" aria-hidden=\"true\" d=\"M0,0h200v200h-200Z\"></path><g><g class=\"mark-line role-mark concat_0_concat_0_concat_1_layer_0_marks\" role=\"graphics-object\" aria-roledescription=\"line mark container\"><path aria-label=\"edges_x: 0.389310090336; edges_y: 0.066350751231; ew: 0.02051983584131327; pe: [5, 2]\" role=\"graphics-symbol\" aria-roledescription=\"line mark\" d=\"M41.33001290516612,190.52132125271194L149.20910948660304,128.2078564711455\" stroke=\"black\" stroke-width=\"0.34782608695652173\" opacity=\"0.31025991792065666\"></path></g></g><path class=\"foreground\" aria-hidden=\"true\" d=\"\" display=\"none\"></path></g><g transform=\"translate(0,0)\"><path class=\"background\" aria-hidden=\"true\" d=\"M0,0h200v200h-200Z\"></path><g><g class=\"mark-line role-mark concat_0_concat_0_concat_1_layer_0_marks\" role=\"graphics-object\" aria-roledescription=\"line mark container\"><path aria-label=\"edges_x: 0.389310090336; edges_y: 0.066350751231; ew: 0.0013679890560875515; pe: [5, 3]\" role=\"graphics-symbol\" aria-roledescription=\"line mark\" d=\"M41.33001290516612,190.52132125271194L153.71710618397682,38.1879944450747\" stroke=\"black\" stroke-width=\"0.028985507246376812\" opacity=\"0.30068399452804373\"></path></g></g><path class=\"foreground\" aria-hidden=\"true\" d=\"\" display=\"none\"></path></g><g transform=\"translate(0,0)\"><path class=\"background\" aria-hidden=\"true\" d=\"M0,0h200v200h-200Z\"></path><g><g class=\"mark-line role-mark concat_0_concat_0_concat_1_layer_0_marks\" role=\"graphics-object\" aria-roledescription=\"line mark container\"><path aria-label=\"edges_x: 0.389310090336; edges_y: 0.066350751231; ew: 0.013679890560875513; pe: [5, 4]\" role=\"graphics-symbol\" aria-roledescription=\"line mark\" d=\"M41.33001290516612,190.52132125271194L61.741916691113495,66.33765593372551\" stroke=\"black\" stroke-width=\"0.2608695652173913\" opacity=\"0.30683994528043773\"></path></g></g><path class=\"foreground\" aria-hidden=\"true\" d=\"\" display=\"none\"></path></g><g transform=\"translate(0,0)\"><path class=\"background\" aria-hidden=\"true\" d=\"M0,0h200v200h-200Z\"></path><g><g class=\"mark-line role-mark concat_0_concat_0_concat_1_layer_0_marks\" role=\"graphics-object\" aria-roledescription=\"line mark container\"><path aria-label=\"edges_x: 0.389310090336; edges_y: 0.066350751231; ew: 0; pe: [5, 5]\" role=\"graphics-symbol\" aria-roledescription=\"line mark\" d=\"M41.33001290516612,190.52132125271194L190.603675868229,33.22532928668005\" stroke=\"black\" stroke-width=\"0\" opacity=\"0.3\"></path></g></g><path class=\"foreground\" aria-hidden=\"true\" d=\"\" display=\"none\"></path></g><g transform=\"translate(0,0)\"><path class=\"background\" aria-hidden=\"true\" d=\"M0,0h200v200h-200Z\"></path><g><g class=\"mark-line role-mark concat_0_concat_0_concat_1_layer_0_marks\" role=\"graphics-object\" aria-roledescription=\"line mark container\"><path aria-label=\"edges_x: 0.389310090336; edges_y: 0.066350751231; ew: 0.03009575923392613; pe: [5, 6]\" role=\"graphics-symbol\" aria-roledescription=\"line mark\" d=\"M41.33001290516612,190.52132125271194L78.69761236789526,93.56957015857297\" stroke=\"black\" stroke-width=\"0.463768115942029\" opacity=\"0.31504787961696307\"></path></g></g><path class=\"foreground\" aria-hidden=\"true\" d=\"\" display=\"none\"></path></g><g transform=\"translate(0,0)\"><path class=\"background\" aria-hidden=\"true\" d=\"M0,0h200v200h-200Z\"></path><g><g class=\"mark-line role-mark concat_0_concat_0_concat_1_layer_0_marks\" role=\"graphics-object\" aria-roledescription=\"line mark container\"><path aria-label=\"edges_x: 0.389310090336; edges_y: 0.066350751231; ew: 0.010943912448700412; pe: [5, 7]\" role=\"graphics-symbol\" aria-roledescription=\"line mark\" d=\"M41.33001290516612,190.52132125271194L74.06336848508865,11.521643417649518\" stroke=\"black\" stroke-width=\"0.2028985507246377\" opacity=\"0.3054719562243502\"></path></g></g><path class=\"foreground\" aria-hidden=\"true\" d=\"\" display=\"none\"></path></g><g transform=\"translate(0,0)\"><path class=\"background\" aria-hidden=\"true\" d=\"M0,0h200v200h-200Z\"></path><g><g class=\"mark-line role-mark concat_0_concat_0_concat_1_layer_0_marks\" role=\"graphics-object\" aria-roledescription=\"line mark container\"><path aria-label=\"edges_x: 0.389310090336; edges_y: 0.066350751231; ew: 0.023255813953488372; pe: [5, 8]\" role=\"graphics-symbol\" aria-roledescription=\"line mark\" d=\"M41.33001290516612,190.52132125271194L158.00874149700016,113.79095593150583\" stroke=\"black\" stroke-width=\"0.37681159420289856\" opacity=\"0.31162790697674414\"></path></g></g><path class=\"foreground\" aria-hidden=\"true\" d=\"\" display=\"none\"></path></g><g transform=\"translate(0,0)\"><path class=\"background\" aria-hidden=\"true\" d=\"M0,0h200v200h-200Z\"></path><g><g class=\"mark-line role-mark concat_0_concat_0_concat_1_layer_0_marks\" role=\"graphics-object\" aria-roledescription=\"line mark container\"><path aria-label=\"edges_x: 0.389310090336; edges_y: 0.066350751231; ew: 0.008207934336525308; pe: [5, 9]\" role=\"graphics-symbol\" aria-roledescription=\"line mark\" d=\"M41.33001290516612,190.52132125271194L88.83659617216387,13.929128486527853\" stroke=\"black\" stroke-width=\"0.17391304347826086\" opacity=\"0.30410396716826266\"></path></g></g><path class=\"foreground\" aria-hidden=\"true\" d=\"\" display=\"none\"></path></g><g transform=\"translate(0,0)\"><path class=\"background\" aria-hidden=\"true\" d=\"M0,0h200v200h-200Z\"></path><g><g class=\"mark-line role-mark concat_0_concat_0_concat_1_layer_0_marks\" role=\"graphics-object\" aria-roledescription=\"line mark container\"><path aria-label=\"edges_x: 0.389310090336; edges_y: 0.066350751231; ew: 0.017783857729138167; pe: [5, 10]\" role=\"graphics-symbol\" aria-roledescription=\"line mark\" d=\"M41.33001290516612,190.52132125271194L145.1531329485203,61.50445326788771\" stroke=\"black\" stroke-width=\"0.31884057971014496\" opacity=\"0.30889192886456907\"></path></g></g><path class=\"foreground\" aria-hidden=\"true\" d=\"\" display=\"none\"></path></g><g transform=\"translate(0,0)\"><path class=\"background\" aria-hidden=\"true\" d=\"M0,0h200v200h-200Z\"></path><g><g class=\"mark-line role-mark concat_0_concat_0_concat_1_layer_0_marks\" role=\"graphics-object\" aria-roledescription=\"line mark container\"><path aria-label=\"edges_x: 0.699330260661; edges_y: 0.226552362676; ew: 0.09986320109439124; pe: [6, 1]\" role=\"graphics-symbol\" aria-roledescription=\"line mark\" d=\"M85.61860866591833,167.6353767605977L120.31107078371059,1.8236958438736073\" stroke=\"black\" stroke-width=\"1.0144927536231885\" opacity=\"0.3499316005471956\"></path></g></g><path class=\"foreground\" aria-hidden=\"true\" d=\"\" display=\"none\"></path></g><g transform=\"translate(0,0)\"><path class=\"background\" aria-hidden=\"true\" d=\"M0,0h200v200h-200Z\"></path><g><g class=\"mark-line role-mark concat_0_concat_0_concat_1_layer_0_marks\" role=\"graphics-object\" aria-roledescription=\"line mark container\"><path aria-label=\"edges_x: 0.699330260661; edges_y: 0.226552362676; ew: 0.11901504787961696; pe: [6, 2]\" role=\"graphics-symbol\" aria-roledescription=\"line mark\" d=\"M85.61860866591833,167.6353767605977L149.20910948660304,128.2078564711455\" stroke=\"black\" stroke-width=\"1.1014492753623188\" opacity=\"0.3595075239398085\"></path></g></g><path class=\"foreground\" aria-hidden=\"true\" d=\"\" display=\"none\"></path></g><g transform=\"translate(0,0)\"><path class=\"background\" aria-hidden=\"true\" d=\"M0,0h200v200h-200Z\"></path><g><g class=\"mark-line role-mark concat_0_concat_0_concat_1_layer_0_marks\" role=\"graphics-object\" aria-roledescription=\"line mark container\"><path aria-label=\"edges_x: 0.699330260661; edges_y: 0.226552362676; ew: 0.08071135430916553; pe: [6, 3]\" role=\"graphics-symbol\" aria-roledescription=\"line mark\" d=\"M85.61860866591833,167.6353767605977L153.71710618397682,38.1879944450747\" stroke=\"black\" stroke-width=\"0.927536231884058\" opacity=\"0.34035567715458276\"></path></g></g><path class=\"foreground\" aria-hidden=\"true\" d=\"\" display=\"none\"></path></g><g transform=\"translate(0,0)\"><path class=\"background\" aria-hidden=\"true\" d=\"M0,0h200v200h-200Z\"></path><g><g class=\"mark-line role-mark concat_0_concat_0_concat_1_layer_0_marks\" role=\"graphics-object\" aria-roledescription=\"line mark container\"><path aria-label=\"edges_x: 0.532193416838; edges_y: 0.935636408464; ew: 0.006839945280437756; pe: [6, 4]\" role=\"graphics-symbol\" aria-roledescription=\"line mark\" d=\"M61.741916691113495,66.33765593372551L85.61860866591833,167.6353767605977\" stroke=\"black\" stroke-width=\"0.14492753623188406\" opacity=\"0.30341997264021886\"></path></g></g><path class=\"foreground\" aria-hidden=\"true\" d=\"\" display=\"none\"></path></g><g transform=\"translate(0,0)\"><path class=\"background\" aria-hidden=\"true\" d=\"M0,0h200v200h-200Z\"></path><g><g class=\"mark-line role-mark concat_0_concat_0_concat_1_layer_0_marks\" role=\"graphics-object\" aria-roledescription=\"line mark container\"><path aria-label=\"edges_x: 0.699330260661; edges_y: 0.226552362676; ew: 0.11764705882352941; pe: [6, 5]\" role=\"graphics-symbol\" aria-roledescription=\"line mark\" d=\"M85.61860866591833,167.6353767605977L190.603675868229,33.22532928668005\" stroke=\"black\" stroke-width=\"1.0724637681159421\" opacity=\"0.3588235294117647\"></path></g></g><path class=\"foreground\" aria-hidden=\"true\" d=\"\" display=\"none\"></path></g><g transform=\"translate(0,0)\"><path class=\"background\" aria-hidden=\"true\" d=\"M0,0h200v200h-200Z\"></path><g><g class=\"mark-line role-mark concat_0_concat_0_concat_1_layer_0_marks\" role=\"graphics-object\" aria-roledescription=\"line mark container\"><path aria-label=\"edges_x: 0.650883286575; edges_y: 0.74501300889; ew: 0.017783857729138167; pe: [6, 6]\" role=\"graphics-symbol\" aria-roledescription=\"line mark\" d=\"M78.69761236789526,93.56957015857297L85.61860866591833,167.6353767605977\" stroke=\"black\" stroke-width=\"0.31884057971014496\" opacity=\"0.30889192886456907\"></path></g></g><path class=\"foreground\" aria-hidden=\"true\" d=\"\" display=\"none\"></path></g><g transform=\"translate(0,0)\"><path class=\"background\" aria-hidden=\"true\" d=\"M0,0h200v200h-200Z\"></path><g><g class=\"mark-line role-mark concat_0_concat_0_concat_1_layer_0_marks\" role=\"graphics-object\" aria-roledescription=\"line mark container\"><path aria-label=\"edges_x: 0.618443579396; edges_y: 1.31934849608; ew: 0.03146374829001368; pe: [6, 7]\" role=\"graphics-symbol\" aria-roledescription=\"line mark\" d=\"M74.06336848508865,11.521643417649518L85.61860866591833,167.6353767605977\" stroke=\"black\" stroke-width=\"0.4927536231884058\" opacity=\"0.31573187414500686\"></path></g></g><path class=\"foreground\" aria-hidden=\"true\" d=\"\" display=\"none\"></path></g><g transform=\"translate(0,0)\"><path class=\"background\" aria-hidden=\"true\" d=\"M0,0h200v200h-200Z\"></path><g><g class=\"mark-line role-mark concat_0_concat_0_concat_1_layer_0_marks\" role=\"graphics-object\" aria-roledescription=\"line mark container\"><path aria-label=\"edges_x: 0.699330260661; edges_y: 0.226552362676; ew: 0.26265389876880985; pe: [6, 8]\" role=\"graphics-symbol\" aria-roledescription=\"line mark\" d=\"M85.61860866591833,167.6353767605977L158.00874149700016,113.79095593150583\" stroke=\"black\" stroke-width=\"1.5072463768115942\" opacity=\"0.4313269493844049\"></path></g></g><path class=\"foreground\" aria-hidden=\"true\" d=\"\" display=\"none\"></path></g><g transform=\"translate(0,0)\"><path class=\"background\" aria-hidden=\"true\" d=\"M0,0h200v200h-200Z\"></path><g><g class=\"mark-line role-mark concat_0_concat_0_concat_1_layer_0_marks\" role=\"graphics-object\" aria-roledescription=\"line mark container\"><path aria-label=\"edges_x: 0.699330260661; edges_y: 0.226552362676; ew: 0.04103967168262654; pe: [6, 9]\" role=\"graphics-symbol\" aria-roledescription=\"line mark\" d=\"M85.61860866591833,167.6353767605977L88.83659617216387,13.929128486527853\" stroke=\"black\" stroke-width=\"0.5797101449275363\" opacity=\"0.32051983584131327\"></path></g></g><path class=\"foreground\" aria-hidden=\"true\" d=\"\" display=\"none\"></path></g><g transform=\"translate(0,0)\"><path class=\"background\" aria-hidden=\"true\" d=\"M0,0h200v200h-200Z\"></path><g><g class=\"mark-line role-mark concat_0_concat_0_concat_1_layer_0_marks\" role=\"graphics-object\" aria-roledescription=\"line mark container\"><path aria-label=\"edges_x: 0.699330260661; edges_y: 0.226552362676; ew: 0.3789329685362517; pe: [6, 10]\" role=\"graphics-symbol\" aria-roledescription=\"line mark\" d=\"M85.61860866591833,167.6353767605977L145.1531329485203,61.50445326788771\" stroke=\"black\" stroke-width=\"1.6521739130434783\" opacity=\"0.4894664842681259\"></path></g></g><path class=\"foreground\" aria-hidden=\"true\" d=\"\" display=\"none\"></path></g><g transform=\"translate(0,0)\"><path class=\"background\" aria-hidden=\"true\" d=\"M0,0h200v200h-200Z\"></path><g><g class=\"mark-line role-mark concat_0_concat_0_concat_1_layer_0_marks\" role=\"graphics-object\" aria-roledescription=\"line mark container\"><path aria-label=\"edges_x: 0.167096821437; edges_y: 0.469605886451; ew: 0.06429548563611491; pe: [7, 1]\" role=\"graphics-symbol\" aria-roledescription=\"line mark\" d=\"M9.58526020524795,132.91344479278442L120.31107078371059,1.8236958438736073\" stroke=\"black\" stroke-width=\"0.8115942028985508\" opacity=\"0.3321477428180575\"></path></g></g><path class=\"foreground\" aria-hidden=\"true\" d=\"\" display=\"none\"></path></g><g transform=\"translate(0,0)\"><path class=\"background\" aria-hidden=\"true\" d=\"M0,0h200v200h-200Z\"></path><g><g class=\"mark-line role-mark concat_0_concat_0_concat_1_layer_0_marks\" role=\"graphics-object\" aria-roledescription=\"line mark container\"><path aria-label=\"edges_x: 0.167096821437; edges_y: 0.469605886451; ew: 0; pe: [7, 2]\" role=\"graphics-symbol\" aria-roledescription=\"line mark\" d=\"M9.58526020524795,132.91344479278442L149.20910948660304,128.2078564711455\" stroke=\"black\" stroke-width=\"0\" opacity=\"0.3\"></path></g></g><path class=\"foreground\" aria-hidden=\"true\" d=\"\" display=\"none\"></path></g><g transform=\"translate(0,0)\"><path class=\"background\" aria-hidden=\"true\" d=\"M0,0h200v200h-200Z\"></path><g><g class=\"mark-line role-mark concat_0_concat_0_concat_1_layer_0_marks\" role=\"graphics-object\" aria-roledescription=\"line mark container\"><path aria-label=\"edges_x: 0.167096821437; edges_y: 0.469605886451; ew: 0.0013679890560875515; pe: [7, 3]\" role=\"graphics-symbol\" aria-roledescription=\"line mark\" d=\"M9.58526020524795,132.91344479278442L153.71710618397682,38.1879944450747\" stroke=\"black\" stroke-width=\"0.028985507246376812\" opacity=\"0.30068399452804373\"></path></g></g><path class=\"foreground\" aria-hidden=\"true\" d=\"\" display=\"none\"></path></g><g transform=\"translate(0,0)\"><path class=\"background\" aria-hidden=\"true\" d=\"M0,0h200v200h-200Z\"></path><g><g class=\"mark-line role-mark concat_0_concat_0_concat_1_layer_0_marks\" role=\"graphics-object\" aria-roledescription=\"line mark container\"><path aria-label=\"edges_x: 0.167096821437; edges_y: 0.469605886451; ew: 0.03967168262653899; pe: [7, 4]\" role=\"graphics-symbol\" aria-roledescription=\"line mark\" d=\"M9.58526020524795,132.91344479278442L61.741916691113495,66.33765593372551\" stroke=\"black\" stroke-width=\"0.5507246376811594\" opacity=\"0.3198358413132695\"></path></g></g><path class=\"foreground\" aria-hidden=\"true\" d=\"\" display=\"none\"></path></g><g transform=\"translate(0,0)\"><path class=\"background\" aria-hidden=\"true\" d=\"M0,0h200v200h-200Z\"></path><g><g class=\"mark-line role-mark concat_0_concat_0_concat_1_layer_0_marks\" role=\"graphics-object\" aria-roledescription=\"line mark container\"><path aria-label=\"edges_x: 0.167096821437; edges_y: 0.469605886451; ew: 0; pe: [7, 5]\" role=\"graphics-symbol\" aria-roledescription=\"line mark\" d=\"M9.58526020524795,132.91344479278442L190.603675868229,33.22532928668005\" stroke=\"black\" stroke-width=\"0\" opacity=\"0.3\"></path></g></g><path class=\"foreground\" aria-hidden=\"true\" d=\"\" display=\"none\"></path></g><g transform=\"translate(0,0)\"><path class=\"background\" aria-hidden=\"true\" d=\"M0,0h200v200h-200Z\"></path><g><g class=\"mark-line role-mark concat_0_concat_0_concat_1_layer_0_marks\" role=\"graphics-object\" aria-roledescription=\"line mark container\"><path aria-label=\"edges_x: 0.167096821437; edges_y: 0.469605886451; ew: 0.010943912448700412; pe: [7, 6]\" role=\"graphics-symbol\" aria-roledescription=\"line mark\" d=\"M9.58526020524795,132.91344479278442L78.69761236789526,93.56957015857297\" stroke=\"black\" stroke-width=\"0.2028985507246377\" opacity=\"0.3054719562243502\"></path></g></g><path class=\"foreground\" aria-hidden=\"true\" d=\"\" display=\"none\"></path></g><g transform=\"translate(0,0)\"><path class=\"background\" aria-hidden=\"true\" d=\"M0,0h200v200h-200Z\"></path><g><g class=\"mark-line role-mark concat_0_concat_0_concat_1_layer_0_marks\" role=\"graphics-object\" aria-roledescription=\"line mark container\"><path aria-label=\"edges_x: 0.167096821437; edges_y: 0.469605886451; ew: 0.45006839945280436; pe: [7, 7]\" role=\"graphics-symbol\" aria-roledescription=\"line mark\" d=\"M9.58526020524795,132.91344479278442L74.06336848508865,11.521643417649518\" stroke=\"black\" stroke-width=\"1.7971014492753623\" opacity=\"0.5250341997264022\"></path></g></g><path class=\"foreground\" aria-hidden=\"true\" d=\"\" display=\"none\"></path></g><g transform=\"translate(0,0)\"><path class=\"background\" aria-hidden=\"true\" d=\"M0,0h200v200h-200Z\"></path><g><g class=\"mark-line role-mark concat_0_concat_0_concat_1_layer_0_marks\" role=\"graphics-object\" aria-roledescription=\"line mark container\"><path aria-label=\"edges_x: 0.167096821437; edges_y: 0.469605886451; ew: 0; pe: [7, 8]\" role=\"graphics-symbol\" aria-roledescription=\"line mark\" d=\"M9.58526020524795,132.91344479278442L158.00874149700016,113.79095593150583\" stroke=\"black\" stroke-width=\"0\" opacity=\"0.3\"></path></g></g><path class=\"foreground\" aria-hidden=\"true\" d=\"\" display=\"none\"></path></g><g transform=\"translate(0,0)\"><path class=\"background\" aria-hidden=\"true\" d=\"M0,0h200v200h-200Z\"></path><g><g class=\"mark-line role-mark concat_0_concat_0_concat_1_layer_0_marks\" role=\"graphics-object\" aria-roledescription=\"line mark container\"><path aria-label=\"edges_x: 0.167096821437; edges_y: 0.469605886451; ew: 0.18331053351573187; pe: [7, 9]\" role=\"graphics-symbol\" aria-roledescription=\"line mark\" d=\"M9.58526020524795,132.91344479278442L88.83659617216387,13.929128486527853\" stroke=\"black\" stroke-width=\"1.3623188405797102\" opacity=\"0.3916552667578659\"></path></g></g><path class=\"foreground\" aria-hidden=\"true\" d=\"\" display=\"none\"></path></g><g transform=\"translate(0,0)\"><path class=\"background\" aria-hidden=\"true\" d=\"M0,0h200v200h-200Z\"></path><g><g class=\"mark-line role-mark concat_0_concat_0_concat_1_layer_0_marks\" role=\"graphics-object\" aria-roledescription=\"line mark container\"><path aria-label=\"edges_x: 0.167096821437; edges_y: 0.469605886451; ew: 0.005471956224350206; pe: [7, 10]\" role=\"graphics-symbol\" aria-roledescription=\"line mark\" d=\"M9.58526020524795,132.91344479278442L145.1531329485203,61.50445326788771\" stroke=\"black\" stroke-width=\"0.11594202898550725\" opacity=\"0.30273597811217506\"></path></g></g><path class=\"foreground\" aria-hidden=\"true\" d=\"\" display=\"none\"></path></g><g transform=\"translate(0,0)\"><path class=\"background\" aria-hidden=\"true\" d=\"M0,0h200v200h-200Z\"></path><g><g class=\"mark-line role-mark concat_0_concat_0_concat_1_layer_0_marks\" role=\"graphics-object\" aria-roledescription=\"line mark container\"><path aria-label=\"edges_x: 0.718138705124; edges_y: 0.660193348408; ew: 0.39398084815321477; pe: [8, 1]\" role=\"graphics-symbol\" aria-roledescription=\"line mark\" d=\"M88.30552930340369,105.68666451318907L120.31107078371059,1.8236958438736073\" stroke=\"black\" stroke-width=\"1.710144927536232\" opacity=\"0.4969904240766074\"></path></g></g><path class=\"foreground\" aria-hidden=\"true\" d=\"\" display=\"none\"></path></g><g transform=\"translate(0,0)\"><path class=\"background\" aria-hidden=\"true\" d=\"M0,0h200v200h-200Z\"></path><g><g class=\"mark-line role-mark concat_0_concat_0_concat_1_layer_0_marks\" role=\"graphics-object\" aria-roledescription=\"line mark container\"><path aria-label=\"edges_x: 0.718138705124; edges_y: 0.660193348408; ew: 0; pe: [8, 2]\" role=\"graphics-symbol\" aria-roledescription=\"line mark\" d=\"M88.30552930340369,105.68666451318907L149.20910948660304,128.2078564711455\" stroke=\"black\" stroke-width=\"0\" opacity=\"0.3\"></path></g></g><path class=\"foreground\" aria-hidden=\"true\" d=\"\" display=\"none\"></path></g><g transform=\"translate(0,0)\"><path class=\"background\" aria-hidden=\"true\" d=\"M0,0h200v200h-200Z\"></path><g><g class=\"mark-line role-mark concat_0_concat_0_concat_1_layer_0_marks\" role=\"graphics-object\" aria-roledescription=\"line mark container\"><path aria-label=\"edges_x: 0.718138705124; edges_y: 0.660193348408; ew: 0.038303693570451436; pe: [8, 3]\" role=\"graphics-symbol\" aria-roledescription=\"line mark\" d=\"M88.30552930340369,105.68666451318907L153.71710618397682,38.1879944450747\" stroke=\"black\" stroke-width=\"0.5217391304347826\" opacity=\"0.3191518467852257\"></path></g></g><path class=\"foreground\" aria-hidden=\"true\" d=\"\" display=\"none\"></path></g><g transform=\"translate(0,0)\"><path class=\"background\" aria-hidden=\"true\" d=\"M0,0h200v200h-200Z\"></path><g><g class=\"mark-line role-mark concat_0_concat_0_concat_1_layer_0_marks\" role=\"graphics-object\" aria-roledescription=\"line mark container\"><path aria-label=\"edges_x: 0.532193416838; edges_y: 0.935636408464; ew: 0; pe: [8, 4]\" role=\"graphics-symbol\" aria-roledescription=\"line mark\" d=\"M61.741916691113495,66.33765593372551L88.30552930340369,105.68666451318907\" stroke=\"black\" stroke-width=\"0\" opacity=\"0.3\"></path></g></g><path class=\"foreground\" aria-hidden=\"true\" d=\"\" display=\"none\"></path></g><g transform=\"translate(0,0)\"><path class=\"background\" aria-hidden=\"true\" d=\"M0,0h200v200h-200Z\"></path><g><g class=\"mark-line role-mark concat_0_concat_0_concat_1_layer_0_marks\" role=\"graphics-object\" aria-roledescription=\"line mark container\"><path aria-label=\"edges_x: 0.718138705124; edges_y: 0.660193348408; ew: 0.08344733242134064; pe: [8, 5]\" role=\"graphics-symbol\" aria-roledescription=\"line mark\" d=\"M88.30552930340369,105.68666451318907L190.603675868229,33.22532928668005\" stroke=\"black\" stroke-width=\"0.9565217391304348\" opacity=\"0.3417236662106703\"></path></g></g><path class=\"foreground\" aria-hidden=\"true\" d=\"\" display=\"none\"></path></g><g transform=\"translate(0,0)\"><path class=\"background\" aria-hidden=\"true\" d=\"M0,0h200v200h-200Z\"></path><g><g class=\"mark-line role-mark concat_0_concat_0_concat_1_layer_0_marks\" role=\"graphics-object\" aria-roledescription=\"line mark container\"><path aria-label=\"edges_x: 0.650883286575; edges_y: 0.74501300889; ew: 0; pe: [8, 6]\" role=\"graphics-symbol\" aria-roledescription=\"line mark\" d=\"M78.69761236789526,93.56957015857297L88.30552930340369,105.68666451318907\" stroke=\"black\" stroke-width=\"0\" opacity=\"0.3\"></path></g></g><path class=\"foreground\" aria-hidden=\"true\" d=\"\" display=\"none\"></path></g><g transform=\"translate(0,0)\"><path class=\"background\" aria-hidden=\"true\" d=\"M0,0h200v200h-200Z\"></path><g><g class=\"mark-line role-mark concat_0_concat_0_concat_1_layer_0_marks\" role=\"graphics-object\" aria-roledescription=\"line mark container\"><path aria-label=\"edges_x: 0.618443579396; edges_y: 1.31934849608; ew: 0.06019151846785226; pe: [8, 7]\" role=\"graphics-symbol\" aria-roledescription=\"line mark\" d=\"M74.06336848508865,11.521643417649518L88.30552930340369,105.68666451318907\" stroke=\"black\" stroke-width=\"0.782608695652174\" opacity=\"0.3300957592339261\"></path></g></g><path class=\"foreground\" aria-hidden=\"true\" d=\"\" display=\"none\"></path></g><g transform=\"translate(0,0)\"><path class=\"background\" aria-hidden=\"true\" d=\"M0,0h200v200h-200Z\"></path><g><g class=\"mark-line role-mark concat_0_concat_0_concat_1_layer_0_marks\" role=\"graphics-object\" aria-roledescription=\"line mark container\"><path aria-label=\"edges_x: 0.718138705124; edges_y: 0.660193348408; ew: 0.0013679890560875515; pe: [8, 8]\" role=\"graphics-symbol\" aria-roledescription=\"line mark\" d=\"M88.30552930340369,105.68666451318907L158.00874149700016,113.79095593150583\" stroke=\"black\" stroke-width=\"0.028985507246376812\" opacity=\"0.30068399452804373\"></path></g></g><path class=\"foreground\" aria-hidden=\"true\" d=\"\" display=\"none\"></path></g><g transform=\"translate(0,0)\"><path class=\"background\" aria-hidden=\"true\" d=\"M0,0h200v200h-200Z\"></path><g><g class=\"mark-line role-mark concat_0_concat_0_concat_1_layer_0_marks\" role=\"graphics-object\" aria-roledescription=\"line mark container\"><path aria-label=\"edges_x: 0.718138705124; edges_y: 0.660193348408; ew: 0.07113543091655267; pe: [8, 9]\" role=\"graphics-symbol\" aria-roledescription=\"line mark\" d=\"M88.30552930340369,105.68666451318907L88.83659617216387,13.929128486527853\" stroke=\"black\" stroke-width=\"0.8985507246376812\" opacity=\"0.33556771545827635\"></path></g></g><path class=\"foreground\" aria-hidden=\"true\" d=\"\" display=\"none\"></path></g><g transform=\"translate(0,0)\"><path class=\"background\" aria-hidden=\"true\" d=\"M0,0h200v200h-200Z\"></path><g><g class=\"mark-line role-mark concat_0_concat_0_concat_1_layer_0_marks\" role=\"graphics-object\" aria-roledescription=\"line mark container\"><path aria-label=\"edges_x: 0.718138705124; edges_y: 0.660193348408; ew: 0.04240766073871409; pe: [8, 10]\" role=\"graphics-symbol\" aria-roledescription=\"line mark\" d=\"M88.30552930340369,105.68666451318907L145.1531329485203,61.50445326788771\" stroke=\"black\" stroke-width=\"0.6086956521739131\" opacity=\"0.32120383036935707\"></path></g></g><path class=\"foreground\" aria-hidden=\"true\" d=\"\" display=\"none\"></path></g><g transform=\"translate(0,0)\"><path class=\"background\" aria-hidden=\"true\" d=\"M0,0h200v200h-200Z\"></path><g><g class=\"mark-line role-mark concat_0_concat_0_concat_1_layer_0_marks\" role=\"graphics-object\" aria-roledescription=\"line mark container\"><path aria-label=\"edges_x: 0.930997049281; edges_y: 0.568160487043; ew: 0.387140902872777; pe: [9, 1]\" role=\"graphics-symbol\" aria-roledescription=\"line mark\" d=\"M118.71386418293007,118.83421613667373L120.31107078371059,1.8236958438736073\" stroke=\"black\" stroke-width=\"1.681159420289855\" opacity=\"0.49357045143638856\"></path></g></g><path class=\"foreground\" aria-hidden=\"true\" d=\"\" display=\"none\"></path></g><g transform=\"translate(0,0)\"><path class=\"background\" aria-hidden=\"true\" d=\"M0,0h200v200h-200Z\"></path><g><g class=\"mark-line role-mark concat_0_concat_0_concat_1_layer_0_marks\" role=\"graphics-object\" aria-roledescription=\"line mark container\"><path aria-label=\"edges_x: 0.930997049281; edges_y: 0.568160487043; ew: 0.002735978112175103; pe: [9, 2]\" role=\"graphics-symbol\" aria-roledescription=\"line mark\" d=\"M118.71386418293007,118.83421613667373L149.20910948660304,128.2078564711455\" stroke=\"black\" stroke-width=\"0.057971014492753624\" opacity=\"0.3013679890560875\"></path></g></g><path class=\"foreground\" aria-hidden=\"true\" d=\"\" display=\"none\"></path></g><g transform=\"translate(0,0)\"><path class=\"background\" aria-hidden=\"true\" d=\"M0,0h200v200h-200Z\"></path><g><g class=\"mark-line role-mark concat_0_concat_0_concat_1_layer_0_marks\" role=\"graphics-object\" aria-roledescription=\"line mark container\"><path aria-label=\"edges_x: 0.930997049281; edges_y: 0.568160487043; ew: 0.16142270861833105; pe: [9, 3]\" role=\"graphics-symbol\" aria-roledescription=\"line mark\" d=\"M118.71386418293007,118.83421613667373L153.71710618397682,38.1879944450747\" stroke=\"black\" stroke-width=\"1.2753623188405798\" opacity=\"0.38071135430916553\"></path></g></g><path class=\"foreground\" aria-hidden=\"true\" d=\"\" display=\"none\"></path></g><g transform=\"translate(0,0)\"><path class=\"background\" aria-hidden=\"true\" d=\"M0,0h200v200h-200Z\"></path><g><g class=\"mark-line role-mark concat_0_concat_0_concat_1_layer_0_marks\" role=\"graphics-object\" aria-roledescription=\"line mark container\"><path aria-label=\"edges_x: 0.532193416838; edges_y: 0.935636408464; ew: 0; pe: [9, 4]\" role=\"graphics-symbol\" aria-roledescription=\"line mark\" d=\"M61.741916691113495,66.33765593372551L118.71386418293007,118.83421613667373\" stroke=\"black\" stroke-width=\"0\" opacity=\"0.3\"></path></g></g><path class=\"foreground\" aria-hidden=\"true\" d=\"\" display=\"none\"></path></g><g transform=\"translate(0,0)\"><path class=\"background\" aria-hidden=\"true\" d=\"M0,0h200v200h-200Z\"></path><g><g class=\"mark-line role-mark concat_0_concat_0_concat_1_layer_0_marks\" role=\"graphics-object\" aria-roledescription=\"line mark container\"><path aria-label=\"edges_x: 0.930997049281; edges_y: 0.568160487043; ew: 0.9917920656634747; pe: [9, 5]\" role=\"graphics-symbol\" aria-roledescription=\"line mark\" d=\"M118.71386418293007,118.83421613667373L190.603675868229,33.22532928668005\" stroke=\"black\" stroke-width=\"1.9710144927536233\" opacity=\"0.7958960328317374\"></path></g></g><path class=\"foreground\" aria-hidden=\"true\" d=\"\" display=\"none\"></path></g><g transform=\"translate(0,0)\"><path class=\"background\" aria-hidden=\"true\" d=\"M0,0h200v200h-200Z\"></path><g><g class=\"mark-line role-mark concat_0_concat_0_concat_1_layer_0_marks\" role=\"graphics-object\" aria-roledescription=\"line mark container\"><path aria-label=\"edges_x: 0.650883286575; edges_y: 0.74501300889; ew: 0; pe: [9, 6]\" role=\"graphics-symbol\" aria-roledescription=\"line mark\" d=\"M78.69761236789526,93.56957015857297L118.71386418293007,118.83421613667373\" stroke=\"black\" stroke-width=\"0\" opacity=\"0.3\"></path></g></g><path class=\"foreground\" aria-hidden=\"true\" d=\"\" display=\"none\"></path></g><g transform=\"translate(0,0)\"><path class=\"background\" aria-hidden=\"true\" d=\"M0,0h200v200h-200Z\"></path><g><g class=\"mark-line role-mark concat_0_concat_0_concat_1_layer_0_marks\" role=\"graphics-object\" aria-roledescription=\"line mark container\"><path aria-label=\"edges_x: 0.618443579396; edges_y: 1.31934849608; ew: 0.016415868673050615; pe: [9, 7]\" role=\"graphics-symbol\" aria-roledescription=\"line mark\" d=\"M74.06336848508865,11.521643417649518L118.71386418293007,118.83421613667373\" stroke=\"black\" stroke-width=\"0.2898550724637681\" opacity=\"0.30820793433652527\"></path></g></g><path class=\"foreground\" aria-hidden=\"true\" d=\"\" display=\"none\"></path></g><g transform=\"translate(0,0)\"><path class=\"background\" aria-hidden=\"true\" d=\"M0,0h200v200h-200Z\"></path><g><g class=\"mark-line role-mark concat_0_concat_0_concat_1_layer_0_marks\" role=\"graphics-object\" aria-roledescription=\"line mark container\"><path aria-label=\"edges_x: 0.930997049281; edges_y: 0.568160487043; ew: 0.016415868673050615; pe: [9, 8]\" role=\"graphics-symbol\" aria-roledescription=\"line mark\" d=\"M118.71386418293007,118.83421613667373L158.00874149700016,113.79095593150583\" stroke=\"black\" stroke-width=\"0.2898550724637681\" opacity=\"0.30820793433652527\"></path></g></g><path class=\"foreground\" aria-hidden=\"true\" d=\"\" display=\"none\"></path></g><g transform=\"translate(0,0)\"><path class=\"background\" aria-hidden=\"true\" d=\"M0,0h200v200h-200Z\"></path><g><g class=\"mark-line role-mark concat_0_concat_0_concat_1_layer_0_marks\" role=\"graphics-object\" aria-roledescription=\"line mark container\"><path aria-label=\"edges_x: 0.721856173205; edges_y: 1.30249610059; ew: 0.03146374829001368; pe: [9, 9]\" role=\"graphics-symbol\" aria-roledescription=\"line mark\" d=\"M88.83659617216387,13.929128486527853L118.71386418293007,118.83421613667373\" stroke=\"black\" stroke-width=\"0.4927536231884058\" opacity=\"0.31573187414500686\"></path></g></g><path class=\"foreground\" aria-hidden=\"true\" d=\"\" display=\"none\"></path></g><g transform=\"translate(0,0)\"><path class=\"background\" aria-hidden=\"true\" d=\"M0,0h200v200h-200Z\"></path><g><g class=\"mark-line role-mark concat_0_concat_0_concat_1_layer_0_marks\" role=\"graphics-object\" aria-roledescription=\"line mark container\"><path aria-label=\"edges_x: 0.930997049281; edges_y: 0.568160487043; ew: 0.18878248974008208; pe: [9, 10]\" role=\"graphics-symbol\" aria-roledescription=\"line mark\" d=\"M118.71386418293007,118.83421613667373L145.1531329485203,61.50445326788771\" stroke=\"black\" stroke-width=\"1.391304347826087\" opacity=\"0.39439124487004107\"></path></g></g><path class=\"foreground\" aria-hidden=\"true\" d=\"\" display=\"none\"></path></g><g transform=\"translate(0,0)\"><path class=\"background\" aria-hidden=\"true\" d=\"M0,0h200v200h-200Z\"></path><g><g class=\"mark-line role-mark concat_0_concat_0_concat_1_layer_0_marks\" role=\"graphics-object\" aria-roledescription=\"line mark container\"><path aria-label=\"edges_x: 0.855660243169; edges_y: 0.0883624277613; ew: 0.012311901504787962; pe: [10, 1]\" role=\"graphics-symbol\" aria-roledescription=\"line mark\" d=\"M107.95146330979313,187.37679603410083L120.31107078371059,1.8236958438736073\" stroke=\"black\" stroke-width=\"0.2318840579710145\" opacity=\"0.30615595075239393\"></path></g></g><path class=\"foreground\" aria-hidden=\"true\" d=\"\" display=\"none\"></path></g><g transform=\"translate(0,0)\"><path class=\"background\" aria-hidden=\"true\" d=\"M0,0h200v200h-200Z\"></path><g><g class=\"mark-line role-mark concat_0_concat_0_concat_1_layer_0_marks\" role=\"graphics-object\" aria-roledescription=\"line mark container\"><path aria-label=\"edges_x: 0.855660243169; edges_y: 0.0883624277613; ew: 0.3228454172366621; pe: [10, 2]\" role=\"graphics-symbol\" aria-roledescription=\"line mark\" d=\"M107.95146330979313,187.37679603410083L149.20910948660304,128.2078564711455\" stroke=\"black\" stroke-width=\"1.5942028985507246\" opacity=\"0.461422708618331\"></path></g></g><path class=\"foreground\" aria-hidden=\"true\" d=\"\" display=\"none\"></path></g><g transform=\"translate(0,0)\"><path class=\"background\" aria-hidden=\"true\" d=\"M0,0h200v200h-200Z\"></path><g><g class=\"mark-line role-mark concat_0_concat_0_concat_1_layer_0_marks\" role=\"graphics-object\" aria-roledescription=\"line mark container\"><path aria-label=\"edges_x: 0.855660243169; edges_y: 0.0883624277613; ew: 0.04240766073871409; pe: [10, 3]\" role=\"graphics-symbol\" aria-roledescription=\"line mark\" d=\"M107.95146330979313,187.37679603410083L153.71710618397682,38.1879944450747\" stroke=\"black\" stroke-width=\"0.6086956521739131\" opacity=\"0.32120383036935707\"></path></g></g><path class=\"foreground\" aria-hidden=\"true\" d=\"\" display=\"none\"></path></g><g transform=\"translate(0,0)\"><path class=\"background\" aria-hidden=\"true\" d=\"M0,0h200v200h-200Z\"></path><g><g class=\"mark-line role-mark concat_0_concat_0_concat_1_layer_0_marks\" role=\"graphics-object\" aria-roledescription=\"line mark container\"><path aria-label=\"edges_x: 0.532193416838; edges_y: 0.935636408464; ew: 0.0013679890560875515; pe: [10, 4]\" role=\"graphics-symbol\" aria-roledescription=\"line mark\" d=\"M61.741916691113495,66.33765593372551L107.95146330979313,187.37679603410083\" stroke=\"black\" stroke-width=\"0.028985507246376812\" opacity=\"0.30068399452804373\"></path></g></g><path class=\"foreground\" aria-hidden=\"true\" d=\"\" display=\"none\"></path></g><g transform=\"translate(0,0)\"><path class=\"background\" aria-hidden=\"true\" d=\"M0,0h200v200h-200Z\"></path><g><g class=\"mark-line role-mark concat_0_concat_0_concat_1_layer_0_marks\" role=\"graphics-object\" aria-roledescription=\"line mark container\"><path aria-label=\"edges_x: 0.855660243169; edges_y: 0.0883624277613; ew: 0.12585499316005472; pe: [10, 5]\" role=\"graphics-symbol\" aria-roledescription=\"line mark\" d=\"M107.95146330979313,187.37679603410083L190.603675868229,33.22532928668005\" stroke=\"black\" stroke-width=\"1.1304347826086956\" opacity=\"0.3629274965800273\"></path></g></g><path class=\"foreground\" aria-hidden=\"true\" d=\"\" display=\"none\"></path></g><g transform=\"translate(0,0)\"><path class=\"background\" aria-hidden=\"true\" d=\"M0,0h200v200h-200Z\"></path><g><g class=\"mark-line role-mark concat_0_concat_0_concat_1_layer_0_marks\" role=\"graphics-object\" aria-roledescription=\"line mark container\"><path aria-label=\"edges_x: 0.650883286575; edges_y: 0.74501300889; ew: 0.005471956224350206; pe: [10, 6]\" role=\"graphics-symbol\" aria-roledescription=\"line mark\" d=\"M78.69761236789526,93.56957015857297L107.95146330979313,187.37679603410083\" stroke=\"black\" stroke-width=\"0.11594202898550725\" opacity=\"0.30273597811217506\"></path></g></g><path class=\"foreground\" aria-hidden=\"true\" d=\"\" display=\"none\"></path></g><g transform=\"translate(0,0)\"><path class=\"background\" aria-hidden=\"true\" d=\"M0,0h200v200h-200Z\"></path><g><g class=\"mark-line role-mark concat_0_concat_0_concat_1_layer_0_marks\" role=\"graphics-object\" aria-roledescription=\"line mark container\"><path aria-label=\"edges_x: 0.618443579396; edges_y: 1.31934849608; ew: 0.0013679890560875515; pe: [10, 7]\" role=\"graphics-symbol\" aria-roledescription=\"line mark\" d=\"M74.06336848508865,11.521643417649518L107.95146330979313,187.37679603410083\" stroke=\"black\" stroke-width=\"0.028985507246376812\" opacity=\"0.30068399452804373\"></path></g></g><path class=\"foreground\" aria-hidden=\"true\" d=\"\" display=\"none\"></path></g><g transform=\"translate(0,0)\"><path class=\"background\" aria-hidden=\"true\" d=\"M0,0h200v200h-200Z\"></path><g><g class=\"mark-line role-mark concat_0_concat_0_concat_1_layer_0_marks\" role=\"graphics-object\" aria-roledescription=\"line mark container\"><path aria-label=\"edges_x: 0.855660243169; edges_y: 0.0883624277613; ew: 0.6511627906976745; pe: [10, 8]\" role=\"graphics-symbol\" aria-roledescription=\"line mark\" d=\"M107.95146330979313,187.37679603410083L158.00874149700016,113.79095593150583\" stroke=\"black\" stroke-width=\"1.8840579710144927\" opacity=\"0.6255813953488373\"></path></g></g><path class=\"foreground\" aria-hidden=\"true\" d=\"\" display=\"none\"></path></g><g transform=\"translate(0,0)\"><path class=\"background\" aria-hidden=\"true\" d=\"M0,0h200v200h-200Z\"></path><g><g class=\"mark-line role-mark concat_0_concat_0_concat_1_layer_0_marks\" role=\"graphics-object\" aria-roledescription=\"line mark container\"><path aria-label=\"edges_x: 0.721856173205; edges_y: 1.30249610059; ew: 0.002735978112175103; pe: [10, 9]\" role=\"graphics-symbol\" aria-roledescription=\"line mark\" d=\"M88.83659617216387,13.929128486527853L107.95146330979313,187.37679603410083\" stroke=\"black\" stroke-width=\"0.057971014492753624\" opacity=\"0.3013679890560875\"></path></g></g><path class=\"foreground\" aria-hidden=\"true\" d=\"\" display=\"none\"></path></g><g transform=\"translate(0,0)\"><path class=\"background\" aria-hidden=\"true\" d=\"M0,0h200v200h-200Z\"></path><g><g class=\"mark-line role-mark concat_0_concat_0_concat_1_layer_0_marks\" role=\"graphics-object\" aria-roledescription=\"line mark container\"><path aria-label=\"edges_x: 0.855660243169; edges_y: 0.0883624277613; ew: 0.25718194254445964; pe: [10, 10]\" role=\"graphics-symbol\" aria-roledescription=\"line mark\" d=\"M107.95146330979313,187.37679603410083L145.1531329485203,61.50445326788771\" stroke=\"black\" stroke-width=\"1.4782608695652175\" opacity=\"0.4285909712722298\"></path></g></g><path class=\"foreground\" aria-hidden=\"true\" d=\"\" display=\"none\"></path></g></g><g class=\"mark-symbol role-mark concat_0_concat_0_concat_1_layer_1_marks\" role=\"graphics-object\" aria-roledescription=\"symbol mark container\"><path aria-label=\"x: 0.942177495486; y: 1.38723412909; size: 0.164634751814\" role=\"graphics-symbol\" aria-roledescription=\"circle\" transform=\"translate(120.31107078371059,1.8236958438736073)\" d=\"M9.5,0A9.5,9.5,0,1,1,-9.5,0A9.5,9.5,0,1,1,9.5,0\" fill=\"red\" stroke-width=\"2\" opacity=\"1\"></path><path aria-label=\"x: 1.14446376641; y: 0.502545004702; size: 0.0712875164786\" role=\"graphics-symbol\" aria-roledescription=\"circle\" transform=\"translate(149.20910948660304,128.2078564711455)\" d=\"M6.251289203307511,0A6.251289203307511,6.251289203307511,0,1,1,-6.251289203307511,0A6.251289203307511,6.251289203307511,0,1,1,6.251289203307511,0\" fill=\"red\" stroke-width=\"2\" opacity=\"1\"></path><path aria-label=\"x: 1.17601974329; y: 1.13268403888; size: 0.0384602806248\" role=\"graphics-symbol\" aria-roledescription=\"circle\" transform=\"translate(153.71710618397682,38.1879944450747)\" d=\"M4.591653135735218,0A4.591653135735218,4.591653135735218,0,1,1,-4.591653135735218,0A4.591653135735218,4.591653135735218,0,1,1,4.591653135735218,0\" fill=\"red\" stroke-width=\"2\" opacity=\"1\"></path><path aria-label=\"x: 0.532193416838; y: 0.935636408464; size: 0.0445292985587\" role=\"graphics-symbol\" aria-roledescription=\"circle\" transform=\"translate(61.741916691113495,66.33765593372551)\" d=\"M4.9406691857989475,0A4.9406691857989475,4.9406691857989475,0,1,1,-4.9406691857989475,0A4.9406691857989475,4.9406691857989475,0,1,1,4.9406691857989475,0\" fill=\"red\" stroke-width=\"2\" opacity=\"1\"></path><path aria-label=\"x: 1.43422573108; y: 1.16742269499; size: 0.104166140719\" role=\"graphics-symbol\" aria-roledescription=\"circle\" transform=\"translate(190.603675868229,33.22532928668005)\" d=\"M7.556594810932531,0A7.556594810932531,7.556594810932531,0,1,1,-7.556594810932531,0A7.556594810932531,7.556594810932531,0,1,1,7.556594810932531,0\" fill=\"red\" stroke-width=\"2\" opacity=\"1\"></path><path aria-label=\"x: 0.650883286575; y: 0.74501300889; size: 0.0695559700802\" role=\"graphics-symbol\" aria-roledescription=\"circle\" transform=\"translate(78.69761236789526,93.56957015857297)\" d=\"M6.174901789597849,0A6.174901789597849,6.174901789597849,0,1,1,-6.174901789597849,0A6.174901789597849,6.174901789597849,0,1,1,6.174901789597849,0\" fill=\"red\" stroke-width=\"2\" opacity=\"1\"></path><path aria-label=\"x: 0.618443579396; y: 1.31934849608; size: 0.140701220884\" role=\"graphics-symbol\" aria-roledescription=\"circle\" transform=\"translate(74.06336848508865,11.521643417649518)\" d=\"M8.782371044646123,0A8.782371044646123,8.782371044646123,0,1,1,-8.782371044646123,0A8.782371044646123,8.782371044646123,0,1,1,8.782371044646123,0\" fill=\"red\" stroke-width=\"2\" opacity=\"1\"></path><path aria-label=\"x: 1.20606119048; y: 0.603463308479; size: 0.119225562197\" role=\"graphics-symbol\" aria-roledescription=\"circle\" transform=\"translate(158.00874149700016,113.79095593150583)\" d=\"M8.08439524812174,0A8.08439524812174,8.08439524812174,0,1,1,-8.08439524812174,0A8.08439524812174,8.08439524812174,0,1,1,8.08439524812174,0\" fill=\"red\" stroke-width=\"2\" opacity=\"1\"></path><path aria-label=\"x: 0.721856173205; y: 1.30249610059; size: 0.103851441032\" role=\"graphics-symbol\" aria-roledescription=\"circle\" transform=\"translate(88.83659617216387,13.929128486527853)\" d=\"M7.545171440386934,0A7.545171440386934,7.545171440386934,0,1,1,-7.545171440386934,0A7.545171440386934,7.545171440386934,0,1,1,7.545171440386934,0\" fill=\"red\" stroke-width=\"2\" opacity=\"1\"></path><path aria-label=\"x: 1.11607193064; y: 0.969468827125; size: 0.143587817612\" role=\"graphics-symbol\" aria-roledescription=\"circle\" transform=\"translate(145.1531329485203,61.50445326788771)\" d=\"M8.872002305470222,0A8.872002305470222,8.872002305470222,0,1,1,-8.872002305470222,0A8.872002305470222,8.872002305470222,0,1,1,8.872002305470222,0\" fill=\"red\" stroke-width=\"2\" opacity=\"1\"></path></g><g class=\"mark-symbol role-mark concat_0_concat_0_concat_1_layer_2_marks\" role=\"graphics-object\" aria-roledescription=\"symbol mark container\"><path aria-label=\"x: 0.469344301481; y: 0.268441730392; size: 0.0575746813958\" role=\"graphics-symbol\" aria-roledescription=\"circle\" transform=\"translate(52.76347164009204,161.6511813725123)\" d=\"M4.830507068211761,0A4.830507068211761,4.830507068211761,0,1,1,-4.830507068211761,0A4.830507068211761,4.830507068211761,0,1,1,4.830507068211761,0\" fill=\"#4c78a8\" stroke-width=\"2\" opacity=\"1\"></path><path aria-label=\"x: 0.231871083902; y: 0.0635294670821; size: 0.0858404204563\" role=\"graphics-symbol\" aria-roledescription=\"circle\" transform=\"translate(18.838726271738896,190.9243618454186)\" d=\"M5.898245816475333,0A5.898245816475333,5.898245816475333,0,1,1,-5.898245816475333,0A5.898245816475333,5.898245816475333,0,1,1,5.898245816475333,0\" fill=\"#4c78a8\" stroke-width=\"2\" opacity=\"1\"></path><path aria-label=\"x: 0.506517095705; y: 0.44817218029; size: 0.222686202932\" role=\"graphics-symbol\" aria-roledescription=\"circle\" transform=\"translate(58.07387081502732,135.97540281571327)\" d=\"M9.5,0A9.5,9.5,0,1,1,-9.5,0A9.5,9.5,0,1,1,9.5,0\" fill=\"#4c78a8\" stroke-width=\"2\" opacity=\"1\"></path><path aria-label=\"x: 0.46170452839; y: 0.123550838093; size: 0.19901647222\" role=\"graphics-symbol\" aria-roledescription=\"circle\" transform=\"translate(51.67207548430305,182.34988027245203)\" d=\"M8.980933115917066,0A8.980933115917066,8.980933115917066,0,1,1,-8.980933115917066,0A8.980933115917066,8.980933115917066,0,1,1,8.980933115917066,0\" fill=\"#4c78a8\" stroke-width=\"2\" opacity=\"1\"></path><path aria-label=\"x: 0.389310090336; y: 0.066350751231; size: 0.00934656570726\" role=\"graphics-symbol\" aria-roledescription=\"circle\" transform=\"translate(41.33001290516612,190.52132125271194)\" d=\"M1.9462695228676334,0A1.9462695228676334,1.9462695228676334,0,1,1,-1.9462695228676334,0A1.9462695228676334,1.9462695228676334,0,1,1,1.9462695228676334,0\" fill=\"#4c78a8\" stroke-width=\"2\" opacity=\"1\"></path><path aria-label=\"x: 0.699330260661; y: 0.226552362676; size: 0.0845813630975\" role=\"graphics-symbol\" aria-roledescription=\"circle\" transform=\"translate(85.61860866591833,167.6353767605977)\" d=\"M5.854830009462446,0A5.854830009462446,5.854830009462446,0,1,1,-5.854830009462446,0A5.854830009462446,5.854830009462446,0,1,1,5.854830009462446,0\" fill=\"#4c78a8\" stroke-width=\"2\" opacity=\"1\"></path><path aria-label=\"x: 0.167096821437; y: 0.469605886451; size: 0.0552313082209\" role=\"graphics-symbol\" aria-roledescription=\"circle\" transform=\"translate(9.58526020524795,132.91344479278442)\" d=\"M4.731181568833097,0A4.731181568833097,4.731181568833097,0,1,1,-4.731181568833097,0A4.731181568833097,4.731181568833097,0,1,1,4.731181568833097,0\" fill=\"#4c78a8\" stroke-width=\"2\" opacity=\"1\"></path><path aria-label=\"x: 0.718138705124; y: 0.660193348408; size: 0.0504322485606\" role=\"graphics-symbol\" aria-roledescription=\"circle\" transform=\"translate(88.30552930340369,105.68666451318907)\" d=\"M4.520964701755543,0A4.520964701755543,4.520964701755543,0,1,1,-4.520964701755543,0A4.520964701755543,4.520964701755543,0,1,1,4.520964701755543,0\" fill=\"#4c78a8\" stroke-width=\"2\" opacity=\"1\"></path><path aria-label=\"x: 0.930997049281; y: 0.568160487043; size: 0.13126058864\" role=\"graphics-symbol\" aria-roledescription=\"circle\" transform=\"translate(118.71386418293007,118.83421613667373)\" d=\"M7.293636648486774,0A7.293636648486774,7.293636648486774,0,1,1,-7.293636648486774,0A7.293636648486774,7.293636648486774,0,1,1,7.293636648486774,0\" fill=\"#4c78a8\" stroke-width=\"2\" opacity=\"1\"></path><path aria-label=\"x: 0.855660243169; y: 0.0883624277613; size: 0.10403014877\" role=\"graphics-symbol\" aria-roledescription=\"circle\" transform=\"translate(107.95146330979313,187.37679603410083)\" d=\"M6.493166809154637,0A6.493166809154637,6.493166809154637,0,1,1,-6.493166809154637,0A6.493166809154637,6.493166809154637,0,1,1,6.493166809154637,0\" fill=\"#4c78a8\" stroke-width=\"2\" opacity=\"1\"></path></g><g class=\"mark-group role-title\"><g transform=\"translate(100,-24.676304156126392)\"><path class=\"background\" aria-hidden=\"true\" d=\"M0,0h0v0h0Z\" pointer-events=\"none\"></path><g><g class=\"mark-text role-title-text\" role=\"graphics-symbol\" aria-roledescription=\"title\" aria-label=\"Title text 'ϵ = 0.1'\" pointer-events=\"none\"><text text-anchor=\"middle\" transform=\"translate(0,10)\" font-family=\"sans-serif\" font-size=\"13px\" font-weight=\"bold\" fill=\"#000\" opacity=\"1\">ϵ = 0.1</text></g></g><path class=\"foreground\" aria-hidden=\"true\" d=\"\" pointer-events=\"none\" display=\"none\"></path></g></g></g><path class=\"foreground\" aria-hidden=\"true\" d=\"\" display=\"none\"></path></g></g></g><path class=\"foreground\" aria-hidden=\"true\" d=\"\" display=\"none\"></path></g></g><g class=\"mark-group role-scope concat_0_concat_1_group\" role=\"graphics-object\" aria-roledescription=\"group mark container\"><g transform=\"translate(660,0)\"><path class=\"background\" aria-hidden=\"true\" d=\"M0,0h200v200h-200Z\"></path><g><g class=\"mark-group role-scope concat_0_concat_1_layer_0_pathgroup\" role=\"graphics-object\" aria-roledescription=\"group mark container\"><g transform=\"translate(0,0)\"><path class=\"background\" aria-hidden=\"true\" d=\"M0,0h200v200h-200Z\"></path><g><g class=\"mark-line role-mark concat_0_concat_1_layer_0_marks\" role=\"graphics-object\" aria-roledescription=\"line mark container\"><path aria-label=\"edges_x: 0.469344301481; edges_y: 0.268441730392; ew: 0.23019801980198018; pe: [1, 1]\" role=\"graphics-symbol\" aria-roledescription=\"line mark\" d=\"M52.76347164009204,161.6511813725123L120.31107078371059,1.8236958438736073\" stroke=\"black\" stroke-width=\"1.0555555555555556\" opacity=\"0.4150990099009901\"></path></g></g><path class=\"foreground\" aria-hidden=\"true\" d=\"\" display=\"none\"></path></g><g transform=\"translate(0,0)\"><path class=\"background\" aria-hidden=\"true\" d=\"M0,0h200v200h-200Z\"></path><g><g class=\"mark-line role-mark concat_0_concat_1_layer_0_marks\" role=\"graphics-object\" aria-roledescription=\"line mark container\"><path aria-label=\"edges_x: 0.469344301481; edges_y: 0.268441730392; ew: 0.10148514851485149; pe: [1, 2]\" role=\"graphics-symbol\" aria-roledescription=\"line mark\" d=\"M52.76347164009204,161.6511813725123L149.20910948660304,128.2078564711455\" stroke=\"black\" stroke-width=\"0.41666666666666663\" opacity=\"0.3507425742574258\"></path></g></g><path class=\"foreground\" aria-hidden=\"true\" d=\"\" display=\"none\"></path></g><g transform=\"translate(0,0)\"><path class=\"background\" aria-hidden=\"true\" d=\"M0,0h200v200h-200Z\"></path><g><g class=\"mark-line role-mark concat_0_concat_1_layer_0_marks\" role=\"graphics-object\" aria-roledescription=\"line mark container\"><path aria-label=\"edges_x: 0.469344301481; edges_y: 0.268441730392; ew: 0.05198019801980198; pe: [1, 3]\" role=\"graphics-symbol\" aria-roledescription=\"line mark\" d=\"M52.76347164009204,161.6511813725123L153.71710618397682,38.1879944450747\" stroke=\"black\" stroke-width=\"0.16666666666666666\" opacity=\"0.32599009900990095\"></path></g></g><path class=\"foreground\" aria-hidden=\"true\" d=\"\" display=\"none\"></path></g><g transform=\"translate(0,0)\"><path class=\"background\" aria-hidden=\"true\" d=\"M0,0h200v200h-200Z\"></path><g><g class=\"mark-line role-mark concat_0_concat_1_layer_0_marks\" role=\"graphics-object\" aria-roledescription=\"line mark container\"><path aria-label=\"edges_x: 0.469344301481; edges_y: 0.268441730392; ew: 0.06930693069306931; pe: [1, 4]\" role=\"graphics-symbol\" aria-roledescription=\"line mark\" d=\"M52.76347164009204,161.6511813725123L61.741916691113495,66.33765593372551\" stroke=\"black\" stroke-width=\"0.2777777777777778\" opacity=\"0.3346534653465346\"></path></g></g><path class=\"foreground\" aria-hidden=\"true\" d=\"\" display=\"none\"></path></g><g transform=\"translate(0,0)\"><path class=\"background\" aria-hidden=\"true\" d=\"M0,0h200v200h-200Z\"></path><g><g class=\"mark-line role-mark concat_0_concat_1_layer_0_marks\" role=\"graphics-object\" aria-roledescription=\"line mark container\"><path aria-label=\"edges_x: 0.469344301481; edges_y: 0.268441730392; ew: 0.1311881188118812; pe: [1, 5]\" role=\"graphics-symbol\" aria-roledescription=\"line mark\" d=\"M52.76347164009204,161.6511813725123L190.603675868229,33.22532928668005\" stroke=\"black\" stroke-width=\"0.5277777777777778\" opacity=\"0.3655940594059406\"></path></g></g><path class=\"foreground\" aria-hidden=\"true\" d=\"\" display=\"none\"></path></g><g transform=\"translate(0,0)\"><path class=\"background\" aria-hidden=\"true\" d=\"M0,0h200v200h-200Z\"></path><g><g class=\"mark-line role-mark concat_0_concat_1_layer_0_marks\" role=\"graphics-object\" aria-roledescription=\"line mark container\"><path aria-label=\"edges_x: 0.469344301481; edges_y: 0.268441730392; ew: 0.10643564356435643; pe: [1, 6]\" role=\"graphics-symbol\" aria-roledescription=\"line mark\" d=\"M52.76347164009204,161.6511813725123L78.69761236789526,93.56957015857297\" stroke=\"black\" stroke-width=\"0.4444444444444444\" opacity=\"0.35321782178217825\"></path></g></g><path class=\"foreground\" aria-hidden=\"true\" d=\"\" display=\"none\"></path></g><g transform=\"translate(0,0)\"><path class=\"background\" aria-hidden=\"true\" d=\"M0,0h200v200h-200Z\"></path><g><g class=\"mark-line role-mark concat_0_concat_1_layer_0_marks\" role=\"graphics-object\" aria-roledescription=\"line mark container\"><path aria-label=\"edges_x: 0.469344301481; edges_y: 0.268441730392; ew: 0.21039603960396042; pe: [1, 7]\" role=\"graphics-symbol\" aria-roledescription=\"line mark\" d=\"M52.76347164009204,161.6511813725123L74.06336848508865,11.521643417649518\" stroke=\"black\" stroke-width=\"1\" opacity=\"0.4051980198019802\"></path></g></g><path class=\"foreground\" aria-hidden=\"true\" d=\"\" display=\"none\"></path></g><g transform=\"translate(0,0)\"><path class=\"background\" aria-hidden=\"true\" d=\"M0,0h200v200h-200Z\"></path><g><g class=\"mark-line role-mark concat_0_concat_1_layer_0_marks\" role=\"graphics-object\" aria-roledescription=\"line mark container\"><path aria-label=\"edges_x: 0.469344301481; edges_y: 0.268441730392; ew: 0.16584158415841585; pe: [1, 8]\" role=\"graphics-symbol\" aria-roledescription=\"line mark\" d=\"M52.76347164009204,161.6511813725123L158.00874149700016,113.79095593150583\" stroke=\"black\" stroke-width=\"0.6944444444444444\" opacity=\"0.38292079207920793\"></path></g></g><path class=\"foreground\" aria-hidden=\"true\" d=\"\" display=\"none\"></path></g><g transform=\"translate(0,0)\"><path class=\"background\" aria-hidden=\"true\" d=\"M0,0h200v200h-200Z\"></path><g><g class=\"mark-line role-mark concat_0_concat_1_layer_0_marks\" role=\"graphics-object\" aria-roledescription=\"line mark container\"><path aria-label=\"edges_x: 0.469344301481; edges_y: 0.268441730392; ew: 0.15346534653465346; pe: [1, 9]\" role=\"graphics-symbol\" aria-roledescription=\"line mark\" d=\"M52.76347164009204,161.6511813725123L88.83659617216387,13.929128486527853\" stroke=\"black\" stroke-width=\"0.6388888888888888\" opacity=\"0.37673267326732673\"></path></g></g><path class=\"foreground\" aria-hidden=\"true\" d=\"\" display=\"none\"></path></g><g transform=\"translate(0,0)\"><path class=\"background\" aria-hidden=\"true\" d=\"M0,0h200v200h-200Z\"></path><g><g class=\"mark-line role-mark concat_0_concat_1_layer_0_marks\" role=\"graphics-object\" aria-roledescription=\"line mark container\"><path aria-label=\"edges_x: 0.469344301481; edges_y: 0.268441730392; ew: 0.20297029702970298; pe: [1, 10]\" role=\"graphics-symbol\" aria-roledescription=\"line mark\" d=\"M52.76347164009204,161.6511813725123L145.1531329485203,61.50445326788771\" stroke=\"black\" stroke-width=\"0.9166666666666666\" opacity=\"0.4014851485148515\"></path></g></g><path class=\"foreground\" aria-hidden=\"true\" d=\"\" display=\"none\"></path></g><g transform=\"translate(0,0)\"><path class=\"background\" aria-hidden=\"true\" d=\"M0,0h200v200h-200Z\"></path><g><g class=\"mark-line role-mark concat_0_concat_1_layer_0_marks\" role=\"graphics-object\" aria-roledescription=\"line mark container\"><path aria-label=\"edges_x: 0.231871083902; edges_y: 0.0635294670821; ew: 0.29702970297029707; pe: [2, 1]\" role=\"graphics-symbol\" aria-roledescription=\"line mark\" d=\"M18.838726271738896,190.9243618454186L120.31107078371059,1.8236958438736073\" stroke=\"black\" stroke-width=\"1.3055555555555556\" opacity=\"0.4485148514851486\"></path></g></g><path class=\"foreground\" aria-hidden=\"true\" d=\"\" display=\"none\"></path></g><g transform=\"translate(0,0)\"><path class=\"background\" aria-hidden=\"true\" d=\"M0,0h200v200h-200Z\"></path><g><g class=\"mark-line role-mark concat_0_concat_1_layer_0_marks\" role=\"graphics-object\" aria-roledescription=\"line mark container\"><path aria-label=\"edges_x: 0.231871083902; edges_y: 0.0635294670821; ew: 0.1707920792079208; pe: [2, 2]\" role=\"graphics-symbol\" aria-roledescription=\"line mark\" d=\"M18.838726271738896,190.9243618454186L149.20910948660304,128.2078564711455\" stroke=\"black\" stroke-width=\"0.75\" opacity=\"0.3853960396039604\"></path></g></g><path class=\"foreground\" aria-hidden=\"true\" d=\"\" display=\"none\"></path></g><g transform=\"translate(0,0)\"><path class=\"background\" aria-hidden=\"true\" d=\"M0,0h200v200h-200Z\"></path><g><g class=\"mark-line role-mark concat_0_concat_1_layer_0_marks\" role=\"graphics-object\" aria-roledescription=\"line mark container\"><path aria-label=\"edges_x: 0.231871083902; edges_y: 0.0635294670821; ew: 0.06683168316831684; pe: [2, 3]\" role=\"graphics-symbol\" aria-roledescription=\"line mark\" d=\"M18.838726271738896,190.9243618454186L153.71710618397682,38.1879944450747\" stroke=\"black\" stroke-width=\"0.25\" opacity=\"0.3334158415841584\"></path></g></g><path class=\"foreground\" aria-hidden=\"true\" d=\"\" display=\"none\"></path></g><g transform=\"translate(0,0)\"><path class=\"background\" aria-hidden=\"true\" d=\"M0,0h200v200h-200Z\"></path><g><g class=\"mark-line role-mark concat_0_concat_1_layer_0_marks\" role=\"graphics-object\" aria-roledescription=\"line mark container\"><path aria-label=\"edges_x: 0.231871083902; edges_y: 0.0635294670821; ew: 0.1311881188118812; pe: [2, 4]\" role=\"graphics-symbol\" aria-roledescription=\"line mark\" d=\"M18.838726271738896,190.9243618454186L61.741916691113495,66.33765593372551\" stroke=\"black\" stroke-width=\"0.5277777777777778\" opacity=\"0.3655940594059406\"></path></g></g><path class=\"foreground\" aria-hidden=\"true\" d=\"\" display=\"none\"></path></g><g transform=\"translate(0,0)\"><path class=\"background\" aria-hidden=\"true\" d=\"M0,0h200v200h-200Z\"></path><g><g class=\"mark-line role-mark concat_0_concat_1_layer_0_marks\" role=\"graphics-object\" aria-roledescription=\"line mark container\"><path aria-label=\"edges_x: 0.231871083902; edges_y: 0.0635294670821; ew: 0.14851485148514854; pe: [2, 5]\" role=\"graphics-symbol\" aria-roledescription=\"line mark\" d=\"M18.838726271738896,190.9243618454186L190.603675868229,33.22532928668005\" stroke=\"black\" stroke-width=\"0.611111111111111\" opacity=\"0.37425742574257426\"></path></g></g><path class=\"foreground\" aria-hidden=\"true\" d=\"\" display=\"none\"></path></g><g transform=\"translate(0,0)\"><path class=\"background\" aria-hidden=\"true\" d=\"M0,0h200v200h-200Z\"></path><g><g class=\"mark-line role-mark concat_0_concat_1_layer_0_marks\" role=\"graphics-object\" aria-roledescription=\"line mark container\"><path aria-label=\"edges_x: 0.231871083902; edges_y: 0.0635294670821; ew: 0.2079207920792079; pe: [2, 6]\" role=\"graphics-symbol\" aria-roledescription=\"line mark\" d=\"M18.838726271738896,190.9243618454186L78.69761236789526,93.56957015857297\" stroke=\"black\" stroke-width=\"0.9722222222222222\" opacity=\"0.403960396039604\"></path></g></g><path class=\"foreground\" aria-hidden=\"true\" d=\"\" display=\"none\"></path></g><g transform=\"translate(0,0)\"><path class=\"background\" aria-hidden=\"true\" d=\"M0,0h200v200h-200Z\"></path><g><g class=\"mark-line role-mark concat_0_concat_1_layer_0_marks\" role=\"graphics-object\" aria-roledescription=\"line mark container\"><path aria-label=\"edges_x: 0.231871083902; edges_y: 0.0635294670821; ew: 0.32673267326732675; pe: [2, 7]\" role=\"graphics-symbol\" aria-roledescription=\"line mark\" d=\"M18.838726271738896,190.9243618454186L74.06336848508865,11.521643417649518\" stroke=\"black\" stroke-width=\"1.4166666666666665\" opacity=\"0.46336633663366333\"></path></g></g><path class=\"foreground\" aria-hidden=\"true\" d=\"\" display=\"none\"></path></g><g transform=\"translate(0,0)\"><path class=\"background\" aria-hidden=\"true\" d=\"M0,0h200v200h-200Z\"></path><g><g class=\"mark-line role-mark concat_0_concat_1_layer_0_marks\" role=\"graphics-object\" aria-roledescription=\"line mark container\"><path aria-label=\"edges_x: 0.231871083902; edges_y: 0.0635294670821; ew: 0.2623762376237624; pe: [2, 8]\" role=\"graphics-symbol\" aria-roledescription=\"line mark\" d=\"M18.838726271738896,190.9243618454186L158.00874149700016,113.79095593150583\" stroke=\"black\" stroke-width=\"1.222222222222222\" opacity=\"0.43118811881188124\"></path></g></g><path class=\"foreground\" aria-hidden=\"true\" d=\"\" display=\"none\"></path></g><g transform=\"translate(0,0)\"><path class=\"background\" aria-hidden=\"true\" d=\"M0,0h200v200h-200Z\"></path><g><g class=\"mark-line role-mark concat_0_concat_1_layer_0_marks\" role=\"graphics-object\" aria-roledescription=\"line mark container\"><path aria-label=\"edges_x: 0.231871083902; edges_y: 0.0635294670821; ew: 0.22772277227722773; pe: [2, 9]\" role=\"graphics-symbol\" aria-roledescription=\"line mark\" d=\"M18.838726271738896,190.9243618454186L88.83659617216387,13.929128486527853\" stroke=\"black\" stroke-width=\"1.0277777777777777\" opacity=\"0.4138613861386139\"></path></g></g><path class=\"foreground\" aria-hidden=\"true\" d=\"\" display=\"none\"></path></g><g transform=\"translate(0,0)\"><path class=\"background\" aria-hidden=\"true\" d=\"M0,0h200v200h-200Z\"></path><g><g class=\"mark-line role-mark concat_0_concat_1_layer_0_marks\" role=\"graphics-object\" aria-roledescription=\"line mark container\"><path aria-label=\"edges_x: 0.231871083902; edges_y: 0.0635294670821; ew: 0.2846534653465347; pe: [2, 10]\" role=\"graphics-symbol\" aria-roledescription=\"line mark\" d=\"M18.838726271738896,190.9243618454186L145.1531329485203,61.50445326788771\" stroke=\"black\" stroke-width=\"1.2777777777777777\" opacity=\"0.4423267326732674\"></path></g></g><path class=\"foreground\" aria-hidden=\"true\" d=\"\" display=\"none\"></path></g><g transform=\"translate(0,0)\"><path class=\"background\" aria-hidden=\"true\" d=\"M0,0h200v200h-200Z\"></path><g><g class=\"mark-line role-mark concat_0_concat_1_layer_0_marks\" role=\"graphics-object\" aria-roledescription=\"line mark container\"><path aria-label=\"edges_x: 0.506517095705; edges_y: 0.44817218029; ew: 1; pe: [3, 1]\" role=\"graphics-symbol\" aria-roledescription=\"line mark\" d=\"M58.07387081502732,135.97540281571327L120.31107078371059,1.8236958438736073\" stroke=\"black\" stroke-width=\"2\" opacity=\"0.8\"></path></g></g><path class=\"foreground\" aria-hidden=\"true\" d=\"\" display=\"none\"></path></g><g transform=\"translate(0,0)\"><path class=\"background\" aria-hidden=\"true\" d=\"M0,0h200v200h-200Z\"></path><g><g class=\"mark-line role-mark concat_0_concat_1_layer_0_marks\" role=\"graphics-object\" aria-roledescription=\"line mark container\"><path aria-label=\"edges_x: 0.506517095705; edges_y: 0.44817218029; ew: 0.32425742574257427; pe: [3, 2]\" role=\"graphics-symbol\" aria-roledescription=\"line mark\" d=\"M58.07387081502732,135.97540281571327L149.20910948660304,128.2078564711455\" stroke=\"black\" stroke-width=\"1.3888888888888888\" opacity=\"0.4621287128712871\"></path></g></g><path class=\"foreground\" aria-hidden=\"true\" d=\"\" display=\"none\"></path></g><g transform=\"translate(0,0)\"><path class=\"background\" aria-hidden=\"true\" d=\"M0,0h200v200h-200Z\"></path><g><g class=\"mark-line role-mark concat_0_concat_1_layer_0_marks\" role=\"graphics-object\" aria-roledescription=\"line mark container\"><path aria-label=\"edges_x: 0.506517095705; edges_y: 0.44817218029; ew: 0.21039603960396042; pe: [3, 3]\" role=\"graphics-symbol\" aria-roledescription=\"line mark\" d=\"M58.07387081502732,135.97540281571327L153.71710618397682,38.1879944450747\" stroke=\"black\" stroke-width=\"1\" opacity=\"0.4051980198019802\"></path></g></g><path class=\"foreground\" aria-hidden=\"true\" d=\"\" display=\"none\"></path></g><g transform=\"translate(0,0)\"><path class=\"background\" aria-hidden=\"true\" d=\"M0,0h200v200h-200Z\"></path><g><g class=\"mark-line role-mark concat_0_concat_1_layer_0_marks\" role=\"graphics-object\" aria-roledescription=\"line mark container\"><path aria-label=\"edges_x: 0.506517095705; edges_y: 0.44817218029; ew: 0.24752475247524755; pe: [3, 4]\" role=\"graphics-symbol\" aria-roledescription=\"line mark\" d=\"M58.07387081502732,135.97540281571327L61.741916691113495,66.33765593372551\" stroke=\"black\" stroke-width=\"1.1111111111111112\" opacity=\"0.4237623762376238\"></path></g></g><path class=\"foreground\" aria-hidden=\"true\" d=\"\" display=\"none\"></path></g><g transform=\"translate(0,0)\"><path class=\"background\" aria-hidden=\"true\" d=\"M0,0h200v200h-200Z\"></path><g><g class=\"mark-line role-mark concat_0_concat_1_layer_0_marks\" role=\"graphics-object\" aria-roledescription=\"line mark container\"><path aria-label=\"edges_x: 0.506517095705; edges_y: 0.44817218029; ew: 0.5470297029702971; pe: [3, 5]\" role=\"graphics-symbol\" aria-roledescription=\"line mark\" d=\"M58.07387081502732,135.97540281571327L190.603675868229,33.22532928668005\" stroke=\"black\" stroke-width=\"1.722222222222222\" opacity=\"0.5735148514851486\"></path></g></g><path class=\"foreground\" aria-hidden=\"true\" d=\"\" display=\"none\"></path></g><g transform=\"translate(0,0)\"><path class=\"background\" aria-hidden=\"true\" d=\"M0,0h200v200h-200Z\"></path><g><g class=\"mark-line role-mark concat_0_concat_1_layer_0_marks\" role=\"graphics-object\" aria-roledescription=\"line mark container\"><path aria-label=\"edges_x: 0.506517095705; edges_y: 0.44817218029; ew: 0.36138613861386143; pe: [3, 6]\" role=\"graphics-symbol\" aria-roledescription=\"line mark\" d=\"M58.07387081502732,135.97540281571327L78.69761236789526,93.56957015857297\" stroke=\"black\" stroke-width=\"1.472222222222222\" opacity=\"0.4806930693069307\"></path></g></g><path class=\"foreground\" aria-hidden=\"true\" d=\"\" display=\"none\"></path></g><g transform=\"translate(0,0)\"><path class=\"background\" aria-hidden=\"true\" d=\"M0,0h200v200h-200Z\"></path><g><g class=\"mark-line role-mark concat_0_concat_1_layer_0_marks\" role=\"graphics-object\" aria-roledescription=\"line mark container\"><path aria-label=\"edges_x: 0.506517095705; edges_y: 0.44817218029; ew: 0.8688118811881188; pe: [3, 7]\" role=\"graphics-symbol\" aria-roledescription=\"line mark\" d=\"M58.07387081502732,135.97540281571327L74.06336848508865,11.521643417649518\" stroke=\"black\" stroke-width=\"1.972222222222222\" opacity=\"0.7344059405940595\"></path></g></g><path class=\"foreground\" aria-hidden=\"true\" d=\"\" display=\"none\"></path></g><g transform=\"translate(0,0)\"><path class=\"background\" aria-hidden=\"true\" d=\"M0,0h200v200h-200Z\"></path><g><g class=\"mark-line role-mark concat_0_concat_1_layer_0_marks\" role=\"graphics-object\" aria-roledescription=\"line mark container\"><path aria-label=\"edges_x: 0.506517095705; edges_y: 0.44817218029; ew: 0.556930693069307; pe: [3, 8]\" role=\"graphics-symbol\" aria-roledescription=\"line mark\" d=\"M58.07387081502732,135.97540281571327L158.00874149700016,113.79095593150583\" stroke=\"black\" stroke-width=\"1.75\" opacity=\"0.5784653465346535\"></path></g></g><path class=\"foreground\" aria-hidden=\"true\" d=\"\" display=\"none\"></path></g><g transform=\"translate(0,0)\"><path class=\"background\" aria-hidden=\"true\" d=\"M0,0h200v200h-200Z\"></path><g><g class=\"mark-line role-mark concat_0_concat_1_layer_0_marks\" role=\"graphics-object\" aria-roledescription=\"line mark container\"><path aria-label=\"edges_x: 0.506517095705; edges_y: 0.44817218029; ew: 0.6336633663366337; pe: [3, 9]\" role=\"graphics-symbol\" aria-roledescription=\"line mark\" d=\"M58.07387081502732,135.97540281571327L88.83659617216387,13.929128486527853\" stroke=\"black\" stroke-width=\"1.8055555555555554\" opacity=\"0.6168316831683168\"></path></g></g><path class=\"foreground\" aria-hidden=\"true\" d=\"\" display=\"none\"></path></g><g transform=\"translate(0,0)\"><path class=\"background\" aria-hidden=\"true\" d=\"M0,0h200v200h-200Z\"></path><g><g class=\"mark-line role-mark concat_0_concat_1_layer_0_marks\" role=\"graphics-object\" aria-roledescription=\"line mark container\"><path aria-label=\"edges_x: 0.506517095705; edges_y: 0.44817218029; ew: 0.7623762376237624; pe: [3, 10]\" role=\"graphics-symbol\" aria-roledescription=\"line mark\" d=\"M58.07387081502732,135.97540281571327L145.1531329485203,61.50445326788771\" stroke=\"black\" stroke-width=\"1.9444444444444444\" opacity=\"0.6811881188118812\"></path></g></g><path class=\"foreground\" aria-hidden=\"true\" d=\"\" display=\"none\"></path></g><g transform=\"translate(0,0)\"><path class=\"background\" aria-hidden=\"true\" d=\"M0,0h200v200h-200Z\"></path><g><g class=\"mark-line role-mark concat_0_concat_1_layer_0_marks\" role=\"graphics-object\" aria-roledescription=\"line mark container\"><path aria-label=\"edges_x: 0.46170452839; edges_y: 0.123550838093; ew: 0.7202970297029704; pe: [4, 1]\" role=\"graphics-symbol\" aria-roledescription=\"line mark\" d=\"M51.67207548430305,182.34988027245203L120.31107078371059,1.8236958438736073\" stroke=\"black\" stroke-width=\"1.9166666666666665\" opacity=\"0.6601485148514852\"></path></g></g><path class=\"foreground\" aria-hidden=\"true\" d=\"\" display=\"none\"></path></g><g transform=\"translate(0,0)\"><path class=\"background\" aria-hidden=\"true\" d=\"M0,0h200v200h-200Z\"></path><g><g class=\"mark-line role-mark concat_0_concat_1_layer_0_marks\" role=\"graphics-object\" aria-roledescription=\"line mark container\"><path aria-label=\"edges_x: 0.46170452839; edges_y: 0.123550838093; ew: 0.40841584158415845; pe: [4, 2]\" role=\"graphics-symbol\" aria-roledescription=\"line mark\" d=\"M51.67207548430305,182.34988027245203L149.20910948660304,128.2078564711455\" stroke=\"black\" stroke-width=\"1.5555555555555554\" opacity=\"0.5042079207920793\"></path></g></g><path class=\"foreground\" aria-hidden=\"true\" d=\"\" display=\"none\"></path></g><g transform=\"translate(0,0)\"><path class=\"background\" aria-hidden=\"true\" d=\"M0,0h200v200h-200Z\"></path><g><g class=\"mark-line role-mark concat_0_concat_1_layer_0_marks\" role=\"graphics-object\" aria-roledescription=\"line mark container\"><path aria-label=\"edges_x: 0.46170452839; edges_y: 0.123550838093; ew: 0.17574257425742576; pe: [4, 3]\" role=\"graphics-symbol\" aria-roledescription=\"line mark\" d=\"M51.67207548430305,182.34988027245203L153.71710618397682,38.1879944450747\" stroke=\"black\" stroke-width=\"0.7777777777777777\" opacity=\"0.3878712871287129\"></path></g></g><path class=\"foreground\" aria-hidden=\"true\" d=\"\" display=\"none\"></path></g><g transform=\"translate(0,0)\"><path class=\"background\" aria-hidden=\"true\" d=\"M0,0h200v200h-200Z\"></path><g><g class=\"mark-line role-mark concat_0_concat_1_layer_0_marks\" role=\"graphics-object\" aria-roledescription=\"line mark container\"><path aria-label=\"edges_x: 0.46170452839; edges_y: 0.123550838093; ew: 0.24752475247524755; pe: [4, 4]\" role=\"graphics-symbol\" aria-roledescription=\"line mark\" d=\"M51.67207548430305,182.34988027245203L61.741916691113495,66.33765593372551\" stroke=\"black\" stroke-width=\"1.1111111111111112\" opacity=\"0.4237623762376238\"></path></g></g><path class=\"foreground\" aria-hidden=\"true\" d=\"\" display=\"none\"></path></g><g transform=\"translate(0,0)\"><path class=\"background\" aria-hidden=\"true\" d=\"M0,0h200v200h-200Z\"></path><g><g class=\"mark-line role-mark concat_0_concat_1_layer_0_marks\" role=\"graphics-object\" aria-roledescription=\"line mark container\"><path aria-label=\"edges_x: 0.46170452839; edges_y: 0.123550838093; ew: 0.4356435643564357; pe: [4, 5]\" role=\"graphics-symbol\" aria-roledescription=\"line mark\" d=\"M51.67207548430305,182.34988027245203L190.603675868229,33.22532928668005\" stroke=\"black\" stroke-width=\"1.6388888888888888\" opacity=\"0.5178217821782178\"></path></g></g><path class=\"foreground\" aria-hidden=\"true\" d=\"\" display=\"none\"></path></g><g transform=\"translate(0,0)\"><path class=\"background\" aria-hidden=\"true\" d=\"M0,0h200v200h-200Z\"></path><g><g class=\"mark-line role-mark concat_0_concat_1_layer_0_marks\" role=\"graphics-object\" aria-roledescription=\"line mark container\"><path aria-label=\"edges_x: 0.46170452839; edges_y: 0.123550838093; ew: 0.40594059405940597; pe: [4, 6]\" role=\"graphics-symbol\" aria-roledescription=\"line mark\" d=\"M51.67207548430305,182.34988027245203L78.69761236789526,93.56957015857297\" stroke=\"black\" stroke-width=\"1.5277777777777777\" opacity=\"0.502970297029703\"></path></g></g><path class=\"foreground\" aria-hidden=\"true\" d=\"\" display=\"none\"></path></g><g transform=\"translate(0,0)\"><path class=\"background\" aria-hidden=\"true\" d=\"M0,0h200v200h-200Z\"></path><g><g class=\"mark-line role-mark concat_0_concat_1_layer_0_marks\" role=\"graphics-object\" aria-roledescription=\"line mark container\"><path aria-label=\"edges_x: 0.46170452839; edges_y: 0.123550838093; ew: 0.6757425742574258; pe: [4, 7]\" role=\"graphics-symbol\" aria-roledescription=\"line mark\" d=\"M51.67207548430305,182.34988027245203L74.06336848508865,11.521643417649518\" stroke=\"black\" stroke-width=\"1.861111111111111\" opacity=\"0.6378712871287129\"></path></g></g><path class=\"foreground\" aria-hidden=\"true\" d=\"\" display=\"none\"></path></g><g transform=\"translate(0,0)\"><path class=\"background\" aria-hidden=\"true\" d=\"M0,0h200v200h-200Z\"></path><g><g class=\"mark-line role-mark concat_0_concat_1_layer_0_marks\" role=\"graphics-object\" aria-roledescription=\"line mark container\"><path aria-label=\"edges_x: 0.46170452839; edges_y: 0.123550838093; ew: 0.6534653465346535; pe: [4, 8]\" role=\"graphics-symbol\" aria-roledescription=\"line mark\" d=\"M51.67207548430305,182.34988027245203L158.00874149700016,113.79095593150583\" stroke=\"black\" stroke-width=\"1.8333333333333333\" opacity=\"0.6267326732673267\"></path></g></g><path class=\"foreground\" aria-hidden=\"true\" d=\"\" display=\"none\"></path></g><g transform=\"translate(0,0)\"><path class=\"background\" aria-hidden=\"true\" d=\"M0,0h200v200h-200Z\"></path><g><g class=\"mark-line role-mark concat_0_concat_1_layer_0_marks\" role=\"graphics-object\" aria-roledescription=\"line mark container\"><path aria-label=\"edges_x: 0.46170452839; edges_y: 0.123550838093; ew: 0.4925742574257426; pe: [4, 9]\" role=\"graphics-symbol\" aria-roledescription=\"line mark\" d=\"M51.67207548430305,182.34988027245203L88.83659617216387,13.929128486527853\" stroke=\"black\" stroke-width=\"1.6944444444444444\" opacity=\"0.5462871287128713\"></path></g></g><path class=\"foreground\" aria-hidden=\"true\" d=\"\" display=\"none\"></path></g><g transform=\"translate(0,0)\"><path class=\"background\" aria-hidden=\"true\" d=\"M0,0h200v200h-200Z\"></path><g><g class=\"mark-line role-mark concat_0_concat_1_layer_0_marks\" role=\"graphics-object\" aria-roledescription=\"line mark container\"><path aria-label=\"edges_x: 0.46170452839; edges_y: 0.123550838093; ew: 0.7103960396039605; pe: [4, 10]\" role=\"graphics-symbol\" aria-roledescription=\"line mark\" d=\"M51.67207548430305,182.34988027245203L145.1531329485203,61.50445326788771\" stroke=\"black\" stroke-width=\"1.8888888888888888\" opacity=\"0.6551980198019802\"></path></g></g><path class=\"foreground\" aria-hidden=\"true\" d=\"\" display=\"none\"></path></g><g transform=\"translate(0,0)\"><path class=\"background\" aria-hidden=\"true\" d=\"M0,0h200v200h-200Z\"></path><g><g class=\"mark-line role-mark concat_0_concat_1_layer_0_marks\" role=\"graphics-object\" aria-roledescription=\"line mark container\"><path aria-label=\"edges_x: 0.389310090336; edges_y: 0.066350751231; ew: 0.03217821782178218; pe: [5, 1]\" role=\"graphics-symbol\" aria-roledescription=\"line mark\" d=\"M41.33001290516612,190.52132125271194L120.31107078371059,1.8236958438736073\" stroke=\"black\" stroke-width=\"0.1111111111111111\" opacity=\"0.3160891089108911\"></path></g></g><path class=\"foreground\" aria-hidden=\"true\" d=\"\" display=\"none\"></path></g><g transform=\"translate(0,0)\"><path class=\"background\" aria-hidden=\"true\" d=\"M0,0h200v200h-200Z\"></path><g><g class=\"mark-line role-mark concat_0_concat_1_layer_0_marks\" role=\"graphics-object\" aria-roledescription=\"line mark container\"><path aria-label=\"edges_x: 0.389310090336; edges_y: 0.066350751231; ew: 0.019801980198019802; pe: [5, 2]\" role=\"graphics-symbol\" aria-roledescription=\"line mark\" d=\"M41.33001290516612,190.52132125271194L149.20910948660304,128.2078564711455\" stroke=\"black\" stroke-width=\"0.05555555555555555\" opacity=\"0.3099009900990099\"></path></g></g><path class=\"foreground\" aria-hidden=\"true\" d=\"\" display=\"none\"></path></g><g transform=\"translate(0,0)\"><path class=\"background\" aria-hidden=\"true\" d=\"M0,0h200v200h-200Z\"></path><g><g class=\"mark-line role-mark concat_0_concat_1_layer_0_marks\" role=\"graphics-object\" aria-roledescription=\"line mark container\"><path aria-label=\"edges_x: 0.389310090336; edges_y: 0.066350751231; ew: 0.007425742574257425; pe: [5, 3]\" role=\"graphics-symbol\" aria-roledescription=\"line mark\" d=\"M41.33001290516612,190.52132125271194L153.71710618397682,38.1879944450747\" stroke=\"black\" stroke-width=\"0\" opacity=\"0.3037128712871287\"></path></g></g><path class=\"foreground\" aria-hidden=\"true\" d=\"\" display=\"none\"></path></g><g transform=\"translate(0,0)\"><path class=\"background\" aria-hidden=\"true\" d=\"M0,0h200v200h-200Z\"></path><g><g class=\"mark-line role-mark concat_0_concat_1_layer_0_marks\" role=\"graphics-object\" aria-roledescription=\"line mark container\"><path aria-label=\"edges_x: 0.389310090336; edges_y: 0.066350751231; ew: 0.012376237623762377; pe: [5, 4]\" role=\"graphics-symbol\" aria-roledescription=\"line mark\" d=\"M41.33001290516612,190.52132125271194L61.741916691113495,66.33765593372551\" stroke=\"black\" stroke-width=\"0.027777777777777776\" opacity=\"0.3061881188118812\"></path></g></g><path class=\"foreground\" aria-hidden=\"true\" d=\"\" display=\"none\"></path></g><g transform=\"translate(0,0)\"><path class=\"background\" aria-hidden=\"true\" d=\"M0,0h200v200h-200Z\"></path><g><g class=\"mark-line role-mark concat_0_concat_1_layer_0_marks\" role=\"graphics-object\" aria-roledescription=\"line mark container\"><path aria-label=\"edges_x: 0.389310090336; edges_y: 0.066350751231; ew: 0.019801980198019802; pe: [5, 5]\" role=\"graphics-symbol\" aria-roledescription=\"line mark\" d=\"M41.33001290516612,190.52132125271194L190.603675868229,33.22532928668005\" stroke=\"black\" stroke-width=\"0.05555555555555555\" opacity=\"0.3099009900990099\"></path></g></g><path class=\"foreground\" aria-hidden=\"true\" d=\"\" display=\"none\"></path></g><g transform=\"translate(0,0)\"><path class=\"background\" aria-hidden=\"true\" d=\"M0,0h200v200h-200Z\"></path><g><g class=\"mark-line role-mark concat_0_concat_1_layer_0_marks\" role=\"graphics-object\" aria-roledescription=\"line mark container\"><path aria-label=\"edges_x: 0.389310090336; edges_y: 0.066350751231; ew: 0.019801980198019802; pe: [5, 6]\" role=\"graphics-symbol\" aria-roledescription=\"line mark\" d=\"M41.33001290516612,190.52132125271194L78.69761236789526,93.56957015857297\" stroke=\"black\" stroke-width=\"0.05555555555555555\" opacity=\"0.3099009900990099\"></path></g></g><path class=\"foreground\" aria-hidden=\"true\" d=\"\" display=\"none\"></path></g><g transform=\"translate(0,0)\"><path class=\"background\" aria-hidden=\"true\" d=\"M0,0h200v200h-200Z\"></path><g><g class=\"mark-line role-mark concat_0_concat_1_layer_0_marks\" role=\"graphics-object\" aria-roledescription=\"line mark container\"><path aria-label=\"edges_x: 0.389310090336; edges_y: 0.066350751231; ew: 0.03217821782178218; pe: [5, 7]\" role=\"graphics-symbol\" aria-roledescription=\"line mark\" d=\"M41.33001290516612,190.52132125271194L74.06336848508865,11.521643417649518\" stroke=\"black\" stroke-width=\"0.1111111111111111\" opacity=\"0.3160891089108911\"></path></g></g><path class=\"foreground\" aria-hidden=\"true\" d=\"\" display=\"none\"></path></g><g transform=\"translate(0,0)\"><path class=\"background\" aria-hidden=\"true\" d=\"M0,0h200v200h-200Z\"></path><g><g class=\"mark-line role-mark concat_0_concat_1_layer_0_marks\" role=\"graphics-object\" aria-roledescription=\"line mark container\"><path aria-label=\"edges_x: 0.389310090336; edges_y: 0.066350751231; ew: 0.03217821782178218; pe: [5, 8]\" role=\"graphics-symbol\" aria-roledescription=\"line mark\" d=\"M41.33001290516612,190.52132125271194L158.00874149700016,113.79095593150583\" stroke=\"black\" stroke-width=\"0.1111111111111111\" opacity=\"0.3160891089108911\"></path></g></g><path class=\"foreground\" aria-hidden=\"true\" d=\"\" display=\"none\"></path></g><g transform=\"translate(0,0)\"><path class=\"background\" aria-hidden=\"true\" d=\"M0,0h200v200h-200Z\"></path><g><g class=\"mark-line role-mark concat_0_concat_1_layer_0_marks\" role=\"graphics-object\" aria-roledescription=\"line mark container\"><path aria-label=\"edges_x: 0.389310090336; edges_y: 0.066350751231; ew: 0.022277227722772276; pe: [5, 9]\" role=\"graphics-symbol\" aria-roledescription=\"line mark\" d=\"M41.33001290516612,190.52132125271194L88.83659617216387,13.929128486527853\" stroke=\"black\" stroke-width=\"0.08333333333333333\" opacity=\"0.31113861386138614\"></path></g></g><path class=\"foreground\" aria-hidden=\"true\" d=\"\" display=\"none\"></path></g><g transform=\"translate(0,0)\"><path class=\"background\" aria-hidden=\"true\" d=\"M0,0h200v200h-200Z\"></path><g><g class=\"mark-line role-mark concat_0_concat_1_layer_0_marks\" role=\"graphics-object\" aria-roledescription=\"line mark container\"><path aria-label=\"edges_x: 0.389310090336; edges_y: 0.066350751231; ew: 0.03217821782178218; pe: [5, 10]\" role=\"graphics-symbol\" aria-roledescription=\"line mark\" d=\"M41.33001290516612,190.52132125271194L145.1531329485203,61.50445326788771\" stroke=\"black\" stroke-width=\"0.1111111111111111\" opacity=\"0.3160891089108911\"></path></g></g><path class=\"foreground\" aria-hidden=\"true\" d=\"\" display=\"none\"></path></g><g transform=\"translate(0,0)\"><path class=\"background\" aria-hidden=\"true\" d=\"M0,0h200v200h-200Z\"></path><g><g class=\"mark-line role-mark concat_0_concat_1_layer_0_marks\" role=\"graphics-object\" aria-roledescription=\"line mark container\"><path aria-label=\"edges_x: 0.699330260661; edges_y: 0.226552362676; ew: 0.32425742574257427; pe: [6, 1]\" role=\"graphics-symbol\" aria-roledescription=\"line mark\" d=\"M85.61860866591833,167.6353767605977L120.31107078371059,1.8236958438736073\" stroke=\"black\" stroke-width=\"1.3888888888888888\" opacity=\"0.4621287128712871\"></path></g></g><path class=\"foreground\" aria-hidden=\"true\" d=\"\" display=\"none\"></path></g><g transform=\"translate(0,0)\"><path class=\"background\" aria-hidden=\"true\" d=\"M0,0h200v200h-200Z\"></path><g><g class=\"mark-line role-mark concat_0_concat_1_layer_0_marks\" role=\"graphics-object\" aria-roledescription=\"line mark container\"><path aria-label=\"edges_x: 0.699330260661; edges_y: 0.226552362676; ew: 0.16831683168316833; pe: [6, 2]\" role=\"graphics-symbol\" aria-roledescription=\"line mark\" d=\"M85.61860866591833,167.6353767605977L149.20910948660304,128.2078564711455\" stroke=\"black\" stroke-width=\"0.7222222222222222\" opacity=\"0.38415841584158417\"></path></g></g><path class=\"foreground\" aria-hidden=\"true\" d=\"\" display=\"none\"></path></g><g transform=\"translate(0,0)\"><path class=\"background\" aria-hidden=\"true\" d=\"M0,0h200v200h-200Z\"></path><g><g class=\"mark-line role-mark concat_0_concat_1_layer_0_marks\" role=\"graphics-object\" aria-roledescription=\"line mark container\"><path aria-label=\"edges_x: 0.699330260661; edges_y: 0.226552362676; ew: 0.08415841584158416; pe: [6, 3]\" role=\"graphics-symbol\" aria-roledescription=\"line mark\" d=\"M85.61860866591833,167.6353767605977L153.71710618397682,38.1879944450747\" stroke=\"black\" stroke-width=\"0.3333333333333333\" opacity=\"0.3420792079207921\"></path></g></g><path class=\"foreground\" aria-hidden=\"true\" d=\"\" display=\"none\"></path></g><g transform=\"translate(0,0)\"><path class=\"background\" aria-hidden=\"true\" d=\"M0,0h200v200h-200Z\"></path><g><g class=\"mark-line role-mark concat_0_concat_1_layer_0_marks\" role=\"graphics-object\" aria-roledescription=\"line mark container\"><path aria-label=\"edges_x: 0.532193416838; edges_y: 0.935636408464; ew: 0.08415841584158416; pe: [6, 4]\" role=\"graphics-symbol\" aria-roledescription=\"line mark\" d=\"M61.741916691113495,66.33765593372551L85.61860866591833,167.6353767605977\" stroke=\"black\" stroke-width=\"0.3333333333333333\" opacity=\"0.3420792079207921\"></path></g></g><path class=\"foreground\" aria-hidden=\"true\" d=\"\" display=\"none\"></path></g><g transform=\"translate(0,0)\"><path class=\"background\" aria-hidden=\"true\" d=\"M0,0h200v200h-200Z\"></path><g><g class=\"mark-line role-mark concat_0_concat_1_layer_0_marks\" role=\"graphics-object\" aria-roledescription=\"line mark container\"><path aria-label=\"edges_x: 0.699330260661; edges_y: 0.226552362676; ew: 0.2376237623762376; pe: [6, 5]\" role=\"graphics-symbol\" aria-roledescription=\"line mark\" d=\"M85.61860866591833,167.6353767605977L190.603675868229,33.22532928668005\" stroke=\"black\" stroke-width=\"1.0833333333333333\" opacity=\"0.4188118811881188\"></path></g></g><path class=\"foreground\" aria-hidden=\"true\" d=\"\" display=\"none\"></path></g><g transform=\"translate(0,0)\"><path class=\"background\" aria-hidden=\"true\" d=\"M0,0h200v200h-200Z\"></path><g><g class=\"mark-line role-mark concat_0_concat_1_layer_0_marks\" role=\"graphics-object\" aria-roledescription=\"line mark container\"><path aria-label=\"edges_x: 0.650883286575; edges_y: 0.74501300889; ew: 0.13861386138613863; pe: [6, 6]\" role=\"graphics-symbol\" aria-roledescription=\"line mark\" d=\"M78.69761236789526,93.56957015857297L85.61860866591833,167.6353767605977\" stroke=\"black\" stroke-width=\"0.5555555555555556\" opacity=\"0.3693069306930693\"></path></g></g><path class=\"foreground\" aria-hidden=\"true\" d=\"\" display=\"none\"></path></g><g transform=\"translate(0,0)\"><path class=\"background\" aria-hidden=\"true\" d=\"M0,0h200v200h-200Z\"></path><g><g class=\"mark-line role-mark concat_0_concat_1_layer_0_marks\" role=\"graphics-object\" aria-roledescription=\"line mark container\"><path aria-label=\"edges_x: 0.618443579396; edges_y: 1.31934849608; ew: 0.25742574257425743; pe: [6, 7]\" role=\"graphics-symbol\" aria-roledescription=\"line mark\" d=\"M74.06336848508865,11.521643417649518L85.61860866591833,167.6353767605977\" stroke=\"black\" stroke-width=\"1.1944444444444444\" opacity=\"0.42871287128712876\"></path></g></g><path class=\"foreground\" aria-hidden=\"true\" d=\"\" display=\"none\"></path></g><g transform=\"translate(0,0)\"><path class=\"background\" aria-hidden=\"true\" d=\"M0,0h200v200h-200Z\"></path><g><g class=\"mark-line role-mark concat_0_concat_1_layer_0_marks\" role=\"graphics-object\" aria-roledescription=\"line mark container\"><path aria-label=\"edges_x: 0.699330260661; edges_y: 0.226552362676; ew: 0.2846534653465347; pe: [6, 8]\" role=\"graphics-symbol\" aria-roledescription=\"line mark\" d=\"M85.61860866591833,167.6353767605977L158.00874149700016,113.79095593150583\" stroke=\"black\" stroke-width=\"1.2777777777777777\" opacity=\"0.4423267326732674\"></path></g></g><path class=\"foreground\" aria-hidden=\"true\" d=\"\" display=\"none\"></path></g><g transform=\"translate(0,0)\"><path class=\"background\" aria-hidden=\"true\" d=\"M0,0h200v200h-200Z\"></path><g><g class=\"mark-line role-mark concat_0_concat_1_layer_0_marks\" role=\"graphics-object\" aria-roledescription=\"line mark container\"><path aria-label=\"edges_x: 0.699330260661; edges_y: 0.226552362676; ew: 0.19554455445544558; pe: [6, 9]\" role=\"graphics-symbol\" aria-roledescription=\"line mark\" d=\"M85.61860866591833,167.6353767605977L88.83659617216387,13.929128486527853\" stroke=\"black\" stroke-width=\"0.8888888888888888\" opacity=\"0.3977722772277228\"></path></g></g><path class=\"foreground\" aria-hidden=\"true\" d=\"\" display=\"none\"></path></g><g transform=\"translate(0,0)\"><path class=\"background\" aria-hidden=\"true\" d=\"M0,0h200v200h-200Z\"></path><g><g class=\"mark-line role-mark concat_0_concat_1_layer_0_marks\" role=\"graphics-object\" aria-roledescription=\"line mark container\"><path aria-label=\"edges_x: 0.699330260661; edges_y: 0.226552362676; ew: 0.3193069306930693; pe: [6, 10]\" role=\"graphics-symbol\" aria-roledescription=\"line mark\" d=\"M85.61860866591833,167.6353767605977L145.1531329485203,61.50445326788771\" stroke=\"black\" stroke-width=\"1.361111111111111\" opacity=\"0.4596534653465346\"></path></g></g><path class=\"foreground\" aria-hidden=\"true\" d=\"\" display=\"none\"></path></g><g transform=\"translate(0,0)\"><path class=\"background\" aria-hidden=\"true\" d=\"M0,0h200v200h-200Z\"></path><g><g class=\"mark-line role-mark concat_0_concat_1_layer_0_marks\" role=\"graphics-object\" aria-roledescription=\"line mark container\"><path aria-label=\"edges_x: 0.167096821437; edges_y: 0.469605886451; ew: 0.24752475247524755; pe: [7, 1]\" role=\"graphics-symbol\" aria-roledescription=\"line mark\" d=\"M9.58526020524795,132.91344479278442L120.31107078371059,1.8236958438736073\" stroke=\"black\" stroke-width=\"1.1111111111111112\" opacity=\"0.4237623762376238\"></path></g></g><path class=\"foreground\" aria-hidden=\"true\" d=\"\" display=\"none\"></path></g><g transform=\"translate(0,0)\"><path class=\"background\" aria-hidden=\"true\" d=\"M0,0h200v200h-200Z\"></path><g><g class=\"mark-line role-mark concat_0_concat_1_layer_0_marks\" role=\"graphics-object\" aria-roledescription=\"line mark container\"><path aria-label=\"edges_x: 0.167096821437; edges_y: 0.469605886451; ew: 0.06683168316831684; pe: [7, 2]\" role=\"graphics-symbol\" aria-roledescription=\"line mark\" d=\"M9.58526020524795,132.91344479278442L149.20910948660304,128.2078564711455\" stroke=\"black\" stroke-width=\"0.25\" opacity=\"0.3334158415841584\"></path></g></g><path class=\"foreground\" aria-hidden=\"true\" d=\"\" display=\"none\"></path></g><g transform=\"translate(0,0)\"><path class=\"background\" aria-hidden=\"true\" d=\"M0,0h200v200h-200Z\"></path><g><g class=\"mark-line role-mark concat_0_concat_1_layer_0_marks\" role=\"graphics-object\" aria-roledescription=\"line mark container\"><path aria-label=\"edges_x: 0.167096821437; edges_y: 0.469605886451; ew: 0.04455445544554455; pe: [7, 3]\" role=\"graphics-symbol\" aria-roledescription=\"line mark\" d=\"M9.58526020524795,132.91344479278442L153.71710618397682,38.1879944450747\" stroke=\"black\" stroke-width=\"0.1388888888888889\" opacity=\"0.32227722772277223\"></path></g></g><path class=\"foreground\" aria-hidden=\"true\" d=\"\" display=\"none\"></path></g><g transform=\"translate(0,0)\"><path class=\"background\" aria-hidden=\"true\" d=\"M0,0h200v200h-200Z\"></path><g><g class=\"mark-line role-mark concat_0_concat_1_layer_0_marks\" role=\"graphics-object\" aria-roledescription=\"line mark container\"><path aria-label=\"edges_x: 0.167096821437; edges_y: 0.469605886451; ew: 0.07920792079207921; pe: [7, 4]\" role=\"graphics-symbol\" aria-roledescription=\"line mark\" d=\"M9.58526020524795,132.91344479278442L61.741916691113495,66.33765593372551\" stroke=\"black\" stroke-width=\"0.3055555555555555\" opacity=\"0.33960396039603963\"></path></g></g><path class=\"foreground\" aria-hidden=\"true\" d=\"\" display=\"none\"></path></g><g transform=\"translate(0,0)\"><path class=\"background\" aria-hidden=\"true\" d=\"M0,0h200v200h-200Z\"></path><g><g class=\"mark-line role-mark concat_0_concat_1_layer_0_marks\" role=\"graphics-object\" aria-roledescription=\"line mark container\"><path aria-label=\"edges_x: 0.167096821437; edges_y: 0.469605886451; ew: 0.09653465346534654; pe: [7, 5]\" role=\"graphics-symbol\" aria-roledescription=\"line mark\" d=\"M9.58526020524795,132.91344479278442L190.603675868229,33.22532928668005\" stroke=\"black\" stroke-width=\"0.38888888888888884\" opacity=\"0.3482673267326733\"></path></g></g><path class=\"foreground\" aria-hidden=\"true\" d=\"\" display=\"none\"></path></g><g transform=\"translate(0,0)\"><path class=\"background\" aria-hidden=\"true\" d=\"M0,0h200v200h-200Z\"></path><g><g class=\"mark-line role-mark concat_0_concat_1_layer_0_marks\" role=\"graphics-object\" aria-roledescription=\"line mark container\"><path aria-label=\"edges_x: 0.167096821437; edges_y: 0.469605886451; ew: 0.10643564356435643; pe: [7, 6]\" role=\"graphics-symbol\" aria-roledescription=\"line mark\" d=\"M9.58526020524795,132.91344479278442L78.69761236789526,93.56957015857297\" stroke=\"black\" stroke-width=\"0.4444444444444444\" opacity=\"0.35321782178217825\"></path></g></g><path class=\"foreground\" aria-hidden=\"true\" d=\"\" display=\"none\"></path></g><g transform=\"translate(0,0)\"><path class=\"background\" aria-hidden=\"true\" d=\"M0,0h200v200h-200Z\"></path><g><g class=\"mark-line role-mark concat_0_concat_1_layer_0_marks\" role=\"graphics-object\" aria-roledescription=\"line mark container\"><path aria-label=\"edges_x: 0.167096821437; edges_y: 0.469605886451; ew: 0.26732673267326734; pe: [7, 7]\" role=\"graphics-symbol\" aria-roledescription=\"line mark\" d=\"M9.58526020524795,132.91344479278442L74.06336848508865,11.521643417649518\" stroke=\"black\" stroke-width=\"1.25\" opacity=\"0.4336633663366337\"></path></g></g><path class=\"foreground\" aria-hidden=\"true\" d=\"\" display=\"none\"></path></g><g transform=\"translate(0,0)\"><path class=\"background\" aria-hidden=\"true\" d=\"M0,0h200v200h-200Z\"></path><g><g class=\"mark-line role-mark concat_0_concat_1_layer_0_marks\" role=\"graphics-object\" aria-roledescription=\"line mark container\"><path aria-label=\"edges_x: 0.167096821437; edges_y: 0.469605886451; ew: 0.11138613861386139; pe: [7, 8]\" role=\"graphics-symbol\" aria-roledescription=\"line mark\" d=\"M9.58526020524795,132.91344479278442L158.00874149700016,113.79095593150583\" stroke=\"black\" stroke-width=\"0.4722222222222222\" opacity=\"0.35569306930693073\"></path></g></g><path class=\"foreground\" aria-hidden=\"true\" d=\"\" display=\"none\"></path></g><g transform=\"translate(0,0)\"><path class=\"background\" aria-hidden=\"true\" d=\"M0,0h200v200h-200Z\"></path><g><g class=\"mark-line role-mark concat_0_concat_1_layer_0_marks\" role=\"graphics-object\" aria-roledescription=\"line mark container\"><path aria-label=\"edges_x: 0.167096821437; edges_y: 0.469605886451; ew: 0.18069306930693071; pe: [7, 9]\" role=\"graphics-symbol\" aria-roledescription=\"line mark\" d=\"M9.58526020524795,132.91344479278442L88.83659617216387,13.929128486527853\" stroke=\"black\" stroke-width=\"0.8055555555555555\" opacity=\"0.39034653465346536\"></path></g></g><path class=\"foreground\" aria-hidden=\"true\" d=\"\" display=\"none\"></path></g><g transform=\"translate(0,0)\"><path class=\"background\" aria-hidden=\"true\" d=\"M0,0h200v200h-200Z\"></path><g><g class=\"mark-line role-mark concat_0_concat_1_layer_0_marks\" role=\"graphics-object\" aria-roledescription=\"line mark container\"><path aria-label=\"edges_x: 0.167096821437; edges_y: 0.469605886451; ew: 0.16584158415841585; pe: [7, 10]\" role=\"graphics-symbol\" aria-roledescription=\"line mark\" d=\"M9.58526020524795,132.91344479278442L145.1531329485203,61.50445326788771\" stroke=\"black\" stroke-width=\"0.6944444444444444\" opacity=\"0.38292079207920793\"></path></g></g><path class=\"foreground\" aria-hidden=\"true\" d=\"\" display=\"none\"></path></g><g transform=\"translate(0,0)\"><path class=\"background\" aria-hidden=\"true\" d=\"M0,0h200v200h-200Z\"></path><g><g class=\"mark-line role-mark concat_0_concat_1_layer_0_marks\" role=\"graphics-object\" aria-roledescription=\"line mark container\"><path aria-label=\"edges_x: 0.718138705124; edges_y: 0.660193348408; ew: 0.25495049504950495; pe: [8, 1]\" role=\"graphics-symbol\" aria-roledescription=\"line mark\" d=\"M88.30552930340369,105.68666451318907L120.31107078371059,1.8236958438736073\" stroke=\"black\" stroke-width=\"1.1666666666666665\" opacity=\"0.4274752475247525\"></path></g></g><path class=\"foreground\" aria-hidden=\"true\" d=\"\" display=\"none\"></path></g><g transform=\"translate(0,0)\"><path class=\"background\" aria-hidden=\"true\" d=\"M0,0h200v200h-200Z\"></path><g><g class=\"mark-line role-mark concat_0_concat_1_layer_0_marks\" role=\"graphics-object\" aria-roledescription=\"line mark container\"><path aria-label=\"edges_x: 0.718138705124; edges_y: 0.660193348408; ew: 0.06188118811881189; pe: [8, 2]\" role=\"graphics-symbol\" aria-roledescription=\"line mark\" d=\"M88.30552930340369,105.68666451318907L149.20910948660304,128.2078564711455\" stroke=\"black\" stroke-width=\"0.2222222222222222\" opacity=\"0.3309405940594059\"></path></g></g><path class=\"foreground\" aria-hidden=\"true\" d=\"\" display=\"none\"></path></g><g transform=\"translate(0,0)\"><path class=\"background\" aria-hidden=\"true\" d=\"M0,0h200v200h-200Z\"></path><g><g class=\"mark-line role-mark concat_0_concat_1_layer_0_marks\" role=\"graphics-object\" aria-roledescription=\"line mark container\"><path aria-label=\"edges_x: 0.718138705124; edges_y: 0.660193348408; ew: 0.05445544554455446; pe: [8, 3]\" role=\"graphics-symbol\" aria-roledescription=\"line mark\" d=\"M88.30552930340369,105.68666451318907L153.71710618397682,38.1879944450747\" stroke=\"black\" stroke-width=\"0.19444444444444442\" opacity=\"0.3272277227722772\"></path></g></g><path class=\"foreground\" aria-hidden=\"true\" d=\"\" display=\"none\"></path></g><g transform=\"translate(0,0)\"><path class=\"background\" aria-hidden=\"true\" d=\"M0,0h200v200h-200Z\"></path><g><g class=\"mark-line role-mark concat_0_concat_1_layer_0_marks\" role=\"graphics-object\" aria-roledescription=\"line mark container\"><path aria-label=\"edges_x: 0.532193416838; edges_y: 0.935636408464; ew: 0.04455445544554455; pe: [8, 4]\" role=\"graphics-symbol\" aria-roledescription=\"line mark\" d=\"M61.741916691113495,66.33765593372551L88.30552930340369,105.68666451318907\" stroke=\"black\" stroke-width=\"0.1388888888888889\" opacity=\"0.32227722772277223\"></path></g></g><path class=\"foreground\" aria-hidden=\"true\" d=\"\" display=\"none\"></path></g><g transform=\"translate(0,0)\"><path class=\"background\" aria-hidden=\"true\" d=\"M0,0h200v200h-200Z\"></path><g><g class=\"mark-line role-mark concat_0_concat_1_layer_0_marks\" role=\"graphics-object\" aria-roledescription=\"line mark container\"><path aria-label=\"edges_x: 0.718138705124; edges_y: 0.660193348408; ew: 0.15594059405940594; pe: [8, 5]\" role=\"graphics-symbol\" aria-roledescription=\"line mark\" d=\"M88.30552930340369,105.68666451318907L190.603675868229,33.22532928668005\" stroke=\"black\" stroke-width=\"0.6666666666666666\" opacity=\"0.377970297029703\"></path></g></g><path class=\"foreground\" aria-hidden=\"true\" d=\"\" display=\"none\"></path></g><g transform=\"translate(0,0)\"><path class=\"background\" aria-hidden=\"true\" d=\"M0,0h200v200h-200Z\"></path><g><g class=\"mark-line role-mark concat_0_concat_1_layer_0_marks\" role=\"graphics-object\" aria-roledescription=\"line mark container\"><path aria-label=\"edges_x: 0.650883286575; edges_y: 0.74501300889; ew: 0.06188118811881189; pe: [8, 6]\" role=\"graphics-symbol\" aria-roledescription=\"line mark\" d=\"M78.69761236789526,93.56957015857297L88.30552930340369,105.68666451318907\" stroke=\"black\" stroke-width=\"0.2222222222222222\" opacity=\"0.3309405940594059\"></path></g></g><path class=\"foreground\" aria-hidden=\"true\" d=\"\" display=\"none\"></path></g><g transform=\"translate(0,0)\"><path class=\"background\" aria-hidden=\"true\" d=\"M0,0h200v200h-200Z\"></path><g><g class=\"mark-line role-mark concat_0_concat_1_layer_0_marks\" role=\"graphics-object\" aria-roledescription=\"line mark container\"><path aria-label=\"edges_x: 0.618443579396; edges_y: 1.31934849608; ew: 0.18811881188118812; pe: [8, 7]\" role=\"graphics-symbol\" aria-roledescription=\"line mark\" d=\"M74.06336848508865,11.521643417649518L88.30552930340369,105.68666451318907\" stroke=\"black\" stroke-width=\"0.8333333333333333\" opacity=\"0.3940594059405941\"></path></g></g><path class=\"foreground\" aria-hidden=\"true\" d=\"\" display=\"none\"></path></g><g transform=\"translate(0,0)\"><path class=\"background\" aria-hidden=\"true\" d=\"M0,0h200v200h-200Z\"></path><g><g class=\"mark-line role-mark concat_0_concat_1_layer_0_marks\" role=\"graphics-object\" aria-roledescription=\"line mark container\"><path aria-label=\"edges_x: 0.718138705124; edges_y: 0.660193348408; ew: 0.11386138613861387; pe: [8, 8]\" role=\"graphics-symbol\" aria-roledescription=\"line mark\" d=\"M88.30552930340369,105.68666451318907L158.00874149700016,113.79095593150583\" stroke=\"black\" stroke-width=\"0.5\" opacity=\"0.35693069306930697\"></path></g></g><path class=\"foreground\" aria-hidden=\"true\" d=\"\" display=\"none\"></path></g><g transform=\"translate(0,0)\"><path class=\"background\" aria-hidden=\"true\" d=\"M0,0h200v200h-200Z\"></path><g><g class=\"mark-line role-mark concat_0_concat_1_layer_0_marks\" role=\"graphics-object\" aria-roledescription=\"line mark container\"><path aria-label=\"edges_x: 0.718138705124; edges_y: 0.660193348408; ew: 0.1410891089108911; pe: [8, 9]\" role=\"graphics-symbol\" aria-roledescription=\"line mark\" d=\"M88.30552930340369,105.68666451318907L88.83659617216387,13.929128486527853\" stroke=\"black\" stroke-width=\"0.5833333333333333\" opacity=\"0.37054455445544554\"></path></g></g><path class=\"foreground\" aria-hidden=\"true\" d=\"\" display=\"none\"></path></g><g transform=\"translate(0,0)\"><path class=\"background\" aria-hidden=\"true\" d=\"M0,0h200v200h-200Z\"></path><g><g class=\"mark-line role-mark concat_0_concat_1_layer_0_marks\" role=\"graphics-object\" aria-roledescription=\"line mark container\"><path aria-label=\"edges_x: 0.718138705124; edges_y: 0.660193348408; ew: 0.17574257425742576; pe: [8, 10]\" role=\"graphics-symbol\" aria-roledescription=\"line mark\" d=\"M88.30552930340369,105.68666451318907L145.1531329485203,61.50445326788771\" stroke=\"black\" stroke-width=\"0.7777777777777777\" opacity=\"0.3878712871287129\"></path></g></g><path class=\"foreground\" aria-hidden=\"true\" d=\"\" display=\"none\"></path></g><g transform=\"translate(0,0)\"><path class=\"background\" aria-hidden=\"true\" d=\"M0,0h200v200h-200Z\"></path><g><g class=\"mark-line role-mark concat_0_concat_1_layer_0_marks\" role=\"graphics-object\" aria-roledescription=\"line mark container\"><path aria-label=\"edges_x: 0.930997049281; edges_y: 0.568160487043; ew: 0.6138613861386139; pe: [9, 1]\" role=\"graphics-symbol\" aria-roledescription=\"line mark\" d=\"M118.71386418293007,118.83421613667373L120.31107078371059,1.8236958438736073\" stroke=\"black\" stroke-width=\"1.7777777777777777\" opacity=\"0.6069306930693069\"></path></g></g><path class=\"foreground\" aria-hidden=\"true\" d=\"\" display=\"none\"></path></g><g transform=\"translate(0,0)\"><path class=\"background\" aria-hidden=\"true\" d=\"M0,0h200v200h-200Z\"></path><g><g class=\"mark-line role-mark concat_0_concat_1_layer_0_marks\" role=\"graphics-object\" aria-roledescription=\"line mark container\"><path aria-label=\"edges_x: 0.930997049281; edges_y: 0.568160487043; ew: 0.1905940594059406; pe: [9, 2]\" role=\"graphics-symbol\" aria-roledescription=\"line mark\" d=\"M118.71386418293007,118.83421613667373L149.20910948660304,128.2078564711455\" stroke=\"black\" stroke-width=\"0.861111111111111\" opacity=\"0.3952970297029703\"></path></g></g><path class=\"foreground\" aria-hidden=\"true\" d=\"\" display=\"none\"></path></g><g transform=\"translate(0,0)\"><path class=\"background\" aria-hidden=\"true\" d=\"M0,0h200v200h-200Z\"></path><g><g class=\"mark-line role-mark concat_0_concat_1_layer_0_marks\" role=\"graphics-object\" aria-roledescription=\"line mark container\"><path aria-label=\"edges_x: 0.930997049281; edges_y: 0.568160487043; ew: 0.14851485148514854; pe: [9, 3]\" role=\"graphics-symbol\" aria-roledescription=\"line mark\" d=\"M118.71386418293007,118.83421613667373L153.71710618397682,38.1879944450747\" stroke=\"black\" stroke-width=\"0.611111111111111\" opacity=\"0.37425742574257426\"></path></g></g><path class=\"foreground\" aria-hidden=\"true\" d=\"\" display=\"none\"></path></g><g transform=\"translate(0,0)\"><path class=\"background\" aria-hidden=\"true\" d=\"M0,0h200v200h-200Z\"></path><g><g class=\"mark-line role-mark concat_0_concat_1_layer_0_marks\" role=\"graphics-object\" aria-roledescription=\"line mark container\"><path aria-label=\"edges_x: 0.532193416838; edges_y: 0.935636408464; ew: 0.09653465346534654; pe: [9, 4]\" role=\"graphics-symbol\" aria-roledescription=\"line mark\" d=\"M61.741916691113495,66.33765593372551L118.71386418293007,118.83421613667373\" stroke=\"black\" stroke-width=\"0.38888888888888884\" opacity=\"0.3482673267326733\"></path></g></g><path class=\"foreground\" aria-hidden=\"true\" d=\"\" display=\"none\"></path></g><g transform=\"translate(0,0)\"><path class=\"background\" aria-hidden=\"true\" d=\"M0,0h200v200h-200Z\"></path><g><g class=\"mark-line role-mark concat_0_concat_1_layer_0_marks\" role=\"graphics-object\" aria-roledescription=\"line mark container\"><path aria-label=\"edges_x: 0.930997049281; edges_y: 0.568160487043; ew: 0.48514851485148514; pe: [9, 5]\" role=\"graphics-symbol\" aria-roledescription=\"line mark\" d=\"M118.71386418293007,118.83421613667373L190.603675868229,33.22532928668005\" stroke=\"black\" stroke-width=\"1.6666666666666665\" opacity=\"0.5425742574257426\"></path></g></g><path class=\"foreground\" aria-hidden=\"true\" d=\"\" display=\"none\"></path></g><g transform=\"translate(0,0)\"><path class=\"background\" aria-hidden=\"true\" d=\"M0,0h200v200h-200Z\"></path><g><g class=\"mark-line role-mark concat_0_concat_1_layer_0_marks\" role=\"graphics-object\" aria-roledescription=\"line mark container\"><path aria-label=\"edges_x: 0.650883286575; edges_y: 0.74501300889; ew: 0.14851485148514854; pe: [9, 6]\" role=\"graphics-symbol\" aria-roledescription=\"line mark\" d=\"M78.69761236789526,93.56957015857297L118.71386418293007,118.83421613667373\" stroke=\"black\" stroke-width=\"0.611111111111111\" opacity=\"0.37425742574257426\"></path></g></g><path class=\"foreground\" aria-hidden=\"true\" d=\"\" display=\"none\"></path></g><g transform=\"translate(0,0)\"><path class=\"background\" aria-hidden=\"true\" d=\"M0,0h200v200h-200Z\"></path><g><g class=\"mark-line role-mark concat_0_concat_1_layer_0_marks\" role=\"graphics-object\" aria-roledescription=\"line mark container\"><path aria-label=\"edges_x: 0.618443579396; edges_y: 1.31934849608; ew: 0.39851485148514854; pe: [9, 7]\" role=\"graphics-symbol\" aria-roledescription=\"line mark\" d=\"M74.06336848508865,11.521643417649518L118.71386418293007,118.83421613667373\" stroke=\"black\" stroke-width=\"1.5\" opacity=\"0.4992574257425743\"></path></g></g><path class=\"foreground\" aria-hidden=\"true\" d=\"\" display=\"none\"></path></g><g transform=\"translate(0,0)\"><path class=\"background\" aria-hidden=\"true\" d=\"M0,0h200v200h-200Z\"></path><g><g class=\"mark-line role-mark concat_0_concat_1_layer_0_marks\" role=\"graphics-object\" aria-roledescription=\"line mark container\"><path aria-label=\"edges_x: 0.930997049281; edges_y: 0.568160487043; ew: 0.353960396039604; pe: [9, 8]\" role=\"graphics-symbol\" aria-roledescription=\"line mark\" d=\"M118.71386418293007,118.83421613667373L158.00874149700016,113.79095593150583\" stroke=\"black\" stroke-width=\"1.4444444444444444\" opacity=\"0.47698019801980196\"></path></g></g><path class=\"foreground\" aria-hidden=\"true\" d=\"\" display=\"none\"></path></g><g transform=\"translate(0,0)\"><path class=\"background\" aria-hidden=\"true\" d=\"M0,0h200v200h-200Z\"></path><g><g class=\"mark-line role-mark concat_0_concat_1_layer_0_marks\" role=\"graphics-object\" aria-roledescription=\"line mark container\"><path aria-label=\"edges_x: 0.721856173205; edges_y: 1.30249610059; ew: 0.31683168316831684; pe: [9, 9]\" role=\"graphics-symbol\" aria-roledescription=\"line mark\" d=\"M88.83659617216387,13.929128486527853L118.71386418293007,118.83421613667373\" stroke=\"black\" stroke-width=\"1.3333333333333333\" opacity=\"0.4584158415841584\"></path></g></g><path class=\"foreground\" aria-hidden=\"true\" d=\"\" display=\"none\"></path></g><g transform=\"translate(0,0)\"><path class=\"background\" aria-hidden=\"true\" d=\"M0,0h200v200h-200Z\"></path><g><g class=\"mark-line role-mark concat_0_concat_1_layer_0_marks\" role=\"graphics-object\" aria-roledescription=\"line mark container\"><path aria-label=\"edges_x: 0.930997049281; edges_y: 0.568160487043; ew: 0.4925742574257426; pe: [9, 10]\" role=\"graphics-symbol\" aria-roledescription=\"line mark\" d=\"M118.71386418293007,118.83421613667373L145.1531329485203,61.50445326788771\" stroke=\"black\" stroke-width=\"1.6944444444444444\" opacity=\"0.5462871287128713\"></path></g></g><path class=\"foreground\" aria-hidden=\"true\" d=\"\" display=\"none\"></path></g><g transform=\"translate(0,0)\"><path class=\"background\" aria-hidden=\"true\" d=\"M0,0h200v200h-200Z\"></path><g><g class=\"mark-line role-mark concat_0_concat_1_layer_0_marks\" role=\"graphics-object\" aria-roledescription=\"line mark container\"><path aria-label=\"edges_x: 0.855660243169; edges_y: 0.0883624277613; ew: 0.353960396039604; pe: [10, 1]\" role=\"graphics-symbol\" aria-roledescription=\"line mark\" d=\"M107.95146330979313,187.37679603410083L120.31107078371059,1.8236958438736073\" stroke=\"black\" stroke-width=\"1.4444444444444444\" opacity=\"0.47698019801980196\"></path></g></g><path class=\"foreground\" aria-hidden=\"true\" d=\"\" display=\"none\"></path></g><g transform=\"translate(0,0)\"><path class=\"background\" aria-hidden=\"true\" d=\"M0,0h200v200h-200Z\"></path><g><g class=\"mark-line role-mark concat_0_concat_1_layer_0_marks\" role=\"graphics-object\" aria-roledescription=\"line mark container\"><path aria-label=\"edges_x: 0.855660243169; edges_y: 0.0883624277613; ew: 0.25; pe: [10, 2]\" role=\"graphics-symbol\" aria-roledescription=\"line mark\" d=\"M107.95146330979313,187.37679603410083L149.20910948660304,128.2078564711455\" stroke=\"black\" stroke-width=\"1.1388888888888888\" opacity=\"0.425\"></path></g></g><path class=\"foreground\" aria-hidden=\"true\" d=\"\" display=\"none\"></path></g><g transform=\"translate(0,0)\"><path class=\"background\" aria-hidden=\"true\" d=\"M0,0h200v200h-200Z\"></path><g><g class=\"mark-line role-mark concat_0_concat_1_layer_0_marks\" role=\"graphics-object\" aria-roledescription=\"line mark container\"><path aria-label=\"edges_x: 0.855660243169; edges_y: 0.0883624277613; ew: 0.10643564356435643; pe: [10, 3]\" role=\"graphics-symbol\" aria-roledescription=\"line mark\" d=\"M107.95146330979313,187.37679603410083L153.71710618397682,38.1879944450747\" stroke=\"black\" stroke-width=\"0.4444444444444444\" opacity=\"0.35321782178217825\"></path></g></g><path class=\"foreground\" aria-hidden=\"true\" d=\"\" display=\"none\"></path></g><g transform=\"translate(0,0)\"><path class=\"background\" aria-hidden=\"true\" d=\"M0,0h200v200h-200Z\"></path><g><g class=\"mark-line role-mark concat_0_concat_1_layer_0_marks\" role=\"graphics-object\" aria-roledescription=\"line mark container\"><path aria-label=\"edges_x: 0.532193416838; edges_y: 0.935636408464; ew: 0.0915841584158416; pe: [10, 4]\" role=\"graphics-symbol\" aria-roledescription=\"line mark\" d=\"M61.741916691113495,66.33765593372551L107.95146330979313,187.37679603410083\" stroke=\"black\" stroke-width=\"0.3611111111111111\" opacity=\"0.3457920792079208\"></path></g></g><path class=\"foreground\" aria-hidden=\"true\" d=\"\" display=\"none\"></path></g><g transform=\"translate(0,0)\"><path class=\"background\" aria-hidden=\"true\" d=\"M0,0h200v200h-200Z\"></path><g><g class=\"mark-line role-mark concat_0_concat_1_layer_0_marks\" role=\"graphics-object\" aria-roledescription=\"line mark container\"><path aria-label=\"edges_x: 0.855660243169; edges_y: 0.0883624277613; ew: 0.3193069306930693; pe: [10, 5]\" role=\"graphics-symbol\" aria-roledescription=\"line mark\" d=\"M107.95146330979313,187.37679603410083L190.603675868229,33.22532928668005\" stroke=\"black\" stroke-width=\"1.361111111111111\" opacity=\"0.4596534653465346\"></path></g></g><path class=\"foreground\" aria-hidden=\"true\" d=\"\" display=\"none\"></path></g><g transform=\"translate(0,0)\"><path class=\"background\" aria-hidden=\"true\" d=\"M0,0h200v200h-200Z\"></path><g><g class=\"mark-line role-mark concat_0_concat_1_layer_0_marks\" role=\"graphics-object\" aria-roledescription=\"line mark container\"><path aria-label=\"edges_x: 0.650883286575; edges_y: 0.74501300889; ew: 0.16584158415841585; pe: [10, 6]\" role=\"graphics-symbol\" aria-roledescription=\"line mark\" d=\"M78.69761236789526,93.56957015857297L107.95146330979313,187.37679603410083\" stroke=\"black\" stroke-width=\"0.6944444444444444\" opacity=\"0.38292079207920793\"></path></g></g><path class=\"foreground\" aria-hidden=\"true\" d=\"\" display=\"none\"></path></g><g transform=\"translate(0,0)\"><path class=\"background\" aria-hidden=\"true\" d=\"M0,0h200v200h-200Z\"></path><g><g class=\"mark-line role-mark concat_0_concat_1_layer_0_marks\" role=\"graphics-object\" aria-roledescription=\"line mark container\"><path aria-label=\"edges_x: 0.618443579396; edges_y: 1.31934849608; ew: 0.25742574257425743; pe: [10, 7]\" role=\"graphics-symbol\" aria-roledescription=\"line mark\" d=\"M74.06336848508865,11.521643417649518L107.95146330979313,187.37679603410083\" stroke=\"black\" stroke-width=\"1.1944444444444444\" opacity=\"0.42871287128712876\"></path></g></g><path class=\"foreground\" aria-hidden=\"true\" d=\"\" display=\"none\"></path></g><g transform=\"translate(0,0)\"><path class=\"background\" aria-hidden=\"true\" d=\"M0,0h200v200h-200Z\"></path><g><g class=\"mark-line role-mark concat_0_concat_1_layer_0_marks\" role=\"graphics-object\" aria-roledescription=\"line mark container\"><path aria-label=\"edges_x: 0.855660243169; edges_y: 0.0883624277613; ew: 0.4158415841584158; pe: [10, 8]\" role=\"graphics-symbol\" aria-roledescription=\"line mark\" d=\"M107.95146330979313,187.37679603410083L158.00874149700016,113.79095593150583\" stroke=\"black\" stroke-width=\"1.611111111111111\" opacity=\"0.5079207920792079\"></path></g></g><path class=\"foreground\" aria-hidden=\"true\" d=\"\" display=\"none\"></path></g><g transform=\"translate(0,0)\"><path class=\"background\" aria-hidden=\"true\" d=\"M0,0h200v200h-200Z\"></path><g><g class=\"mark-line role-mark concat_0_concat_1_layer_0_marks\" role=\"graphics-object\" aria-roledescription=\"line mark container\"><path aria-label=\"edges_x: 0.721856173205; edges_y: 1.30249610059; ew: 0.20544554455445546; pe: [10, 9]\" role=\"graphics-symbol\" aria-roledescription=\"line mark\" d=\"M88.83659617216387,13.929128486527853L107.95146330979313,187.37679603410083\" stroke=\"black\" stroke-width=\"0.9444444444444444\" opacity=\"0.40272277227722775\"></path></g></g><path class=\"foreground\" aria-hidden=\"true\" d=\"\" display=\"none\"></path></g><g transform=\"translate(0,0)\"><path class=\"background\" aria-hidden=\"true\" d=\"M0,0h200v200h-200Z\"></path><g><g class=\"mark-line role-mark concat_0_concat_1_layer_0_marks\" role=\"graphics-object\" aria-roledescription=\"line mark container\"><path aria-label=\"edges_x: 0.855660243169; edges_y: 0.0883624277613; ew: 0.4108910891089109; pe: [10, 10]\" role=\"graphics-symbol\" aria-roledescription=\"line mark\" d=\"M107.95146330979313,187.37679603410083L145.1531329485203,61.50445326788771\" stroke=\"black\" stroke-width=\"1.5833333333333333\" opacity=\"0.5054455445544555\"></path></g></g><path class=\"foreground\" aria-hidden=\"true\" d=\"\" display=\"none\"></path></g></g><g class=\"mark-symbol role-mark concat_0_concat_1_layer_1_marks\" role=\"graphics-object\" aria-roledescription=\"symbol mark container\"><path aria-label=\"x: 0.942177495486; y: 1.38723412909; size: 0.164634751814\" role=\"graphics-symbol\" aria-roledescription=\"circle\" transform=\"translate(120.31107078371059,1.8236958438736073)\" d=\"M9.5,0A9.5,9.5,0,1,1,-9.5,0A9.5,9.5,0,1,1,9.5,0\" fill=\"red\" stroke-width=\"2\" opacity=\"1\"></path><path aria-label=\"x: 1.14446376641; y: 0.502545004702; size: 0.0712875164786\" role=\"graphics-symbol\" aria-roledescription=\"circle\" transform=\"translate(149.20910948660304,128.2078564711455)\" d=\"M6.251289203307511,0A6.251289203307511,6.251289203307511,0,1,1,-6.251289203307511,0A6.251289203307511,6.251289203307511,0,1,1,6.251289203307511,0\" fill=\"red\" stroke-width=\"2\" opacity=\"1\"></path><path aria-label=\"x: 1.17601974329; y: 1.13268403888; size: 0.0384602806248\" role=\"graphics-symbol\" aria-roledescription=\"circle\" transform=\"translate(153.71710618397682,38.1879944450747)\" d=\"M4.591653135735218,0A4.591653135735218,4.591653135735218,0,1,1,-4.591653135735218,0A4.591653135735218,4.591653135735218,0,1,1,4.591653135735218,0\" fill=\"red\" stroke-width=\"2\" opacity=\"1\"></path><path aria-label=\"x: 0.532193416838; y: 0.935636408464; size: 0.0445292985587\" role=\"graphics-symbol\" aria-roledescription=\"circle\" transform=\"translate(61.741916691113495,66.33765593372551)\" d=\"M4.9406691857989475,0A4.9406691857989475,4.9406691857989475,0,1,1,-4.9406691857989475,0A4.9406691857989475,4.9406691857989475,0,1,1,4.9406691857989475,0\" fill=\"red\" stroke-width=\"2\" opacity=\"1\"></path><path aria-label=\"x: 1.43422573108; y: 1.16742269499; size: 0.104166140719\" role=\"graphics-symbol\" aria-roledescription=\"circle\" transform=\"translate(190.603675868229,33.22532928668005)\" d=\"M7.556594810932531,0A7.556594810932531,7.556594810932531,0,1,1,-7.556594810932531,0A7.556594810932531,7.556594810932531,0,1,1,7.556594810932531,0\" fill=\"red\" stroke-width=\"2\" opacity=\"1\"></path><path aria-label=\"x: 0.650883286575; y: 0.74501300889; size: 0.0695559700802\" role=\"graphics-symbol\" aria-roledescription=\"circle\" transform=\"translate(78.69761236789526,93.56957015857297)\" d=\"M6.174901789597849,0A6.174901789597849,6.174901789597849,0,1,1,-6.174901789597849,0A6.174901789597849,6.174901789597849,0,1,1,6.174901789597849,0\" fill=\"red\" stroke-width=\"2\" opacity=\"1\"></path><path aria-label=\"x: 0.618443579396; y: 1.31934849608; size: 0.140701220884\" role=\"graphics-symbol\" aria-roledescription=\"circle\" transform=\"translate(74.06336848508865,11.521643417649518)\" d=\"M8.782371044646123,0A8.782371044646123,8.782371044646123,0,1,1,-8.782371044646123,0A8.782371044646123,8.782371044646123,0,1,1,8.782371044646123,0\" fill=\"red\" stroke-width=\"2\" opacity=\"1\"></path><path aria-label=\"x: 1.20606119048; y: 0.603463308479; size: 0.119225562197\" role=\"graphics-symbol\" aria-roledescription=\"circle\" transform=\"translate(158.00874149700016,113.79095593150583)\" d=\"M8.08439524812174,0A8.08439524812174,8.08439524812174,0,1,1,-8.08439524812174,0A8.08439524812174,8.08439524812174,0,1,1,8.08439524812174,0\" fill=\"red\" stroke-width=\"2\" opacity=\"1\"></path><path aria-label=\"x: 0.721856173205; y: 1.30249610059; size: 0.103851441032\" role=\"graphics-symbol\" aria-roledescription=\"circle\" transform=\"translate(88.83659617216387,13.929128486527853)\" d=\"M7.545171440386934,0A7.545171440386934,7.545171440386934,0,1,1,-7.545171440386934,0A7.545171440386934,7.545171440386934,0,1,1,7.545171440386934,0\" fill=\"red\" stroke-width=\"2\" opacity=\"1\"></path><path aria-label=\"x: 1.11607193064; y: 0.969468827125; size: 0.143587817612\" role=\"graphics-symbol\" aria-roledescription=\"circle\" transform=\"translate(145.1531329485203,61.50445326788771)\" d=\"M8.872002305470222,0A8.872002305470222,8.872002305470222,0,1,1,-8.872002305470222,0A8.872002305470222,8.872002305470222,0,1,1,8.872002305470222,0\" fill=\"red\" stroke-width=\"2\" opacity=\"1\"></path></g><g class=\"mark-symbol role-mark concat_0_concat_1_layer_2_marks\" role=\"graphics-object\" aria-roledescription=\"symbol mark container\"><path aria-label=\"x: 0.469344301481; y: 0.268441730392; size: 0.0575746813958\" role=\"graphics-symbol\" aria-roledescription=\"circle\" transform=\"translate(52.76347164009204,161.6511813725123)\" d=\"M4.830507068211761,0A4.830507068211761,4.830507068211761,0,1,1,-4.830507068211761,0A4.830507068211761,4.830507068211761,0,1,1,4.830507068211761,0\" fill=\"#4c78a8\" stroke-width=\"2\" opacity=\"1\"></path><path aria-label=\"x: 0.231871083902; y: 0.0635294670821; size: 0.0858404204563\" role=\"graphics-symbol\" aria-roledescription=\"circle\" transform=\"translate(18.838726271738896,190.9243618454186)\" d=\"M5.898245816475333,0A5.898245816475333,5.898245816475333,0,1,1,-5.898245816475333,0A5.898245816475333,5.898245816475333,0,1,1,5.898245816475333,0\" fill=\"#4c78a8\" stroke-width=\"2\" opacity=\"1\"></path><path aria-label=\"x: 0.506517095705; y: 0.44817218029; size: 0.222686202932\" role=\"graphics-symbol\" aria-roledescription=\"circle\" transform=\"translate(58.07387081502732,135.97540281571327)\" d=\"M9.5,0A9.5,9.5,0,1,1,-9.5,0A9.5,9.5,0,1,1,9.5,0\" fill=\"#4c78a8\" stroke-width=\"2\" opacity=\"1\"></path><path aria-label=\"x: 0.46170452839; y: 0.123550838093; size: 0.19901647222\" role=\"graphics-symbol\" aria-roledescription=\"circle\" transform=\"translate(51.67207548430305,182.34988027245203)\" d=\"M8.980933115917066,0A8.980933115917066,8.980933115917066,0,1,1,-8.980933115917066,0A8.980933115917066,8.980933115917066,0,1,1,8.980933115917066,0\" fill=\"#4c78a8\" stroke-width=\"2\" opacity=\"1\"></path><path aria-label=\"x: 0.389310090336; y: 0.066350751231; size: 0.00934656570726\" role=\"graphics-symbol\" aria-roledescription=\"circle\" transform=\"translate(41.33001290516612,190.52132125271194)\" d=\"M1.9462695228676334,0A1.9462695228676334,1.9462695228676334,0,1,1,-1.9462695228676334,0A1.9462695228676334,1.9462695228676334,0,1,1,1.9462695228676334,0\" fill=\"#4c78a8\" stroke-width=\"2\" opacity=\"1\"></path><path aria-label=\"x: 0.699330260661; y: 0.226552362676; size: 0.0845813630975\" role=\"graphics-symbol\" aria-roledescription=\"circle\" transform=\"translate(85.61860866591833,167.6353767605977)\" d=\"M5.854830009462446,0A5.854830009462446,5.854830009462446,0,1,1,-5.854830009462446,0A5.854830009462446,5.854830009462446,0,1,1,5.854830009462446,0\" fill=\"#4c78a8\" stroke-width=\"2\" opacity=\"1\"></path><path aria-label=\"x: 0.167096821437; y: 0.469605886451; size: 0.0552313082209\" role=\"graphics-symbol\" aria-roledescription=\"circle\" transform=\"translate(9.58526020524795,132.91344479278442)\" d=\"M4.731181568833097,0A4.731181568833097,4.731181568833097,0,1,1,-4.731181568833097,0A4.731181568833097,4.731181568833097,0,1,1,4.731181568833097,0\" fill=\"#4c78a8\" stroke-width=\"2\" opacity=\"1\"></path><path aria-label=\"x: 0.718138705124; y: 0.660193348408; size: 0.0504322485606\" role=\"graphics-symbol\" aria-roledescription=\"circle\" transform=\"translate(88.30552930340369,105.68666451318907)\" d=\"M4.520964701755543,0A4.520964701755543,4.520964701755543,0,1,1,-4.520964701755543,0A4.520964701755543,4.520964701755543,0,1,1,4.520964701755543,0\" fill=\"#4c78a8\" stroke-width=\"2\" opacity=\"1\"></path><path aria-label=\"x: 0.930997049281; y: 0.568160487043; size: 0.13126058864\" role=\"graphics-symbol\" aria-roledescription=\"circle\" transform=\"translate(118.71386418293007,118.83421613667373)\" d=\"M7.293636648486774,0A7.293636648486774,7.293636648486774,0,1,1,-7.293636648486774,0A7.293636648486774,7.293636648486774,0,1,1,7.293636648486774,0\" fill=\"#4c78a8\" stroke-width=\"2\" opacity=\"1\"></path><path aria-label=\"x: 0.855660243169; y: 0.0883624277613; size: 0.10403014877\" role=\"graphics-symbol\" aria-roledescription=\"circle\" transform=\"translate(107.95146330979313,187.37679603410083)\" d=\"M6.493166809154637,0A6.493166809154637,6.493166809154637,0,1,1,-6.493166809154637,0A6.493166809154637,6.493166809154637,0,1,1,6.493166809154637,0\" fill=\"#4c78a8\" stroke-width=\"2\" opacity=\"1\"></path></g><g class=\"mark-group role-title\"><g transform=\"translate(100,-24.676304156126392)\"><path class=\"background\" aria-hidden=\"true\" d=\"M0,0h0v0h0Z\" pointer-events=\"none\"></path><g><g class=\"mark-text role-title-text\" role=\"graphics-symbol\" aria-roledescription=\"title\" aria-label=\"Title text 'ϵ = 1.0'\" pointer-events=\"none\"><text text-anchor=\"middle\" transform=\"translate(0,10)\" font-family=\"sans-serif\" font-size=\"13px\" font-weight=\"bold\" fill=\"#000\" opacity=\"1\">ϵ = 1.0</text></g></g><path class=\"foreground\" aria-hidden=\"true\" d=\"\" pointer-events=\"none\" display=\"none\"></path></g></g></g><path class=\"foreground\" aria-hidden=\"true\" d=\"\" display=\"none\"></path></g></g></g><path class=\"foreground\" aria-hidden=\"true\" d=\"\" display=\"none\"></path></g></g><g class=\"mark-group role-scope concat_1_group\" role=\"graphics-object\" aria-roledescription=\"group mark container\"><g transform=\"translate(880,0)\"><path class=\"background\" aria-hidden=\"true\" d=\"M0,0h200v200h-200Z\"></path><g><g class=\"mark-group role-scope concat_1_layer_0_pathgroup\" role=\"graphics-object\" aria-roledescription=\"group mark container\"><g transform=\"translate(0,0)\"><path class=\"background\" aria-hidden=\"true\" d=\"M0,0h200v200h-200Z\"></path><g><g class=\"mark-line role-mark concat_1_layer_0_marks\" role=\"graphics-object\" aria-roledescription=\"line mark container\"><path aria-label=\"edges_x: 0.469344301481; edges_y: 0.268441730392; ew: 0.25675675675675674; pe: [1, 1]\" role=\"graphics-symbol\" aria-roledescription=\"line mark\" d=\"M52.76347164009204,161.6511813725123L120.31107078371059,1.8236958438736073\" stroke=\"black\" stroke-width=\"1.1139240506329113\" opacity=\"0.42837837837837833\"></path></g></g><path class=\"foreground\" aria-hidden=\"true\" d=\"\" display=\"none\"></path></g><g transform=\"translate(0,0)\"><path class=\"background\" aria-hidden=\"true\" d=\"M0,0h200v200h-200Z\"></path><g><g class=\"mark-line role-mark concat_1_layer_0_marks\" role=\"graphics-object\" aria-roledescription=\"line mark container\"><path aria-label=\"edges_x: 0.469344301481; edges_y: 0.268441730392; ew: 0.11081081081081083; pe: [1, 2]\" role=\"graphics-symbol\" aria-roledescription=\"line mark\" d=\"M52.76347164009204,161.6511813725123L149.20910948660304,128.2078564711455\" stroke=\"black\" stroke-width=\"0.4810126582278481\" opacity=\"0.35540540540540544\"></path></g></g><path class=\"foreground\" aria-hidden=\"true\" d=\"\" display=\"none\"></path></g><g transform=\"translate(0,0)\"><path class=\"background\" aria-hidden=\"true\" d=\"M0,0h200v200h-200Z\"></path><g><g class=\"mark-line role-mark concat_1_layer_0_marks\" role=\"graphics-object\" aria-roledescription=\"line mark container\"><path aria-label=\"edges_x: 0.469344301481; edges_y: 0.268441730392; ew: 0.05945945945945946; pe: [1, 3]\" role=\"graphics-symbol\" aria-roledescription=\"line mark\" d=\"M52.76347164009204,161.6511813725123L153.71710618397682,38.1879944450747\" stroke=\"black\" stroke-width=\"0.20253164556962025\" opacity=\"0.3297297297297297\"></path></g></g><path class=\"foreground\" aria-hidden=\"true\" d=\"\" display=\"none\"></path></g><g transform=\"translate(0,0)\"><path class=\"background\" aria-hidden=\"true\" d=\"M0,0h200v200h-200Z\"></path><g><g class=\"mark-line role-mark concat_1_layer_0_marks\" role=\"graphics-object\" aria-roledescription=\"line mark container\"><path aria-label=\"edges_x: 0.469344301481; edges_y: 0.268441730392; ew: 0.07027027027027027; pe: [1, 4]\" role=\"graphics-symbol\" aria-roledescription=\"line mark\" d=\"M52.76347164009204,161.6511813725123L61.741916691113495,66.33765593372551\" stroke=\"black\" stroke-width=\"0.25316455696202533\" opacity=\"0.33513513513513515\"></path></g></g><path class=\"foreground\" aria-hidden=\"true\" d=\"\" display=\"none\"></path></g><g transform=\"translate(0,0)\"><path class=\"background\" aria-hidden=\"true\" d=\"M0,0h200v200h-200Z\"></path><g><g class=\"mark-line role-mark concat_1_layer_0_marks\" role=\"graphics-object\" aria-roledescription=\"line mark container\"><path aria-label=\"edges_x: 0.469344301481; edges_y: 0.268441730392; ew: 0.15945945945945947; pe: [1, 5]\" role=\"graphics-symbol\" aria-roledescription=\"line mark\" d=\"M52.76347164009204,161.6511813725123L190.603675868229,33.22532928668005\" stroke=\"black\" stroke-width=\"0.6329113924050633\" opacity=\"0.37972972972972974\"></path></g></g><path class=\"foreground\" aria-hidden=\"true\" d=\"\" display=\"none\"></path></g><g transform=\"translate(0,0)\"><path class=\"background\" aria-hidden=\"true\" d=\"M0,0h200v200h-200Z\"></path><g><g class=\"mark-line role-mark concat_1_layer_0_marks\" role=\"graphics-object\" aria-roledescription=\"line mark container\"><path aria-label=\"edges_x: 0.469344301481; edges_y: 0.268441730392; ew: 0.10810810810810811; pe: [1, 6]\" role=\"graphics-symbol\" aria-roledescription=\"line mark\" d=\"M52.76347164009204,161.6511813725123L78.69761236789526,93.56957015857297\" stroke=\"black\" stroke-width=\"0.45569620253164556\" opacity=\"0.35405405405405405\"></path></g></g><path class=\"foreground\" aria-hidden=\"true\" d=\"\" display=\"none\"></path></g><g transform=\"translate(0,0)\"><path class=\"background\" aria-hidden=\"true\" d=\"M0,0h200v200h-200Z\"></path><g><g class=\"mark-line role-mark concat_1_layer_0_marks\" role=\"graphics-object\" aria-roledescription=\"line mark container\"><path aria-label=\"edges_x: 0.469344301481; edges_y: 0.268441730392; ew: 0.21891891891891893; pe: [1, 7]\" role=\"graphics-symbol\" aria-roledescription=\"line mark\" d=\"M52.76347164009204,161.6511813725123L74.06336848508865,11.521643417649518\" stroke=\"black\" stroke-width=\"0.8860759493670886\" opacity=\"0.4094594594594595\"></path></g></g><path class=\"foreground\" aria-hidden=\"true\" d=\"\" display=\"none\"></path></g><g transform=\"translate(0,0)\"><path class=\"background\" aria-hidden=\"true\" d=\"M0,0h200v200h-200Z\"></path><g><g class=\"mark-line role-mark concat_1_layer_0_marks\" role=\"graphics-object\" aria-roledescription=\"line mark container\"><path aria-label=\"edges_x: 0.469344301481; edges_y: 0.268441730392; ew: 0.1864864864864865; pe: [1, 8]\" role=\"graphics-symbol\" aria-roledescription=\"line mark\" d=\"M52.76347164009204,161.6511813725123L158.00874149700016,113.79095593150583\" stroke=\"black\" stroke-width=\"0.7594936708860759\" opacity=\"0.3932432432432432\"></path></g></g><path class=\"foreground\" aria-hidden=\"true\" d=\"\" display=\"none\"></path></g><g transform=\"translate(0,0)\"><path class=\"background\" aria-hidden=\"true\" d=\"M0,0h200v200h-200Z\"></path><g><g class=\"mark-line role-mark concat_1_layer_0_marks\" role=\"graphics-object\" aria-roledescription=\"line mark container\"><path aria-label=\"edges_x: 0.469344301481; edges_y: 0.268441730392; ew: 0.16216216216216217; pe: [1, 9]\" role=\"graphics-symbol\" aria-roledescription=\"line mark\" d=\"M52.76347164009204,161.6511813725123L88.83659617216387,13.929128486527853\" stroke=\"black\" stroke-width=\"0.6582278481012658\" opacity=\"0.3810810810810811\"></path></g></g><path class=\"foreground\" aria-hidden=\"true\" d=\"\" display=\"none\"></path></g><g transform=\"translate(0,0)\"><path class=\"background\" aria-hidden=\"true\" d=\"M0,0h200v200h-200Z\"></path><g><g class=\"mark-line role-mark concat_1_layer_0_marks\" role=\"graphics-object\" aria-roledescription=\"line mark container\"><path aria-label=\"edges_x: 0.469344301481; edges_y: 0.268441730392; ew: 0.22162162162162166; pe: [1, 10]\" role=\"graphics-symbol\" aria-roledescription=\"line mark\" d=\"M52.76347164009204,161.6511813725123L145.1531329485203,61.50445326788771\" stroke=\"black\" stroke-width=\"0.9113924050632911\" opacity=\"0.41081081081081083\"></path></g></g><path class=\"foreground\" aria-hidden=\"true\" d=\"\" display=\"none\"></path></g><g transform=\"translate(0,0)\"><path class=\"background\" aria-hidden=\"true\" d=\"M0,0h200v200h-200Z\"></path><g><g class=\"mark-line role-mark concat_1_layer_0_marks\" role=\"graphics-object\" aria-roledescription=\"line mark container\"><path aria-label=\"edges_x: 0.231871083902; edges_y: 0.0635294670821; ew: 0.37567567567567567; pe: [2, 1]\" role=\"graphics-symbol\" aria-roledescription=\"line mark\" d=\"M18.838726271738896,190.9243618454186L120.31107078371059,1.8236958438736073\" stroke=\"black\" stroke-width=\"1.4177215189873418\" opacity=\"0.48783783783783785\"></path></g></g><path class=\"foreground\" aria-hidden=\"true\" d=\"\" display=\"none\"></path></g><g transform=\"translate(0,0)\"><path class=\"background\" aria-hidden=\"true\" d=\"M0,0h200v200h-200Z\"></path><g><g class=\"mark-line role-mark concat_1_layer_0_marks\" role=\"graphics-object\" aria-roledescription=\"line mark container\"><path aria-label=\"edges_x: 0.231871083902; edges_y: 0.0635294670821; ew: 0.16756756756756758; pe: [2, 2]\" role=\"graphics-symbol\" aria-roledescription=\"line mark\" d=\"M18.838726271738896,190.9243618454186L149.20910948660304,128.2078564711455\" stroke=\"black\" stroke-width=\"0.7088607594936709\" opacity=\"0.38378378378378375\"></path></g></g><path class=\"foreground\" aria-hidden=\"true\" d=\"\" display=\"none\"></path></g><g transform=\"translate(0,0)\"><path class=\"background\" aria-hidden=\"true\" d=\"M0,0h200v200h-200Z\"></path><g><g class=\"mark-line role-mark concat_1_layer_0_marks\" role=\"graphics-object\" aria-roledescription=\"line mark container\"><path aria-label=\"edges_x: 0.231871083902; edges_y: 0.0635294670821; ew: 0.08648648648648649; pe: [2, 3]\" role=\"graphics-symbol\" aria-roledescription=\"line mark\" d=\"M18.838726271738896,190.9243618454186L153.71710618397682,38.1879944450747\" stroke=\"black\" stroke-width=\"0.27848101265822783\" opacity=\"0.34324324324324323\"></path></g></g><path class=\"foreground\" aria-hidden=\"true\" d=\"\" display=\"none\"></path></g><g transform=\"translate(0,0)\"><path class=\"background\" aria-hidden=\"true\" d=\"M0,0h200v200h-200Z\"></path><g><g class=\"mark-line role-mark concat_1_layer_0_marks\" role=\"graphics-object\" aria-roledescription=\"line mark container\"><path aria-label=\"edges_x: 0.231871083902; edges_y: 0.0635294670821; ew: 0.10810810810810811; pe: [2, 4]\" role=\"graphics-symbol\" aria-roledescription=\"line mark\" d=\"M18.838726271738896,190.9243618454186L61.741916691113495,66.33765593372551\" stroke=\"black\" stroke-width=\"0.45569620253164556\" opacity=\"0.35405405405405405\"></path></g></g><path class=\"foreground\" aria-hidden=\"true\" d=\"\" display=\"none\"></path></g><g transform=\"translate(0,0)\"><path class=\"background\" aria-hidden=\"true\" d=\"M0,0h200v200h-200Z\"></path><g><g class=\"mark-line role-mark concat_1_layer_0_marks\" role=\"graphics-object\" aria-roledescription=\"line mark container\"><path aria-label=\"edges_x: 0.231871083902; edges_y: 0.0635294670821; ew: 0.23243243243243245; pe: [2, 5]\" role=\"graphics-symbol\" aria-roledescription=\"line mark\" d=\"M18.838726271738896,190.9243618454186L190.603675868229,33.22532928668005\" stroke=\"black\" stroke-width=\"0.9620253164556962\" opacity=\"0.4162162162162162\"></path></g></g><path class=\"foreground\" aria-hidden=\"true\" d=\"\" display=\"none\"></path></g><g transform=\"translate(0,0)\"><path class=\"background\" aria-hidden=\"true\" d=\"M0,0h200v200h-200Z\"></path><g><g class=\"mark-line role-mark concat_1_layer_0_marks\" role=\"graphics-object\" aria-roledescription=\"line mark container\"><path aria-label=\"edges_x: 0.231871083902; edges_y: 0.0635294670821; ew: 0.16756756756756758; pe: [2, 6]\" role=\"graphics-symbol\" aria-roledescription=\"line mark\" d=\"M18.838726271738896,190.9243618454186L78.69761236789526,93.56957015857297\" stroke=\"black\" stroke-width=\"0.7088607594936709\" opacity=\"0.38378378378378375\"></path></g></g><path class=\"foreground\" aria-hidden=\"true\" d=\"\" display=\"none\"></path></g><g transform=\"translate(0,0)\"><path class=\"background\" aria-hidden=\"true\" d=\"M0,0h200v200h-200Z\"></path><g><g class=\"mark-line role-mark concat_1_layer_0_marks\" role=\"graphics-object\" aria-roledescription=\"line mark container\"><path aria-label=\"edges_x: 0.231871083902; edges_y: 0.0635294670821; ew: 0.32972972972972975; pe: [2, 7]\" role=\"graphics-symbol\" aria-roledescription=\"line mark\" d=\"M18.838726271738896,190.9243618454186L74.06336848508865,11.521643417649518\" stroke=\"black\" stroke-width=\"1.2911392405063291\" opacity=\"0.4648648648648649\"></path></g></g><path class=\"foreground\" aria-hidden=\"true\" d=\"\" display=\"none\"></path></g><g transform=\"translate(0,0)\"><path class=\"background\" aria-hidden=\"true\" d=\"M0,0h200v200h-200Z\"></path><g><g class=\"mark-line role-mark concat_1_layer_0_marks\" role=\"graphics-object\" aria-roledescription=\"line mark container\"><path aria-label=\"edges_x: 0.231871083902; edges_y: 0.0635294670821; ew: 0.2783783783783784; pe: [2, 8]\" role=\"graphics-symbol\" aria-roledescription=\"line mark\" d=\"M18.838726271738896,190.9243618454186L158.00874149700016,113.79095593150583\" stroke=\"black\" stroke-width=\"1.1898734177215189\" opacity=\"0.43918918918918926\"></path></g></g><path class=\"foreground\" aria-hidden=\"true\" d=\"\" display=\"none\"></path></g><g transform=\"translate(0,0)\"><path class=\"background\" aria-hidden=\"true\" d=\"M0,0h200v200h-200Z\"></path><g><g class=\"mark-line role-mark concat_1_layer_0_marks\" role=\"graphics-object\" aria-roledescription=\"line mark container\"><path aria-label=\"edges_x: 0.231871083902; edges_y: 0.0635294670821; ew: 0.24324324324324323; pe: [2, 9]\" role=\"graphics-symbol\" aria-roledescription=\"line mark\" d=\"M18.838726271738896,190.9243618454186L88.83659617216387,13.929128486527853\" stroke=\"black\" stroke-width=\"1.0632911392405062\" opacity=\"0.42162162162162165\"></path></g></g><path class=\"foreground\" aria-hidden=\"true\" d=\"\" display=\"none\"></path></g><g transform=\"translate(0,0)\"><path class=\"background\" aria-hidden=\"true\" d=\"M0,0h200v200h-200Z\"></path><g><g class=\"mark-line role-mark concat_1_layer_0_marks\" role=\"graphics-object\" aria-roledescription=\"line mark container\"><path aria-label=\"edges_x: 0.231871083902; edges_y: 0.0635294670821; ew: 0.3324324324324325; pe: [2, 10]\" role=\"graphics-symbol\" aria-roledescription=\"line mark\" d=\"M18.838726271738896,190.9243618454186L145.1531329485203,61.50445326788771\" stroke=\"black\" stroke-width=\"1.3164556962025316\" opacity=\"0.46621621621621623\"></path></g></g><path class=\"foreground\" aria-hidden=\"true\" d=\"\" display=\"none\"></path></g><g transform=\"translate(0,0)\"><path class=\"background\" aria-hidden=\"true\" d=\"M0,0h200v200h-200Z\"></path><g><g class=\"mark-line role-mark concat_1_layer_0_marks\" role=\"graphics-object\" aria-roledescription=\"line mark container\"><path aria-label=\"edges_x: 0.506517095705; edges_y: 0.44817218029; ew: 1; pe: [3, 1]\" role=\"graphics-symbol\" aria-roledescription=\"line mark\" d=\"M58.07387081502732,135.97540281571327L120.31107078371059,1.8236958438736073\" stroke=\"black\" stroke-width=\"2\" opacity=\"0.8\"></path></g></g><path class=\"foreground\" aria-hidden=\"true\" d=\"\" display=\"none\"></path></g><g transform=\"translate(0,0)\"><path class=\"background\" aria-hidden=\"true\" d=\"M0,0h200v200h-200Z\"></path><g><g class=\"mark-line role-mark concat_1_layer_0_marks\" role=\"graphics-object\" aria-roledescription=\"line mark container\"><path aria-label=\"edges_x: 0.506517095705; edges_y: 0.44817218029; ew: 0.42162162162162165; pe: [3, 2]\" role=\"graphics-symbol\" aria-roledescription=\"line mark\" d=\"M58.07387081502732,135.97540281571327L149.20910948660304,128.2078564711455\" stroke=\"black\" stroke-width=\"1.5949367088607596\" opacity=\"0.5108108108108108\"></path></g></g><path class=\"foreground\" aria-hidden=\"true\" d=\"\" display=\"none\"></path></g><g transform=\"translate(0,0)\"><path class=\"background\" aria-hidden=\"true\" d=\"M0,0h200v200h-200Z\"></path><g><g class=\"mark-line role-mark concat_1_layer_0_marks\" role=\"graphics-object\" aria-roledescription=\"line mark container\"><path aria-label=\"edges_x: 0.506517095705; edges_y: 0.44817218029; ew: 0.23243243243243245; pe: [3, 3]\" role=\"graphics-symbol\" aria-roledescription=\"line mark\" d=\"M58.07387081502732,135.97540281571327L153.71710618397682,38.1879944450747\" stroke=\"black\" stroke-width=\"0.9620253164556962\" opacity=\"0.4162162162162162\"></path></g></g><path class=\"foreground\" aria-hidden=\"true\" d=\"\" display=\"none\"></path></g><g transform=\"translate(0,0)\"><path class=\"background\" aria-hidden=\"true\" d=\"M0,0h200v200h-200Z\"></path><g><g class=\"mark-line role-mark concat_1_layer_0_marks\" role=\"graphics-object\" aria-roledescription=\"line mark container\"><path aria-label=\"edges_x: 0.506517095705; edges_y: 0.44817218029; ew: 0.2675675675675676; pe: [3, 4]\" role=\"graphics-symbol\" aria-roledescription=\"line mark\" d=\"M58.07387081502732,135.97540281571327L61.741916691113495,66.33765593372551\" stroke=\"black\" stroke-width=\"1.139240506329114\" opacity=\"0.4337837837837838\"></path></g></g><path class=\"foreground\" aria-hidden=\"true\" d=\"\" display=\"none\"></path></g><g transform=\"translate(0,0)\"><path class=\"background\" aria-hidden=\"true\" d=\"M0,0h200v200h-200Z\"></path><g><g class=\"mark-line role-mark concat_1_layer_0_marks\" role=\"graphics-object\" aria-roledescription=\"line mark container\"><path aria-label=\"edges_x: 0.506517095705; edges_y: 0.44817218029; ew: 0.6243243243243243; pe: [3, 5]\" role=\"graphics-symbol\" aria-roledescription=\"line mark\" d=\"M58.07387081502732,135.97540281571327L190.603675868229,33.22532928668005\" stroke=\"black\" stroke-width=\"1.7721518987341771\" opacity=\"0.6121621621621622\"></path></g></g><path class=\"foreground\" aria-hidden=\"true\" d=\"\" display=\"none\"></path></g><g transform=\"translate(0,0)\"><path class=\"background\" aria-hidden=\"true\" d=\"M0,0h200v200h-200Z\"></path><g><g class=\"mark-line role-mark concat_1_layer_0_marks\" role=\"graphics-object\" aria-roledescription=\"line mark container\"><path aria-label=\"edges_x: 0.506517095705; edges_y: 0.44817218029; ew: 0.41621621621621624; pe: [3, 6]\" role=\"graphics-symbol\" aria-roledescription=\"line mark\" d=\"M58.07387081502732,135.97540281571327L78.69761236789526,93.56957015857297\" stroke=\"black\" stroke-width=\"1.5443037974683544\" opacity=\"0.5081081081081081\"></path></g></g><path class=\"foreground\" aria-hidden=\"true\" d=\"\" display=\"none\"></path></g><g transform=\"translate(0,0)\"><path class=\"background\" aria-hidden=\"true\" d=\"M0,0h200v200h-200Z\"></path><g><g class=\"mark-line role-mark concat_1_layer_0_marks\" role=\"graphics-object\" aria-roledescription=\"line mark container\"><path aria-label=\"edges_x: 0.506517095705; edges_y: 0.44817218029; ew: 0.8567567567567568; pe: [3, 7]\" role=\"graphics-symbol\" aria-roledescription=\"line mark\" d=\"M58.07387081502732,135.97540281571327L74.06336848508865,11.521643417649518\" stroke=\"black\" stroke-width=\"1.9240506329113924\" opacity=\"0.7283783783783785\"></path></g></g><path class=\"foreground\" aria-hidden=\"true\" d=\"\" display=\"none\"></path></g><g transform=\"translate(0,0)\"><path class=\"background\" aria-hidden=\"true\" d=\"M0,0h200v200h-200Z\"></path><g><g class=\"mark-line role-mark concat_1_layer_0_marks\" role=\"graphics-object\" aria-roledescription=\"line mark container\"><path aria-label=\"edges_x: 0.506517095705; edges_y: 0.44817218029; ew: 0.7054054054054055; pe: [3, 8]\" role=\"graphics-symbol\" aria-roledescription=\"line mark\" d=\"M58.07387081502732,135.97540281571327L158.00874149700016,113.79095593150583\" stroke=\"black\" stroke-width=\"1.8481012658227849\" opacity=\"0.6527027027027028\"></path></g></g><path class=\"foreground\" aria-hidden=\"true\" d=\"\" display=\"none\"></path></g><g transform=\"translate(0,0)\"><path class=\"background\" aria-hidden=\"true\" d=\"M0,0h200v200h-200Z\"></path><g><g class=\"mark-line role-mark concat_1_layer_0_marks\" role=\"graphics-object\" aria-roledescription=\"line mark container\"><path aria-label=\"edges_x: 0.506517095705; edges_y: 0.44817218029; ew: 0.6324324324324325; pe: [3, 9]\" role=\"graphics-symbol\" aria-roledescription=\"line mark\" d=\"M58.07387081502732,135.97540281571327L88.83659617216387,13.929128486527853\" stroke=\"black\" stroke-width=\"1.7974683544303798\" opacity=\"0.6162162162162163\"></path></g></g><path class=\"foreground\" aria-hidden=\"true\" d=\"\" display=\"none\"></path></g><g transform=\"translate(0,0)\"><path class=\"background\" aria-hidden=\"true\" d=\"M0,0h200v200h-200Z\"></path><g><g class=\"mark-line role-mark concat_1_layer_0_marks\" role=\"graphics-object\" aria-roledescription=\"line mark container\"><path aria-label=\"edges_x: 0.506517095705; edges_y: 0.44817218029; ew: 0.8594594594594596; pe: [3, 10]\" role=\"graphics-symbol\" aria-roledescription=\"line mark\" d=\"M58.07387081502732,135.97540281571327L145.1531329485203,61.50445326788771\" stroke=\"black\" stroke-width=\"1.9493670886075949\" opacity=\"0.7297297297297298\"></path></g></g><path class=\"foreground\" aria-hidden=\"true\" d=\"\" display=\"none\"></path></g><g transform=\"translate(0,0)\"><path class=\"background\" aria-hidden=\"true\" d=\"M0,0h200v200h-200Z\"></path><g><g class=\"mark-line role-mark concat_1_layer_0_marks\" role=\"graphics-object\" aria-roledescription=\"line mark container\"><path aria-label=\"edges_x: 0.46170452839; edges_y: 0.123550838093; ew: 0.8756756756756757; pe: [4, 1]\" role=\"graphics-symbol\" aria-roledescription=\"line mark\" d=\"M51.67207548430305,182.34988027245203L120.31107078371059,1.8236958438736073\" stroke=\"black\" stroke-width=\"1.9746835443037973\" opacity=\"0.7378378378378379\"></path></g></g><path class=\"foreground\" aria-hidden=\"true\" d=\"\" display=\"none\"></path></g><g transform=\"translate(0,0)\"><path class=\"background\" aria-hidden=\"true\" d=\"M0,0h200v200h-200Z\"></path><g><g class=\"mark-line role-mark concat_1_layer_0_marks\" role=\"graphics-object\" aria-roledescription=\"line mark container\"><path aria-label=\"edges_x: 0.46170452839; edges_y: 0.123550838093; ew: 0.3891891891891892; pe: [4, 2]\" role=\"graphics-symbol\" aria-roledescription=\"line mark\" d=\"M51.67207548430305,182.34988027245203L149.20910948660304,128.2078564711455\" stroke=\"black\" stroke-width=\"1.4936708860759493\" opacity=\"0.49459459459459465\"></path></g></g><path class=\"foreground\" aria-hidden=\"true\" d=\"\" display=\"none\"></path></g><g transform=\"translate(0,0)\"><path class=\"background\" aria-hidden=\"true\" d=\"M0,0h200v200h-200Z\"></path><g><g class=\"mark-line role-mark concat_1_layer_0_marks\" role=\"graphics-object\" aria-roledescription=\"line mark container\"><path aria-label=\"edges_x: 0.46170452839; edges_y: 0.123550838093; ew: 0.20540540540540542; pe: [4, 3]\" role=\"graphics-symbol\" aria-roledescription=\"line mark\" d=\"M51.67207548430305,182.34988027245203L153.71710618397682,38.1879944450747\" stroke=\"black\" stroke-width=\"0.810126582278481\" opacity=\"0.4027027027027027\"></path></g></g><path class=\"foreground\" aria-hidden=\"true\" d=\"\" display=\"none\"></path></g><g transform=\"translate(0,0)\"><path class=\"background\" aria-hidden=\"true\" d=\"M0,0h200v200h-200Z\"></path><g><g class=\"mark-line role-mark concat_1_layer_0_marks\" role=\"graphics-object\" aria-roledescription=\"line mark container\"><path aria-label=\"edges_x: 0.46170452839; edges_y: 0.123550838093; ew: 0.24324324324324323; pe: [4, 4]\" role=\"graphics-symbol\" aria-roledescription=\"line mark\" d=\"M51.67207548430305,182.34988027245203L61.741916691113495,66.33765593372551\" stroke=\"black\" stroke-width=\"1.0632911392405062\" opacity=\"0.42162162162162165\"></path></g></g><path class=\"foreground\" aria-hidden=\"true\" d=\"\" display=\"none\"></path></g><g transform=\"translate(0,0)\"><path class=\"background\" aria-hidden=\"true\" d=\"M0,0h200v200h-200Z\"></path><g><g class=\"mark-line role-mark concat_1_layer_0_marks\" role=\"graphics-object\" aria-roledescription=\"line mark container\"><path aria-label=\"edges_x: 0.46170452839; edges_y: 0.123550838093; ew: 0.5513513513513514; pe: [4, 5]\" role=\"graphics-symbol\" aria-roledescription=\"line mark\" d=\"M51.67207548430305,182.34988027245203L190.603675868229,33.22532928668005\" stroke=\"black\" stroke-width=\"1.6962025316455696\" opacity=\"0.5756756756756757\"></path></g></g><path class=\"foreground\" aria-hidden=\"true\" d=\"\" display=\"none\"></path></g><g transform=\"translate(0,0)\"><path class=\"background\" aria-hidden=\"true\" d=\"M0,0h200v200h-200Z\"></path><g><g class=\"mark-line role-mark concat_1_layer_0_marks\" role=\"graphics-object\" aria-roledescription=\"line mark container\"><path aria-label=\"edges_x: 0.46170452839; edges_y: 0.123550838093; ew: 0.3810810810810811; pe: [4, 6]\" role=\"graphics-symbol\" aria-roledescription=\"line mark\" d=\"M51.67207548430305,182.34988027245203L78.69761236789526,93.56957015857297\" stroke=\"black\" stroke-width=\"1.4430379746835442\" opacity=\"0.4905405405405405\"></path></g></g><path class=\"foreground\" aria-hidden=\"true\" d=\"\" display=\"none\"></path></g><g transform=\"translate(0,0)\"><path class=\"background\" aria-hidden=\"true\" d=\"M0,0h200v200h-200Z\"></path><g><g class=\"mark-line role-mark concat_1_layer_0_marks\" role=\"graphics-object\" aria-roledescription=\"line mark container\"><path aria-label=\"edges_x: 0.46170452839; edges_y: 0.123550838093; ew: 0.7540540540540541; pe: [4, 7]\" role=\"graphics-symbol\" aria-roledescription=\"line mark\" d=\"M51.67207548430305,182.34988027245203L74.06336848508865,11.521643417649518\" stroke=\"black\" stroke-width=\"1.8734177215189873\" opacity=\"0.6770270270270271\"></path></g></g><path class=\"foreground\" aria-hidden=\"true\" d=\"\" display=\"none\"></path></g><g transform=\"translate(0,0)\"><path class=\"background\" aria-hidden=\"true\" d=\"M0,0h200v200h-200Z\"></path><g><g class=\"mark-line role-mark concat_1_layer_0_marks\" role=\"graphics-object\" aria-roledescription=\"line mark container\"><path aria-label=\"edges_x: 0.46170452839; edges_y: 0.123550838093; ew: 0.6486486486486487; pe: [4, 8]\" role=\"graphics-symbol\" aria-roledescription=\"line mark\" d=\"M51.67207548430305,182.34988027245203L158.00874149700016,113.79095593150583\" stroke=\"black\" stroke-width=\"1.8227848101265822\" opacity=\"0.6243243243243244\"></path></g></g><path class=\"foreground\" aria-hidden=\"true\" d=\"\" display=\"none\"></path></g><g transform=\"translate(0,0)\"><path class=\"background\" aria-hidden=\"true\" d=\"M0,0h200v200h-200Z\"></path><g><g class=\"mark-line role-mark concat_1_layer_0_marks\" role=\"graphics-object\" aria-roledescription=\"line mark container\"><path aria-label=\"edges_x: 0.46170452839; edges_y: 0.123550838093; ew: 0.5567567567567568; pe: [4, 9]\" role=\"graphics-symbol\" aria-roledescription=\"line mark\" d=\"M51.67207548430305,182.34988027245203L88.83659617216387,13.929128486527853\" stroke=\"black\" stroke-width=\"1.7215189873417722\" opacity=\"0.5783783783783785\"></path></g></g><path class=\"foreground\" aria-hidden=\"true\" d=\"\" display=\"none\"></path></g><g transform=\"translate(0,0)\"><path class=\"background\" aria-hidden=\"true\" d=\"M0,0h200v200h-200Z\"></path><g><g class=\"mark-line role-mark concat_1_layer_0_marks\" role=\"graphics-object\" aria-roledescription=\"line mark container\"><path aria-label=\"edges_x: 0.46170452839; edges_y: 0.123550838093; ew: 0.7729729729729731; pe: [4, 10]\" role=\"graphics-symbol\" aria-roledescription=\"line mark\" d=\"M51.67207548430305,182.34988027245203L145.1531329485203,61.50445326788771\" stroke=\"black\" stroke-width=\"1.8987341772151898\" opacity=\"0.6864864864864866\"></path></g></g><path class=\"foreground\" aria-hidden=\"true\" d=\"\" display=\"none\"></path></g><g transform=\"translate(0,0)\"><path class=\"background\" aria-hidden=\"true\" d=\"M0,0h200v200h-200Z\"></path><g><g class=\"mark-line role-mark concat_1_layer_0_marks\" role=\"graphics-object\" aria-roledescription=\"line mark container\"><path aria-label=\"edges_x: 0.389310090336; edges_y: 0.066350751231; ew: 0.04054054054054054; pe: [5, 1]\" role=\"graphics-symbol\" aria-roledescription=\"line mark\" d=\"M41.33001290516612,190.52132125271194L120.31107078371059,1.8236958438736073\" stroke=\"black\" stroke-width=\"0.12658227848101267\" opacity=\"0.3202702702702703\"></path></g></g><path class=\"foreground\" aria-hidden=\"true\" d=\"\" display=\"none\"></path></g><g transform=\"translate(0,0)\"><path class=\"background\" aria-hidden=\"true\" d=\"M0,0h200v200h-200Z\"></path><g><g class=\"mark-line role-mark concat_1_layer_0_marks\" role=\"graphics-object\" aria-roledescription=\"line mark container\"><path aria-label=\"edges_x: 0.389310090336; edges_y: 0.066350751231; ew: 0.01891891891891892; pe: [5, 2]\" role=\"graphics-symbol\" aria-roledescription=\"line mark\" d=\"M41.33001290516612,190.52132125271194L149.20910948660304,128.2078564711455\" stroke=\"black\" stroke-width=\"0.02531645569620253\" opacity=\"0.30945945945945946\"></path></g></g><path class=\"foreground\" aria-hidden=\"true\" d=\"\" display=\"none\"></path></g><g transform=\"translate(0,0)\"><path class=\"background\" aria-hidden=\"true\" d=\"M0,0h200v200h-200Z\"></path><g><g class=\"mark-line role-mark concat_1_layer_0_marks\" role=\"graphics-object\" aria-roledescription=\"line mark container\"><path aria-label=\"edges_x: 0.389310090336; edges_y: 0.066350751231; ew: 0.010810810810810811; pe: [5, 3]\" role=\"graphics-symbol\" aria-roledescription=\"line mark\" d=\"M41.33001290516612,190.52132125271194L153.71710618397682,38.1879944450747\" stroke=\"black\" stroke-width=\"0\" opacity=\"0.3054054054054054\"></path></g></g><path class=\"foreground\" aria-hidden=\"true\" d=\"\" display=\"none\"></path></g><g transform=\"translate(0,0)\"><path class=\"background\" aria-hidden=\"true\" d=\"M0,0h200v200h-200Z\"></path><g><g class=\"mark-line role-mark concat_1_layer_0_marks\" role=\"graphics-object\" aria-roledescription=\"line mark container\"><path aria-label=\"edges_x: 0.389310090336; edges_y: 0.066350751231; ew: 0.010810810810810811; pe: [5, 4]\" role=\"graphics-symbol\" aria-roledescription=\"line mark\" d=\"M41.33001290516612,190.52132125271194L61.741916691113495,66.33765593372551\" stroke=\"black\" stroke-width=\"0\" opacity=\"0.3054054054054054\"></path></g></g><path class=\"foreground\" aria-hidden=\"true\" d=\"\" display=\"none\"></path></g><g transform=\"translate(0,0)\"><path class=\"background\" aria-hidden=\"true\" d=\"M0,0h200v200h-200Z\"></path><g><g class=\"mark-line role-mark concat_1_layer_0_marks\" role=\"graphics-object\" aria-roledescription=\"line mark container\"><path aria-label=\"edges_x: 0.389310090336; edges_y: 0.066350751231; ew: 0.02702702702702703; pe: [5, 5]\" role=\"graphics-symbol\" aria-roledescription=\"line mark\" d=\"M41.33001290516612,190.52132125271194L190.603675868229,33.22532928668005\" stroke=\"black\" stroke-width=\"0.05063291139240506\" opacity=\"0.31351351351351353\"></path></g></g><path class=\"foreground\" aria-hidden=\"true\" d=\"\" display=\"none\"></path></g><g transform=\"translate(0,0)\"><path class=\"background\" aria-hidden=\"true\" d=\"M0,0h200v200h-200Z\"></path><g><g class=\"mark-line role-mark concat_1_layer_0_marks\" role=\"graphics-object\" aria-roledescription=\"line mark container\"><path aria-label=\"edges_x: 0.389310090336; edges_y: 0.066350751231; ew: 0.01891891891891892; pe: [5, 6]\" role=\"graphics-symbol\" aria-roledescription=\"line mark\" d=\"M41.33001290516612,190.52132125271194L78.69761236789526,93.56957015857297\" stroke=\"black\" stroke-width=\"0.02531645569620253\" opacity=\"0.30945945945945946\"></path></g></g><path class=\"foreground\" aria-hidden=\"true\" d=\"\" display=\"none\"></path></g><g transform=\"translate(0,0)\"><path class=\"background\" aria-hidden=\"true\" d=\"M0,0h200v200h-200Z\"></path><g><g class=\"mark-line role-mark concat_1_layer_0_marks\" role=\"graphics-object\" aria-roledescription=\"line mark container\"><path aria-label=\"edges_x: 0.389310090336; edges_y: 0.066350751231; ew: 0.03513513513513514; pe: [5, 7]\" role=\"graphics-symbol\" aria-roledescription=\"line mark\" d=\"M41.33001290516612,190.52132125271194L74.06336848508865,11.521643417649518\" stroke=\"black\" stroke-width=\"0.10126582278481013\" opacity=\"0.31756756756756754\"></path></g></g><path class=\"foreground\" aria-hidden=\"true\" d=\"\" display=\"none\"></path></g><g transform=\"translate(0,0)\"><path class=\"background\" aria-hidden=\"true\" d=\"M0,0h200v200h-200Z\"></path><g><g class=\"mark-line role-mark concat_1_layer_0_marks\" role=\"graphics-object\" aria-roledescription=\"line mark container\"><path aria-label=\"edges_x: 0.389310090336; edges_y: 0.066350751231; ew: 0.02972972972972973; pe: [5, 8]\" role=\"graphics-symbol\" aria-roledescription=\"line mark\" d=\"M41.33001290516612,190.52132125271194L158.00874149700016,113.79095593150583\" stroke=\"black\" stroke-width=\"0.0759493670886076\" opacity=\"0.3148648648648648\"></path></g></g><path class=\"foreground\" aria-hidden=\"true\" d=\"\" display=\"none\"></path></g><g transform=\"translate(0,0)\"><path class=\"background\" aria-hidden=\"true\" d=\"M0,0h200v200h-200Z\"></path><g><g class=\"mark-line role-mark concat_1_layer_0_marks\" role=\"graphics-object\" aria-roledescription=\"line mark container\"><path aria-label=\"edges_x: 0.389310090336; edges_y: 0.066350751231; ew: 0.02702702702702703; pe: [5, 9]\" role=\"graphics-symbol\" aria-roledescription=\"line mark\" d=\"M41.33001290516612,190.52132125271194L88.83659617216387,13.929128486527853\" stroke=\"black\" stroke-width=\"0.05063291139240506\" opacity=\"0.31351351351351353\"></path></g></g><path class=\"foreground\" aria-hidden=\"true\" d=\"\" display=\"none\"></path></g><g transform=\"translate(0,0)\"><path class=\"background\" aria-hidden=\"true\" d=\"M0,0h200v200h-200Z\"></path><g><g class=\"mark-line role-mark concat_1_layer_0_marks\" role=\"graphics-object\" aria-roledescription=\"line mark container\"><path aria-label=\"edges_x: 0.389310090336; edges_y: 0.066350751231; ew: 0.03513513513513514; pe: [5, 10]\" role=\"graphics-symbol\" aria-roledescription=\"line mark\" d=\"M41.33001290516612,190.52132125271194L145.1531329485203,61.50445326788771\" stroke=\"black\" stroke-width=\"0.10126582278481013\" opacity=\"0.31756756756756754\"></path></g></g><path class=\"foreground\" aria-hidden=\"true\" d=\"\" display=\"none\"></path></g><g transform=\"translate(0,0)\"><path class=\"background\" aria-hidden=\"true\" d=\"M0,0h200v200h-200Z\"></path><g><g class=\"mark-line role-mark concat_1_layer_0_marks\" role=\"graphics-object\" aria-roledescription=\"line mark container\"><path aria-label=\"edges_x: 0.699330260661; edges_y: 0.226552362676; ew: 0.372972972972973; pe: [6, 1]\" role=\"graphics-symbol\" aria-roledescription=\"line mark\" d=\"M85.61860866591833,167.6353767605977L120.31107078371059,1.8236958438736073\" stroke=\"black\" stroke-width=\"1.3924050632911391\" opacity=\"0.4864864864864865\"></path></g></g><path class=\"foreground\" aria-hidden=\"true\" d=\"\" display=\"none\"></path></g><g transform=\"translate(0,0)\"><path class=\"background\" aria-hidden=\"true\" d=\"M0,0h200v200h-200Z\"></path><g><g class=\"mark-line role-mark concat_1_layer_0_marks\" role=\"graphics-object\" aria-roledescription=\"line mark container\"><path aria-label=\"edges_x: 0.699330260661; edges_y: 0.226552362676; ew: 0.16486486486486487; pe: [6, 2]\" role=\"graphics-symbol\" aria-roledescription=\"line mark\" d=\"M85.61860866591833,167.6353767605977L149.20910948660304,128.2078564711455\" stroke=\"black\" stroke-width=\"0.6835443037974683\" opacity=\"0.3824324324324324\"></path></g></g><path class=\"foreground\" aria-hidden=\"true\" d=\"\" display=\"none\"></path></g><g transform=\"translate(0,0)\"><path class=\"background\" aria-hidden=\"true\" d=\"M0,0h200v200h-200Z\"></path><g><g class=\"mark-line role-mark concat_1_layer_0_marks\" role=\"graphics-object\" aria-roledescription=\"line mark container\"><path aria-label=\"edges_x: 0.699330260661; edges_y: 0.226552362676; ew: 0.0891891891891892; pe: [6, 3]\" role=\"graphics-symbol\" aria-roledescription=\"line mark\" d=\"M85.61860866591833,167.6353767605977L153.71710618397682,38.1879944450747\" stroke=\"black\" stroke-width=\"0.3037974683544304\" opacity=\"0.34459459459459457\"></path></g></g><path class=\"foreground\" aria-hidden=\"true\" d=\"\" display=\"none\"></path></g><g transform=\"translate(0,0)\"><path class=\"background\" aria-hidden=\"true\" d=\"M0,0h200v200h-200Z\"></path><g><g class=\"mark-line role-mark concat_1_layer_0_marks\" role=\"graphics-object\" aria-roledescription=\"line mark container\"><path aria-label=\"edges_x: 0.532193416838; edges_y: 0.935636408464; ew: 0.1; pe: [6, 4]\" role=\"graphics-symbol\" aria-roledescription=\"line mark\" d=\"M61.741916691113495,66.33765593372551L85.61860866591833,167.6353767605977\" stroke=\"black\" stroke-width=\"0.37974683544303794\" opacity=\"0.35000000000000003\"></path></g></g><path class=\"foreground\" aria-hidden=\"true\" d=\"\" display=\"none\"></path></g><g transform=\"translate(0,0)\"><path class=\"background\" aria-hidden=\"true\" d=\"M0,0h200v200h-200Z\"></path><g><g class=\"mark-line role-mark concat_1_layer_0_marks\" role=\"graphics-object\" aria-roledescription=\"line mark container\"><path aria-label=\"edges_x: 0.699330260661; edges_y: 0.226552362676; ew: 0.24054054054054055; pe: [6, 5]\" role=\"graphics-symbol\" aria-roledescription=\"line mark\" d=\"M85.61860866591833,167.6353767605977L190.603675868229,33.22532928668005\" stroke=\"black\" stroke-width=\"1.0379746835443038\" opacity=\"0.4202702702702703\"></path></g></g><path class=\"foreground\" aria-hidden=\"true\" d=\"\" display=\"none\"></path></g><g transform=\"translate(0,0)\"><path class=\"background\" aria-hidden=\"true\" d=\"M0,0h200v200h-200Z\"></path><g><g class=\"mark-line role-mark concat_1_layer_0_marks\" role=\"graphics-object\" aria-roledescription=\"line mark container\"><path aria-label=\"edges_x: 0.650883286575; edges_y: 0.74501300889; ew: 0.15945945945945947; pe: [6, 6]\" role=\"graphics-symbol\" aria-roledescription=\"line mark\" d=\"M78.69761236789526,93.56957015857297L85.61860866591833,167.6353767605977\" stroke=\"black\" stroke-width=\"0.6329113924050633\" opacity=\"0.37972972972972974\"></path></g></g><path class=\"foreground\" aria-hidden=\"true\" d=\"\" display=\"none\"></path></g><g transform=\"translate(0,0)\"><path class=\"background\" aria-hidden=\"true\" d=\"M0,0h200v200h-200Z\"></path><g><g class=\"mark-line role-mark concat_1_layer_0_marks\" role=\"graphics-object\" aria-roledescription=\"line mark container\"><path aria-label=\"edges_x: 0.618443579396; edges_y: 1.31934849608; ew: 0.31621621621621626; pe: [6, 7]\" role=\"graphics-symbol\" aria-roledescription=\"line mark\" d=\"M74.06336848508865,11.521643417649518L85.61860866591833,167.6353767605977\" stroke=\"black\" stroke-width=\"1.2658227848101267\" opacity=\"0.4581081081081081\"></path></g></g><path class=\"foreground\" aria-hidden=\"true\" d=\"\" display=\"none\"></path></g><g transform=\"translate(0,0)\"><path class=\"background\" aria-hidden=\"true\" d=\"M0,0h200v200h-200Z\"></path><g><g class=\"mark-line role-mark concat_1_layer_0_marks\" role=\"graphics-object\" aria-roledescription=\"line mark container\"><path aria-label=\"edges_x: 0.699330260661; edges_y: 0.226552362676; ew: 0.2756756756756757; pe: [6, 8]\" role=\"graphics-symbol\" aria-roledescription=\"line mark\" d=\"M85.61860866591833,167.6353767605977L158.00874149700016,113.79095593150583\" stroke=\"black\" stroke-width=\"1.1645569620253164\" opacity=\"0.4378378378378378\"></path></g></g><path class=\"foreground\" aria-hidden=\"true\" d=\"\" display=\"none\"></path></g><g transform=\"translate(0,0)\"><path class=\"background\" aria-hidden=\"true\" d=\"M0,0h200v200h-200Z\"></path><g><g class=\"mark-line role-mark concat_1_layer_0_marks\" role=\"graphics-object\" aria-roledescription=\"line mark container\"><path aria-label=\"edges_x: 0.699330260661; edges_y: 0.226552362676; ew: 0.23513513513513512; pe: [6, 9]\" role=\"graphics-symbol\" aria-roledescription=\"line mark\" d=\"M85.61860866591833,167.6353767605977L88.83659617216387,13.929128486527853\" stroke=\"black\" stroke-width=\"0.9873417721518987\" opacity=\"0.4175675675675675\"></path></g></g><path class=\"foreground\" aria-hidden=\"true\" d=\"\" display=\"none\"></path></g><g transform=\"translate(0,0)\"><path class=\"background\" aria-hidden=\"true\" d=\"M0,0h200v200h-200Z\"></path><g><g class=\"mark-line role-mark concat_1_layer_0_marks\" role=\"graphics-object\" aria-roledescription=\"line mark container\"><path aria-label=\"edges_x: 0.699330260661; edges_y: 0.226552362676; ew: 0.32972972972972975; pe: [6, 10]\" role=\"graphics-symbol\" aria-roledescription=\"line mark\" d=\"M85.61860866591833,167.6353767605977L145.1531329485203,61.50445326788771\" stroke=\"black\" stroke-width=\"1.2911392405063291\" opacity=\"0.4648648648648649\"></path></g></g><path class=\"foreground\" aria-hidden=\"true\" d=\"\" display=\"none\"></path></g><g transform=\"translate(0,0)\"><path class=\"background\" aria-hidden=\"true\" d=\"M0,0h200v200h-200Z\"></path><g><g class=\"mark-line role-mark concat_1_layer_0_marks\" role=\"graphics-object\" aria-roledescription=\"line mark container\"><path aria-label=\"edges_x: 0.167096821437; edges_y: 0.469605886451; ew: 0.24864864864864866; pe: [7, 1]\" role=\"graphics-symbol\" aria-roledescription=\"line mark\" d=\"M9.58526020524795,132.91344479278442L120.31107078371059,1.8236958438736073\" stroke=\"black\" stroke-width=\"1.0886075949367089\" opacity=\"0.4243243243243243\"></path></g></g><path class=\"foreground\" aria-hidden=\"true\" d=\"\" display=\"none\"></path></g><g transform=\"translate(0,0)\"><path class=\"background\" aria-hidden=\"true\" d=\"M0,0h200v200h-200Z\"></path><g><g class=\"mark-line role-mark concat_1_layer_0_marks\" role=\"graphics-object\" aria-roledescription=\"line mark container\"><path aria-label=\"edges_x: 0.167096821437; edges_y: 0.469605886451; ew: 0.10270270270270271; pe: [7, 2]\" role=\"graphics-symbol\" aria-roledescription=\"line mark\" d=\"M9.58526020524795,132.91344479278442L149.20910948660304,128.2078564711455\" stroke=\"black\" stroke-width=\"0.4050632911392405\" opacity=\"0.3513513513513513\"></path></g></g><path class=\"foreground\" aria-hidden=\"true\" d=\"\" display=\"none\"></path></g><g transform=\"translate(0,0)\"><path class=\"background\" aria-hidden=\"true\" d=\"M0,0h200v200h-200Z\"></path><g><g class=\"mark-line role-mark concat_1_layer_0_marks\" role=\"graphics-object\" aria-roledescription=\"line mark container\"><path aria-label=\"edges_x: 0.167096821437; edges_y: 0.469605886451; ew: 0.05675675675675675; pe: [7, 3]\" role=\"graphics-symbol\" aria-roledescription=\"line mark\" d=\"M9.58526020524795,132.91344479278442L153.71710618397682,38.1879944450747\" stroke=\"black\" stroke-width=\"0.17721518987341772\" opacity=\"0.32837837837837835\"></path></g></g><path class=\"foreground\" aria-hidden=\"true\" d=\"\" display=\"none\"></path></g><g transform=\"translate(0,0)\"><path class=\"background\" aria-hidden=\"true\" d=\"M0,0h200v200h-200Z\"></path><g><g class=\"mark-line role-mark concat_1_layer_0_marks\" role=\"graphics-object\" aria-roledescription=\"line mark container\"><path aria-label=\"edges_x: 0.167096821437; edges_y: 0.469605886451; ew: 0.06756756756756757; pe: [7, 4]\" role=\"graphics-symbol\" aria-roledescription=\"line mark\" d=\"M9.58526020524795,132.91344479278442L61.741916691113495,66.33765593372551\" stroke=\"black\" stroke-width=\"0.22784810126582278\" opacity=\"0.33378378378378376\"></path></g></g><path class=\"foreground\" aria-hidden=\"true\" d=\"\" display=\"none\"></path></g><g transform=\"translate(0,0)\"><path class=\"background\" aria-hidden=\"true\" d=\"M0,0h200v200h-200Z\"></path><g><g class=\"mark-line role-mark concat_1_layer_0_marks\" role=\"graphics-object\" aria-roledescription=\"line mark container\"><path aria-label=\"edges_x: 0.167096821437; edges_y: 0.469605886451; ew: 0.15135135135135136; pe: [7, 5]\" role=\"graphics-symbol\" aria-roledescription=\"line mark\" d=\"M9.58526020524795,132.91344479278442L190.603675868229,33.22532928668005\" stroke=\"black\" stroke-width=\"0.6075949367088608\" opacity=\"0.3756756756756757\"></path></g></g><path class=\"foreground\" aria-hidden=\"true\" d=\"\" display=\"none\"></path></g><g transform=\"translate(0,0)\"><path class=\"background\" aria-hidden=\"true\" d=\"M0,0h200v200h-200Z\"></path><g><g class=\"mark-line role-mark concat_1_layer_0_marks\" role=\"graphics-object\" aria-roledescription=\"line mark container\"><path aria-label=\"edges_x: 0.167096821437; edges_y: 0.469605886451; ew: 0.10540540540540541; pe: [7, 6]\" role=\"graphics-symbol\" aria-roledescription=\"line mark\" d=\"M9.58526020524795,132.91344479278442L78.69761236789526,93.56957015857297\" stroke=\"black\" stroke-width=\"0.43037974683544306\" opacity=\"0.3527027027027027\"></path></g></g><path class=\"foreground\" aria-hidden=\"true\" d=\"\" display=\"none\"></path></g><g transform=\"translate(0,0)\"><path class=\"background\" aria-hidden=\"true\" d=\"M0,0h200v200h-200Z\"></path><g><g class=\"mark-line role-mark concat_1_layer_0_marks\" role=\"graphics-object\" aria-roledescription=\"line mark container\"><path aria-label=\"edges_x: 0.167096821437; edges_y: 0.469605886451; ew: 0.21891891891891893; pe: [7, 7]\" role=\"graphics-symbol\" aria-roledescription=\"line mark\" d=\"M9.58526020524795,132.91344479278442L74.06336848508865,11.521643417649518\" stroke=\"black\" stroke-width=\"0.8860759493670886\" opacity=\"0.4094594594594595\"></path></g></g><path class=\"foreground\" aria-hidden=\"true\" d=\"\" display=\"none\"></path></g><g transform=\"translate(0,0)\"><path class=\"background\" aria-hidden=\"true\" d=\"M0,0h200v200h-200Z\"></path><g><g class=\"mark-line role-mark concat_1_layer_0_marks\" role=\"graphics-object\" aria-roledescription=\"line mark container\"><path aria-label=\"edges_x: 0.167096821437; edges_y: 0.469605886451; ew: 0.17297297297297298; pe: [7, 8]\" role=\"graphics-symbol\" aria-roledescription=\"line mark\" d=\"M9.58526020524795,132.91344479278442L158.00874149700016,113.79095593150583\" stroke=\"black\" stroke-width=\"0.7341772151898734\" opacity=\"0.3864864864864865\"></path></g></g><path class=\"foreground\" aria-hidden=\"true\" d=\"\" display=\"none\"></path></g><g transform=\"translate(0,0)\"><path class=\"background\" aria-hidden=\"true\" d=\"M0,0h200v200h-200Z\"></path><g><g class=\"mark-line role-mark concat_1_layer_0_marks\" role=\"graphics-object\" aria-roledescription=\"line mark container\"><path aria-label=\"edges_x: 0.167096821437; edges_y: 0.469605886451; ew: 0.15945945945945947; pe: [7, 9]\" role=\"graphics-symbol\" aria-roledescription=\"line mark\" d=\"M9.58526020524795,132.91344479278442L88.83659617216387,13.929128486527853\" stroke=\"black\" stroke-width=\"0.6329113924050633\" opacity=\"0.37972972972972974\"></path></g></g><path class=\"foreground\" aria-hidden=\"true\" d=\"\" display=\"none\"></path></g><g transform=\"translate(0,0)\"><path class=\"background\" aria-hidden=\"true\" d=\"M0,0h200v200h-200Z\"></path><g><g class=\"mark-line role-mark concat_1_layer_0_marks\" role=\"graphics-object\" aria-roledescription=\"line mark container\"><path aria-label=\"edges_x: 0.167096821437; edges_y: 0.469605886451; ew: 0.21081081081081082; pe: [7, 10]\" role=\"graphics-symbol\" aria-roledescription=\"line mark\" d=\"M9.58526020524795,132.91344479278442L145.1531329485203,61.50445326788771\" stroke=\"black\" stroke-width=\"0.8607594936708861\" opacity=\"0.4054054054054054\"></path></g></g><path class=\"foreground\" aria-hidden=\"true\" d=\"\" display=\"none\"></path></g><g transform=\"translate(0,0)\"><path class=\"background\" aria-hidden=\"true\" d=\"M0,0h200v200h-200Z\"></path><g><g class=\"mark-line role-mark concat_1_layer_0_marks\" role=\"graphics-object\" aria-roledescription=\"line mark container\"><path aria-label=\"edges_x: 0.718138705124; edges_y: 0.660193348408; ew: 0.22972972972972977; pe: [8, 1]\" role=\"graphics-symbol\" aria-roledescription=\"line mark\" d=\"M88.30552930340369,105.68666451318907L120.31107078371059,1.8236958438736073\" stroke=\"black\" stroke-width=\"0.9367088607594937\" opacity=\"0.41486486486486485\"></path></g></g><path class=\"foreground\" aria-hidden=\"true\" d=\"\" display=\"none\"></path></g><g transform=\"translate(0,0)\"><path class=\"background\" aria-hidden=\"true\" d=\"M0,0h200v200h-200Z\"></path><g><g class=\"mark-line role-mark concat_1_layer_0_marks\" role=\"graphics-object\" aria-roledescription=\"line mark container\"><path aria-label=\"edges_x: 0.718138705124; edges_y: 0.660193348408; ew: 0.0945945945945946; pe: [8, 2]\" role=\"graphics-symbol\" aria-roledescription=\"line mark\" d=\"M88.30552930340369,105.68666451318907L149.20910948660304,128.2078564711455\" stroke=\"black\" stroke-width=\"0.35443037974683544\" opacity=\"0.3472972972972973\"></path></g></g><path class=\"foreground\" aria-hidden=\"true\" d=\"\" display=\"none\"></path></g><g transform=\"translate(0,0)\"><path class=\"background\" aria-hidden=\"true\" d=\"M0,0h200v200h-200Z\"></path><g><g class=\"mark-line role-mark concat_1_layer_0_marks\" role=\"graphics-object\" aria-roledescription=\"line mark container\"><path aria-label=\"edges_x: 0.718138705124; edges_y: 0.660193348408; ew: 0.05405405405405406; pe: [8, 3]\" role=\"graphics-symbol\" aria-roledescription=\"line mark\" d=\"M88.30552930340369,105.68666451318907L153.71710618397682,38.1879944450747\" stroke=\"black\" stroke-width=\"0.1518987341772152\" opacity=\"0.327027027027027\"></path></g></g><path class=\"foreground\" aria-hidden=\"true\" d=\"\" display=\"none\"></path></g><g transform=\"translate(0,0)\"><path class=\"background\" aria-hidden=\"true\" d=\"M0,0h200v200h-200Z\"></path><g><g class=\"mark-line role-mark concat_1_layer_0_marks\" role=\"graphics-object\" aria-roledescription=\"line mark container\"><path aria-label=\"edges_x: 0.532193416838; edges_y: 0.935636408464; ew: 0.05945945945945946; pe: [8, 4]\" role=\"graphics-symbol\" aria-roledescription=\"line mark\" d=\"M61.741916691113495,66.33765593372551L88.30552930340369,105.68666451318907\" stroke=\"black\" stroke-width=\"0.20253164556962025\" opacity=\"0.3297297297297297\"></path></g></g><path class=\"foreground\" aria-hidden=\"true\" d=\"\" display=\"none\"></path></g><g transform=\"translate(0,0)\"><path class=\"background\" aria-hidden=\"true\" d=\"M0,0h200v200h-200Z\"></path><g><g class=\"mark-line role-mark concat_1_layer_0_marks\" role=\"graphics-object\" aria-roledescription=\"line mark container\"><path aria-label=\"edges_x: 0.718138705124; edges_y: 0.660193348408; ew: 0.14594594594594595; pe: [8, 5]\" role=\"graphics-symbol\" aria-roledescription=\"line mark\" d=\"M88.30552930340369,105.68666451318907L190.603675868229,33.22532928668005\" stroke=\"black\" stroke-width=\"0.5822784810126582\" opacity=\"0.372972972972973\"></path></g></g><path class=\"foreground\" aria-hidden=\"true\" d=\"\" display=\"none\"></path></g><g transform=\"translate(0,0)\"><path class=\"background\" aria-hidden=\"true\" d=\"M0,0h200v200h-200Z\"></path><g><g class=\"mark-line role-mark concat_1_layer_0_marks\" role=\"graphics-object\" aria-roledescription=\"line mark container\"><path aria-label=\"edges_x: 0.650883286575; edges_y: 0.74501300889; ew: 0.0918918918918919; pe: [8, 6]\" role=\"graphics-symbol\" aria-roledescription=\"line mark\" d=\"M78.69761236789526,93.56957015857297L88.30552930340369,105.68666451318907\" stroke=\"black\" stroke-width=\"0.3291139240506329\" opacity=\"0.34594594594594597\"></path></g></g><path class=\"foreground\" aria-hidden=\"true\" d=\"\" display=\"none\"></path></g><g transform=\"translate(0,0)\"><path class=\"background\" aria-hidden=\"true\" d=\"M0,0h200v200h-200Z\"></path><g><g class=\"mark-line role-mark concat_1_layer_0_marks\" role=\"graphics-object\" aria-roledescription=\"line mark container\"><path aria-label=\"edges_x: 0.618443579396; edges_y: 1.31934849608; ew: 0.1945945945945946; pe: [8, 7]\" role=\"graphics-symbol\" aria-roledescription=\"line mark\" d=\"M74.06336848508865,11.521643417649518L88.30552930340369,105.68666451318907\" stroke=\"black\" stroke-width=\"0.7848101265822784\" opacity=\"0.3972972972972973\"></path></g></g><path class=\"foreground\" aria-hidden=\"true\" d=\"\" display=\"none\"></path></g><g transform=\"translate(0,0)\"><path class=\"background\" aria-hidden=\"true\" d=\"M0,0h200v200h-200Z\"></path><g><g class=\"mark-line role-mark concat_1_layer_0_marks\" role=\"graphics-object\" aria-roledescription=\"line mark container\"><path aria-label=\"edges_x: 0.718138705124; edges_y: 0.660193348408; ew: 0.15945945945945947; pe: [8, 8]\" role=\"graphics-symbol\" aria-roledescription=\"line mark\" d=\"M88.30552930340369,105.68666451318907L158.00874149700016,113.79095593150583\" stroke=\"black\" stroke-width=\"0.6329113924050633\" opacity=\"0.37972972972972974\"></path></g></g><path class=\"foreground\" aria-hidden=\"true\" d=\"\" display=\"none\"></path></g><g transform=\"translate(0,0)\"><path class=\"background\" aria-hidden=\"true\" d=\"M0,0h200v200h-200Z\"></path><g><g class=\"mark-line role-mark concat_1_layer_0_marks\" role=\"graphics-object\" aria-roledescription=\"line mark container\"><path aria-label=\"edges_x: 0.718138705124; edges_y: 0.660193348408; ew: 0.14324324324324325; pe: [8, 9]\" role=\"graphics-symbol\" aria-roledescription=\"line mark\" d=\"M88.30552930340369,105.68666451318907L88.83659617216387,13.929128486527853\" stroke=\"black\" stroke-width=\"0.5569620253164557\" opacity=\"0.3716216216216216\"></path></g></g><path class=\"foreground\" aria-hidden=\"true\" d=\"\" display=\"none\"></path></g><g transform=\"translate(0,0)\"><path class=\"background\" aria-hidden=\"true\" d=\"M0,0h200v200h-200Z\"></path><g><g class=\"mark-line role-mark concat_1_layer_0_marks\" role=\"graphics-object\" aria-roledescription=\"line mark container\"><path aria-label=\"edges_x: 0.718138705124; edges_y: 0.660193348408; ew: 0.1945945945945946; pe: [8, 10]\" role=\"graphics-symbol\" aria-roledescription=\"line mark\" d=\"M88.30552930340369,105.68666451318907L145.1531329485203,61.50445326788771\" stroke=\"black\" stroke-width=\"0.7848101265822784\" opacity=\"0.3972972972972973\"></path></g></g><path class=\"foreground\" aria-hidden=\"true\" d=\"\" display=\"none\"></path></g><g transform=\"translate(0,0)\"><path class=\"background\" aria-hidden=\"true\" d=\"M0,0h200v200h-200Z\"></path><g><g class=\"mark-line role-mark concat_1_layer_0_marks\" role=\"graphics-object\" aria-roledescription=\"line mark container\"><path aria-label=\"edges_x: 0.930997049281; edges_y: 0.568160487043; ew: 0.591891891891892; pe: [9, 1]\" role=\"graphics-symbol\" aria-roledescription=\"line mark\" d=\"M118.71386418293007,118.83421613667373L120.31107078371059,1.8236958438736073\" stroke=\"black\" stroke-width=\"1.7468354430379747\" opacity=\"0.595945945945946\"></path></g></g><path class=\"foreground\" aria-hidden=\"true\" d=\"\" display=\"none\"></path></g><g transform=\"translate(0,0)\"><path class=\"background\" aria-hidden=\"true\" d=\"M0,0h200v200h-200Z\"></path><g><g class=\"mark-line role-mark concat_1_layer_0_marks\" role=\"graphics-object\" aria-roledescription=\"line mark container\"><path aria-label=\"edges_x: 0.930997049281; edges_y: 0.568160487043; ew: 0.24864864864864866; pe: [9, 2]\" role=\"graphics-symbol\" aria-roledescription=\"line mark\" d=\"M118.71386418293007,118.83421613667373L149.20910948660304,128.2078564711455\" stroke=\"black\" stroke-width=\"1.0886075949367089\" opacity=\"0.4243243243243243\"></path></g></g><path class=\"foreground\" aria-hidden=\"true\" d=\"\" display=\"none\"></path></g><g transform=\"translate(0,0)\"><path class=\"background\" aria-hidden=\"true\" d=\"M0,0h200v200h-200Z\"></path><g><g class=\"mark-line role-mark concat_1_layer_0_marks\" role=\"graphics-object\" aria-roledescription=\"line mark container\"><path aria-label=\"edges_x: 0.930997049281; edges_y: 0.568160487043; ew: 0.13783783783783785; pe: [9, 3]\" role=\"graphics-symbol\" aria-roledescription=\"line mark\" d=\"M118.71386418293007,118.83421613667373L153.71710618397682,38.1879944450747\" stroke=\"black\" stroke-width=\"0.5316455696202531\" opacity=\"0.3689189189189189\"></path></g></g><path class=\"foreground\" aria-hidden=\"true\" d=\"\" display=\"none\"></path></g><g transform=\"translate(0,0)\"><path class=\"background\" aria-hidden=\"true\" d=\"M0,0h200v200h-200Z\"></path><g><g class=\"mark-line role-mark concat_1_layer_0_marks\" role=\"graphics-object\" aria-roledescription=\"line mark container\"><path aria-label=\"edges_x: 0.532193416838; edges_y: 0.935636408464; ew: 0.15135135135135136; pe: [9, 4]\" role=\"graphics-symbol\" aria-roledescription=\"line mark\" d=\"M61.741916691113495,66.33765593372551L118.71386418293007,118.83421613667373\" stroke=\"black\" stroke-width=\"0.6075949367088608\" opacity=\"0.3756756756756757\"></path></g></g><path class=\"foreground\" aria-hidden=\"true\" d=\"\" display=\"none\"></path></g><g transform=\"translate(0,0)\"><path class=\"background\" aria-hidden=\"true\" d=\"M0,0h200v200h-200Z\"></path><g><g class=\"mark-line role-mark concat_1_layer_0_marks\" role=\"graphics-object\" aria-roledescription=\"line mark container\"><path aria-label=\"edges_x: 0.930997049281; edges_y: 0.568160487043; ew: 0.3837837837837838; pe: [9, 5]\" role=\"graphics-symbol\" aria-roledescription=\"line mark\" d=\"M118.71386418293007,118.83421613667373L190.603675868229,33.22532928668005\" stroke=\"black\" stroke-width=\"1.4683544303797469\" opacity=\"0.49189189189189186\"></path></g></g><path class=\"foreground\" aria-hidden=\"true\" d=\"\" display=\"none\"></path></g><g transform=\"translate(0,0)\"><path class=\"background\" aria-hidden=\"true\" d=\"M0,0h200v200h-200Z\"></path><g><g class=\"mark-line role-mark concat_1_layer_0_marks\" role=\"graphics-object\" aria-roledescription=\"line mark container\"><path aria-label=\"edges_x: 0.650883286575; edges_y: 0.74501300889; ew: 0.23783783783783785; pe: [9, 6]\" role=\"graphics-symbol\" aria-roledescription=\"line mark\" d=\"M78.69761236789526,93.56957015857297L118.71386418293007,118.83421613667373\" stroke=\"black\" stroke-width=\"1.0126582278481013\" opacity=\"0.41891891891891897\"></path></g></g><path class=\"foreground\" aria-hidden=\"true\" d=\"\" display=\"none\"></path></g><g transform=\"translate(0,0)\"><path class=\"background\" aria-hidden=\"true\" d=\"M0,0h200v200h-200Z\"></path><g><g class=\"mark-line role-mark concat_1_layer_0_marks\" role=\"graphics-object\" aria-roledescription=\"line mark container\"><path aria-label=\"edges_x: 0.618443579396; edges_y: 1.31934849608; ew: 0.49459459459459465; pe: [9, 7]\" role=\"graphics-symbol\" aria-roledescription=\"line mark\" d=\"M74.06336848508865,11.521643417649518L118.71386418293007,118.83421613667373\" stroke=\"black\" stroke-width=\"1.6455696202531644\" opacity=\"0.5472972972972974\"></path></g></g><path class=\"foreground\" aria-hidden=\"true\" d=\"\" display=\"none\"></path></g><g transform=\"translate(0,0)\"><path class=\"background\" aria-hidden=\"true\" d=\"M0,0h200v200h-200Z\"></path><g><g class=\"mark-line role-mark concat_1_layer_0_marks\" role=\"graphics-object\" aria-roledescription=\"line mark container\"><path aria-label=\"edges_x: 0.930997049281; edges_y: 0.568160487043; ew: 0.4189189189189189; pe: [9, 8]\" role=\"graphics-symbol\" aria-roledescription=\"line mark\" d=\"M118.71386418293007,118.83421613667373L158.00874149700016,113.79095593150583\" stroke=\"black\" stroke-width=\"1.5696202531645569\" opacity=\"0.5094594594594595\"></path></g></g><path class=\"foreground\" aria-hidden=\"true\" d=\"\" display=\"none\"></path></g><g transform=\"translate(0,0)\"><path class=\"background\" aria-hidden=\"true\" d=\"M0,0h200v200h-200Z\"></path><g><g class=\"mark-line role-mark concat_1_layer_0_marks\" role=\"graphics-object\" aria-roledescription=\"line mark container\"><path aria-label=\"edges_x: 0.721856173205; edges_y: 1.30249610059; ew: 0.3675675675675676; pe: [9, 9]\" role=\"graphics-symbol\" aria-roledescription=\"line mark\" d=\"M88.83659617216387,13.929128486527853L118.71386418293007,118.83421613667373\" stroke=\"black\" stroke-width=\"1.3670886075949367\" opacity=\"0.48378378378378384\"></path></g></g><path class=\"foreground\" aria-hidden=\"true\" d=\"\" display=\"none\"></path></g><g transform=\"translate(0,0)\"><path class=\"background\" aria-hidden=\"true\" d=\"M0,0h200v200h-200Z\"></path><g><g class=\"mark-line role-mark concat_1_layer_0_marks\" role=\"graphics-object\" aria-roledescription=\"line mark container\"><path aria-label=\"edges_x: 0.930997049281; edges_y: 0.568160487043; ew: 0.5135135135135135; pe: [9, 10]\" role=\"graphics-symbol\" aria-roledescription=\"line mark\" d=\"M118.71386418293007,118.83421613667373L145.1531329485203,61.50445326788771\" stroke=\"black\" stroke-width=\"1.6708860759493671\" opacity=\"0.5567567567567568\"></path></g></g><path class=\"foreground\" aria-hidden=\"true\" d=\"\" display=\"none\"></path></g><g transform=\"translate(0,0)\"><path class=\"background\" aria-hidden=\"true\" d=\"M0,0h200v200h-200Z\"></path><g><g class=\"mark-line role-mark concat_1_layer_0_marks\" role=\"graphics-object\" aria-roledescription=\"line mark container\"><path aria-label=\"edges_x: 0.855660243169; edges_y: 0.0883624277613; ew: 0.45675675675675675; pe: [10, 1]\" role=\"graphics-symbol\" aria-roledescription=\"line mark\" d=\"M107.95146330979313,187.37679603410083L120.31107078371059,1.8236958438736073\" stroke=\"black\" stroke-width=\"1.620253164556962\" opacity=\"0.5283783783783784\"></path></g></g><path class=\"foreground\" aria-hidden=\"true\" d=\"\" display=\"none\"></path></g><g transform=\"translate(0,0)\"><path class=\"background\" aria-hidden=\"true\" d=\"M0,0h200v200h-200Z\"></path><g><g class=\"mark-line role-mark concat_1_layer_0_marks\" role=\"graphics-object\" aria-roledescription=\"line mark container\"><path aria-label=\"edges_x: 0.855660243169; edges_y: 0.0883624277613; ew: 0.20810810810810812; pe: [10, 2]\" role=\"graphics-symbol\" aria-roledescription=\"line mark\" d=\"M107.95146330979313,187.37679603410083L149.20910948660304,128.2078564711455\" stroke=\"black\" stroke-width=\"0.8354430379746836\" opacity=\"0.40405405405405403\"></path></g></g><path class=\"foreground\" aria-hidden=\"true\" d=\"\" display=\"none\"></path></g><g transform=\"translate(0,0)\"><path class=\"background\" aria-hidden=\"true\" d=\"M0,0h200v200h-200Z\"></path><g><g class=\"mark-line role-mark concat_1_layer_0_marks\" role=\"graphics-object\" aria-roledescription=\"line mark container\"><path aria-label=\"edges_x: 0.855660243169; edges_y: 0.0883624277613; ew: 0.10810810810810811; pe: [10, 3]\" role=\"graphics-symbol\" aria-roledescription=\"line mark\" d=\"M107.95146330979313,187.37679603410083L153.71710618397682,38.1879944450747\" stroke=\"black\" stroke-width=\"0.45569620253164556\" opacity=\"0.35405405405405405\"></path></g></g><path class=\"foreground\" aria-hidden=\"true\" d=\"\" display=\"none\"></path></g><g transform=\"translate(0,0)\"><path class=\"background\" aria-hidden=\"true\" d=\"M0,0h200v200h-200Z\"></path><g><g class=\"mark-line role-mark concat_1_layer_0_marks\" role=\"graphics-object\" aria-roledescription=\"line mark container\"><path aria-label=\"edges_x: 0.532193416838; edges_y: 0.935636408464; ew: 0.12162162162162161; pe: [10, 4]\" role=\"graphics-symbol\" aria-roledescription=\"line mark\" d=\"M61.741916691113495,66.33765593372551L107.95146330979313,187.37679603410083\" stroke=\"black\" stroke-width=\"0.5063291139240507\" opacity=\"0.3608108108108108\"></path></g></g><path class=\"foreground\" aria-hidden=\"true\" d=\"\" display=\"none\"></path></g><g transform=\"translate(0,0)\"><path class=\"background\" aria-hidden=\"true\" d=\"M0,0h200v200h-200Z\"></path><g><g class=\"mark-line role-mark concat_1_layer_0_marks\" role=\"graphics-object\" aria-roledescription=\"line mark container\"><path aria-label=\"edges_x: 0.855660243169; edges_y: 0.0883624277613; ew: 0.30000000000000004; pe: [10, 5]\" role=\"graphics-symbol\" aria-roledescription=\"line mark\" d=\"M107.95146330979313,187.37679603410083L190.603675868229,33.22532928668005\" stroke=\"black\" stroke-width=\"1.240506329113924\" opacity=\"0.45000000000000007\"></path></g></g><path class=\"foreground\" aria-hidden=\"true\" d=\"\" display=\"none\"></path></g><g transform=\"translate(0,0)\"><path class=\"background\" aria-hidden=\"true\" d=\"M0,0h200v200h-200Z\"></path><g><g class=\"mark-line role-mark concat_1_layer_0_marks\" role=\"graphics-object\" aria-roledescription=\"line mark container\"><path aria-label=\"edges_x: 0.650883286575; edges_y: 0.74501300889; ew: 0.1945945945945946; pe: [10, 6]\" role=\"graphics-symbol\" aria-roledescription=\"line mark\" d=\"M78.69761236789526,93.56957015857297L107.95146330979313,187.37679603410083\" stroke=\"black\" stroke-width=\"0.7848101265822784\" opacity=\"0.3972972972972973\"></path></g></g><path class=\"foreground\" aria-hidden=\"true\" d=\"\" display=\"none\"></path></g><g transform=\"translate(0,0)\"><path class=\"background\" aria-hidden=\"true\" d=\"M0,0h200v200h-200Z\"></path><g><g class=\"mark-line role-mark concat_1_layer_0_marks\" role=\"graphics-object\" aria-roledescription=\"line mark container\"><path aria-label=\"edges_x: 0.618443579396; edges_y: 1.31934849608; ew: 0.3837837837837838; pe: [10, 7]\" role=\"graphics-symbol\" aria-roledescription=\"line mark\" d=\"M74.06336848508865,11.521643417649518L107.95146330979313,187.37679603410083\" stroke=\"black\" stroke-width=\"1.4683544303797469\" opacity=\"0.49189189189189186\"></path></g></g><path class=\"foreground\" aria-hidden=\"true\" d=\"\" display=\"none\"></path></g><g transform=\"translate(0,0)\"><path class=\"background\" aria-hidden=\"true\" d=\"M0,0h200v200h-200Z\"></path><g><g class=\"mark-line role-mark concat_1_layer_0_marks\" role=\"graphics-object\" aria-roledescription=\"line mark container\"><path aria-label=\"edges_x: 0.855660243169; edges_y: 0.0883624277613; ew: 0.34594594594594597; pe: [10, 8]\" role=\"graphics-symbol\" aria-roledescription=\"line mark\" d=\"M107.95146330979313,187.37679603410083L158.00874149700016,113.79095593150583\" stroke=\"black\" stroke-width=\"1.3417721518987342\" opacity=\"0.47297297297297297\"></path></g></g><path class=\"foreground\" aria-hidden=\"true\" d=\"\" display=\"none\"></path></g><g transform=\"translate(0,0)\"><path class=\"background\" aria-hidden=\"true\" d=\"M0,0h200v200h-200Z\"></path><g><g class=\"mark-line role-mark concat_1_layer_0_marks\" role=\"graphics-object\" aria-roledescription=\"line mark container\"><path aria-label=\"edges_x: 0.721856173205; edges_y: 1.30249610059; ew: 0.2837837837837838; pe: [10, 9]\" role=\"graphics-symbol\" aria-roledescription=\"line mark\" d=\"M88.83659617216387,13.929128486527853L107.95146330979313,187.37679603410083\" stroke=\"black\" stroke-width=\"1.2151898734177216\" opacity=\"0.44189189189189193\"></path></g></g><path class=\"foreground\" aria-hidden=\"true\" d=\"\" display=\"none\"></path></g><g transform=\"translate(0,0)\"><path class=\"background\" aria-hidden=\"true\" d=\"M0,0h200v200h-200Z\"></path><g><g class=\"mark-line role-mark concat_1_layer_0_marks\" role=\"graphics-object\" aria-roledescription=\"line mark container\"><path aria-label=\"edges_x: 0.855660243169; edges_y: 0.0883624277613; ew: 0.40810810810810816; pe: [10, 10]\" role=\"graphics-symbol\" aria-roledescription=\"line mark\" d=\"M107.95146330979313,187.37679603410083L145.1531329485203,61.50445326788771\" stroke=\"black\" stroke-width=\"1.5189873417721518\" opacity=\"0.5040540540540541\"></path></g></g><path class=\"foreground\" aria-hidden=\"true\" d=\"\" display=\"none\"></path></g></g><g class=\"mark-symbol role-mark concat_1_layer_1_marks\" role=\"graphics-object\" aria-roledescription=\"symbol mark container\"><path aria-label=\"x: 0.942177495486; y: 1.38723412909; size: 0.164634751814\" role=\"graphics-symbol\" aria-roledescription=\"circle\" transform=\"translate(120.31107078371059,1.8236958438736073)\" d=\"M9.5,0A9.5,9.5,0,1,1,-9.5,0A9.5,9.5,0,1,1,9.5,0\" fill=\"red\" stroke-width=\"2\" opacity=\"1\"></path><path aria-label=\"x: 1.14446376641; y: 0.502545004702; size: 0.0712875164786\" role=\"graphics-symbol\" aria-roledescription=\"circle\" transform=\"translate(149.20910948660304,128.2078564711455)\" d=\"M6.251289203307511,0A6.251289203307511,6.251289203307511,0,1,1,-6.251289203307511,0A6.251289203307511,6.251289203307511,0,1,1,6.251289203307511,0\" fill=\"red\" stroke-width=\"2\" opacity=\"1\"></path><path aria-label=\"x: 1.17601974329; y: 1.13268403888; size: 0.0384602806248\" role=\"graphics-symbol\" aria-roledescription=\"circle\" transform=\"translate(153.71710618397682,38.1879944450747)\" d=\"M4.591653135735218,0A4.591653135735218,4.591653135735218,0,1,1,-4.591653135735218,0A4.591653135735218,4.591653135735218,0,1,1,4.591653135735218,0\" fill=\"red\" stroke-width=\"2\" opacity=\"1\"></path><path aria-label=\"x: 0.532193416838; y: 0.935636408464; size: 0.0445292985587\" role=\"graphics-symbol\" aria-roledescription=\"circle\" transform=\"translate(61.741916691113495,66.33765593372551)\" d=\"M4.9406691857989475,0A4.9406691857989475,4.9406691857989475,0,1,1,-4.9406691857989475,0A4.9406691857989475,4.9406691857989475,0,1,1,4.9406691857989475,0\" fill=\"red\" stroke-width=\"2\" opacity=\"1\"></path><path aria-label=\"x: 1.43422573108; y: 1.16742269499; size: 0.104166140719\" role=\"graphics-symbol\" aria-roledescription=\"circle\" transform=\"translate(190.603675868229,33.22532928668005)\" d=\"M7.556594810932531,0A7.556594810932531,7.556594810932531,0,1,1,-7.556594810932531,0A7.556594810932531,7.556594810932531,0,1,1,7.556594810932531,0\" fill=\"red\" stroke-width=\"2\" opacity=\"1\"></path><path aria-label=\"x: 0.650883286575; y: 0.74501300889; size: 0.0695559700802\" role=\"graphics-symbol\" aria-roledescription=\"circle\" transform=\"translate(78.69761236789526,93.56957015857297)\" d=\"M6.174901789597849,0A6.174901789597849,6.174901789597849,0,1,1,-6.174901789597849,0A6.174901789597849,6.174901789597849,0,1,1,6.174901789597849,0\" fill=\"red\" stroke-width=\"2\" opacity=\"1\"></path><path aria-label=\"x: 0.618443579396; y: 1.31934849608; size: 0.140701220884\" role=\"graphics-symbol\" aria-roledescription=\"circle\" transform=\"translate(74.06336848508865,11.521643417649518)\" d=\"M8.782371044646123,0A8.782371044646123,8.782371044646123,0,1,1,-8.782371044646123,0A8.782371044646123,8.782371044646123,0,1,1,8.782371044646123,0\" fill=\"red\" stroke-width=\"2\" opacity=\"1\"></path><path aria-label=\"x: 1.20606119048; y: 0.603463308479; size: 0.119225562197\" role=\"graphics-symbol\" aria-roledescription=\"circle\" transform=\"translate(158.00874149700016,113.79095593150583)\" d=\"M8.08439524812174,0A8.08439524812174,8.08439524812174,0,1,1,-8.08439524812174,0A8.08439524812174,8.08439524812174,0,1,1,8.08439524812174,0\" fill=\"red\" stroke-width=\"2\" opacity=\"1\"></path><path aria-label=\"x: 0.721856173205; y: 1.30249610059; size: 0.103851441032\" role=\"graphics-symbol\" aria-roledescription=\"circle\" transform=\"translate(88.83659617216387,13.929128486527853)\" d=\"M7.545171440386934,0A7.545171440386934,7.545171440386934,0,1,1,-7.545171440386934,0A7.545171440386934,7.545171440386934,0,1,1,7.545171440386934,0\" fill=\"red\" stroke-width=\"2\" opacity=\"1\"></path><path aria-label=\"x: 1.11607193064; y: 0.969468827125; size: 0.143587817612\" role=\"graphics-symbol\" aria-roledescription=\"circle\" transform=\"translate(145.1531329485203,61.50445326788771)\" d=\"M8.872002305470222,0A8.872002305470222,8.872002305470222,0,1,1,-8.872002305470222,0A8.872002305470222,8.872002305470222,0,1,1,8.872002305470222,0\" fill=\"red\" stroke-width=\"2\" opacity=\"1\"></path></g><g class=\"mark-symbol role-mark concat_1_layer_2_marks\" role=\"graphics-object\" aria-roledescription=\"symbol mark container\"><path aria-label=\"x: 0.469344301481; y: 0.268441730392; size: 0.0575746813958\" role=\"graphics-symbol\" aria-roledescription=\"circle\" transform=\"translate(52.76347164009204,161.6511813725123)\" d=\"M4.830507068211761,0A4.830507068211761,4.830507068211761,0,1,1,-4.830507068211761,0A4.830507068211761,4.830507068211761,0,1,1,4.830507068211761,0\" fill=\"#4c78a8\" stroke-width=\"2\" opacity=\"1\"></path><path aria-label=\"x: 0.231871083902; y: 0.0635294670821; size: 0.0858404204563\" role=\"graphics-symbol\" aria-roledescription=\"circle\" transform=\"translate(18.838726271738896,190.9243618454186)\" d=\"M5.898245816475333,0A5.898245816475333,5.898245816475333,0,1,1,-5.898245816475333,0A5.898245816475333,5.898245816475333,0,1,1,5.898245816475333,0\" fill=\"#4c78a8\" stroke-width=\"2\" opacity=\"1\"></path><path aria-label=\"x: 0.506517095705; y: 0.44817218029; size: 0.222686202932\" role=\"graphics-symbol\" aria-roledescription=\"circle\" transform=\"translate(58.07387081502732,135.97540281571327)\" d=\"M9.5,0A9.5,9.5,0,1,1,-9.5,0A9.5,9.5,0,1,1,9.5,0\" fill=\"#4c78a8\" stroke-width=\"2\" opacity=\"1\"></path><path aria-label=\"x: 0.46170452839; y: 0.123550838093; size: 0.19901647222\" role=\"graphics-symbol\" aria-roledescription=\"circle\" transform=\"translate(51.67207548430305,182.34988027245203)\" d=\"M8.980933115917066,0A8.980933115917066,8.980933115917066,0,1,1,-8.980933115917066,0A8.980933115917066,8.980933115917066,0,1,1,8.980933115917066,0\" fill=\"#4c78a8\" stroke-width=\"2\" opacity=\"1\"></path><path aria-label=\"x: 0.389310090336; y: 0.066350751231; size: 0.00934656570726\" role=\"graphics-symbol\" aria-roledescription=\"circle\" transform=\"translate(41.33001290516612,190.52132125271194)\" d=\"M1.9462695228676334,0A1.9462695228676334,1.9462695228676334,0,1,1,-1.9462695228676334,0A1.9462695228676334,1.9462695228676334,0,1,1,1.9462695228676334,0\" fill=\"#4c78a8\" stroke-width=\"2\" opacity=\"1\"></path><path aria-label=\"x: 0.699330260661; y: 0.226552362676; size: 0.0845813630975\" role=\"graphics-symbol\" aria-roledescription=\"circle\" transform=\"translate(85.61860866591833,167.6353767605977)\" d=\"M5.854830009462446,0A5.854830009462446,5.854830009462446,0,1,1,-5.854830009462446,0A5.854830009462446,5.854830009462446,0,1,1,5.854830009462446,0\" fill=\"#4c78a8\" stroke-width=\"2\" opacity=\"1\"></path><path aria-label=\"x: 0.167096821437; y: 0.469605886451; size: 0.0552313082209\" role=\"graphics-symbol\" aria-roledescription=\"circle\" transform=\"translate(9.58526020524795,132.91344479278442)\" d=\"M4.731181568833097,0A4.731181568833097,4.731181568833097,0,1,1,-4.731181568833097,0A4.731181568833097,4.731181568833097,0,1,1,4.731181568833097,0\" fill=\"#4c78a8\" stroke-width=\"2\" opacity=\"1\"></path><path aria-label=\"x: 0.718138705124; y: 0.660193348408; size: 0.0504322485606\" role=\"graphics-symbol\" aria-roledescription=\"circle\" transform=\"translate(88.30552930340369,105.68666451318907)\" d=\"M4.520964701755543,0A4.520964701755543,4.520964701755543,0,1,1,-4.520964701755543,0A4.520964701755543,4.520964701755543,0,1,1,4.520964701755543,0\" fill=\"#4c78a8\" stroke-width=\"2\" opacity=\"1\"></path><path aria-label=\"x: 0.930997049281; y: 0.568160487043; size: 0.13126058864\" role=\"graphics-symbol\" aria-roledescription=\"circle\" transform=\"translate(118.71386418293007,118.83421613667373)\" d=\"M7.293636648486774,0A7.293636648486774,7.293636648486774,0,1,1,-7.293636648486774,0A7.293636648486774,7.293636648486774,0,1,1,7.293636648486774,0\" fill=\"#4c78a8\" stroke-width=\"2\" opacity=\"1\"></path><path aria-label=\"x: 0.855660243169; y: 0.0883624277613; size: 0.10403014877\" role=\"graphics-symbol\" aria-roledescription=\"circle\" transform=\"translate(107.95146330979313,187.37679603410083)\" d=\"M6.493166809154637,0A6.493166809154637,6.493166809154637,0,1,1,-6.493166809154637,0A6.493166809154637,6.493166809154637,0,1,1,6.493166809154637,0\" fill=\"#4c78a8\" stroke-width=\"2\" opacity=\"1\"></path></g><g class=\"mark-group role-title\"><g transform=\"translate(100,-24.676304156126392)\"><path class=\"background\" aria-hidden=\"true\" d=\"M0,0h0v0h0Z\" pointer-events=\"none\"></path><g><g class=\"mark-text role-title-text\" role=\"graphics-symbol\" aria-roledescription=\"title\" aria-label=\"Title text 'ϵ = 10.0'\" pointer-events=\"none\"><text text-anchor=\"middle\" transform=\"translate(0,10)\" font-family=\"sans-serif\" font-size=\"13px\" font-weight=\"bold\" fill=\"#000\" opacity=\"1\">ϵ = 10.0</text></g></g><path class=\"foreground\" aria-hidden=\"true\" d=\"\" pointer-events=\"none\" display=\"none\"></path></g></g></g><path class=\"foreground\" aria-hidden=\"true\" d=\"\" display=\"none\"></path></g></g></g><path class=\"foreground\" aria-hidden=\"true\" d=\"\" display=\"none\"></path></g></g></g></svg>\n"
      ],
      "text/plain": [
       "@vlplot(\n",
       "    hconcat=[\n",
       "        {\n",
       "            hconcat=[\n",
       "                {\n",
       "                    hconcat=[\n",
       "                        {\n",
       "                            hconcat=[\n",
       "                                {\n",
       "                                    view={\n",
       "                                        stroke=nothing\n",
       "                                    },\n",
       "                                    title=\"ϵ = 0.0\",\n",
       "                                    layer=[\n",
       "                                        {\n",
       "                                            mark={\n",
       "                                                type=\"line\",\n",
       "                                                color=\"black\",\n",
       "                                                clip=false\n",
       "                                            },\n",
       "                                            data={\n",
       "                                                values=...\n",
       "                                            },\n",
       "                                            encoding={\n",
       "                                                x={\n",
       "                                                    axis=nothing,\n",
       "                                                    field=\"edges_x\",\n",
       "                                                    type=\"quantitative\"\n",
       "                                                },\n",
       "                                                y={\n",
       "                                                    axis=nothing,\n",
       "                                                    field=\"edges_y\",\n",
       "                                                    type=\"quantitative\"\n",
       "                                                },\n",
       "                                                opacity={\n",
       "                                                    legend=nothing,\n",
       "                                                    field=\"ew\",\n",
       "                                                    type=\"quantitative\"\n",
       "                                                },\n",
       "                                                size={\n",
       "                                                    scale={\n",
       "                                                        range=[\n",
       "                                                            0,\n",
       "                                                            2\n",
       "                                                        ]\n",
       "                                                    },\n",
       "                                                    legend=nothing,\n",
       "                                                    field=\"ew\",\n",
       "                                                    type=\"ordinal\"\n",
       "                                                },\n",
       "                                                detail={\n",
       "                                                    field=\"pe\",\n",
       "                                                    type=\"ordinal\"\n",
       "                                                }\n",
       "                                            },\n",
       "                                            width=200,\n",
       "                                            height=200\n",
       "                                        },\n",
       "                                        {\n",
       "                                            mark={\n",
       "                                                type=\"circle\",\n",
       "                                                color=\"red\",\n",
       "                                                opacity=1\n",
       "                                            },\n",
       "                                            width=200,\n",
       "                                            height=200,\n",
       "                                            encoding={\n",
       "                                                x={\n",
       "                                                    type=\"quantitative\",\n",
       "                                                    axis=nothing,\n",
       "                                                    field=\"x\",\n",
       "                                                    title=nothing\n",
       "                                                },\n",
       "                                                y={\n",
       "                                                    type=\"quantitative\",\n",
       "                                                    axis=nothing,\n",
       "                                                    field=\"y\",\n",
       "                                                    title=nothing\n",
       "                                                },\n",
       "                                                size={\n",
       "                                                    legend=nothing,\n",
       "                                                    type=\"q\",\n",
       "                                                    field=\"size\",\n",
       "                                                    title=nothing\n",
       "                                                }\n",
       "                                            },\n",
       "                                            data={\n",
       "                                                values=...\n",
       "                                            }\n",
       "                                        },\n",
       "                                        {\n",
       "                                            mark={\n",
       "                                                opacity=1,\n",
       "                                                type=\"circle\"\n",
       "                                            },\n",
       "                                            width=200,\n",
       "                                            height=200,\n",
       "                                            encoding={\n",
       "                                                x={\n",
       "                                                    type=\"quantitative\",\n",
       "                                                    axis=nothing,\n",
       "                                                    field=\"x\",\n",
       "                                                    title=nothing\n",
       "                                                },\n",
       "                                                y={\n",
       "                                                    type=\"quantitative\",\n",
       "                                                    axis=nothing,\n",
       "                                                    field=\"y\",\n",
       "                                                    title=nothing\n",
       "                                                },\n",
       "                                                size={\n",
       "                                                    legend=nothing,\n",
       "                                                    type=\"q\",\n",
       "                                                    field=\"size\",\n",
       "                                                    title=nothing\n",
       "                                                }\n",
       "                                            },\n",
       "                                            data={\n",
       "                                                values=...\n",
       "                                            }\n",
       "                                        }\n",
       "                                    ]\n",
       "                                },\n",
       "                                {\n",
       "                                    view={\n",
       "                                        stroke=nothing\n",
       "                                    },\n",
       "                                    title=\"ϵ = 0.01\",\n",
       "                                    layer=[\n",
       "                                        {\n",
       "                                            mark={\n",
       "                                                type=\"line\",\n",
       "                                                color=\"black\",\n",
       "                                                clip=false\n",
       "                                            },\n",
       "                                            data={\n",
       "                                                values=...\n",
       "                                            },\n",
       "                                            encoding={\n",
       "                                                x={\n",
       "                                                    axis=nothing,\n",
       "                                                    field=\"edges_x\",\n",
       "                                                    type=\"quantitative\"\n",
       "                                                },\n",
       "                                                y={\n",
       "                                                    axis=nothing,\n",
       "                                                    field=\"edges_y\",\n",
       "                                                    type=\"quantitative\"\n",
       "                                                },\n",
       "                                                opacity={\n",
       "                                                    legend=nothing,\n",
       "                                                    field=\"ew\",\n",
       "                                                    type=\"quantitative\"\n",
       "                                                },\n",
       "                                                size={\n",
       "                                                    scale={\n",
       "                                                        range=[\n",
       "                                                            0,\n",
       "                                                            2\n",
       "                                                        ]\n",
       "                                                    },\n",
       "                                                    legend=nothing,\n",
       "                                                    field=\"ew\",\n",
       "                                                    type=\"ordinal\"\n",
       "                                                },\n",
       "                                                detail={\n",
       "                                                    field=\"pe\",\n",
       "                                                    type=\"ordinal\"\n",
       "                                                }\n",
       "                                            },\n",
       "                                            width=200,\n",
       "                                            height=200\n",
       "                                        },\n",
       "                                        {\n",
       "                                            mark={\n",
       "                                                type=\"circle\",\n",
       "                                                color=\"red\",\n",
       "                                                opacity=1\n",
       "                                            },\n",
       "                                            width=200,\n",
       "                                            height=200,\n",
       "                                            encoding={\n",
       "                                                x={\n",
       "                                                    type=\"quantitative\",\n",
       "                                                    axis=nothing,\n",
       "                                                    field=\"x\",\n",
       "                                                    title=nothing\n",
       "                                                },\n",
       "                                                y={\n",
       "                                                    type=\"quantitative\",\n",
       "                                                    axis=nothing,\n",
       "                                                    field=\"y\",\n",
       "                                                    title=nothing\n",
       "                                                },\n",
       "                                                size={\n",
       "                                                    legend=nothing,\n",
       "                                                    type=\"q\",\n",
       "                                                    field=\"size\",\n",
       "                                                    title=nothing\n",
       "                                                }\n",
       "                                            },\n",
       "                                            data={\n",
       "                                                values=...\n",
       "                                            }\n",
       "                                        },\n",
       "                                        {\n",
       "                                            mark={\n",
       "                                                opacity=1,\n",
       "                                                type=\"circle\"\n",
       "                                            },\n",
       "                                            width=200,\n",
       "                                            height=200,\n",
       "                                            encoding={\n",
       "                                                x={\n",
       "                                                    type=\"quantitative\",\n",
       "                                                    axis=nothing,\n",
       "                                                    field=\"x\",\n",
       "                                                    title=nothing\n",
       "                                                },\n",
       "                                                y={\n",
       "                                                    type=\"quantitative\",\n",
       "                                                    axis=nothing,\n",
       "                                                    field=\"y\",\n",
       "                                                    title=nothing\n",
       "                                                },\n",
       "                                                size={\n",
       "                                                    legend=nothing,\n",
       "                                                    type=\"q\",\n",
       "                                                    field=\"size\",\n",
       "                                                    title=nothing\n",
       "                                                }\n",
       "                                            },\n",
       "                                            data={\n",
       "                                                values=...\n",
       "                                            }\n",
       "                                        }\n",
       "                                    ]\n",
       "                                }\n",
       "                            ]\n",
       "                        },\n",
       "                        {\n",
       "                            view={\n",
       "                                stroke=nothing\n",
       "                            },\n",
       "                            title=\"ϵ = 0.1\",\n",
       "                            layer=[\n",
       "                                {\n",
       "                                    mark={\n",
       "                                        type=\"line\",\n",
       "                                        color=\"black\",\n",
       "                                        clip=false\n",
       "                                    },\n",
       "                                    data={\n",
       "                                        values=...\n",
       "                                    },\n",
       "                                    encoding={\n",
       "                                        x={\n",
       "                                            axis=nothing,\n",
       "                                            field=\"edges_x\",\n",
       "                                            type=\"quantitative\"\n",
       "                                        },\n",
       "                                        y={\n",
       "                                            axis=nothing,\n",
       "                                            field=\"edges_y\",\n",
       "                                            type=\"quantitative\"\n",
       "                                        },\n",
       "                                        opacity={\n",
       "                                            legend=nothing,\n",
       "                                            field=\"ew\",\n",
       "                                            type=\"quantitative\"\n",
       "                                        },\n",
       "                                        size={\n",
       "                                            scale={\n",
       "                                                range=[\n",
       "                                                    0,\n",
       "                                                    2\n",
       "                                                ]\n",
       "                                            },\n",
       "                                            legend=nothing,\n",
       "                                            field=\"ew\",\n",
       "                                            type=\"ordinal\"\n",
       "                                        },\n",
       "                                        detail={\n",
       "                                            field=\"pe\",\n",
       "                                            type=\"ordinal\"\n",
       "                                        }\n",
       "                                    },\n",
       "                                    width=200,\n",
       "                                    height=200\n",
       "                                },\n",
       "                                {\n",
       "                                    mark={\n",
       "                                        type=\"circle\",\n",
       "                                        color=\"red\",\n",
       "                                        opacity=1\n",
       "                                    },\n",
       "                                    width=200,\n",
       "                                    height=200,\n",
       "                                    encoding={\n",
       "                                        x={\n",
       "                                            type=\"quantitative\",\n",
       "                                            axis=nothing,\n",
       "                                            field=\"x\",\n",
       "                                            title=nothing\n",
       "                                        },\n",
       "                                        y={\n",
       "                                            type=\"quantitative\",\n",
       "                                            axis=nothing,\n",
       "                                            field=\"y\",\n",
       "                                            title=nothing\n",
       "                                        },\n",
       "                                        size={\n",
       "                                            legend=nothing,\n",
       "                                            type=\"q\",\n",
       "                                            field=\"size\",\n",
       "                                            title=nothing\n",
       "                                        }\n",
       "                                    },\n",
       "                                    data={\n",
       "                                        values=...\n",
       "                                    }\n",
       "                                },\n",
       "                                {\n",
       "                                    mark={\n",
       "                                        opacity=1,\n",
       "                                        type=\"circle\"\n",
       "                                    },\n",
       "                                    width=200,\n",
       "                                    height=200,\n",
       "                                    encoding={\n",
       "                                        x={\n",
       "                                            type=\"quantitative\",\n",
       "                                            axis=nothing,\n",
       "                                            field=\"x\",\n",
       "                                            title=nothing\n",
       "                                        },\n",
       "                                        y={\n",
       "                                            type=\"quantitative\",\n",
       "                                            axis=nothing,\n",
       "                                            field=\"y\",\n",
       "                                            title=nothing\n",
       "                                        },\n",
       "                                        size={\n",
       "                                            legend=nothing,\n",
       "                                            type=\"q\",\n",
       "                                            field=\"size\",\n",
       "                                            title=nothing\n",
       "                                        }\n",
       "                                    },\n",
       "                                    data={\n",
       "                                        values=...\n",
       "                                    }\n",
       "                                }\n",
       "                            ]\n",
       "                        }\n",
       "                    ]\n",
       "                },\n",
       "                {\n",
       "                    view={\n",
       "                        stroke=nothing\n",
       "                    },\n",
       "                    title=\"ϵ = 1.0\",\n",
       "                    layer=[\n",
       "                        {\n",
       "                            mark={\n",
       "                                type=\"line\",\n",
       "                                color=\"black\",\n",
       "                                clip=false\n",
       "                            },\n",
       "                            data={\n",
       "                                values=...\n",
       "                            },\n",
       "                            encoding={\n",
       "                                x={\n",
       "                                    axis=nothing,\n",
       "                                    field=\"edges_x\",\n",
       "                                    type=\"quantitative\"\n",
       "                                },\n",
       "                                y={\n",
       "                                    axis=nothing,\n",
       "                                    field=\"edges_y\",\n",
       "                                    type=\"quantitative\"\n",
       "                                },\n",
       "                                opacity={\n",
       "                                    legend=nothing,\n",
       "                                    field=\"ew\",\n",
       "                                    type=\"quantitative\"\n",
       "                                },\n",
       "                                size={\n",
       "                                    scale={\n",
       "                                        range=[\n",
       "                                            0,\n",
       "                                            2\n",
       "                                        ]\n",
       "                                    },\n",
       "                                    legend=nothing,\n",
       "                                    field=\"ew\",\n",
       "                                    type=\"ordinal\"\n",
       "                                },\n",
       "                                detail={\n",
       "                                    field=\"pe\",\n",
       "                                    type=\"ordinal\"\n",
       "                                }\n",
       "                            },\n",
       "                            width=200,\n",
       "                            height=200\n",
       "                        },\n",
       "                        {\n",
       "                            mark={\n",
       "                                type=\"circle\",\n",
       "                                color=\"red\",\n",
       "                                opacity=1\n",
       "                            },\n",
       "                            width=200,\n",
       "                            height=200,\n",
       "                            encoding={\n",
       "                                x={\n",
       "                                    type=\"quantitative\",\n",
       "                                    axis=nothing,\n",
       "                                    field=\"x\",\n",
       "                                    title=nothing\n",
       "                                },\n",
       "                                y={\n",
       "                                    type=\"quantitative\",\n",
       "                                    axis=nothing,\n",
       "                                    field=\"y\",\n",
       "                                    title=nothing\n",
       "                                },\n",
       "                                size={\n",
       "                                    legend=nothing,\n",
       "                                    type=\"q\",\n",
       "                                    field=\"size\",\n",
       "                                    title=nothing\n",
       "                                }\n",
       "                            },\n",
       "                            data={\n",
       "                                values=...\n",
       "                            }\n",
       "                        },\n",
       "                        {\n",
       "                            mark={\n",
       "                                opacity=1,\n",
       "                                type=\"circle\"\n",
       "                            },\n",
       "                            width=200,\n",
       "                            height=200,\n",
       "                            encoding={\n",
       "                                x={\n",
       "                                    type=\"quantitative\",\n",
       "                                    axis=nothing,\n",
       "                                    field=\"x\",\n",
       "                                    title=nothing\n",
       "                                },\n",
       "                                y={\n",
       "                                    type=\"quantitative\",\n",
       "                                    axis=nothing,\n",
       "                                    field=\"y\",\n",
       "                                    title=nothing\n",
       "                                },\n",
       "                                size={\n",
       "                                    legend=nothing,\n",
       "                                    type=\"q\",\n",
       "                                    field=\"size\",\n",
       "                                    title=nothing\n",
       "                                }\n",
       "                            },\n",
       "                            data={\n",
       "                                values=...\n",
       "                            }\n",
       "                        }\n",
       "                    ]\n",
       "                }\n",
       "            ]\n",
       "        },\n",
       "        {\n",
       "            view={\n",
       "                stroke=nothing\n",
       "            },\n",
       "            title=\"ϵ = 10.0\",\n",
       "            layer=[\n",
       "                {\n",
       "                    mark={\n",
       "                        type=\"line\",\n",
       "                        color=\"black\",\n",
       "                        clip=false\n",
       "                    },\n",
       "                    data={\n",
       "                        values=...\n",
       "                    },\n",
       "                    encoding={\n",
       "                        x={\n",
       "                            axis=nothing,\n",
       "                            field=\"edges_x\",\n",
       "                            type=\"quantitative\"\n",
       "                        },\n",
       "                        y={\n",
       "                            axis=nothing,\n",
       "                            field=\"edges_y\",\n",
       "                            type=\"quantitative\"\n",
       "                        },\n",
       "                        opacity={\n",
       "                            legend=nothing,\n",
       "                            field=\"ew\",\n",
       "                            type=\"quantitative\"\n",
       "                        },\n",
       "                        size={\n",
       "                            scale={\n",
       "                                range=[\n",
       "                                    0,\n",
       "                                    2\n",
       "                                ]\n",
       "                            },\n",
       "                            legend=nothing,\n",
       "                            field=\"ew\",\n",
       "                            type=\"ordinal\"\n",
       "                        },\n",
       "                        detail={\n",
       "                            field=\"pe\",\n",
       "                            type=\"ordinal\"\n",
       "                        }\n",
       "                    },\n",
       "                    width=200,\n",
       "                    height=200\n",
       "                },\n",
       "                {\n",
       "                    mark={\n",
       "                        type=\"circle\",\n",
       "                        color=\"red\",\n",
       "                        opacity=1\n",
       "                    },\n",
       "                    width=200,\n",
       "                    height=200,\n",
       "                    encoding={\n",
       "                        x={\n",
       "                            type=\"quantitative\",\n",
       "                            axis=nothing,\n",
       "                            field=\"x\",\n",
       "                            title=nothing\n",
       "                        },\n",
       "                        y={\n",
       "                            type=\"quantitative\",\n",
       "                            axis=nothing,\n",
       "                            field=\"y\",\n",
       "                            title=nothing\n",
       "                        },\n",
       "                        size={\n",
       "                            legend=nothing,\n",
       "                            type=\"q\",\n",
       "                            field=\"size\",\n",
       "                            title=nothing\n",
       "                        }\n",
       "                    },\n",
       "                    data={\n",
       "                        values=...\n",
       "                    }\n",
       "                },\n",
       "                {\n",
       "                    mark={\n",
       "                        opacity=1,\n",
       "                        type=\"circle\"\n",
       "                    },\n",
       "                    width=200,\n",
       "                    height=200,\n",
       "                    encoding={\n",
       "                        x={\n",
       "                            type=\"quantitative\",\n",
       "                            axis=nothing,\n",
       "                            field=\"x\",\n",
       "                            title=nothing\n",
       "                        },\n",
       "                        y={\n",
       "                            type=\"quantitative\",\n",
       "                            axis=nothing,\n",
       "                            field=\"y\",\n",
       "                            title=nothing\n",
       "                        },\n",
       "                        size={\n",
       "                            legend=nothing,\n",
       "                            type=\"q\",\n",
       "                            field=\"size\",\n",
       "                            title=nothing\n",
       "                        }\n",
       "                    },\n",
       "                    data={\n",
       "                        values=...\n",
       "                    }\n",
       "                }\n",
       "            ]\n",
       "        }\n",
       "    ]\n",
       ")"
      ]
     },
     "execution_count": 163,
     "metadata": {},
     "output_type": "execute_result"
    }
   ],
   "source": [
    "local v\n",
    "for (ϵ,γ) in zip(ϵs,γs)\n",
    "   if ϵ == 0\n",
    "        v = PlotOT(μ,ν,γ,title=string(\"ϵ = \",ϵ))\n",
    "    else\n",
    "        v = hcat(v,PlotOT(μ,ν,γ,title=string(\"ϵ = \",ϵ)))\n",
    "    end\n",
    "end\n",
    "v"
   ]
  }
 ],
 "metadata": {
  "kernelspec": {
   "display_name": "JuliaML 1.5.2",
   "language": "julia",
   "name": "juliaml-1.5"
  },
  "language_info": {
   "file_extension": ".jl",
   "mimetype": "application/julia",
   "name": "julia",
   "version": "1.5.2"
  }
 },
 "nbformat": 4,
 "nbformat_minor": 4
}
